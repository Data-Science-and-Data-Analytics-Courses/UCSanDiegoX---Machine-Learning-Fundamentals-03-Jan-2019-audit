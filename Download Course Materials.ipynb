{
  "nbformat": 4,
  "nbformat_minor": 0,
  "metadata": {
    "colab": {
      "name": "Download Course Materials.ipynb",
      "version": "0.3.2",
      "provenance": [],
      "include_colab_link": true
    },
    "kernelspec": {
      "name": "python3",
      "display_name": "Python 3"
    },
    "accelerator": "GPU"
  },
  "cells": [
    {
      "cell_type": "markdown",
      "metadata": {
        "id": "view-in-github",
        "colab_type": "text"
      },
      "source": [
        "<a href=\"https://colab.research.google.com/github/Data-Science-and-Data-Analytics-Courses/UCSanDiegoX---Machine-Learning-Fundamentals-03-Jan-2019-audit/blob/master/Download%20Course%20Materials.ipynb\" target=\"_parent\"><img src=\"https://colab.research.google.com/assets/colab-badge.svg\" alt=\"Open In Colab\"/></a>"
      ]
    },
    {
      "metadata": {
        "colab_type": "text",
        "id": "UdDQ4H0VmPpJ"
      },
      "cell_type": "markdown",
      "source": [
        "# Clone remote"
      ]
    },
    {
      "metadata": {
        "colab_type": "code",
        "id": "cXqTKogHXEr9",
        "outputId": "78415b7c-43ca-435e-8c87-9955cc508a66",
        "colab": {
          "base_uri": "https://localhost:8080/",
          "height": 394
        }
      },
      "cell_type": "code",
      "source": [
        "import os\n",
        "from google.colab import drive\n",
        "from pathlib import Path\n",
        "\n",
        "URL = \"https://github.com/Data-Science-and-Data-Analytics-Courses/UCSanDiegoX---Machine-Learning-Fundamentals-03-Jan-2019-audit\"\n",
        "DRIVE = Path(\"/drive\", \"My Drive\")\n",
        "\n",
        "def clone(url, dest=\".\", branch=\"master\", reloc=True):\n",
        "  \"\"\"\n",
        "  Clone remote branch from url into dest\n",
        "  branch not provided: clone all branches\n",
        "  reloc is True: relocate to repository\n",
        "  \"\"\"\n",
        "\n",
        "  url = url.strip(\" /\")\n",
        "  repo = Path(dest, os.path.basename(url)).resolve()\n",
        "\n",
        "  # dest must not be inside existing repository\n",
        "  is_out = !git -C \"$dest\" rev-parse\n",
        "  if not is_out: # inside repository\n",
        "    raise ValueError(\"Can't clone into existing repository\")\n",
        "  \n",
        "  # Clone\n",
        "  p = repo.as_posix()\n",
        "  if branch: # specific branch\n",
        "    !git clone --single-branch \"$url\" -b \"$branch\" \"$p\"\n",
        "  else: # all branches\n",
        "    !git clone \"$url\" \"$p\"\n",
        "  \n",
        "  # Relocate\n",
        "  if reloc:\n",
        "    %cd \"$repo\"\n",
        "\n",
        "  return repo.as_posix()\n",
        "  \n",
        "REPO = clone(URL)\n",
        "%run .Importable.ipynb\n",
        "sys.path.append(REPO)\n",
        "drive.mount(DRIVE.parent)"
      ],
      "execution_count": 1,
      "outputs": [
        {
          "output_type": "stream",
          "text": [
            "Cloning into '/content/UCSanDiegoX---Machine-Learning-Fundamentals-03-Jan-2019-audit'...\n",
            "remote: Enumerating objects: 121, done.\u001b[K\n",
            "remote: Counting objects: 100% (121/121), done.\u001b[K\n",
            "remote: Compressing objects: 100% (117/117), done.\u001b[K\n",
            "remote: Total 1000 (delta 62), reused 0 (delta 0), pack-reused 879\u001b[K\n",
            "Receiving objects: 100% (1000/1000), 3.53 MiB | 5.63 MiB/s, done.\n",
            "Resolving deltas: 100% (511/511), done.\n",
            "/content/UCSanDiegoX---Machine-Learning-Fundamentals-03-Jan-2019-audit\n"
          ],
          "name": "stdout"
        },
        {
          "output_type": "display_data",
          "data": {
            "text/html": [
              "\n",
              "<style type='text/css'>\n",
              ".hll { background-color: #ffffcc }\n",
              ".c { color: #408080; font-style: italic } /* Comment */\n",
              ".err { border: 1px solid #FF0000 } /* Error */\n",
              ".k { color: #008000; font-weight: bold } /* Keyword */\n",
              ".o { color: #666666 } /* Operator */\n",
              ".ch { color: #408080; font-style: italic } /* Comment.Hashbang */\n",
              ".cm { color: #408080; font-style: italic } /* Comment.Multiline */\n",
              ".cp { color: #BC7A00 } /* Comment.Preproc */\n",
              ".cpf { color: #408080; font-style: italic } /* Comment.PreprocFile */\n",
              ".c1 { color: #408080; font-style: italic } /* Comment.Single */\n",
              ".cs { color: #408080; font-style: italic } /* Comment.Special */\n",
              ".gd { color: #A00000 } /* Generic.Deleted */\n",
              ".ge { font-style: italic } /* Generic.Emph */\n",
              ".gr { color: #FF0000 } /* Generic.Error */\n",
              ".gh { color: #000080; font-weight: bold } /* Generic.Heading */\n",
              ".gi { color: #00A000 } /* Generic.Inserted */\n",
              ".go { color: #888888 } /* Generic.Output */\n",
              ".gp { color: #000080; font-weight: bold } /* Generic.Prompt */\n",
              ".gs { font-weight: bold } /* Generic.Strong */\n",
              ".gu { color: #800080; font-weight: bold } /* Generic.Subheading */\n",
              ".gt { color: #0044DD } /* Generic.Traceback */\n",
              ".kc { color: #008000; font-weight: bold } /* Keyword.Constant */\n",
              ".kd { color: #008000; font-weight: bold } /* Keyword.Declaration */\n",
              ".kn { color: #008000; font-weight: bold } /* Keyword.Namespace */\n",
              ".kp { color: #008000 } /* Keyword.Pseudo */\n",
              ".kr { color: #008000; font-weight: bold } /* Keyword.Reserved */\n",
              ".kt { color: #B00040 } /* Keyword.Type */\n",
              ".m { color: #666666 } /* Literal.Number */\n",
              ".s { color: #BA2121 } /* Literal.String */\n",
              ".na { color: #7D9029 } /* Name.Attribute */\n",
              ".nb { color: #008000 } /* Name.Builtin */\n",
              ".nc { color: #0000FF; font-weight: bold } /* Name.Class */\n",
              ".no { color: #880000 } /* Name.Constant */\n",
              ".nd { color: #AA22FF } /* Name.Decorator */\n",
              ".ni { color: #999999; font-weight: bold } /* Name.Entity */\n",
              ".ne { color: #D2413A; font-weight: bold } /* Name.Exception */\n",
              ".nf { color: #0000FF } /* Name.Function */\n",
              ".nl { color: #A0A000 } /* Name.Label */\n",
              ".nn { color: #0000FF; font-weight: bold } /* Name.Namespace */\n",
              ".nt { color: #008000; font-weight: bold } /* Name.Tag */\n",
              ".nv { color: #19177C } /* Name.Variable */\n",
              ".ow { color: #AA22FF; font-weight: bold } /* Operator.Word */\n",
              ".w { color: #bbbbbb } /* Text.Whitespace */\n",
              ".mb { color: #666666 } /* Literal.Number.Bin */\n",
              ".mf { color: #666666 } /* Literal.Number.Float */\n",
              ".mh { color: #666666 } /* Literal.Number.Hex */\n",
              ".mi { color: #666666 } /* Literal.Number.Integer */\n",
              ".mo { color: #666666 } /* Literal.Number.Oct */\n",
              ".sb { color: #BA2121 } /* Literal.String.Backtick */\n",
              ".sc { color: #BA2121 } /* Literal.String.Char */\n",
              ".sd { color: #BA2121; font-style: italic } /* Literal.String.Doc */\n",
              ".s2 { color: #BA2121 } /* Literal.String.Double */\n",
              ".se { color: #BB6622; font-weight: bold } /* Literal.String.Escape */\n",
              ".sh { color: #BA2121 } /* Literal.String.Heredoc */\n",
              ".si { color: #BB6688; font-weight: bold } /* Literal.String.Interpol */\n",
              ".sx { color: #008000 } /* Literal.String.Other */\n",
              ".sr { color: #BB6688 } /* Literal.String.Regex */\n",
              ".s1 { color: #BA2121 } /* Literal.String.Single */\n",
              ".ss { color: #19177C } /* Literal.String.Symbol */\n",
              ".bp { color: #008000 } /* Name.Builtin.Pseudo */\n",
              ".vc { color: #19177C } /* Name.Variable.Class */\n",
              ".vg { color: #19177C } /* Name.Variable.Global */\n",
              ".vi { color: #19177C } /* Name.Variable.Instance */\n",
              ".il { color: #666666 } /* Literal.Number.Integer.Long */\n",
              "</style>\n"
            ],
            "text/plain": [
              "<IPython.core.display.HTML object>"
            ]
          },
          "metadata": {
            "tags": []
          }
        },
        {
          "output_type": "stream",
          "text": [
            "Go to this URL in a browser: https://accounts.google.com/o/oauth2/auth?client_id=947318989803-6bn6qk8qdgf4n4g3pfee6491hc0brc4i.apps.googleusercontent.com&redirect_uri=urn%3Aietf%3Awg%3Aoauth%3A2.0%3Aoob&scope=email%20https%3A%2F%2Fwww.googleapis.com%2Fauth%2Fdocs.test%20https%3A%2F%2Fwww.googleapis.com%2Fauth%2Fdrive%20https%3A%2F%2Fwww.googleapis.com%2Fauth%2Fdrive.photos.readonly%20https%3A%2F%2Fwww.googleapis.com%2Fauth%2Fpeopleapi.readonly&response_type=code\n",
            "\n",
            "Enter your authorization code:\n",
            "··········\n",
            "Mounted at /drive\n"
          ],
          "name": "stdout"
        }
      ]
    },
    {
      "metadata": {
        "id": "fRrOetKsg-RC",
        "colab_type": "text"
      },
      "cell_type": "markdown",
      "source": [
        "# Import libraries"
      ]
    },
    {
      "metadata": {
        "id": "XfwrINzwdmkn",
        "colab_type": "code",
        "outputId": "b9f96a0c-c0f5-4e94-aeb2-d2ed4c2c99ca",
        "colab": {
          "base_uri": "https://localhost:8080/",
          "height": 73
        }
      },
      "cell_type": "code",
      "source": [
        "from Packages import Git, Files"
      ],
      "execution_count": 2,
      "outputs": [
        {
          "output_type": "stream",
          "text": [
            "importing Jupyter notebook from /content/UCSanDiegoX---Machine-Learning-Fundamentals-03-Jan-2019-audit/Packages/Git.ipynb\n",
            "importing Jupyter notebook from /content/UCSanDiegoX---Machine-Learning-Fundamentals-03-Jan-2019-audit/Packages/Files.ipynb\n"
          ],
          "name": "stdout"
        }
      ]
    },
    {
      "metadata": {
        "colab_type": "text",
        "id": "5sl8tFrDP67Z"
      },
      "cell_type": "markdown",
      "source": [
        "# Download"
      ]
    },
    {
      "metadata": {
        "id": "ORA_qxjTnZKg",
        "colab_type": "text"
      },
      "cell_type": "markdown",
      "source": [
        "## Week 02 Generative Modeling I"
      ]
    },
    {
      "metadata": {
        "id": "4gWwsdjJnpok",
        "colab_type": "code",
        "colab": {}
      },
      "cell_type": "code",
      "source": [
        "urls = {\"winery-univariate.zip\": \"https://prod-edxapp.edx-cdn.org/assets/courseware/v1/73b15fa99e20c9f31078477dff6d80ed/asset-v1:UCSanDiegoX+DSE220x+1T2019+type@asset+block/winery-univariate.zip\",\n",
        "        \"bivariate-gaussian.zip\": \"https://prod-edxapp.edx-cdn.org/assets/courseware/v1/d20aeb6c06e8c9e13b4dc421d10fcaa9/asset-v1:UCSanDiegoX+DSE220x+1T2019+type@asset+block/bivariate-gaussian.zip\",\n",
        "        \"winery-bivariate.zip\": \"https://prod-edxapp.edx-cdn.org/assets/courseware/v1/52ab054400e0d083f5eded4e6df44a98/asset-v1:UCSanDiegoX+DSE220x+1T2019+type@asset+block/winery-bivariate.zip\"}\n",
        "dest = \"Week 02 Generative Modeling I\"\n",
        "Files.runzip(urls[\"winery-univariate.zip\"], dest)"
      ],
      "execution_count": 0,
      "outputs": []
    },
    {
      "metadata": {
        "id": "gsgplmgmm7Qw",
        "colab_type": "text"
      },
      "cell_type": "markdown",
      "source": [
        "## Week 03 Generative Modeling II"
      ]
    },
    {
      "metadata": {
        "id": "UAUcjVhEm7kT",
        "colab_type": "code",
        "colab": {}
      },
      "cell_type": "code",
      "source": [
        "urls = {\"winery-multivariate.zip\": \"https://prod-edxapp.edx-cdn.org/assets/courseware/v1/2f3a287f717d464a8c58caf77f69881e/asset-v1:UCSanDiegoX+DSE220x+1T2019+type@asset+block/winery-multivariate.zip\",\n",
        "       \"generative-mnist.zip\": \"https://prod-edxapp.edx-cdn.org/assets/courseware/v1/b24e1fc816b57894bac68e9c8a634279/asset-v1:UCSanDiegoX+DSE220x+1T2019+type@asset+block/generative-mnist.zip\"}\n",
        "dest = \"Week 03 Generative Modeling II\"\n",
        "Files.runzip(urls[\"generative-mnist.zip\"], dest, peek=True)\n",
        "!ls \"$dest\""
      ],
      "execution_count": 0,
      "outputs": []
    },
    {
      "metadata": {
        "id": "2wUe75oNOUiQ",
        "colab_type": "text"
      },
      "cell_type": "markdown",
      "source": [
        "## Week 04 Linear Regression and Probability Estimation"
      ]
    },
    {
      "metadata": {
        "id": "IelAbeszOUte",
        "colab_type": "code",
        "outputId": "d4effe90-4627-4065-b94a-ea867d9ed7e6",
        "colab": {
          "base_uri": "https://localhost:8080/",
          "height": 289
        }
      },
      "cell_type": "code",
      "source": [
        "urls = {\"diabetes-regression.zip\": \"https://prod-edxapp.edx-cdn.org/assets/courseware/v1/25c02fbc316e210f937daf1efa5e092a/asset-v1:UCSanDiegoX+DSE220x+1T2019+type@asset+block/diabetes-regression.zip\",\n",
        "       \"mystery.dat\": \"https://prod-edxapp.edx-cdn.org/assets/courseware/v1/715f99acdd77b299e11541946b7b29d0/asset-v1:UCSanDiegoX+DSE220x+1T2019+type@asset+block/mystery.dat\",\n",
        "       \"sentiment-logistic-regression.zip\": \"https://prod-edxapp.edx-cdn.org/assets/courseware/v1/7c6a9101841a618e0dba678f071795e5/asset-v1:UCSanDiegoX+DSE220x+1T2019+type@asset+block/sentiment-logistic-regression.zip\"}\n",
        "dest = \"Week 04 Linear Regression and Probability Estimation\"\n",
        "Files.runzip(urls[\"diabetes-regression.zip\"], dest, peek=True)\n",
        "Files.runzip(urls[\"sentiment-logistic-regression.zip\"], dest, peek=True)\n",
        "Files.download(urls[\"mystery.dat\"], dest, name=\"mystery.dat\")\n",
        "!ls \"$dest\""
      ],
      "execution_count": 0,
      "outputs": [
        {
          "output_type": "display_data",
          "data": {
            "text/plain": [
              "'Extract'"
            ]
          },
          "metadata": {
            "tags": []
          }
        },
        {
          "output_type": "display_data",
          "data": {
            "text/plain": [
              "['diabetes-regression/diabetes-regression.ipynb',\n",
              " 'diabetes-regression/diabetes-data.csv']"
            ]
          },
          "metadata": {
            "tags": []
          }
        },
        {
          "output_type": "stream",
          "text": [
            "into Week 04 Linear Regression and Probability Estimation (or specify other directory):\n"
          ],
          "name": "stdout"
        },
        {
          "output_type": "display_data",
          "data": {
            "text/plain": [
              "'Extract'"
            ]
          },
          "metadata": {
            "tags": []
          }
        },
        {
          "output_type": "display_data",
          "data": {
            "text/plain": [
              "['sentiment-logistic-regression/sentiment_logistic_regression.ipynb',\n",
              " 'sentiment-logistic-regression/_nbgrader.log',\n",
              " 'sentiment-logistic-regression/.ipynb_checkpoints/sentiment_logistic_regression-checkpoint.ipynb',\n",
              " 'sentiment-logistic-regression/sentiment_labelled_sentences/readme.txt',\n",
              " 'sentiment-logistic-regression/sentiment_labelled_sentences/full_set.txt',\n",
              " 'sentiment-logistic-regression/sentiment_labelled_sentences/amazon_cells_labelled.txt',\n",
              " 'sentiment-logistic-regression/sentiment_labelled_sentences/imdb_labelled.txt',\n",
              " 'sentiment-logistic-regression/sentiment_labelled_sentences/yelp_labelled.txt']"
            ]
          },
          "metadata": {
            "tags": []
          }
        },
        {
          "output_type": "stream",
          "text": [
            "into Week 04 Linear Regression and Probability Estimation (or specify other directory):\n",
            "######################################################################## 100.0%\n",
            "diabetes-regression  mystery.dat  sentiment-logistic-regression\n"
          ],
          "name": "stdout"
        }
      ]
    },
    {
      "metadata": {
        "id": "M0QDHyoccPtf",
        "colab_type": "text"
      },
      "cell_type": "markdown",
      "source": [
        "## Week 05 Optimization and Geometry"
      ]
    },
    {
      "metadata": {
        "id": "ZoUSfnY_cQEy",
        "colab_type": "code",
        "outputId": "10cb4b62-4452-4e4c-8e95-a2fa2c656f52",
        "colab": {
          "base_uri": "https://localhost:8080/",
          "height": 187
        }
      },
      "cell_type": "code",
      "source": [
        "urls = {\"DSE220x_PA5.zip\": \"https://prod-edxapp.edx-cdn.org/assets/courseware/v1/cd7811f9af5ab82317609021ead7a123/asset-v1:UCSanDiegoX+DSE220x+1T2019+type@asset+block/DSE220x_PA5.zip\",\n",
        "       \"prog5-hint.pdf\": \"https://prod-edxapp.edx-cdn.org/assets/courseware/v1/92dd5d003b343b6baedff9efb543281f/asset-v1:UCSanDiegoX+DSE220x+1T2019+type@asset+block/prog5-hint.pdf\"}\n",
        "dest = \"Week 05 Optimization and Geometry\"\n",
        "Files.runzip(urls[\"DSE220x_PA5.zip\"], dest, peek=True)\n",
        "Files.download(urls[\"prog5-hint.pdf\"], dest=os.path.join(dest, \"DSE220x_PA5\"))\n",
        "!ls \"$dest\""
      ],
      "execution_count": 0,
      "outputs": [
        {
          "output_type": "display_data",
          "data": {
            "text/plain": [
              "'Extract'"
            ]
          },
          "metadata": {
            "tags": []
          }
        },
        {
          "output_type": "display_data",
          "data": {
            "text/plain": [
              "['DSE220x_PA5/',\n",
              " 'DSE220x_PA5/ridge-regression.ipynb',\n",
              " '__MACOSX/',\n",
              " '__MACOSX/DSE220x_PA5/',\n",
              " '__MACOSX/DSE220x_PA5/._ridge-regression.ipynb',\n",
              " '__MACOSX/._DSE220x_PA5']"
            ]
          },
          "metadata": {
            "tags": []
          }
        },
        {
          "output_type": "stream",
          "text": [
            "into Week 05 Optimization and Geometry (or specify other directory):\n",
            "######################################################################## 100.0%\n",
            "DSE220x_PA5  __MACOSX\n"
          ],
          "name": "stdout"
        }
      ]
    },
    {
      "metadata": {
        "id": "QIWmVSWwltby",
        "colab_type": "text"
      },
      "cell_type": "markdown",
      "source": [
        "## Week 06 Linear Classification"
      ]
    },
    {
      "metadata": {
        "id": "99MnwzowltqT",
        "colab_type": "code",
        "outputId": "5f6678c5-d28e-40c0-c4f8-60631ccffab6",
        "colab": {
          "base_uri": "https://localhost:8080/",
          "height": 357
        }
      },
      "cell_type": "code",
      "source": [
        "urls = {\"perceptron_at_work.zip\": \"https://prod-edxapp.edx-cdn.org/assets/courseware/v1/16ad6c20010a171141904499af1a22c5/asset-v1:UCSanDiegoX+DSE220x+1T2019+type@asset+block/perceptron_at_work.zip\",\n",
        "        \"SentimentSVM.zip\": \"https://prod-edxapp.edx-cdn.org/assets/courseware/v1/9f0c7b9495657ac1d384138d9eb91528/asset-v1:UCSanDiegoX+DSE220x+1T2019+type@asset+block/SentimentSVM.zip\",\n",
        "        \"multiclass.zip\": \"https://prod-edxapp.edx-cdn.org/assets/courseware/v1/41947ac5a10a6e8bf9a15cb9b5f19547/asset-v1:UCSanDiegoX+DSE220x+1T2019+type@asset+block/multiclass.zip\"}\n",
        "dest = \"Week 06 Linear Classification\"\n",
        "Files.runzip(urls[\"perceptron_at_work.zip\"], dest, peek=True)\n",
        "Files.runzip(urls[\"SentimentSVM.zip\"], dest, peek=True)\n",
        "Files.runzip(urls[\"multiclass.zip\"], dest, peek=True)\n",
        "!ls \"$dest\""
      ],
      "execution_count": 0,
      "outputs": [
        {
          "output_type": "display_data",
          "data": {
            "text/plain": [
              "'Extract'"
            ]
          },
          "metadata": {
            "tags": []
          }
        },
        {
          "output_type": "display_data",
          "data": {
            "text/plain": [
              "['perceptron_at_work/data_2.txt',\n",
              " 'perceptron_at_work/_nbgrader.log',\n",
              " 'perceptron_at_work/perceptron_at_work.ipynb',\n",
              " 'perceptron_at_work/.ipynb_checkpoints/perceptron_at_work-checkpoint.ipynb',\n",
              " 'perceptron_at_work/data_1.txt']"
            ]
          },
          "metadata": {
            "tags": []
          }
        },
        {
          "output_type": "stream",
          "text": [
            "into Week 06 Linear Classification (or specify other directory):\n"
          ],
          "name": "stdout"
        },
        {
          "output_type": "display_data",
          "data": {
            "text/plain": [
              "'Extract'"
            ]
          },
          "metadata": {
            "tags": []
          }
        },
        {
          "output_type": "display_data",
          "data": {
            "text/plain": [
              "['sentiment_svm/sentiment-svm.ipynb',\n",
              " 'sentiment_svm/.ipynb_checkpoints/sentiment-svm-checkpoint.ipynb',\n",
              " 'sentiment_svm/_nbgrader.log']"
            ]
          },
          "metadata": {
            "tags": []
          }
        },
        {
          "output_type": "stream",
          "text": [
            "into Week 06 Linear Classification (or specify other directory):\n"
          ],
          "name": "stdout"
        },
        {
          "output_type": "display_data",
          "data": {
            "text/plain": [
              "'Extract'"
            ]
          },
          "metadata": {
            "tags": []
          }
        },
        {
          "output_type": "display_data",
          "data": {
            "text/plain": [
              "['multiclass/multiclass-experiments.ipynb',\n",
              " 'multiclass/_nbgrader.log',\n",
              " 'multiclass/.ipynb_checkpoints/multiclass-experiments-checkpoint.ipynb',\n",
              " 'multiclass/data_4.txt',\n",
              " 'multiclass/data_3.txt']"
            ]
          },
          "metadata": {
            "tags": []
          }
        },
        {
          "output_type": "stream",
          "text": [
            "into Week 06 Linear Classification (or specify other directory):\n",
            "multiclass  perceptron_at_work\tsentiment_svm\n"
          ],
          "name": "stdout"
        }
      ]
    },
    {
      "metadata": {
        "id": "GePQDJY3Z__G",
        "colab_type": "text"
      },
      "cell_type": "markdown",
      "source": [
        "## Week 07 Combining Simple Classifiers"
      ]
    },
    {
      "metadata": {
        "id": "by8chE45aBWw",
        "colab_type": "code",
        "outputId": "60512a94-1213-4d61-973d-d7599f680f55",
        "colab": {
          "base_uri": "https://localhost:8080/",
          "height": 748
        }
      },
      "cell_type": "code",
      "source": [
        "urls = {\"DSE220x_PA7.zip\": \"https://prod-edxapp.edx-cdn.org/assets/courseware/v1/e7b080a506546a859b50d03f9d0705f5/asset-v1:UCSanDiegoX+DSE220x+1T2019+type@asset+block/DSE220x_PA7.zip\"}\n",
        "dest = \"Week 07 Combining Simple Classifiers\"\n",
        "Files.runzip(urls[\"DSE220x_PA7.zip\"], dest, peek=True)\n",
        "!ls \"$dest\""
      ],
      "execution_count": 3,
      "outputs": [
        {
          "output_type": "display_data",
          "data": {
            "text/plain": [
              "'Extract'"
            ]
          },
          "metadata": {
            "tags": []
          }
        },
        {
          "output_type": "display_data",
          "data": {
            "text/plain": [
              "['DSE220x_PA7/',\n",
              " 'DSE220x_PA7/kernel_SVM_and_Perceptron.ipynb',\n",
              " '__MACOSX/',\n",
              " '__MACOSX/DSE220x_PA7/',\n",
              " '__MACOSX/DSE220x_PA7/._kernel_SVM_and_Perceptron.ipynb',\n",
              " 'DSE220x_PA7/_nbgrader.log',\n",
              " '__MACOSX/DSE220x_PA7/.__nbgrader.log',\n",
              " 'DSE220x_PA7/.ipynb_checkpoints/',\n",
              " 'DSE220x_PA7/.ipynb_checkpoints/kernel_SVM_and_Perceptron-checkpoint.ipynb',\n",
              " '__MACOSX/DSE220x_PA7/.ipynb_checkpoints/',\n",
              " '__MACOSX/DSE220x_PA7/.ipynb_checkpoints/._kernel_SVM_and_Perceptron-checkpoint.ipynb',\n",
              " '__MACOSX/DSE220x_PA7/._.ipynb_checkpoints',\n",
              " 'DSE220x_PA7/data1.txt',\n",
              " '__MACOSX/DSE220x_PA7/._data1.txt',\n",
              " 'DSE220x_PA7/data3.txt',\n",
              " '__MACOSX/DSE220x_PA7/._data3.txt',\n",
              " 'DSE220x_PA7/data2.txt',\n",
              " '__MACOSX/DSE220x_PA7/._data2.txt',\n",
              " 'DSE220x_PA7/data5.txt',\n",
              " '__MACOSX/DSE220x_PA7/._data5.txt',\n",
              " 'DSE220x_PA7/data4.txt',\n",
              " '__MACOSX/DSE220x_PA7/._data4.txt',\n",
              " '__MACOSX/._DSE220x_PA7']"
            ]
          },
          "metadata": {
            "tags": []
          }
        },
        {
          "output_type": "stream",
          "text": [
            "into /content/UCSanDiegoX---Machine-Learning-Fundamentals-03-Jan-2019-audit/Week 07 Combining Simple Classifiers/DSE220x_PA7 (or specify): \n",
            "DSE220x_PA7\n"
          ],
          "name": "stdout"
        }
      ]
    },
    {
      "metadata": {
        "id": "7ILM4JyuLzue",
        "colab_type": "text"
      },
      "cell_type": "markdown",
      "source": [
        "# Push repository"
      ]
    },
    {
      "metadata": {
        "id": "RqifDMhBglwC",
        "colab_type": "code",
        "outputId": "db4a67c7-f003-4f30-9f6a-29bde5fde72f",
        "colab": {
          "base_uri": "https://localhost:8080/",
          "height": 1322
        }
      },
      "cell_type": "code",
      "source": [
        "message = \"Start Week 07\"\n",
        "confile = DRIVE.joinpath(\"GitHub/config.json\") # path to configuration file\n",
        "logfile = DRIVE.joinpath(\"GitHub/login.json\") # path to log-in file\n",
        "\n",
        "# Configure\n",
        "Git.config(confile=confile)\n",
        "\n",
        "# Track\n",
        "!git add -A\n",
        "\n",
        "# Commit\n",
        "!git commit -m \"$message\"\n",
        "\n",
        "# Push\n",
        "Git.push(URL, logfile=logfile)"
      ],
      "execution_count": 5,
      "outputs": [
        {
          "output_type": "stream",
          "text": [
            "On branch master\n",
            "Your branch is up to date with 'origin/master'.\n",
            "\n",
            "Changes to be committed:\n",
            "  (use \"git reset HEAD <file>...\" to unstage)\n",
            "\n",
            "\t\u001b[32mnew file:   Week 07 Combining Simple Classifiers/DSE220x_PA7/DSE220x_PA7/data1.txt\u001b[m\n",
            "\t\u001b[32mnew file:   Week 07 Combining Simple Classifiers/DSE220x_PA7/DSE220x_PA7/data2.txt\u001b[m\n",
            "\t\u001b[32mnew file:   Week 07 Combining Simple Classifiers/DSE220x_PA7/DSE220x_PA7/data3.txt\u001b[m\n",
            "\t\u001b[32mnew file:   Week 07 Combining Simple Classifiers/DSE220x_PA7/DSE220x_PA7/data4.txt\u001b[m\n",
            "\t\u001b[32mnew file:   Week 07 Combining Simple Classifiers/DSE220x_PA7/DSE220x_PA7/data5.txt\u001b[m\n",
            "\t\u001b[32mnew file:   Week 07 Combining Simple Classifiers/DSE220x_PA7/DSE220x_PA7/kernel_SVM_and_Perceptron.ipynb\u001b[m\n",
            "\t\u001b[32mnew file:   Week 07 Combining Simple Classifiers/DSE220x_PA7/__MACOSX/._DSE220x_PA7\u001b[m\n",
            "\t\u001b[32mnew file:   Week 07 Combining Simple Classifiers/DSE220x_PA7/__MACOSX/DSE220x_PA7/._.ipynb_checkpoints\u001b[m\n",
            "\t\u001b[32mnew file:   Week 07 Combining Simple Classifiers/DSE220x_PA7/__MACOSX/DSE220x_PA7/._data1.txt\u001b[m\n",
            "\t\u001b[32mnew file:   Week 07 Combining Simple Classifiers/DSE220x_PA7/__MACOSX/DSE220x_PA7/._data2.txt\u001b[m\n",
            "\t\u001b[32mnew file:   Week 07 Combining Simple Classifiers/DSE220x_PA7/__MACOSX/DSE220x_PA7/._data3.txt\u001b[m\n",
            "\t\u001b[32mnew file:   Week 07 Combining Simple Classifiers/DSE220x_PA7/__MACOSX/DSE220x_PA7/._data4.txt\u001b[m\n",
            "\t\u001b[32mnew file:   Week 07 Combining Simple Classifiers/DSE220x_PA7/__MACOSX/DSE220x_PA7/._data5.txt\u001b[m\n",
            "\t\u001b[32mnew file:   Week 07 Combining Simple Classifiers/DSE220x_PA7/__MACOSX/DSE220x_PA7/._kernel_SVM_and_Perceptron.ipynb\u001b[m\n",
            "\n",
            "[master 62690d9] Start Week 07\n",
            " 14 files changed, 572 insertions(+)\n",
            " create mode 100644 Week 07 Combining Simple Classifiers/DSE220x_PA7/DSE220x_PA7/data1.txt\n",
            " create mode 100644 Week 07 Combining Simple Classifiers/DSE220x_PA7/DSE220x_PA7/data2.txt\n",
            " create mode 100644 Week 07 Combining Simple Classifiers/DSE220x_PA7/DSE220x_PA7/data3.txt\n",
            " create mode 100644 Week 07 Combining Simple Classifiers/DSE220x_PA7/DSE220x_PA7/data4.txt\n",
            " create mode 100644 Week 07 Combining Simple Classifiers/DSE220x_PA7/DSE220x_PA7/data5.txt\n",
            " create mode 100644 Week 07 Combining Simple Classifiers/DSE220x_PA7/DSE220x_PA7/kernel_SVM_and_Perceptron.ipynb\n",
            " create mode 100644 Week 07 Combining Simple Classifiers/DSE220x_PA7/__MACOSX/._DSE220x_PA7\n",
            " create mode 100644 Week 07 Combining Simple Classifiers/DSE220x_PA7/__MACOSX/DSE220x_PA7/._.ipynb_checkpoints\n",
            " create mode 100644 Week 07 Combining Simple Classifiers/DSE220x_PA7/__MACOSX/DSE220x_PA7/._data1.txt\n",
            " create mode 100644 Week 07 Combining Simple Classifiers/DSE220x_PA7/__MACOSX/DSE220x_PA7/._data2.txt\n",
            " create mode 100644 Week 07 Combining Simple Classifiers/DSE220x_PA7/__MACOSX/DSE220x_PA7/._data3.txt\n",
            " create mode 100644 Week 07 Combining Simple Classifiers/DSE220x_PA7/__MACOSX/DSE220x_PA7/._data4.txt\n",
            " create mode 100644 Week 07 Combining Simple Classifiers/DSE220x_PA7/__MACOSX/DSE220x_PA7/._data5.txt\n",
            " create mode 100644 Week 07 Combining Simple Classifiers/DSE220x_PA7/__MACOSX/DSE220x_PA7/._kernel_SVM_and_Perceptron.ipynb\n",
            "Counting objects: 13, done.\n",
            "Delta compression using up to 2 threads.\n",
            "Compressing objects: 100% (12/12), done.\n",
            "Writing objects: 100% (13/13), 3.96 KiB | 3.96 MiB/s, done.\n",
            "Total 13 (delta 1), reused 0 (delta 0)\n",
            "remote: Resolving deltas: 100% (1/1), completed with 1 local object.\u001b[K\n",
            "To https://github.com/Data-Science-and-Data-Analytics-Courses/UCSanDiegoX---Machine-Learning-Fundamentals-03-Jan-2019-audit\n",
            "   7d60e65..62690d9  master -> master\n"
          ],
          "name": "stdout"
        }
      ]
    }
  ]
}
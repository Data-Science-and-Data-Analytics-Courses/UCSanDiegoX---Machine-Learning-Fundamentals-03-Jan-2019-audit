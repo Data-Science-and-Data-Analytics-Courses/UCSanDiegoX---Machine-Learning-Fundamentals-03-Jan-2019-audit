{
  "nbformat": 4,
  "nbformat_minor": 0,
  "metadata": {
    "colab": {
      "name": "Download Course Materials.ipynb",
      "version": "0.3.2",
      "provenance": [],
      "include_colab_link": true
    },
    "kernelspec": {
      "name": "python3",
      "display_name": "Python 3"
    },
    "accelerator": "GPU"
  },
  "cells": [
    {
      "cell_type": "markdown",
      "metadata": {
        "id": "view-in-github",
        "colab_type": "text"
      },
      "source": [
        "<a href=\"https://colab.research.google.com/github/Data-Science-and-Data-Analytics-Courses/UCSanDiegoX---Machine-Learning-Fundamentals-03-Jan-2019-audit/blob/master/Download%20Course%20Materials.ipynb\" target=\"_parent\"><img src=\"https://colab.research.google.com/assets/colab-badge.svg\" alt=\"Open In Colab\"/></a>"
      ]
    },
    {
      "metadata": {
        "colab_type": "text",
        "id": "UdDQ4H0VmPpJ"
      },
      "cell_type": "markdown",
      "source": [
        "# Clone remote repository"
      ]
    },
    {
      "metadata": {
        "colab_type": "code",
        "id": "cXqTKogHXEr9",
        "colab": {
          "base_uri": "https://localhost:8080/",
          "height": 170
        },
        "outputId": "bd1477be-a894-4150-b9b1-b421babc8521"
      },
      "cell_type": "code",
      "source": [
        "import os\n",
        "\n",
        "URL = \"https://github.com/Data-Science-and-Data-Analytics-Courses/UCSanDiegoX---Machine-Learning-Fundamentals-03-Jan-2019-audit\"\n",
        "\n",
        "def clone(url, dpath=\".\", branch=\"master\"):\n",
        "  \"\"\"\n",
        "  Clone remote branch from url into dpath\n",
        "  branch not provided: clone all branches\n",
        "  \"\"\"\n",
        "\n",
        "  url = url.strip(\"/\")\n",
        "  rname = os.path.basename(url)\n",
        "  rpath = os.path.join(dpath, rname)\n",
        "\n",
        "  # Raise error if dpath inside existing repository\n",
        "  is_out = !git -C \"$dpath\" rev-parse\n",
        "  if not is_out: # inside repository\n",
        "    raise ValueError(\"Can't clone into existing repository\")\n",
        "  \n",
        "  # Clone specific branch\n",
        "  if branch:\n",
        "    !git clone --single-branch --branch \"$branch\" \"$url\" \"$rpath\"\n",
        "  # Clone all branches\n",
        "  else:\n",
        "    !git clone \"$url\" \"$rpath\"\n",
        "  os.chdir(rpath)\n",
        "  \n",
        "  bname = !git rev-parse --abbrev-ref HEAD\n",
        "  print(\"Current\")\n",
        "  print(\"{branch}\\t{directory}\".format(branch=bname, directory=os.getcwd()))\n",
        "  \n",
        "clone(URL)\n",
        "%run .Importable.ipynb"
      ],
      "execution_count": 1,
      "outputs": [
        {
          "output_type": "stream",
          "text": [
            "Cloning into './UCSanDiegoX---Machine-Learning-Fundamentals-03-Jan-2019-audit'...\n",
            "remote: Enumerating objects: 105, done.\u001b[K\n",
            "remote: Counting objects:   0% (1/105)   \u001b[K\rremote: Counting objects:   1% (2/105)   \u001b[K\rremote: Counting objects:   2% (3/105)   \u001b[K\rremote: Counting objects:   3% (4/105)   \u001b[K\rremote: Counting objects:   4% (5/105)   \u001b[K\rremote: Counting objects:   5% (6/105)   \u001b[K\rremote: Counting objects:   6% (7/105)   \u001b[K\rremote: Counting objects:   7% (8/105)   \u001b[K\rremote: Counting objects:   8% (9/105)   \u001b[K\rremote: Counting objects:   9% (10/105)   \u001b[K\rremote: Counting objects:  10% (11/105)   \u001b[K\rremote: Counting objects:  11% (12/105)   \u001b[K\rremote: Counting objects:  12% (13/105)   \u001b[K\rremote: Counting objects:  13% (14/105)   \u001b[K\rremote: Counting objects:  14% (15/105)   \u001b[K\rremote: Counting objects:  15% (16/105)   \u001b[K\rremote: Counting objects:  16% (17/105)   \u001b[K\rremote: Counting objects:  17% (18/105)   \u001b[K\rremote: Counting objects:  18% (19/105)   \u001b[K\rremote: Counting objects:  19% (20/105)   \u001b[K\rremote: Counting objects:  20% (21/105)   \u001b[K\rremote: Counting objects:  21% (23/105)   \u001b[K\rremote: Counting objects:  22% (24/105)   \u001b[K\rremote: Counting objects:  23% (25/105)   \u001b[K\rremote: Counting objects:  24% (26/105)   \u001b[K\rremote: Counting objects:  25% (27/105)   \u001b[K\rremote: Counting objects:  26% (28/105)   \u001b[K\rremote: Counting objects:  27% (29/105)   \u001b[K\rremote: Counting objects:  28% (30/105)   \u001b[K\rremote: Counting objects:  29% (31/105)   \u001b[K\rremote: Counting objects:  30% (32/105)   \u001b[K\rremote: Counting objects:  31% (33/105)   \u001b[K\rremote: Counting objects:  32% (34/105)   \u001b[K\rremote: Counting objects:  33% (35/105)   \u001b[K\rremote: Counting objects:  34% (36/105)   \u001b[K\rremote: Counting objects:  35% (37/105)   \u001b[K\rremote: Counting objects:  36% (38/105)   \u001b[K\rremote: Counting objects:  37% (39/105)   \u001b[K\rremote: Counting objects:  38% (40/105)   \u001b[K\rremote: Counting objects:  39% (41/105)   \u001b[K\rremote: Counting objects:  40% (42/105)   \u001b[K\rremote: Counting objects:  41% (44/105)   \u001b[K\rremote: Counting objects:  42% (45/105)   \u001b[K\rremote: Counting objects:  43% (46/105)   \u001b[K\rremote: Counting objects:  44% (47/105)   \u001b[K\rremote: Counting objects:  45% (48/105)   \u001b[K\rremote: Counting objects:  46% (49/105)   \u001b[K\rremote: Counting objects:  47% (50/105)   \u001b[K\rremote: Counting objects:  48% (51/105)   \u001b[K\rremote: Counting objects:  49% (52/105)   \u001b[K\rremote: Counting objects:  50% (53/105)   \u001b[K\rremote: Counting objects:  51% (54/105)   \u001b[K\rremote: Counting objects:  52% (55/105)   \u001b[K\rremote: Counting objects:  53% (56/105)   \u001b[K\rremote: Counting objects:  54% (57/105)   \u001b[K\rremote: Counting objects:  55% (58/105)   \u001b[K\rremote: Counting objects:  56% (59/105)   \u001b[K\rremote: Counting objects:  57% (60/105)   \u001b[K\rremote: Counting objects:  58% (61/105)   \u001b[K\rremote: Counting objects:  59% (62/105)   \u001b[K\rremote: Counting objects:  60% (63/105)   \u001b[K\rremote: Counting objects:  61% (65/105)   \u001b[K\rremote: Counting objects:  62% (66/105)   \u001b[K\rremote: Counting objects:  63% (67/105)   \u001b[K\rremote: Counting objects:  64% (68/105)   \u001b[K\rremote: Counting objects:  65% (69/105)   \u001b[K\rremote: Counting objects:  66% (70/105)   \u001b[K\rremote: Counting objects:  67% (71/105)   \u001b[K\rremote: Counting objects:  68% (72/105)   \u001b[K\rremote: Counting objects:  69% (73/105)   \u001b[K\rremote: Counting objects:  70% (74/105)   \u001b[K\rremote: Counting objects:  71% (75/105)   \u001b[K\rremote: Counting objects:  72% (76/105)   \u001b[K\rremote: Counting objects:  73% (77/105)   \u001b[K\rremote: Counting objects:  74% (78/105)   \u001b[K\rremote: Counting objects:  75% (79/105)   \u001b[K\rremote: Counting objects:  76% (80/105)   \u001b[K\rremote: Counting objects:  77% (81/105)   \u001b[K\rremote: Counting objects:  78% (82/105)   \u001b[K\rremote: Counting objects:  79% (83/105)   \u001b[K\rremote: Counting objects:  80% (84/105)   \u001b[K\rremote: Counting objects:  81% (86/105)   \u001b[K\rremote: Counting objects:  82% (87/105)   \u001b[K\rremote: Counting objects:  83% (88/105)   \u001b[K\rremote: Counting objects:  84% (89/105)   \u001b[K\rremote: Counting objects:  85% (90/105)   \u001b[K\rremote: Counting objects:  86% (91/105)   \u001b[K\rremote: Counting objects:  87% (92/105)   \u001b[K\rremote: Counting objects:  88% (93/105)   \u001b[K\rremote: Counting objects:  89% (94/105)   \u001b[K\rremote: Counting objects:  90% (95/105)   \u001b[K\rremote: Counting objects:  91% (96/105)   \u001b[K\rremote: Counting objects:  92% (97/105)   \u001b[K\rremote: Counting objects:  93% (98/105)   \u001b[K\rremote: Counting objects:  94% (99/105)   \u001b[K\rremote: Counting objects:  95% (100/105)   \u001b[K\rremote: Counting objects:  96% (101/105)   \u001b[K\rremote: Counting objects:  97% (102/105)   \u001b[K\rremote: Counting objects:  98% (103/105)   \u001b[K\rremote: Counting objects:  99% (104/105)   \u001b[K\rremote: Counting objects: 100% (105/105)   \u001b[K\rremote: Counting objects: 100% (105/105), done.\u001b[K\n",
            "remote: Compressing objects: 100% (99/99), done.\u001b[K\n",
            "remote: Total 216 (delta 46), reused 6 (delta 1), pack-reused 111\u001b[K\n",
            "Receiving objects: 100% (216/216), 2.16 MiB | 8.55 MiB/s, done.\n",
            "Resolving deltas: 100% (81/81), done.\n",
            "Current\n",
            "['master']\t/content/UCSanDiegoX---Machine-Learning-Fundamentals-03-Jan-2019-audit\n"
          ],
          "name": "stdout"
        },
        {
          "output_type": "display_data",
          "data": {
            "text/html": [
              "\n",
              "<style type='text/css'>\n",
              ".hll { background-color: #ffffcc }\n",
              ".c { color: #408080; font-style: italic } /* Comment */\n",
              ".err { border: 1px solid #FF0000 } /* Error */\n",
              ".k { color: #008000; font-weight: bold } /* Keyword */\n",
              ".o { color: #666666 } /* Operator */\n",
              ".ch { color: #408080; font-style: italic } /* Comment.Hashbang */\n",
              ".cm { color: #408080; font-style: italic } /* Comment.Multiline */\n",
              ".cp { color: #BC7A00 } /* Comment.Preproc */\n",
              ".cpf { color: #408080; font-style: italic } /* Comment.PreprocFile */\n",
              ".c1 { color: #408080; font-style: italic } /* Comment.Single */\n",
              ".cs { color: #408080; font-style: italic } /* Comment.Special */\n",
              ".gd { color: #A00000 } /* Generic.Deleted */\n",
              ".ge { font-style: italic } /* Generic.Emph */\n",
              ".gr { color: #FF0000 } /* Generic.Error */\n",
              ".gh { color: #000080; font-weight: bold } /* Generic.Heading */\n",
              ".gi { color: #00A000 } /* Generic.Inserted */\n",
              ".go { color: #888888 } /* Generic.Output */\n",
              ".gp { color: #000080; font-weight: bold } /* Generic.Prompt */\n",
              ".gs { font-weight: bold } /* Generic.Strong */\n",
              ".gu { color: #800080; font-weight: bold } /* Generic.Subheading */\n",
              ".gt { color: #0044DD } /* Generic.Traceback */\n",
              ".kc { color: #008000; font-weight: bold } /* Keyword.Constant */\n",
              ".kd { color: #008000; font-weight: bold } /* Keyword.Declaration */\n",
              ".kn { color: #008000; font-weight: bold } /* Keyword.Namespace */\n",
              ".kp { color: #008000 } /* Keyword.Pseudo */\n",
              ".kr { color: #008000; font-weight: bold } /* Keyword.Reserved */\n",
              ".kt { color: #B00040 } /* Keyword.Type */\n",
              ".m { color: #666666 } /* Literal.Number */\n",
              ".s { color: #BA2121 } /* Literal.String */\n",
              ".na { color: #7D9029 } /* Name.Attribute */\n",
              ".nb { color: #008000 } /* Name.Builtin */\n",
              ".nc { color: #0000FF; font-weight: bold } /* Name.Class */\n",
              ".no { color: #880000 } /* Name.Constant */\n",
              ".nd { color: #AA22FF } /* Name.Decorator */\n",
              ".ni { color: #999999; font-weight: bold } /* Name.Entity */\n",
              ".ne { color: #D2413A; font-weight: bold } /* Name.Exception */\n",
              ".nf { color: #0000FF } /* Name.Function */\n",
              ".nl { color: #A0A000 } /* Name.Label */\n",
              ".nn { color: #0000FF; font-weight: bold } /* Name.Namespace */\n",
              ".nt { color: #008000; font-weight: bold } /* Name.Tag */\n",
              ".nv { color: #19177C } /* Name.Variable */\n",
              ".ow { color: #AA22FF; font-weight: bold } /* Operator.Word */\n",
              ".w { color: #bbbbbb } /* Text.Whitespace */\n",
              ".mb { color: #666666 } /* Literal.Number.Bin */\n",
              ".mf { color: #666666 } /* Literal.Number.Float */\n",
              ".mh { color: #666666 } /* Literal.Number.Hex */\n",
              ".mi { color: #666666 } /* Literal.Number.Integer */\n",
              ".mo { color: #666666 } /* Literal.Number.Oct */\n",
              ".sb { color: #BA2121 } /* Literal.String.Backtick */\n",
              ".sc { color: #BA2121 } /* Literal.String.Char */\n",
              ".sd { color: #BA2121; font-style: italic } /* Literal.String.Doc */\n",
              ".s2 { color: #BA2121 } /* Literal.String.Double */\n",
              ".se { color: #BB6622; font-weight: bold } /* Literal.String.Escape */\n",
              ".sh { color: #BA2121 } /* Literal.String.Heredoc */\n",
              ".si { color: #BB6688; font-weight: bold } /* Literal.String.Interpol */\n",
              ".sx { color: #008000 } /* Literal.String.Other */\n",
              ".sr { color: #BB6688 } /* Literal.String.Regex */\n",
              ".s1 { color: #BA2121 } /* Literal.String.Single */\n",
              ".ss { color: #19177C } /* Literal.String.Symbol */\n",
              ".bp { color: #008000 } /* Name.Builtin.Pseudo */\n",
              ".vc { color: #19177C } /* Name.Variable.Class */\n",
              ".vg { color: #19177C } /* Name.Variable.Global */\n",
              ".vi { color: #19177C } /* Name.Variable.Instance */\n",
              ".il { color: #666666 } /* Literal.Number.Integer.Long */\n",
              "</style>\n"
            ],
            "text/plain": [
              "<IPython.core.display.HTML object>"
            ]
          },
          "metadata": {
            "tags": []
          }
        }
      ]
    },
    {
      "metadata": {
        "id": "fRrOetKsg-RC",
        "colab_type": "text"
      },
      "cell_type": "markdown",
      "source": [
        "# Import libraries"
      ]
    },
    {
      "metadata": {
        "id": "XfwrINzwdmkn",
        "colab_type": "code",
        "colab": {
          "base_uri": "https://localhost:8080/",
          "height": 51
        },
        "outputId": "439d011f-af2b-4ad4-fbce-549adc0be3b0"
      },
      "cell_type": "code",
      "source": [
        "from Packages import Files, Git"
      ],
      "execution_count": 2,
      "outputs": [
        {
          "output_type": "stream",
          "text": [
            "importing Jupyter notebook from /content/UCSanDiegoX---Machine-Learning-Fundamentals-03-Jan-2019-audit/Packages/Files.ipynb\n",
            "importing Jupyter notebook from /content/UCSanDiegoX---Machine-Learning-Fundamentals-03-Jan-2019-audit/Packages/Git.ipynb\n"
          ],
          "name": "stdout"
        }
      ]
    },
    {
      "metadata": {
        "colab_type": "text",
        "id": "5sl8tFrDP67Z"
      },
      "cell_type": "markdown",
      "source": [
        "# Download"
      ]
    },
    {
      "metadata": {
        "id": "ORA_qxjTnZKg",
        "colab_type": "text"
      },
      "cell_type": "markdown",
      "source": [
        "## Week 02 Generative Modeling I"
      ]
    },
    {
      "metadata": {
        "id": "4gWwsdjJnpok",
        "colab_type": "code",
        "outputId": "08ba39f4-0093-47d6-8993-68d045a0878b",
        "colab": {
          "base_uri": "https://localhost:8080/",
          "height": 170
        }
      },
      "cell_type": "code",
      "source": [
        "urls = {\"winery-univariate.zip\": \"https://prod-edxapp.edx-cdn.org/assets/courseware/v1/73b15fa99e20c9f31078477dff6d80ed/asset-v1:UCSanDiegoX+DSE220x+1T2019+type@asset+block/winery-univariate.zip\",\n",
        "        \"bivariate-gaussian.zip\": \"https://prod-edxapp.edx-cdn.org/assets/courseware/v1/d20aeb6c06e8c9e13b4dc421d10fcaa9/asset-v1:UCSanDiegoX+DSE220x+1T2019+type@asset+block/bivariate-gaussian.zip\",\n",
        "        \"winery-bivariate.zip\": \"https://prod-edxapp.edx-cdn.org/assets/courseware/v1/52ab054400e0d083f5eded4e6df44a98/asset-v1:UCSanDiegoX+DSE220x+1T2019+type@asset+block/winery-bivariate.zip\"}\n",
        "dpath = \"Week 02 Generative Modeling I\"\n",
        "Files.runzip(urls[\"winery-univariate.zip\"], dpath)"
      ],
      "execution_count": 3,
      "outputs": [
        {
          "output_type": "stream",
          "text": [
            "Week 02 Generative Modeling I/winery-univariate/wine.names.txt already exists\n",
            "Week 02 Generative Modeling I/winery-univariate/wine.data.txt already exists\n",
            "Week 02 Generative Modeling I/winery-univariate/winery-classification-univariate.ipynb already exists\n",
            "Week 02 Generative Modeling I/winery-univariate/histogram.png already exists\n"
          ],
          "name": "stdout"
        },
        {
          "output_type": "execute_result",
          "data": {
            "text/plain": [
              "['/content/UCSanDiegoX---Machine-Learning-Fundamentals-03-Jan-2019-audit/Week 02 Generative Modeling I/winery-univariate/wine.names.txt',\n",
              " '/content/UCSanDiegoX---Machine-Learning-Fundamentals-03-Jan-2019-audit/Week 02 Generative Modeling I/winery-univariate/wine.data.txt',\n",
              " '/content/UCSanDiegoX---Machine-Learning-Fundamentals-03-Jan-2019-audit/Week 02 Generative Modeling I/winery-univariate/winery-classification-univariate.ipynb',\n",
              " '/content/UCSanDiegoX---Machine-Learning-Fundamentals-03-Jan-2019-audit/Week 02 Generative Modeling I/winery-univariate/.ipynb_checkpoints/winery-classification-univariate-checkpoint.ipynb',\n",
              " '/content/UCSanDiegoX---Machine-Learning-Fundamentals-03-Jan-2019-audit/Week 02 Generative Modeling I/winery-univariate/histogram.png']"
            ]
          },
          "metadata": {
            "tags": []
          },
          "execution_count": 3
        }
      ]
    },
    {
      "metadata": {
        "id": "7ILM4JyuLzue",
        "colab_type": "text"
      },
      "cell_type": "markdown",
      "source": [
        "# Push local repository"
      ]
    },
    {
      "metadata": {
        "id": "RqifDMhBglwC",
        "colab_type": "code",
        "colab": {}
      },
      "cell_type": "code",
      "source": [
        ""
      ],
      "execution_count": 0,
      "outputs": []
    }
  ]
}
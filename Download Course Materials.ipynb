{
  "nbformat": 4,
  "nbformat_minor": 0,
  "metadata": {
    "colab": {
      "name": "Download Course Materials.ipynb",
      "version": "0.3.2",
      "provenance": [],
      "include_colab_link": true
    },
    "kernelspec": {
      "name": "python3",
      "display_name": "Python 3"
    },
    "accelerator": "GPU"
  },
  "cells": [
    {
      "cell_type": "markdown",
      "metadata": {
        "id": "view-in-github",
        "colab_type": "text"
      },
      "source": [
        "<a href=\"https://colab.research.google.com/github/Data-Science-and-Data-Analytics-Courses/UCSanDiegoX---Machine-Learning-Fundamentals-03-Jan-2019-audit/blob/master/Download%20Course%20Materials.ipynb\" target=\"_parent\"><img src=\"https://colab.research.google.com/assets/colab-badge.svg\" alt=\"Open In Colab\"/></a>"
      ]
    },
    {
      "metadata": {
        "colab_type": "text",
        "id": "UdDQ4H0VmPpJ"
      },
      "cell_type": "markdown",
      "source": [
        "# Clone remote"
      ]
    },
    {
      "metadata": {
        "colab_type": "code",
        "id": "cXqTKogHXEr9",
        "colab": {
          "base_uri": "https://localhost:8080/",
          "height": 136
        },
        "outputId": "154a12b5-08f8-4cd5-8623-93251dccbc8a"
      },
      "cell_type": "code",
      "source": [
        "import os\n",
        "from pathlib import Path\n",
        "\n",
        "URL = \"https://github.com/Data-Science-and-Data-Analytics-Courses/UCSanDiegoX---Machine-Learning-Fundamentals-03-Jan-2019-audit\"\n",
        "\n",
        "def clone(url, dest=\".\", branch=\"master\", reloc=True):\n",
        "  \"\"\"\n",
        "  Clone remote branch from url into dest\n",
        "  branch not provided: clone all branches\n",
        "  reloc is True: relocate to repository\n",
        "  \"\"\"\n",
        "\n",
        "  url = url.strip(\" /\")\n",
        "  repo = Path(dest, os.path.basename(url)).resolve()\n",
        "\n",
        "  # dest must not be inside existing repository\n",
        "  is_out = !git -C \"$dest\" rev-parse\n",
        "  if not is_out: # inside repository\n",
        "    raise ValueError(\"Can't clone into existing repository\")\n",
        "  \n",
        "  # Clone\n",
        "  p = repo.as_posix()\n",
        "  if branch: # specific branch\n",
        "    !git clone --single-branch --branch \"$branch\" \"$url\" \"$p\"\n",
        "  else: # all branches\n",
        "    !git clone \"$url\" \"$p\"\n",
        "  \n",
        "  # Relocate\n",
        "  if reloc:\n",
        "    os.chdir(repo)\n",
        "\n",
        "  return repo.as_posix()\n",
        "  \n",
        "REPO = clone(URL)\n",
        "%run .Importable.ipynb\n",
        "sys.path.append(REPO)"
      ],
      "execution_count": 1,
      "outputs": [
        {
          "output_type": "stream",
          "text": [
            "Cloning into '/content/UCSanDiegoX---Machine-Learning-Fundamentals-03-Jan-2019-audit'...\n",
            "remote: Enumerating objects: 15, done.\u001b[K\n",
            "remote: Counting objects:   6% (1/15)   \u001b[K\rremote: Counting objects:  13% (2/15)   \u001b[K\rremote: Counting objects:  20% (3/15)   \u001b[K\rremote: Counting objects:  26% (4/15)   \u001b[K\rremote: Counting objects:  33% (5/15)   \u001b[K\rremote: Counting objects:  40% (6/15)   \u001b[K\rremote: Counting objects:  46% (7/15)   \u001b[K\rremote: Counting objects:  53% (8/15)   \u001b[K\rremote: Counting objects:  60% (9/15)   \u001b[K\rremote: Counting objects:  66% (10/15)   \u001b[K\rremote: Counting objects:  73% (11/15)   \u001b[K\rremote: Counting objects:  80% (12/15)   \u001b[K\rremote: Counting objects:  86% (13/15)   \u001b[K\rremote: Counting objects:  93% (14/15)   \u001b[K\rremote: Counting objects: 100% (15/15)   \u001b[K\rremote: Counting objects: 100% (15/15), done.\u001b[K\n",
            "remote: Compressing objects: 100% (15/15), done.\u001b[K\n",
            "remote: Total 660 (delta 4), reused 0 (delta 0), pack-reused 645\u001b[K\n",
            "Receiving objects: 100% (660/660), 2.81 MiB | 9.98 MiB/s, done.\n",
            "Resolving deltas: 100% (324/324), done.\n"
          ],
          "name": "stdout"
        },
        {
          "output_type": "display_data",
          "data": {
            "text/html": [
              "\n",
              "<style type='text/css'>\n",
              ".hll { background-color: #ffffcc }\n",
              ".c { color: #408080; font-style: italic } /* Comment */\n",
              ".err { border: 1px solid #FF0000 } /* Error */\n",
              ".k { color: #008000; font-weight: bold } /* Keyword */\n",
              ".o { color: #666666 } /* Operator */\n",
              ".ch { color: #408080; font-style: italic } /* Comment.Hashbang */\n",
              ".cm { color: #408080; font-style: italic } /* Comment.Multiline */\n",
              ".cp { color: #BC7A00 } /* Comment.Preproc */\n",
              ".cpf { color: #408080; font-style: italic } /* Comment.PreprocFile */\n",
              ".c1 { color: #408080; font-style: italic } /* Comment.Single */\n",
              ".cs { color: #408080; font-style: italic } /* Comment.Special */\n",
              ".gd { color: #A00000 } /* Generic.Deleted */\n",
              ".ge { font-style: italic } /* Generic.Emph */\n",
              ".gr { color: #FF0000 } /* Generic.Error */\n",
              ".gh { color: #000080; font-weight: bold } /* Generic.Heading */\n",
              ".gi { color: #00A000 } /* Generic.Inserted */\n",
              ".go { color: #888888 } /* Generic.Output */\n",
              ".gp { color: #000080; font-weight: bold } /* Generic.Prompt */\n",
              ".gs { font-weight: bold } /* Generic.Strong */\n",
              ".gu { color: #800080; font-weight: bold } /* Generic.Subheading */\n",
              ".gt { color: #0044DD } /* Generic.Traceback */\n",
              ".kc { color: #008000; font-weight: bold } /* Keyword.Constant */\n",
              ".kd { color: #008000; font-weight: bold } /* Keyword.Declaration */\n",
              ".kn { color: #008000; font-weight: bold } /* Keyword.Namespace */\n",
              ".kp { color: #008000 } /* Keyword.Pseudo */\n",
              ".kr { color: #008000; font-weight: bold } /* Keyword.Reserved */\n",
              ".kt { color: #B00040 } /* Keyword.Type */\n",
              ".m { color: #666666 } /* Literal.Number */\n",
              ".s { color: #BA2121 } /* Literal.String */\n",
              ".na { color: #7D9029 } /* Name.Attribute */\n",
              ".nb { color: #008000 } /* Name.Builtin */\n",
              ".nc { color: #0000FF; font-weight: bold } /* Name.Class */\n",
              ".no { color: #880000 } /* Name.Constant */\n",
              ".nd { color: #AA22FF } /* Name.Decorator */\n",
              ".ni { color: #999999; font-weight: bold } /* Name.Entity */\n",
              ".ne { color: #D2413A; font-weight: bold } /* Name.Exception */\n",
              ".nf { color: #0000FF } /* Name.Function */\n",
              ".nl { color: #A0A000 } /* Name.Label */\n",
              ".nn { color: #0000FF; font-weight: bold } /* Name.Namespace */\n",
              ".nt { color: #008000; font-weight: bold } /* Name.Tag */\n",
              ".nv { color: #19177C } /* Name.Variable */\n",
              ".ow { color: #AA22FF; font-weight: bold } /* Operator.Word */\n",
              ".w { color: #bbbbbb } /* Text.Whitespace */\n",
              ".mb { color: #666666 } /* Literal.Number.Bin */\n",
              ".mf { color: #666666 } /* Literal.Number.Float */\n",
              ".mh { color: #666666 } /* Literal.Number.Hex */\n",
              ".mi { color: #666666 } /* Literal.Number.Integer */\n",
              ".mo { color: #666666 } /* Literal.Number.Oct */\n",
              ".sb { color: #BA2121 } /* Literal.String.Backtick */\n",
              ".sc { color: #BA2121 } /* Literal.String.Char */\n",
              ".sd { color: #BA2121; font-style: italic } /* Literal.String.Doc */\n",
              ".s2 { color: #BA2121 } /* Literal.String.Double */\n",
              ".se { color: #BB6622; font-weight: bold } /* Literal.String.Escape */\n",
              ".sh { color: #BA2121 } /* Literal.String.Heredoc */\n",
              ".si { color: #BB6688; font-weight: bold } /* Literal.String.Interpol */\n",
              ".sx { color: #008000 } /* Literal.String.Other */\n",
              ".sr { color: #BB6688 } /* Literal.String.Regex */\n",
              ".s1 { color: #BA2121 } /* Literal.String.Single */\n",
              ".ss { color: #19177C } /* Literal.String.Symbol */\n",
              ".bp { color: #008000 } /* Name.Builtin.Pseudo */\n",
              ".vc { color: #19177C } /* Name.Variable.Class */\n",
              ".vg { color: #19177C } /* Name.Variable.Global */\n",
              ".vi { color: #19177C } /* Name.Variable.Instance */\n",
              ".il { color: #666666 } /* Literal.Number.Integer.Long */\n",
              "</style>\n"
            ],
            "text/plain": [
              "<IPython.core.display.HTML object>"
            ]
          },
          "metadata": {
            "tags": []
          }
        }
      ]
    },
    {
      "metadata": {
        "id": "fRrOetKsg-RC",
        "colab_type": "text"
      },
      "cell_type": "markdown",
      "source": [
        "# Import libraries"
      ]
    },
    {
      "metadata": {
        "id": "XfwrINzwdmkn",
        "colab_type": "code",
        "colab": {
          "base_uri": "https://localhost:8080/",
          "height": 51
        },
        "outputId": "6690573e-dcf7-4b95-d0df-9414e188af19"
      },
      "cell_type": "code",
      "source": [
        "from Packages import Git, Files"
      ],
      "execution_count": 2,
      "outputs": [
        {
          "output_type": "stream",
          "text": [
            "importing Jupyter notebook from /content/UCSanDiegoX---Machine-Learning-Fundamentals-03-Jan-2019-audit/Packages/Git.ipynb\n",
            "importing Jupyter notebook from /content/UCSanDiegoX---Machine-Learning-Fundamentals-03-Jan-2019-audit/Packages/Files.ipynb\n"
          ],
          "name": "stdout"
        }
      ]
    },
    {
      "metadata": {
        "colab_type": "text",
        "id": "5sl8tFrDP67Z"
      },
      "cell_type": "markdown",
      "source": [
        "# Download"
      ]
    },
    {
      "metadata": {
        "id": "ORA_qxjTnZKg",
        "colab_type": "text"
      },
      "cell_type": "markdown",
      "source": [
        "## Week 02 Generative Modeling I"
      ]
    },
    {
      "metadata": {
        "id": "4gWwsdjJnpok",
        "colab_type": "code",
        "colab": {}
      },
      "cell_type": "code",
      "source": [
        "urls = {\"winery-univariate.zip\": \"https://prod-edxapp.edx-cdn.org/assets/courseware/v1/73b15fa99e20c9f31078477dff6d80ed/asset-v1:UCSanDiegoX+DSE220x+1T2019+type@asset+block/winery-univariate.zip\",\n",
        "        \"bivariate-gaussian.zip\": \"https://prod-edxapp.edx-cdn.org/assets/courseware/v1/d20aeb6c06e8c9e13b4dc421d10fcaa9/asset-v1:UCSanDiegoX+DSE220x+1T2019+type@asset+block/bivariate-gaussian.zip\",\n",
        "        \"winery-bivariate.zip\": \"https://prod-edxapp.edx-cdn.org/assets/courseware/v1/52ab054400e0d083f5eded4e6df44a98/asset-v1:UCSanDiegoX+DSE220x+1T2019+type@asset+block/winery-bivariate.zip\"}\n",
        "dest = \"Week 02 Generative Modeling I\"\n",
        "Files.runzip(urls[\"winery-univariate.zip\"], dest)"
      ],
      "execution_count": 0,
      "outputs": []
    },
    {
      "metadata": {
        "id": "gsgplmgmm7Qw",
        "colab_type": "text"
      },
      "cell_type": "markdown",
      "source": [
        "## Week 03 Generative Modeling II"
      ]
    },
    {
      "metadata": {
        "id": "UAUcjVhEm7kT",
        "colab_type": "code",
        "colab": {}
      },
      "cell_type": "code",
      "source": [
        "urls = {\"winery-multivariate.zip\": \"https://prod-edxapp.edx-cdn.org/assets/courseware/v1/2f3a287f717d464a8c58caf77f69881e/asset-v1:UCSanDiegoX+DSE220x+1T2019+type@asset+block/winery-multivariate.zip\",\n",
        "       \"generative-mnist.zip\": \"https://prod-edxapp.edx-cdn.org/assets/courseware/v1/b24e1fc816b57894bac68e9c8a634279/asset-v1:UCSanDiegoX+DSE220x+1T2019+type@asset+block/generative-mnist.zip\"}\n",
        "dest = \"Week 03 Generative Modeling II\"\n",
        "Files.runzip(urls[\"generative-mnist.zip\"], dest, peek=True)\n",
        "!ls \"$dest\""
      ],
      "execution_count": 0,
      "outputs": []
    },
    {
      "metadata": {
        "id": "2wUe75oNOUiQ",
        "colab_type": "text"
      },
      "cell_type": "markdown",
      "source": [
        "## Week 04 Linear Regression and Probability Estimation"
      ]
    },
    {
      "metadata": {
        "id": "IelAbeszOUte",
        "colab_type": "code",
        "colab": {
          "base_uri": "https://localhost:8080/",
          "height": 34
        },
        "outputId": "7b79b9dd-5c01-4747-9157-680f7d9f6067"
      },
      "cell_type": "code",
      "source": [
        "urls = {\"diabetes-regression.zip\": \"https://prod-edxapp.edx-cdn.org/assets/courseware/v1/25c02fbc316e210f937daf1efa5e092a/asset-v1:UCSanDiegoX+DSE220x+1T2019+type@asset+block/diabetes-regression.zip\",\n",
        "       \"mystery.dat\": \"https://prod-edxapp.edx-cdn.org/assets/courseware/v1/715f99acdd77b299e11541946b7b29d0/asset-v1:UCSanDiegoX+DSE220x+1T2019+type@asset+block/mystery.dat\",\n",
        "       \"sentiment-logistic-regression.zip\": \"https://prod-edxapp.edx-cdn.org/assets/courseware/v1/7c6a9101841a618e0dba678f071795e5/asset-v1:UCSanDiegoX+DSE220x+1T2019+type@asset+block/sentiment-logistic-regression.zip\"}\n",
        "dest = \"Week 04 Linear Regression and Probability Estimation\"\n",
        "Files.runzip(urls[\"diabetes-regression.zip\"], dest, peek=True)\n",
        "Files.runzip(urls[\"sentiment-logistic-regression.zip\"], dest, peek=True)\n",
        "Files.download(urls[\"mystery.dat\"], dest, name=\"mystery.dat\")\n",
        "!ls \"$dest\""
      ],
      "execution_count": 9,
      "outputs": [
        {
          "output_type": "stream",
          "text": [
            "diabetes-regression  mystery.dat  sentiment-logistic-regression\n"
          ],
          "name": "stdout"
        }
      ]
    },
    {
      "metadata": {
        "id": "7ILM4JyuLzue",
        "colab_type": "text"
      },
      "cell_type": "markdown",
      "source": [
        "# Push repository"
      ]
    },
    {
      "metadata": {
        "id": "RqifDMhBglwC",
        "colab_type": "code",
        "colab": {}
      },
      "cell_type": "code",
      "source": [
        "message = \"Start Week 03 Generative Modeling II\"\n",
        "\n",
        "# Configure\n",
        "Git.config()\n",
        "\n",
        "# Track\n",
        "!git add -A\n",
        "!git status\n",
        "\n",
        "# Commit\n",
        "!git commit -m \"$message\"\n",
        "\n",
        "# Push\n",
        "Git.push(URL)"
      ],
      "execution_count": 0,
      "outputs": []
    }
  ]
}
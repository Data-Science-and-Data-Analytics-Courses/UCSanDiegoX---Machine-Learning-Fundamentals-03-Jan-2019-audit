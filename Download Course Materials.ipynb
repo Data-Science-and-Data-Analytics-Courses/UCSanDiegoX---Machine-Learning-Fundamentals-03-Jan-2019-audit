{
  "nbformat": 4,
  "nbformat_minor": 0,
  "metadata": {
    "colab": {
      "name": "Download Course Materials.ipynb",
      "version": "0.3.2",
      "provenance": [],
      "include_colab_link": true
    },
    "kernelspec": {
      "name": "python3",
      "display_name": "Python 3"
    },
    "accelerator": "GPU"
  },
  "cells": [
    {
      "cell_type": "markdown",
      "metadata": {
        "id": "view-in-github",
        "colab_type": "text"
      },
      "source": [
        "<a href=\"https://colab.research.google.com/github/Data-Science-and-Data-Analytics-Courses/UCSanDiegoX---Machine-Learning-Fundamentals-03-Jan-2019-audit/blob/master/Download%20Course%20Materials.ipynb\" target=\"_parent\"><img src=\"https://colab.research.google.com/assets/colab-badge.svg\" alt=\"Open In Colab\"/></a>"
      ]
    },
    {
      "metadata": {
        "colab_type": "text",
        "id": "UdDQ4H0VmPpJ"
      },
      "cell_type": "markdown",
      "source": [
        "# Clone remote"
      ]
    },
    {
      "metadata": {
        "colab_type": "code",
        "id": "cXqTKogHXEr9",
        "outputId": "ca38f9a2-8041-4eed-a8bd-f4fe0bba8faf",
        "colab": {
          "base_uri": "https://localhost:8080/",
          "height": 170
        }
      },
      "cell_type": "code",
      "source": [
        "import os\n",
        "\n",
        "URL = \"https://github.com/Data-Science-and-Data-Analytics-Courses/UCSanDiegoX---Machine-Learning-Fundamentals-03-Jan-2019-audit\"\n",
        "\n",
        "def clone(url, dest=\".\", branch=\"master\"):\n",
        "  \"\"\"\n",
        "  Clone remote branch from url into dest\n",
        "  branch not provided: clone all branches\n",
        "  \"\"\"\n",
        "\n",
        "  url = url.strip(\"/\")\n",
        "  repo = os.path.join(dest, os.path.basename(url))\n",
        "\n",
        "  # Raise error if dest inside existing repository\n",
        "  is_out = !git -C \"$dest\" rev-parse\n",
        "  if not is_out: # inside repository\n",
        "    raise ValueError(\"Can't clone into existing repository\")\n",
        "  \n",
        "  # Clone specific branch\n",
        "  if branch:\n",
        "    !git clone --single-branch --branch \"$branch\" \"$url\" \"$repo\"\n",
        "  # Clone all branches\n",
        "  else:\n",
        "    !git clone \"$url\" \"$repo\"\n",
        "  os.chdir(repo)\n",
        "  \n",
        "  bname = !git rev-parse --abbrev-ref HEAD\n",
        "  print(\"Current\")\n",
        "  print(\"{branch}\\t{directory}\".format(branch=bname, directory=os.getcwd()))\n",
        "  \n",
        "clone(URL)\n",
        "%run .Importable.ipynb"
      ],
      "execution_count": 1,
      "outputs": [
        {
          "output_type": "stream",
          "text": [
            "Cloning into './UCSanDiegoX---Machine-Learning-Fundamentals-03-Jan-2019-audit'...\n",
            "remote: Enumerating objects: 57, done.\u001b[K\n",
            "remote: Counting objects:   1% (1/57)   \u001b[K\rremote: Counting objects:   3% (2/57)   \u001b[K\rremote: Counting objects:   5% (3/57)   \u001b[K\rremote: Counting objects:   7% (4/57)   \u001b[K\rremote: Counting objects:   8% (5/57)   \u001b[K\rremote: Counting objects:  10% (6/57)   \u001b[K\rremote: Counting objects:  12% (7/57)   \u001b[K\rremote: Counting objects:  14% (8/57)   \u001b[K\rremote: Counting objects:  15% (9/57)   \u001b[K\rremote: Counting objects:  17% (10/57)   \u001b[K\rremote: Counting objects:  19% (11/57)   \u001b[K\rremote: Counting objects:  21% (12/57)   \u001b[K\rremote: Counting objects:  22% (13/57)   \u001b[K\rremote: Counting objects:  24% (14/57)   \u001b[K\rremote: Counting objects:  26% (15/57)   \u001b[K\rremote: Counting objects:  28% (16/57)   \u001b[K\rremote: Counting objects:  29% (17/57)   \u001b[K\rremote: Counting objects:  31% (18/57)   \u001b[K\rremote: Counting objects:  33% (19/57)   \u001b[K\rremote: Counting objects:  35% (20/57)   \u001b[K\rremote: Counting objects:  36% (21/57)   \u001b[K\rremote: Counting objects:  38% (22/57)   \u001b[K\rremote: Counting objects:  40% (23/57)   \u001b[K\rremote: Counting objects:  42% (24/57)   \u001b[K\rremote: Counting objects:  43% (25/57)   \u001b[K\rremote: Counting objects:  45% (26/57)   \u001b[K\rremote: Counting objects:  47% (27/57)   \u001b[K\rremote: Counting objects:  49% (28/57)   \u001b[K\rremote: Counting objects:  50% (29/57)   \u001b[K\rremote: Counting objects:  52% (30/57)   \u001b[K\rremote: Counting objects:  54% (31/57)   \u001b[K\rremote: Counting objects:  56% (32/57)   \u001b[K\rremote: Counting objects:  57% (33/57)   \u001b[K\rremote: Counting objects:  59% (34/57)   \u001b[K\rremote: Counting objects:  61% (35/57)   \u001b[K\rremote: Counting objects:  63% (36/57)   \u001b[K\rremote: Counting objects:  64% (37/57)   \u001b[K\rremote: Counting objects:  66% (38/57)   \u001b[K\rremote: Counting objects:  68% (39/57)   \u001b[K\rremote: Counting objects:  70% (40/57)   \u001b[K\rremote: Counting objects:  71% (41/57)   \u001b[K\rremote: Counting objects:  73% (42/57)   \u001b[K\rremote: Counting objects:  75% (43/57)   \u001b[K\rremote: Counting objects:  77% (44/57)   \u001b[K\rremote: Counting objects:  78% (45/57)   \u001b[K\rremote: Counting objects:  80% (46/57)   \u001b[K\rremote: Counting objects:  82% (47/57)   \u001b[K\rremote: Counting objects:  84% (48/57)   \u001b[K\rremote: Counting objects:  85% (49/57)   \u001b[K\rremote: Counting objects:  87% (50/57)   \u001b[K\rremote: Counting objects:  89% (51/57)   \u001b[K\rremote: Counting objects:  91% (52/57)   \u001b[K\rremote: Counting objects:  92% (53/57)   \u001b[K\rremote: Counting objects:  94% (54/57)   \u001b[K\rremote: Counting objects:  96% (55/57)   \u001b[K\rremote: Counting objects:  98% (56/57)   \u001b[K\rremote: Counting objects: 100% (57/57)   \u001b[K\rremote: Counting objects: 100% (57/57), done.\u001b[K\n",
            "remote: Compressing objects: 100% (57/57), done.\u001b[K\n",
            "remote: Total 304 (delta 26), reused 0 (delta 0), pack-reused 247\u001b[K\n",
            "Receiving objects: 100% (304/304), 2.72 MiB | 4.54 MiB/s, done.\n",
            "Resolving deltas: 100% (136/136), done.\n",
            "Current\n",
            "['master']\t/content/UCSanDiegoX---Machine-Learning-Fundamentals-03-Jan-2019-audit\n"
          ],
          "name": "stdout"
        },
        {
          "output_type": "display_data",
          "data": {
            "text/html": [
              "\n",
              "<style type='text/css'>\n",
              ".hll { background-color: #ffffcc }\n",
              ".c { color: #408080; font-style: italic } /* Comment */\n",
              ".err { border: 1px solid #FF0000 } /* Error */\n",
              ".k { color: #008000; font-weight: bold } /* Keyword */\n",
              ".o { color: #666666 } /* Operator */\n",
              ".ch { color: #408080; font-style: italic } /* Comment.Hashbang */\n",
              ".cm { color: #408080; font-style: italic } /* Comment.Multiline */\n",
              ".cp { color: #BC7A00 } /* Comment.Preproc */\n",
              ".cpf { color: #408080; font-style: italic } /* Comment.PreprocFile */\n",
              ".c1 { color: #408080; font-style: italic } /* Comment.Single */\n",
              ".cs { color: #408080; font-style: italic } /* Comment.Special */\n",
              ".gd { color: #A00000 } /* Generic.Deleted */\n",
              ".ge { font-style: italic } /* Generic.Emph */\n",
              ".gr { color: #FF0000 } /* Generic.Error */\n",
              ".gh { color: #000080; font-weight: bold } /* Generic.Heading */\n",
              ".gi { color: #00A000 } /* Generic.Inserted */\n",
              ".go { color: #888888 } /* Generic.Output */\n",
              ".gp { color: #000080; font-weight: bold } /* Generic.Prompt */\n",
              ".gs { font-weight: bold } /* Generic.Strong */\n",
              ".gu { color: #800080; font-weight: bold } /* Generic.Subheading */\n",
              ".gt { color: #0044DD } /* Generic.Traceback */\n",
              ".kc { color: #008000; font-weight: bold } /* Keyword.Constant */\n",
              ".kd { color: #008000; font-weight: bold } /* Keyword.Declaration */\n",
              ".kn { color: #008000; font-weight: bold } /* Keyword.Namespace */\n",
              ".kp { color: #008000 } /* Keyword.Pseudo */\n",
              ".kr { color: #008000; font-weight: bold } /* Keyword.Reserved */\n",
              ".kt { color: #B00040 } /* Keyword.Type */\n",
              ".m { color: #666666 } /* Literal.Number */\n",
              ".s { color: #BA2121 } /* Literal.String */\n",
              ".na { color: #7D9029 } /* Name.Attribute */\n",
              ".nb { color: #008000 } /* Name.Builtin */\n",
              ".nc { color: #0000FF; font-weight: bold } /* Name.Class */\n",
              ".no { color: #880000 } /* Name.Constant */\n",
              ".nd { color: #AA22FF } /* Name.Decorator */\n",
              ".ni { color: #999999; font-weight: bold } /* Name.Entity */\n",
              ".ne { color: #D2413A; font-weight: bold } /* Name.Exception */\n",
              ".nf { color: #0000FF } /* Name.Function */\n",
              ".nl { color: #A0A000 } /* Name.Label */\n",
              ".nn { color: #0000FF; font-weight: bold } /* Name.Namespace */\n",
              ".nt { color: #008000; font-weight: bold } /* Name.Tag */\n",
              ".nv { color: #19177C } /* Name.Variable */\n",
              ".ow { color: #AA22FF; font-weight: bold } /* Operator.Word */\n",
              ".w { color: #bbbbbb } /* Text.Whitespace */\n",
              ".mb { color: #666666 } /* Literal.Number.Bin */\n",
              ".mf { color: #666666 } /* Literal.Number.Float */\n",
              ".mh { color: #666666 } /* Literal.Number.Hex */\n",
              ".mi { color: #666666 } /* Literal.Number.Integer */\n",
              ".mo { color: #666666 } /* Literal.Number.Oct */\n",
              ".sb { color: #BA2121 } /* Literal.String.Backtick */\n",
              ".sc { color: #BA2121 } /* Literal.String.Char */\n",
              ".sd { color: #BA2121; font-style: italic } /* Literal.String.Doc */\n",
              ".s2 { color: #BA2121 } /* Literal.String.Double */\n",
              ".se { color: #BB6622; font-weight: bold } /* Literal.String.Escape */\n",
              ".sh { color: #BA2121 } /* Literal.String.Heredoc */\n",
              ".si { color: #BB6688; font-weight: bold } /* Literal.String.Interpol */\n",
              ".sx { color: #008000 } /* Literal.String.Other */\n",
              ".sr { color: #BB6688 } /* Literal.String.Regex */\n",
              ".s1 { color: #BA2121 } /* Literal.String.Single */\n",
              ".ss { color: #19177C } /* Literal.String.Symbol */\n",
              ".bp { color: #008000 } /* Name.Builtin.Pseudo */\n",
              ".vc { color: #19177C } /* Name.Variable.Class */\n",
              ".vg { color: #19177C } /* Name.Variable.Global */\n",
              ".vi { color: #19177C } /* Name.Variable.Instance */\n",
              ".il { color: #666666 } /* Literal.Number.Integer.Long */\n",
              "</style>\n"
            ],
            "text/plain": [
              "<IPython.core.display.HTML object>"
            ]
          },
          "metadata": {
            "tags": []
          }
        }
      ]
    },
    {
      "metadata": {
        "id": "fRrOetKsg-RC",
        "colab_type": "text"
      },
      "cell_type": "markdown",
      "source": [
        "# Import libraries"
      ]
    },
    {
      "metadata": {
        "id": "XfwrINzwdmkn",
        "colab_type": "code",
        "colab": {}
      },
      "cell_type": "code",
      "source": [
        "from Packages import Git, Files"
      ],
      "execution_count": 0,
      "outputs": []
    },
    {
      "metadata": {
        "colab_type": "text",
        "id": "5sl8tFrDP67Z"
      },
      "cell_type": "markdown",
      "source": [
        "# Download"
      ]
    },
    {
      "metadata": {
        "id": "ORA_qxjTnZKg",
        "colab_type": "text"
      },
      "cell_type": "markdown",
      "source": [
        "## Week 02 Generative Modeling I"
      ]
    },
    {
      "metadata": {
        "id": "4gWwsdjJnpok",
        "colab_type": "code",
        "outputId": "08ba39f4-0093-47d6-8993-68d045a0878b",
        "colab": {
          "base_uri": "https://localhost:8080/",
          "height": 170
        }
      },
      "cell_type": "code",
      "source": [
        "urls = {\"winery-univariate.zip\": \"https://prod-edxapp.edx-cdn.org/assets/courseware/v1/73b15fa99e20c9f31078477dff6d80ed/asset-v1:UCSanDiegoX+DSE220x+1T2019+type@asset+block/winery-univariate.zip\",\n",
        "        \"bivariate-gaussian.zip\": \"https://prod-edxapp.edx-cdn.org/assets/courseware/v1/d20aeb6c06e8c9e13b4dc421d10fcaa9/asset-v1:UCSanDiegoX+DSE220x+1T2019+type@asset+block/bivariate-gaussian.zip\",\n",
        "        \"winery-bivariate.zip\": \"https://prod-edxapp.edx-cdn.org/assets/courseware/v1/52ab054400e0d083f5eded4e6df44a98/asset-v1:UCSanDiegoX+DSE220x+1T2019+type@asset+block/winery-bivariate.zip\"}\n",
        "dest = \"Week 02 Generative Modeling I\"\n",
        "Files.runzip(urls[\"winery-univariate.zip\"], dest)"
      ],
      "execution_count": 0,
      "outputs": [
        {
          "output_type": "stream",
          "text": [
            "Week 02 Generative Modeling I/winery-univariate/wine.names.txt already exists\n",
            "Week 02 Generative Modeling I/winery-univariate/wine.data.txt already exists\n",
            "Week 02 Generative Modeling I/winery-univariate/winery-classification-univariate.ipynb already exists\n",
            "Week 02 Generative Modeling I/winery-univariate/histogram.png already exists\n"
          ],
          "name": "stdout"
        },
        {
          "output_type": "execute_result",
          "data": {
            "text/plain": [
              "['/content/UCSanDiegoX---Machine-Learning-Fundamentals-03-Jan-2019-audit/Week 02 Generative Modeling I/winery-univariate/wine.names.txt',\n",
              " '/content/UCSanDiegoX---Machine-Learning-Fundamentals-03-Jan-2019-audit/Week 02 Generative Modeling I/winery-univariate/wine.data.txt',\n",
              " '/content/UCSanDiegoX---Machine-Learning-Fundamentals-03-Jan-2019-audit/Week 02 Generative Modeling I/winery-univariate/winery-classification-univariate.ipynb',\n",
              " '/content/UCSanDiegoX---Machine-Learning-Fundamentals-03-Jan-2019-audit/Week 02 Generative Modeling I/winery-univariate/.ipynb_checkpoints/winery-classification-univariate-checkpoint.ipynb',\n",
              " '/content/UCSanDiegoX---Machine-Learning-Fundamentals-03-Jan-2019-audit/Week 02 Generative Modeling I/winery-univariate/histogram.png']"
            ]
          },
          "metadata": {
            "tags": []
          },
          "execution_count": 3
        }
      ]
    },
    {
      "metadata": {
        "id": "gsgplmgmm7Qw",
        "colab_type": "text"
      },
      "cell_type": "markdown",
      "source": [
        "## Week 03 Generative Modeling II"
      ]
    },
    {
      "metadata": {
        "id": "UAUcjVhEm7kT",
        "colab_type": "code",
        "colab": {
          "base_uri": "https://localhost:8080/",
          "height": 85
        },
        "outputId": "b2e9523f-b13b-4a15-d6cd-c6be3854f707"
      },
      "cell_type": "code",
      "source": [
        "urls = {\"winery-multivariate.zip\": \"https://prod-edxapp.edx-cdn.org/assets/courseware/v1/2f3a287f717d464a8c58caf77f69881e/asset-v1:UCSanDiegoX+DSE220x+1T2019+type@asset+block/winery-multivariate.zip\",\n",
        "       \"generative-mnist.zip\": \"https://prod-edxapp.edx-cdn.org/assets/courseware/v1/b24e1fc816b57894bac68e9c8a634279/asset-v1:UCSanDiegoX+DSE220x+1T2019+type@asset+block/generative-mnist.zip\"}\n",
        "dest = \"Week 03 Generative Modeling II\"\n",
        "Files.runzip(urls[\"generative-mnist.zip\"], dest, peek=True)\n",
        "!ls \"$dest\""
      ],
      "execution_count": 4,
      "outputs": [
        {
          "output_type": "display_data",
          "data": {
            "text/plain": [
              "'Extract'"
            ]
          },
          "metadata": {
            "tags": []
          }
        },
        {
          "output_type": "display_data",
          "data": {
            "text/plain": [
              "['generative-mnist/generative_mnist.ipynb']"
            ]
          },
          "metadata": {
            "tags": []
          }
        },
        {
          "output_type": "stream",
          "text": [
            "Into Week 03 Generative Modeling II (or specify other directory):\n",
            "generative-mnist  winery-multivariate\n"
          ],
          "name": "stdout"
        }
      ]
    },
    {
      "metadata": {
        "id": "7ILM4JyuLzue",
        "colab_type": "text"
      },
      "cell_type": "markdown",
      "source": [
        "# Push repository"
      ]
    },
    {
      "metadata": {
        "id": "RqifDMhBglwC",
        "colab_type": "code",
        "colab": {
          "base_uri": "https://localhost:8080/",
          "height": 153
        },
        "outputId": "2ad8e322-b574-408d-cc9d-6b3edf34b569"
      },
      "cell_type": "code",
      "source": [
        "email = \"nxv1987@gmail.com\"\n",
        "name = \"Vinh Xuan Nguyen\"\n",
        "message = \"Start Week 03 Generative Modeling II\"\n",
        "\n",
        "!git config --list\n",
        "\n",
        "# Configure\n",
        "!git config --global user.email \"$email\"\n",
        "!git config --global user.name \"$name\"\n",
        "\n",
        "# Commit\n",
        "!git add -A\n",
        "!git status\n",
        "!git commit -m \"$message\"\n",
        "\n",
        "# Push\n"
      ],
      "execution_count": 12,
      "outputs": [
        {
          "output_type": "stream",
          "text": [
            "core.repositoryformatversion=0\n",
            "core.filemode=true\n",
            "core.bare=false\n",
            "core.logallrefupdates=true\n",
            "remote.origin.url=https://github.com/Data-Science-and-Data-Analytics-Courses/UCSanDiegoX---Machine-Learning-Fundamentals-03-Jan-2019-audit\n",
            "remote.origin.fetch=+refs/heads/master:refs/remotes/origin/master\n",
            "branch.master.remote=origin\n",
            "branch.master.merge=refs/heads/master\n"
          ],
          "name": "stdout"
        }
      ]
    }
  ]
}
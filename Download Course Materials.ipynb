{
  "nbformat": 4,
  "nbformat_minor": 0,
  "metadata": {
    "colab": {
      "name": "Download Course Materials.ipynb",
      "version": "0.3.2",
      "provenance": [],
      "include_colab_link": true
    },
    "kernelspec": {
      "name": "python3",
      "display_name": "Python 3"
    },
    "accelerator": "GPU"
  },
  "cells": [
    {
      "cell_type": "markdown",
      "metadata": {
        "id": "view-in-github",
        "colab_type": "text"
      },
      "source": [
        "<a href=\"https://colab.research.google.com/github/Data-Science-and-Data-Analytics-Courses/UCSanDiegoX---Machine-Learning-Fundamentals-03-Jan-2019-audit/blob/master/Download%20Course%20Materials.ipynb\" target=\"_parent\"><img src=\"https://colab.research.google.com/assets/colab-badge.svg\" alt=\"Open In Colab\"/></a>"
      ]
    },
    {
      "metadata": {
        "colab_type": "text",
        "id": "UdDQ4H0VmPpJ"
      },
      "cell_type": "markdown",
      "source": [
        "# Clone remote"
      ]
    },
    {
      "metadata": {
        "colab_type": "code",
        "id": "cXqTKogHXEr9",
        "outputId": "70266fac-8ea2-4a87-8671-ebdc2e889764",
        "colab": {
          "base_uri": "https://localhost:8080/",
          "height": 214
        }
      },
      "cell_type": "code",
      "source": [
        "import os\n",
        "\n",
        "URL = \"https://github.com/Data-Science-and-Data-Analytics-Courses/UCSanDiegoX---Machine-Learning-Fundamentals-03-Jan-2019-audit\"\n",
        "\n",
        "def clone(url, dest=\".\", branch=\"master\"):\n",
        "  \"\"\"\n",
        "  Clone remote branch from url into dest\n",
        "  branch not provided: clone all branches\n",
        "  \"\"\"\n",
        "\n",
        "  url = url.strip(\"/\")\n",
        "  repo = os.path.join(dest, os.path.basename(url))\n",
        "\n",
        "  # Raise error if dest inside existing repository\n",
        "  is_out = !git -C \"$dest\" rev-parse\n",
        "  if not is_out: # inside repository\n",
        "    raise ValueError(\"Can't clone into existing repository\")\n",
        "  \n",
        "  # Clone specific branch\n",
        "  if branch:\n",
        "    !git clone --single-branch --branch \"$branch\" \"$url\" \"$repo\"\n",
        "  # Clone all branches\n",
        "  else:\n",
        "    !git clone \"$url\" \"$repo\"\n",
        "  os.chdir(repo)\n",
        "  \n",
        "  bname = !git rev-parse --abbrev-ref HEAD\n",
        "  print(\"Current\")\n",
        "  print(\"{branch}\\t{directory}\".format(branch=bname, directory=os.getcwd()))\n",
        "  \n",
        "clone(URL)\n",
        "%run .Importable.ipynb"
      ],
      "execution_count": 1,
      "outputs": [
        {
          "output_type": "error",
          "ename": "NameError",
          "evalue": "ignored",
          "traceback": [
            "\u001b[0;31m---------------------------------------------------------------------------\u001b[0m",
            "\u001b[0;31mNameError\u001b[0m                                 Traceback (most recent call last)",
            "\u001b[0;32m<ipython-input-1-910c5e98d89f>\u001b[0m in \u001b[0;36m<module>\u001b[0;34m()\u001b[0m\n\u001b[1;32m     27\u001b[0m   \u001b[0mprint\u001b[0m\u001b[0;34m(\u001b[0m\u001b[0;34m\"{branch}\\t{directory}\"\u001b[0m\u001b[0;34m.\u001b[0m\u001b[0mformat\u001b[0m\u001b[0;34m(\u001b[0m\u001b[0mbranch\u001b[0m\u001b[0;34m=\u001b[0m\u001b[0mbname\u001b[0m\u001b[0;34m,\u001b[0m \u001b[0mdirectory\u001b[0m\u001b[0;34m=\u001b[0m\u001b[0mos\u001b[0m\u001b[0;34m.\u001b[0m\u001b[0mgetcwd\u001b[0m\u001b[0;34m(\u001b[0m\u001b[0;34m)\u001b[0m\u001b[0;34m)\u001b[0m\u001b[0;34m)\u001b[0m\u001b[0;34m\u001b[0m\u001b[0;34m\u001b[0m\u001b[0m\n\u001b[1;32m     28\u001b[0m \u001b[0;34m\u001b[0m\u001b[0m\n\u001b[0;32m---> 29\u001b[0;31m \u001b[0mclone\u001b[0m\u001b[0;34m(\u001b[0m\u001b[0mURL\u001b[0m\u001b[0;34m)\u001b[0m\u001b[0;34m\u001b[0m\u001b[0;34m\u001b[0m\u001b[0m\n\u001b[0m\u001b[1;32m     30\u001b[0m \u001b[0mget_ipython\u001b[0m\u001b[0;34m(\u001b[0m\u001b[0;34m)\u001b[0m\u001b[0;34m.\u001b[0m\u001b[0mmagic\u001b[0m\u001b[0;34m(\u001b[0m\u001b[0;34m'run .Importable.ipynb'\u001b[0m\u001b[0;34m)\u001b[0m\u001b[0;34m\u001b[0m\u001b[0;34m\u001b[0m\u001b[0m\n",
            "\u001b[0;31mNameError\u001b[0m: name 'URL' is not defined"
          ]
        }
      ]
    },
    {
      "metadata": {
        "id": "fRrOetKsg-RC",
        "colab_type": "text"
      },
      "cell_type": "markdown",
      "source": [
        "# Import libraries"
      ]
    },
    {
      "metadata": {
        "id": "XfwrINzwdmkn",
        "colab_type": "code",
        "outputId": "18ecfab0-0587-4c57-850b-95c13a595bd0",
        "colab": {
          "base_uri": "https://localhost:8080/",
          "height": 51
        }
      },
      "cell_type": "code",
      "source": [
        "from Packages import Files, Git"
      ],
      "execution_count": 2,
      "outputs": [
        {
          "output_type": "stream",
          "text": [
            "importing Jupyter notebook from /content/UCSanDiegoX---Machine-Learning-Fundamentals-03-Jan-2019-audit/Packages/Files.ipynb\n",
            "importing Jupyter notebook from /content/UCSanDiegoX---Machine-Learning-Fundamentals-03-Jan-2019-audit/Packages/Git.ipynb\n"
          ],
          "name": "stdout"
        }
      ]
    },
    {
      "metadata": {
        "colab_type": "text",
        "id": "5sl8tFrDP67Z"
      },
      "cell_type": "markdown",
      "source": [
        "# Download"
      ]
    },
    {
      "metadata": {
        "id": "ORA_qxjTnZKg",
        "colab_type": "text"
      },
      "cell_type": "markdown",
      "source": [
        "## Week 02 Generative Modeling I"
      ]
    },
    {
      "metadata": {
        "id": "4gWwsdjJnpok",
        "colab_type": "code",
        "outputId": "08ba39f4-0093-47d6-8993-68d045a0878b",
        "colab": {
          "base_uri": "https://localhost:8080/",
          "height": 170
        }
      },
      "cell_type": "code",
      "source": [
        "urls = {\"winery-univariate.zip\": \"https://prod-edxapp.edx-cdn.org/assets/courseware/v1/73b15fa99e20c9f31078477dff6d80ed/asset-v1:UCSanDiegoX+DSE220x+1T2019+type@asset+block/winery-univariate.zip\",\n",
        "        \"bivariate-gaussian.zip\": \"https://prod-edxapp.edx-cdn.org/assets/courseware/v1/d20aeb6c06e8c9e13b4dc421d10fcaa9/asset-v1:UCSanDiegoX+DSE220x+1T2019+type@asset+block/bivariate-gaussian.zip\",\n",
        "        \"winery-bivariate.zip\": \"https://prod-edxapp.edx-cdn.org/assets/courseware/v1/52ab054400e0d083f5eded4e6df44a98/asset-v1:UCSanDiegoX+DSE220x+1T2019+type@asset+block/winery-bivariate.zip\"}\n",
        "dest = \"Week 02 Generative Modeling I\"\n",
        "Files.runzip(urls[\"winery-univariate.zip\"], dest)"
      ],
      "execution_count": 0,
      "outputs": [
        {
          "output_type": "stream",
          "text": [
            "Week 02 Generative Modeling I/winery-univariate/wine.names.txt already exists\n",
            "Week 02 Generative Modeling I/winery-univariate/wine.data.txt already exists\n",
            "Week 02 Generative Modeling I/winery-univariate/winery-classification-univariate.ipynb already exists\n",
            "Week 02 Generative Modeling I/winery-univariate/histogram.png already exists\n"
          ],
          "name": "stdout"
        },
        {
          "output_type": "execute_result",
          "data": {
            "text/plain": [
              "['/content/UCSanDiegoX---Machine-Learning-Fundamentals-03-Jan-2019-audit/Week 02 Generative Modeling I/winery-univariate/wine.names.txt',\n",
              " '/content/UCSanDiegoX---Machine-Learning-Fundamentals-03-Jan-2019-audit/Week 02 Generative Modeling I/winery-univariate/wine.data.txt',\n",
              " '/content/UCSanDiegoX---Machine-Learning-Fundamentals-03-Jan-2019-audit/Week 02 Generative Modeling I/winery-univariate/winery-classification-univariate.ipynb',\n",
              " '/content/UCSanDiegoX---Machine-Learning-Fundamentals-03-Jan-2019-audit/Week 02 Generative Modeling I/winery-univariate/.ipynb_checkpoints/winery-classification-univariate-checkpoint.ipynb',\n",
              " '/content/UCSanDiegoX---Machine-Learning-Fundamentals-03-Jan-2019-audit/Week 02 Generative Modeling I/winery-univariate/histogram.png']"
            ]
          },
          "metadata": {
            "tags": []
          },
          "execution_count": 3
        }
      ]
    },
    {
      "metadata": {
        "id": "gsgplmgmm7Qw",
        "colab_type": "text"
      },
      "cell_type": "markdown",
      "source": [
        "## Week 03 Generative Modeling II"
      ]
    },
    {
      "metadata": {
        "id": "UAUcjVhEm7kT",
        "colab_type": "code",
        "colab": {}
      },
      "cell_type": "code",
      "source": [
        "urls = "
      ],
      "execution_count": 0,
      "outputs": []
    },
    {
      "metadata": {
        "id": "7ILM4JyuLzue",
        "colab_type": "text"
      },
      "cell_type": "markdown",
      "source": [
        "# Push local repository"
      ]
    },
    {
      "metadata": {
        "id": "RqifDMhBglwC",
        "colab_type": "code",
        "colab": {}
      },
      "cell_type": "code",
      "source": [
        ""
      ],
      "execution_count": 0,
      "outputs": []
    }
  ]
}
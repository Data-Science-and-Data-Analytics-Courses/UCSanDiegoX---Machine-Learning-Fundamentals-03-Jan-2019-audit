{
  "nbformat": 4,
  "nbformat_minor": 0,
  "metadata": {
    "colab": {
      "name": "Download Course Materials.ipynb",
      "version": "0.3.2",
      "provenance": [],
      "include_colab_link": true
    },
    "kernelspec": {
      "name": "python3",
      "display_name": "Python 3"
    },
    "accelerator": "GPU"
  },
  "cells": [
    {
      "cell_type": "markdown",
      "metadata": {
        "id": "view-in-github",
        "colab_type": "text"
      },
      "source": [
        "<a href=\"https://colab.research.google.com/github/Data-Science-and-Data-Analytics-Courses/UCSanDiegoX---Machine-Learning-Fundamentals-03-Jan-2019-audit/blob/master/Download%20Course%20Materials.ipynb\" target=\"_parent\"><img src=\"https://colab.research.google.com/assets/colab-badge.svg\" alt=\"Open In Colab\"/></a>"
      ]
    },
    {
      "metadata": {
        "colab_type": "code",
        "id": "sHEYjnwrrCnz",
        "colab": {}
      },
      "cell_type": "code",
      "source": [
        "URL = \"https://github.com/Data-Science-and-Data-Analytics-Courses/UCSanDiegoX---Machine-Learning-Fundamentals-03-Jan-2019-audit\""
      ],
      "execution_count": 0,
      "outputs": []
    },
    {
      "metadata": {
        "colab_type": "text",
        "id": "UdDQ4H0VmPpJ"
      },
      "cell_type": "markdown",
      "source": [
        "# Clone remote repository"
      ]
    },
    {
      "metadata": {
        "colab_type": "code",
        "id": "cXqTKogHXEr9",
        "colab": {
          "base_uri": "https://localhost:8080/",
          "height": 170
        },
        "outputId": "1b524bbe-6c95-446c-cac8-614272b2cbbf"
      },
      "cell_type": "code",
      "source": [
        "import os\n",
        "\n",
        "def clone(url, dpath=\".\", branch=\"master\"):\n",
        "  \"\"\"\n",
        "  Clone remote branch from url into dpath\n",
        "  branch not provided: clone all branches\n",
        "  \"\"\"\n",
        "\n",
        "  url = url.strip(\"/\")\n",
        "  rname = os.path.basename(url)\n",
        "  rpath = os.path.join(dpath, rname)\n",
        "\n",
        "  # Raise error if dpath inside existing repository\n",
        "  is_out = !git -C \"$dpath\" rev-parse\n",
        "  if not is_out: # inside repository\n",
        "    raise ValueError(\"Can't clone into existing repository\")\n",
        "  \n",
        "  # Clone specific branch\n",
        "  if branch:\n",
        "    !git clone --single-branch --branch \"$branch\" \"$url\" \"$rpath\"\n",
        "  # Clone all branches\n",
        "  else:\n",
        "    !git clone \"$url\" \"$rpath\"\n",
        "  os.chdir(rpath)\n",
        "  \n",
        "  bname = !git rev-parse --abbrev-ref HEAD\n",
        "  print(\"Current\")\n",
        "  print(\"{branch}\\t{directory}\".format(branch=bname, directory=os.getcwd()))\n",
        "  \n",
        "clone(URL)"
      ],
      "execution_count": 3,
      "outputs": [
        {
          "output_type": "stream",
          "text": [
            "Cloning into './UCSanDiegoX---Machine-Learning-Fundamentals-03-Jan-2019-audit'...\n",
            "remote: Enumerating objects: 94, done.\u001b[K\n",
            "remote: Counting objects:   1% (1/94)   \u001b[K\rremote: Counting objects:   2% (2/94)   \u001b[K\rremote: Counting objects:   3% (3/94)   \u001b[K\rremote: Counting objects:   4% (4/94)   \u001b[K\rremote: Counting objects:   5% (5/94)   \u001b[K\rremote: Counting objects:   6% (6/94)   \u001b[K\rremote: Counting objects:   7% (7/94)   \u001b[K\rremote: Counting objects:   8% (8/94)   \u001b[K\rremote: Counting objects:   9% (9/94)   \u001b[K\rremote: Counting objects:  10% (10/94)   \u001b[K\rremote: Counting objects:  11% (11/94)   \u001b[K\rremote: Counting objects:  12% (12/94)   \u001b[K\rremote: Counting objects:  13% (13/94)   \u001b[K\rremote: Counting objects:  14% (14/94)   \u001b[K\rremote: Counting objects:  15% (15/94)   \u001b[K\rremote: Counting objects:  17% (16/94)   \u001b[K\rremote: Counting objects:  18% (17/94)   \u001b[K\rremote: Counting objects:  19% (18/94)   \u001b[K\rremote: Counting objects:  20% (19/94)   \u001b[K\rremote: Counting objects:  21% (20/94)   \u001b[K\rremote: Counting objects:  22% (21/94)   \u001b[K\rremote: Counting objects:  23% (22/94)   \u001b[K\rremote: Counting objects:  24% (23/94)   \u001b[K\rremote: Counting objects:  25% (24/94)   \u001b[K\rremote: Counting objects:  26% (25/94)   \u001b[K\rremote: Counting objects:  27% (26/94)   \u001b[K\rremote: Counting objects:  28% (27/94)   \u001b[K\rremote: Counting objects:  29% (28/94)   \u001b[K\rremote: Counting objects:  30% (29/94)   \u001b[K\rremote: Counting objects:  31% (30/94)   \u001b[K\rremote: Counting objects:  32% (31/94)   \u001b[K\rremote: Counting objects:  34% (32/94)   \u001b[K\rremote: Counting objects:  35% (33/94)   \u001b[K\rremote: Counting objects:  36% (34/94)   \u001b[K\rremote: Counting objects:  37% (35/94)   \u001b[K\rremote: Counting objects:  38% (36/94)   \u001b[K\rremote: Counting objects:  39% (37/94)   \u001b[K\rremote: Counting objects:  40% (38/94)   \u001b[K\rremote: Counting objects:  41% (39/94)   \u001b[K\rremote: Counting objects:  42% (40/94)   \u001b[K\rremote: Counting objects:  43% (41/94)   \u001b[K\rremote: Counting objects:  44% (42/94)   \u001b[K\rremote: Counting objects:  45% (43/94)   \u001b[K\rremote: Counting objects:  46% (44/94)   \u001b[K\rremote: Counting objects:  47% (45/94)   \u001b[K\rremote: Counting objects:  48% (46/94)   \u001b[K\rremote: Counting objects:  50% (47/94)   \u001b[K\rremote: Counting objects:  51% (48/94)   \u001b[K\rremote: Counting objects:  52% (49/94)   \u001b[K\rremote: Counting objects:  53% (50/94)   \u001b[K\rremote: Counting objects:  54% (51/94)   \u001b[K\rremote: Counting objects:  55% (52/94)   \u001b[K\rremote: Counting objects:  56% (53/94)   \u001b[K\rremote: Counting objects:  57% (54/94)   \u001b[K\rremote: Counting objects:  58% (55/94)   \u001b[K\rremote: Counting objects:  59% (56/94)   \u001b[K\rremote: Counting objects:  60% (57/94)   \u001b[K\rremote: Counting objects:  61% (58/94)   \u001b[K\rremote: Counting objects:  62% (59/94)   \u001b[K\rremote: Counting objects:  63% (60/94)   \u001b[K\rremote: Counting objects:  64% (61/94)   \u001b[K\rremote: Counting objects:  65% (62/94)   \u001b[K\rremote: Counting objects:  67% (63/94)   \u001b[K\rremote: Counting objects:  68% (64/94)   \u001b[K\rremote: Counting objects:  69% (65/94)   \u001b[K\rremote: Counting objects:  70% (66/94)   \u001b[K\rremote: Counting objects:  71% (67/94)   \u001b[K\rremote: Counting objects:  72% (68/94)   \u001b[K\rremote: Counting objects:  73% (69/94)   \u001b[K\rremote: Counting objects:  74% (70/94)   \u001b[K\rremote: Counting objects:  75% (71/94)   \u001b[K\rremote: Counting objects:  76% (72/94)   \u001b[K\rremote: Counting objects:  77% (73/94)   \u001b[K\rremote: Counting objects:  78% (74/94)   \u001b[K\rremote: Counting objects:  79% (75/94)   \u001b[K\rremote: Counting objects:  80% (76/94)   \u001b[K\rremote: Counting objects:  81% (77/94)   \u001b[K\rremote: Counting objects:  82% (78/94)   \u001b[K\rremote: Counting objects:  84% (79/94)   \u001b[K\rremote: Counting objects:  85% (80/94)   \u001b[K\rremote: Counting objects:  86% (81/94)   \u001b[K\rremote: Counting objects:  87% (82/94)   \u001b[K\rremote: Counting objects:  88% (83/94)   \u001b[K\rremote: Counting objects:  89% (84/94)   \u001b[K\rremote: Counting objects:  90% (85/94)   \u001b[K\rremote: Counting objects:  91% (86/94)   \u001b[K\rremote: Counting objects:  92% (87/94)   \u001b[K\rremote: Counting objects:  93% (88/94)   \u001b[K\rremote: Counting objects:  94% (89/94)   \u001b[K\rremote: Counting objects:  95% (90/94)   \u001b[K\rremote: Counting objects:  96% (91/94)   \u001b[K\rremote: Counting objects:  97% (92/94)   \u001b[K\rremote: Counting objects:  98% (93/94)   \u001b[K\rremote: Counting objects: 100% (94/94)   \u001b[K\rremote: Counting objects: 100% (94/94), done.\u001b[K\n",
            "remote: Compressing objects: 100% (88/88), done.\u001b[K\n",
            "remote: Total 205 (delta 40), reused 6 (delta 1), pack-reused 111\u001b[K\n",
            "Receiving objects: 100% (205/205), 2.15 MiB | 7.73 MiB/s, done.\n",
            "Resolving deltas: 100% (75/75), done.\n",
            "Current\n",
            "['master']\t/content/UCSanDiegoX---Machine-Learning-Fundamentals-03-Jan-2019-audit\n"
          ],
          "name": "stdout"
        }
      ]
    },
    {
      "metadata": {
        "id": "XfwrINzwdmkn",
        "colab_type": "code",
        "colab": {
          "base_uri": "https://localhost:8080/",
          "height": 34
        },
        "outputId": "c7271512-b225-4e6e-de4a-b6968f8e31a3"
      },
      "cell_type": "code",
      "source": [
        "%run Packages/Importable.ipynb\n",
        "from Packages import Git\n",
        "from Packages import Files\n"
      ],
      "execution_count": 8,
      "outputs": [
        {
          "output_type": "stream",
          "text": [
            "importing Jupyter notebook from /content/UCSanDiegoX---Machine-Learning-Fundamentals-03-Jan-2019-audit/Packages/Files.ipynb\n"
          ],
          "name": "stdout"
        }
      ]
    },
    {
      "metadata": {
        "colab_type": "text",
        "id": "5sl8tFrDP67Z"
      },
      "cell_type": "markdown",
      "source": [
        "# Download course materials to GitHub repository"
      ]
    },
    {
      "metadata": {
        "id": "ORA_qxjTnZKg",
        "colab_type": "text"
      },
      "cell_type": "markdown",
      "source": [
        "## Week 02 Generative Modeling I"
      ]
    },
    {
      "metadata": {
        "id": "4gWwsdjJnpok",
        "colab_type": "code",
        "outputId": "2e451382-d9d1-4033-b2bf-612bfe281708",
        "colab": {
          "base_uri": "https://localhost:8080/",
          "height": 170
        }
      },
      "cell_type": "code",
      "source": [
        "urls = {\"winery-univariate.zip\": \"https://prod-edxapp.edx-cdn.org/assets/courseware/v1/73b15fa99e20c9f31078477dff6d80ed/asset-v1:UCSanDiegoX+DSE220x+1T2019+type@asset+block/winery-univariate.zip\",\n",
        "        \"bivariate-gaussian.zip\": \"https://prod-edxapp.edx-cdn.org/assets/courseware/v1/d20aeb6c06e8c9e13b4dc421d10fcaa9/asset-v1:UCSanDiegoX+DSE220x+1T2019+type@asset+block/bivariate-gaussian.zip\",\n",
        "        \"winery-bivariate.zip\": \"https://prod-edxapp.edx-cdn.org/assets/courseware/v1/52ab054400e0d083f5eded4e6df44a98/asset-v1:UCSanDiegoX+DSE220x+1T2019+type@asset+block/winery-bivariate.zip\"}\n",
        "dpath = \"Week 02 Generative Modeling I\"\n",
        "Files.runzip(urls[\"winery-univariate.zip\"], dpath)"
      ],
      "execution_count": 10,
      "outputs": [
        {
          "output_type": "stream",
          "text": [
            "Week 02 Generative Modeling I/winery-univariate/wine.names.txt already exists\n",
            "Week 02 Generative Modeling I/winery-univariate/wine.data.txt already exists\n",
            "Week 02 Generative Modeling I/winery-univariate/winery-classification-univariate.ipynb already exists\n",
            "Week 02 Generative Modeling I/winery-univariate/histogram.png already exists\n"
          ],
          "name": "stdout"
        },
        {
          "output_type": "execute_result",
          "data": {
            "text/plain": [
              "['/content/UCSanDiegoX---Machine-Learning-Fundamentals-03-Jan-2019-audit/Week 02 Generative Modeling I/winery-univariate/wine.names.txt',\n",
              " '/content/UCSanDiegoX---Machine-Learning-Fundamentals-03-Jan-2019-audit/Week 02 Generative Modeling I/winery-univariate/wine.data.txt',\n",
              " '/content/UCSanDiegoX---Machine-Learning-Fundamentals-03-Jan-2019-audit/Week 02 Generative Modeling I/winery-univariate/winery-classification-univariate.ipynb',\n",
              " '/content/UCSanDiegoX---Machine-Learning-Fundamentals-03-Jan-2019-audit/Week 02 Generative Modeling I/winery-univariate/.ipynb_checkpoints/winery-classification-univariate-checkpoint.ipynb',\n",
              " '/content/UCSanDiegoX---Machine-Learning-Fundamentals-03-Jan-2019-audit/Week 02 Generative Modeling I/winery-univariate/histogram.png']"
            ]
          },
          "metadata": {
            "tags": []
          },
          "execution_count": 10
        }
      ]
    },
    {
      "metadata": {
        "id": "7ILM4JyuLzue",
        "colab_type": "text"
      },
      "cell_type": "markdown",
      "source": [
        "# Push local repository"
      ]
    },
    {
      "metadata": {
        "id": "HbjnNchnK1js",
        "colab_type": "code",
        "colab": {}
      },
      "cell_type": "code",
      "source": [
        "from google.colab import files\n",
        "import json\n",
        "from urllib.parse import urlsplit\n",
        "\n",
        "def push(url, branch=\"master\"):\n",
        "  \"\"\"\n",
        "  Push branch to url\n",
        "  User provides .json file containing account information\n",
        "  .json file: {\"username\": <username>, \"email\": <email>, \"password\": <password>, \"name\": <display name>}\n",
        "  branch not provided: push all branches\n",
        "  \"\"\"\n",
        "  \n",
        "  # Obtain account information\n",
        "  uploaded = files.upload() # upload .json file\n",
        "  [fpath] = [*uploaded] # key of dict uploaded is filepath\n",
        "  with open(fpath) as f:\n",
        "    account = json.load(f)\n",
        "  !rm \"$fpath\" # remove .json file\n",
        "  account.setdefault(\"name\", account[\"username\"]) # name defaults to username if not provided\n",
        "  \n",
        "  # Construct push-authorized url by adding username and password to repository url\n",
        "  r = urlsplit(url)\n",
        "  r_auth = r._replace(netloc=\"{username}:{password}@{hostname}\".format(username=account[\"username\"], password=account[\"password\"], hostname=r.hostname))\n",
        "  url_auth = r_auth.geturl()\n",
        "\n",
        "  # Set up git\n",
        "  name, email = account[\"name\"], account[\"email\"]\n",
        "  !git config --global user.name \"$name\"\n",
        "  !git config --global user.email \"$email\"\n",
        "  !git remote add origin_auth \"$url_auth\"\n",
        "  \n",
        "  # Push\n",
        "  if branch:\n",
        "    input(\"Press Enter to push {}...\".format(branch))\n",
        "    !git push origin_auth \"$branch\"\n",
        "  else:\n",
        "    input(\"Press Enter to push all branches...\")\n",
        "    !git push --all origin_auth"
      ],
      "execution_count": 0,
      "outputs": []
    }
  ]
}
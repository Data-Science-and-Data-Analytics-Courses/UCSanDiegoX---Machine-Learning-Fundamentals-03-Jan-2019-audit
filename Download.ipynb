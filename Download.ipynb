{
  "nbformat": 4,
  "nbformat_minor": 0,
  "metadata": {
    "colab": {
      "name": "Download Course Materials.ipynb",
      "version": "0.3.2",
      "provenance": [],
      "include_colab_link": true
    },
    "kernelspec": {
      "name": "python3",
      "display_name": "Python 3"
    },
    "accelerator": "GPU"
  },
  "cells": [
    {
      "cell_type": "markdown",
      "metadata": {
        "id": "view-in-github",
        "colab_type": "text"
      },
      "source": [
        "<a href=\"https://colab.research.google.com/github/Data-Science-and-Data-Analytics-Courses/UCSanDiegoX---Machine-Learning-Fundamentals-03-Jan-2019-audit/blob/master/Download.ipynb\" target=\"_parent\"><img src=\"https://colab.research.google.com/assets/colab-badge.svg\" alt=\"Open In Colab\"/></a>"
      ]
    },
    {
      "metadata": {
        "colab_type": "code",
        "id": "sHEYjnwrrCnz",
        "colab": {}
      },
      "cell_type": "code",
      "source": [
        "URL = \"https://github.com/Data-Science-and-Data-Analytics-Courses/UCSanDiegoX---Machine-Learning-Fundamentals-03-Jan-2019-audit\""
      ],
      "execution_count": 0,
      "outputs": []
    },
    {
      "metadata": {
        "colab_type": "text",
        "id": "UdDQ4H0VmPpJ"
      },
      "cell_type": "markdown",
      "source": [
        "# Clone GitHub remote repository to Google Colaboratory (run the following code cell one time only)"
      ]
    },
    {
      "metadata": {
        "colab_type": "code",
        "outputId": "b839f8d7-3595-46bb-e42b-9a72bdb2f897",
        "id": "rXWdsuRWmPaT",
        "colab": {
          "base_uri": "https://localhost:8080/",
          "height": 153
        }
      },
      "cell_type": "code",
      "source": [
        "import os\n",
        "\n",
        "def clone(url, dpath=\".\", branch=\"master\"):\n",
        "  \"\"\"\n",
        "  Clone remote branch(es) from url into dpath\n",
        "  branch: name of branch to clone ('None' will clone all branches)\n",
        "  \"\"\"\n",
        "  \n",
        "  url = url.strip(\"/\")\n",
        "  repo_name = os.path.basename(url)\n",
        "  os.chdir(dpath)\n",
        "  \n",
        "  # Clone specific branch\n",
        "  if branch:\n",
        "    !git clone --single-branch --branch \"$branch\" \"$url\"\n",
        "  # Clone all branches\n",
        "  else:\n",
        "    !git clone \"$url\"\n",
        "    !git branch\n",
        "    print(\"Use !git checkout <branchname> to switch to desired branch\")\n",
        "  os.chdir(repo_name)\n",
        "\n",
        "  print(\"Current directory: {}\". format(os.getcwd()))\n",
        "\n",
        "clone(URL)"
      ],
      "execution_count": 6,
      "outputs": [
        {
          "output_type": "stream",
          "text": [
            "Cloning into 'UCSanDiegoX---Machine-Learning-Fundamentals-03-Jan-2019-audit'...\n",
            "remote: Enumerating objects: 30, done.\u001b[K\n",
            "remote: Counting objects: 100% (30/30), done.\u001b[K\n",
            "remote: Compressing objects: 100% (30/30), done.\u001b[K\n",
            "remote: Total 141 (delta 15), reused 0 (delta 0), pack-reused 111\u001b[K\n",
            "Receiving objects: 100% (141/141), 2.13 MiB | 8.31 MiB/s, done.\n",
            "Resolving deltas: 100% (50/50), done.\n",
            "Current directory: /content/UCSanDiegoX---Machine-Learning-Fundamentals-03-Jan-2019-audit\n"
          ],
          "name": "stdout"
        }
      ]
    },
    {
      "metadata": {
        "colab_type": "text",
        "id": "5sl8tFrDP67Z"
      },
      "cell_type": "markdown",
      "source": [
        "# Download course materials to GitHub repository"
      ]
    },
    {
      "metadata": {
        "colab_type": "code",
        "id": "NIddGGQAP669",
        "colab": {}
      },
      "cell_type": "code",
      "source": [
        "import os\n",
        "import requests, zipfile, io\n",
        "from IPython.display import display\n",
        "\n",
        "def rextract_zip(url, dpath=\".\", fnames=None, peek=False, force=False):\n",
        "  \"\"\"\n",
        "  Retrieve zip file from url and extract fnames to dpath\n",
        "  peek is True: show files before extracting\n",
        "  force is True: overwrite existing files\n",
        "  \"\"\"\n",
        "  \n",
        "  # Retrieve url\n",
        "  r = requests.get(url)\n",
        "  z = zipfile.ZipFile(io.BytesIO(r.content))\n",
        "    \n",
        "  # Files to extract\n",
        "  if not fnames:\n",
        "    fpaths = z.namelist()\n",
        "  else:\n",
        "    fpaths = [p for p in z.namelist() if os.path.basename(p) in fnames]\n",
        "    \n",
        "  # Extract files\n",
        "  if peek:\n",
        "    display(\"Extract files\", fpaths, \"to {}\".format(dpath))\n",
        "    input(\"Press Enter to continue...\")\n",
        "  for p in fpaths:\n",
        "    # Extract file if not exist or in 'force' mode\n",
        "    if not os.path.exists(os.path.join(dpath, p)) or force:\n",
        "      z.extract(p, dpath)\n",
        "    else:\n",
        "      print(\"{} already exists\".format(p))\n",
        "    \n",
        "  return [os.path.join(dpath, fpath) for fpath in fpaths] # paths to extracted files\n"
      ],
      "execution_count": 0,
      "outputs": []
    },
    {
      "metadata": {
        "id": "ORA_qxjTnZKg",
        "colab_type": "text"
      },
      "cell_type": "markdown",
      "source": [
        "## Week 02 Generative Modeling I"
      ]
    },
    {
      "metadata": {
        "id": "4gWwsdjJnpok",
        "colab_type": "code",
        "outputId": "42981973-5bb8-4a01-bc16-e622abf81f1a",
        "colab": {
          "base_uri": "https://localhost:8080/",
          "height": 51
        }
      },
      "cell_type": "code",
      "source": [
        "dirpath = \"Week 02 Generative Modeling I\"\n",
        "url = \"https://prod-edxapp.edx-cdn.org/assets/courseware/v1/73b15fa99e20c9f31078477dff6d80ed/asset-v1:UCSanDiegoX+DSE220x+1T2019+type@asset+block/winery-univariate.zip\"\n",
        "rextract_zip(url, dirpath)\n",
        "url = \"https://prod-edxapp.edx-cdn.org/assets/courseware/v1/d20aeb6c06e8c9e13b4dc421d10fcaa9/asset-v1:UCSanDiegoX+DSE220x+1T2019+type@asset+block/bivariate-gaussian.zip\"\n",
        "rextract_zip(url, dirpath)\n",
        "url = \"https://prod-edxapp.edx-cdn.org/assets/courseware/v1/52ab054400e0d083f5eded4e6df44a98/asset-v1:UCSanDiegoX+DSE220x+1T2019+type@asset+block/winery-bivariate.zip\"\n",
        "rextract_zip(url, dirpath)\n"
      ],
      "execution_count": 0,
      "outputs": [
        {
          "output_type": "stream",
          "text": [
            "bivariate-gaussian/Bivariate_Gaussian.ipynb already exists\n"
          ],
          "name": "stdout"
        },
        {
          "output_type": "execute_result",
          "data": {
            "text/plain": [
              "['Week 02 Generative Modeling I/bivariate-gaussian/Bivariate_Gaussian.ipynb']"
            ]
          },
          "metadata": {
            "tags": []
          },
          "execution_count": 5
        }
      ]
    }
  ]
}
{
  "nbformat": 4,
  "nbformat_minor": 0,
  "metadata": {
    "colab": {
      "name": "Download Course Materials.ipynb",
      "version": "0.3.2",
      "provenance": []
    },
    "kernelspec": {
      "name": "python3",
      "display_name": "Python 3"
    },
    "accelerator": "GPU"
  },
  "cells": [
    {
      "metadata": {
        "colab_type": "text",
        "id": "5sl8tFrDP67Z"
      },
      "cell_type": "markdown",
      "source": [
        "# Download course materials to GitHub repository"
      ]
    },
    {
      "metadata": {
        "colab_type": "code",
        "id": "NIddGGQAP669",
        "colab": {}
      },
      "cell_type": "code",
      "source": [
        "import os\n",
        "import requests, zipfile, io\n",
        "from IPython.display import display\n",
        "\n",
        "def rextract_zip(url, dpath=\".\", fnames=None, peek=False, force=False):\n",
        "  \"\"\"\n",
        "  Retrieve zip file from url and extract fnames to dpath\n",
        "  peek is True: show files before extracting\n",
        "  force is True: overwrite existing files\n",
        "  \"\"\"\n",
        "  \n",
        "  # Retrieve url\n",
        "  r = requests.get(url)\n",
        "  z = zipfile.ZipFile(io.BytesIO(r.content))\n",
        "    \n",
        "  # Files to extract\n",
        "  if not fnames:\n",
        "    fpaths = z.namelist()\n",
        "  else:\n",
        "    fpaths = [p for p in z.namelist() if os.path.basename(p) in fnames]\n",
        "    \n",
        "  # Extract files\n",
        "  if peek:\n",
        "    display(\"Extract files\", fpaths, \"to {}\".format(dpath))\n",
        "    input(\"Press Enter to continue...\")\n",
        "  for p in fpaths:\n",
        "    # Extract file if not exist or in 'force' mode\n",
        "    if not os.path.exists(os.path.join(dpath, p)) or force:\n",
        "      z.extract(p, dpath)\n",
        "    else:\n",
        "      print(\"{} already exists\".format(p))\n",
        "    \n",
        "  return [os.path.join(dpath, fpath) for fpath in fpaths] # paths to extracted files\n"
      ],
      "execution_count": 0,
      "outputs": []
    },
    {
      "metadata": {
        "id": "ORA_qxjTnZKg",
        "colab_type": "text"
      },
      "cell_type": "markdown",
      "source": [
        "## Week 02 Generative Modeling I"
      ]
    },
    {
      "metadata": {
        "id": "4gWwsdjJnpok",
        "colab_type": "code",
        "outputId": "42981973-5bb8-4a01-bc16-e622abf81f1a",
        "colab": {
          "base_uri": "https://localhost:8080/",
          "height": 51
        }
      },
      "cell_type": "code",
      "source": [
        "dirpath = \"Week 02 Generative Modeling I\"\n",
        "url = \"https://prod-edxapp.edx-cdn.org/assets/courseware/v1/73b15fa99e20c9f31078477dff6d80ed/asset-v1:UCSanDiegoX+DSE220x+1T2019+type@asset+block/winery-univariate.zip\"\n",
        "rextract_zip(url, dirpath)\n",
        "url = \"https://prod-edxapp.edx-cdn.org/assets/courseware/v1/d20aeb6c06e8c9e13b4dc421d10fcaa9/asset-v1:UCSanDiegoX+DSE220x+1T2019+type@asset+block/bivariate-gaussian.zip\"\n",
        "rextract_zip(url, dirpath)\n",
        "url = \"https://prod-edxapp.edx-cdn.org/assets/courseware/v1/52ab054400e0d083f5eded4e6df44a98/asset-v1:UCSanDiegoX+DSE220x+1T2019+type@asset+block/winery-bivariate.zip\"\n",
        "rextract_zip(url, dirpath)\n"
      ],
      "execution_count": 0,
      "outputs": [
        {
          "output_type": "stream",
          "text": [
            "bivariate-gaussian/Bivariate_Gaussian.ipynb already exists\n"
          ],
          "name": "stdout"
        },
        {
          "output_type": "execute_result",
          "data": {
            "text/plain": [
              "['Week 02 Generative Modeling I/bivariate-gaussian/Bivariate_Gaussian.ipynb']"
            ]
          },
          "metadata": {
            "tags": []
          },
          "execution_count": 5
        }
      ]
    }
  ]
}

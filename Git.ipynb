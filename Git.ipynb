{
  "nbformat": 4,
  "nbformat_minor": 0,
  "metadata": {
    "colab": {
      "name": "Clone and Push GitHub Repository.ipynb",
      "version": "0.3.2",
      "provenance": [],
      "collapsed_sections": []
    },
    "kernelspec": {
      "name": "python3",
      "display_name": "Python 3"
    },
    "accelerator": "GPU"
  },
  "cells": [
    {
      "metadata": {
        "colab_type": "text",
        "id": "UdDQ4H0VmPpJ"
      },
      "cell_type": "markdown",
      "source": [
        "# Clone GitHub remote repository to Google Colaboratory (run the following code cell one time only)"
      ]
    },
    {
      "metadata": {
        "colab_type": "code",
        "outputId": "b8aca16a-d58e-4ccd-9fee-aefac6875a51",
        "id": "rXWdsuRWmPaT",
        "colab": {
          "base_uri": "https://localhost:8080/",
          "height": 153
        }
      },
      "cell_type": "code",
      "source": [
        "import os\n",
        "\n",
        "def clone(url, dpath=\".\", branch=\"master\"):\n",
        "  \"\"\"\n",
        "  Clone remote branch(es) from url into dpath\n",
        "  branch: name of branch to clone ('None' will clone all branches)\n",
        "  \"\"\"\n",
        "  \n",
        "  url = url.strip(\"/\")\n",
        "  repo_name = os.path.basename(url)\n",
        "  os.chdir(dpath)\n",
        "  \n",
        "  # Clone specific branch\n",
        "  if branch:\n",
        "    !git clone --single-branch --branch \"$branch\" \"$url\"\n",
        "  # Clone all branches\n",
        "  else:\n",
        "    !git clone \"$url\"\n",
        "    !git branch\n",
        "    print(\"Use !git checkout <branchname> to switch to desired branch\")\n",
        "  os.chdir(repo_name)\n",
        "\n",
        "  print(\"Current directory: {}\". format(os.getcwd()))"
      ],
      "execution_count": 1,
      "outputs": [
        {
          "output_type": "stream",
          "text": [
            "Cloning into 'UCSanDiegoX---Machine-Learning-Fundamentals-03-Jan-2019-audit'...\n",
            "remote: Enumerating objects: 111, done.\u001b[K\n",
            "remote: Counting objects: 100% (111/111), done.\u001b[K\n",
            "remote: Compressing objects: 100% (100/100), done.\u001b[K\n",
            "remote: Total 111 (delta 35), reused 0 (delta 0), pack-reused 0\u001b[K\n",
            "Receiving objects: 100% (111/111), 2.11 MiB | 2.13 MiB/s, done.\n",
            "Resolving deltas: 100% (35/35), done.\n",
            "Current directory: /content/UCSanDiegoX---Machine-Learning-Fundamentals-03-Jan-2019-audit\n"
          ],
          "name": "stdout"
        }
      ]
    },
    {
      "metadata": {
        "id": "7ILM4JyuLzue",
        "colab_type": "text"
      },
      "cell_type": "markdown",
      "source": [
        "# Push local repository (in Google Colaboratory) to GitHub remote repository"
      ]
    },
    {
      "metadata": {
        "id": "HbjnNchnK1js",
        "colab_type": "code",
        "colab": {}
      },
      "cell_type": "code",
      "source": [
        "from google.colab import files\n",
        "import json\n",
        "from urllib.parse import urlsplit\n",
        "\n",
        "def push(url, branch=\"master\"):\n",
        "  \"\"\"\n",
        "  Push local branch(es) to repository url\n",
        "  User provides .json file containing account information\n",
        "  Text in .json file: {\"username\": <username>, \"email\": <email>, \"password\": <password>, \"name\": <display name>}\n",
        "  If name not provided, defaults to username\n",
        "  branch: name of branch to push ('None' will push all branches)\n",
        "  \"\"\"\n",
        "  \n",
        "  # Obtain account information\n",
        "  uploaded = files.upload() # upload .json file\n",
        "  [fpath] = [*uploaded] # key of dict uploaded is filepath\n",
        "  with open(fpath) as f:\n",
        "    account = json.load(f)\n",
        "  !rm \"$fpath\" # remove .json file\n",
        "  account.setdefault(\"name\", account[\"username\"]) # name defaults to username if not provided\n",
        "  \n",
        "  # Construct push-authorized url by adding username and password to repository url\n",
        "  r = urlsplit(url)\n",
        "  r_auth = r._replace(netloc=\"{username}:{password}@{hostname}\".format(username=account[\"username\"], password=account[\"password\"], hostname=r.hostname))\n",
        "  url_auth = r_auth.geturl()\n",
        "\n",
        "  # Set up git\n",
        "  name, email = account[\"name\"], account[\"email\"]\n",
        "  !git config --global user.name \"$name\"\n",
        "  !git config --global user.email \"$email\"\n",
        "  !git remote add origin_auth \"$url_auth\"\n",
        "  \n",
        "  # Push\n",
        "  if branch:\n",
        "    input(\"Press Enter to push {}...\".format(branch))\n",
        "    !git push origin_auth \"$branch\"\n",
        "  else:\n",
        "    input(\"Press Enter to push all branches...\")\n",
        "    !git push --all origin_auth"
      ],
      "execution_count": 0,
      "outputs": []
    }
  ]
}

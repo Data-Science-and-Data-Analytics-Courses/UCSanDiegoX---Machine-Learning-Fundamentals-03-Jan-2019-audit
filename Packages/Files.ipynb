{
  "nbformat": 4,
  "nbformat_minor": 0,
  "metadata": {
    "colab": {
      "name": "Files.ipynb",
      "version": "0.3.2",
      "provenance": [],
      "collapsed_sections": [],
      "include_colab_link": true
    },
    "kernelspec": {
      "name": "python3",
      "display_name": "Python 3"
    },
    "accelerator": "GPU"
  },
  "cells": [
    {
      "cell_type": "markdown",
      "metadata": {
        "id": "view-in-github",
        "colab_type": "text"
      },
      "source": [
        "<a href=\"https://colab.research.google.com/github/Data-Science-and-Data-Analytics-Courses/UCSanDiegoX---Machine-Learning-Fundamentals-03-Jan-2019-audit/blob/master/Packages/Files.ipynb\" target=\"_parent\"><img src=\"https://colab.research.google.com/assets/colab-badge.svg\" alt=\"Open In Colab\"/></a>"
      ]
    },
    {
      "metadata": {
        "id": "pXAKkY_Vubc0",
        "colab_type": "code",
        "colab": {}
      },
      "cell_type": "code",
      "source": [
        "import os\n",
        "from contextlib import contextmanager\n",
        "import requests\n",
        "from urllib.parse import urlsplit\n",
        "from pathlib import Path\n",
        "from fnmatch import fnmatch, filter as fnfilter\n",
        "import io\n",
        "import tarfile, gzip, zipfile\n",
        "import numpy as np\n",
        "from IPython.display import display"
      ],
      "execution_count": 0,
      "outputs": []
    },
    {
      "metadata": {
        "id": "osMcZSh39vdj",
        "colab_type": "text"
      },
      "cell_type": "markdown",
      "source": [
        "# General"
      ]
    },
    {
      "metadata": {
        "id": "PcpGrDig9wjt",
        "colab_type": "code",
        "outputId": "b68d6975-72e5-4393-c784-43533581c8b9",
        "colab": {
          "base_uri": "https://localhost:8080/",
          "height": 55
        }
      },
      "cell_type": "code",
      "source": [
        "def download(url, dest=\".\", name=\"\", force=False, options=\"-#\"):\n",
        "  \"\"\"\n",
        "  Download url into dest\n",
        "  name: if provided, rename downloaded\n",
        "  force: if True, overwrite existing resource\n",
        "  options: supported by curl (https://curl.haxx.se/docs/manpage.html)\n",
        "  \"\"\"\n",
        "  \n",
        "  rurl = urlsplit(url)\n",
        "  dest = Path(dest).resolve()\n",
        "  downloaded = dest / (name or Path(rurl.path).name)\n",
        "  \n",
        "  # Download\n",
        "  if not downloaded.exists() or force:\n",
        "    !curl $options --create-dirs \"{rurl.geturl()}\" -o \"{downloaded}\"\n",
        "  else:\n",
        "    print(f\"{downloaded} already exists\")\n",
        "\n",
        "  return downloaded\n",
        "\n",
        "if __name__ == \"__main__\":\n",
        "  url=\"http://yann.lecun.com/exdb/mnist/train-images-idx3-ubyte.gz\"\n",
        "  download(url)"
      ],
      "execution_count": 0,
      "outputs": [
        {
          "output_type": "stream",
          "text": [
            "/content/train-images-idx3-ubyte.gz already exists\n"
          ],
          "name": "stdout"
        }
      ]
    },
    {
      "metadata": {
        "id": "3vLsk6H0-gch",
        "colab_type": "text"
      },
      "cell_type": "markdown",
      "source": [
        "# Tar"
      ]
    },
    {
      "metadata": {
        "id": "W7hGyOJKWGaY",
        "colab_type": "code",
        "colab": {}
      },
      "cell_type": "code",
      "source": [
        "@contextmanager\n",
        "def readtar(fpath, pattern=\"*.*\", mode=\"r\", peek=False):\n",
        "  \"\"\"\n",
        "  Read pattern in fpath\n",
        "  mode: supported by tarfile.open (https://docs.python.org/3/library/tarfile.html#tarfile.open)\n",
        "  peek: if True, show matches before reading\n",
        "  \"\"\"\n",
        "\n",
        "  t = tarfile.open(fpath, mode=mode)\n",
        "  try:\n",
        "    matches = fnfilter(t.getnames(), pattern)\n",
        "    if peek:\n",
        "      display(\"Read\", matches)\n",
        "      input(\"Press Enter to continue...\")\n",
        "    yield map(t.extractfile, matches)\n",
        "  finally:\n",
        "    t.close()"
      ],
      "execution_count": 0,
      "outputs": []
    },
    {
      "metadata": {
        "id": "7o6C_GbA-hJi",
        "colab_type": "code",
        "outputId": "bcdacd33-40bd-40f5-88c0-836aa2c959ef",
        "colab": {
          "base_uri": "https://localhost:8080/",
          "height": 328
        }
      },
      "cell_type": "code",
      "source": [
        "def runtar(url, dest=\".\", mode=\"r\", peek=False):\n",
        "  \"\"\"\n",
        "  Retrieve url and untar into dest\n",
        "  mode: supported by tarfile.open (https://docs.python.org/3/library/tarfile.html#tarfile.open)\n",
        "  peek: if True, show members before extraction\n",
        "  \"\"\"\n",
        "\n",
        "  rurl = urlsplit(url)\n",
        "  dest = Path(dest).resolve()\n",
        "\n",
        "  # Retrieve\n",
        "  r = requests.get(url)\n",
        "  t = tarfile.open(fileobj=io.BytesIO(r.content), mode=mode)\n",
        "\n",
        "  # Members\n",
        "  members = t.getnames()\n",
        "  if peek:\n",
        "    display(\"Extract\", members)\n",
        "    dest = Path(input(f\"into {dest} (or specify): \") or dest)\n",
        "  \n",
        "  # Extract\n",
        "  extracted = list(map(dest.joinpath, members))\n",
        "  t.extractall(dest)\n",
        "\n",
        "  return extracted\n",
        "\n",
        "if __name__ == \"__main__\":\n",
        "  url = \"https://cvml.ist.ac.at/AwA/AwA-base.tar.bz2\"\n",
        "  runtar(url, mode=\"r:bz2\", peek=True)"
      ],
      "execution_count": 0,
      "outputs": [
        {
          "output_type": "display_data",
          "data": {
            "text/plain": [
              "'Extract'"
            ]
          },
          "metadata": {
            "tags": []
          }
        },
        {
          "output_type": "display_data",
          "data": {
            "text/plain": [
              "['Animals_with_Attributes/README-attributes.txt',\n",
              " 'Animals_with_Attributes/Features/README-features.txt',\n",
              " 'Animals_with_Attributes/classes.txt',\n",
              " 'Animals_with_Attributes/predicates.txt',\n",
              " 'Animals_with_Attributes/testclasses.txt',\n",
              " 'Animals_with_Attributes/trainclasses.txt',\n",
              " 'Animals_with_Attributes/predicate-matrix-binary.txt',\n",
              " 'Animals_with_Attributes/predicate-matrix-continuous.txt',\n",
              " 'Animals_with_Attributes/predicate-matrix.png',\n",
              " 'Animals_with_Attributes/lampert-cvpr2009.pdf']"
            ]
          },
          "metadata": {
            "tags": []
          }
        },
        {
          "output_type": "stream",
          "text": [
            "into /content (or specify): \n"
          ],
          "name": "stdout"
        }
      ]
    },
    {
      "metadata": {
        "id": "rwnDMgV1uWWw",
        "colab_type": "text"
      },
      "cell_type": "markdown",
      "source": [
        "# Zip"
      ]
    },
    {
      "metadata": {
        "colab_type": "code",
        "id": "NIddGGQAP669",
        "outputId": "98db8387-e31e-4a81-cdf2-db9efca203d5",
        "colab": {
          "base_uri": "https://localhost:8080/",
          "height": 1124
        }
      },
      "cell_type": "code",
      "source": [
        "def runzip(url, dest=\".\", patterns=None, top=True, force=False, peek=False):\n",
        "  \"\"\"\n",
        "  Retrieve url and unzip patterns into dest\n",
        "  top: if True, create top directory if not exist\n",
        "  force: if True, overwrite existing members\n",
        "  peek: if True, show members before extraction\n",
        "  \"\"\"\n",
        "  \n",
        "  rurl = urlsplit(url)\n",
        "  dest = Path(dest).resolve()\n",
        "\n",
        "  # Retrieve url\n",
        "  r = requests.get(url)\n",
        "  z = zipfile.ZipFile(io.BytesIO(r.content))\n",
        "\n",
        "  # Members\n",
        "  members = np.array(z.namelist())\n",
        "  items = np.vectorize(Path)(members) # Path objects\n",
        "  extract = members\n",
        "\n",
        "  # Top directory\n",
        "  vtop = np.vectorize(lambda m: m.parts[0]) # get top directory of member\n",
        "  if top and len(np.unique(vtop(items)))>=2:\n",
        "    dest = dest / Path(rurl.path).stem # filename without .zip\n",
        "\n",
        "  # Matches\n",
        "  if patterns:\n",
        "    vmatch = np.vectorize(lambda m: any(map(m.match, patterns))) # match member against patterns\n",
        "    extract = members[vmatch(items)]\n",
        "  \n",
        "  # Existing members\n",
        "  if not force:\n",
        "    vnot_exist = np.vectorize(lambda m: (dest/m).exists())\n",
        "    extract = \n",
        "    \n",
        "  \n",
        "\n",
        "  # Show members\n",
        "  if peek:\n",
        "    display(\"Extract\", extract, f\"into {dest}\")\n",
        "    input(\"Press Enter to continue...\")\n",
        "  \n",
        "  # Extract\n",
        "  extracted = np.vectorize(dest.joinpath)(matches)\n",
        "  for m, e in zip(matches, extracted):\n",
        "    if not e.exists() or force:\n",
        "      z.extract(m, dest)\n",
        "    else:\n",
        "      print(f\"{e} already exists\")\n",
        "  \n",
        "  return extracted # paths to extracted/existing\n",
        "\n",
        "if __name__ == \"__main__\":\n",
        "  url = \"https://prod-edxapp.edx-cdn.org/assets/courseware/v1/e7b080a506546a859b50d03f9d0705f5/asset-v1:UCSanDiegoX+DSE220x+1T2019+type@asset+block/DSE220x_PA7.zip\"\n",
        "  runzip(url, peek=True)"
      ],
      "execution_count": 0,
      "outputs": [
        {
          "output_type": "display_data",
          "data": {
            "text/plain": [
              "'Extract'"
            ]
          },
          "metadata": {
            "tags": []
          }
        },
        {
          "output_type": "display_data",
          "data": {
            "text/plain": [
              "array(['DSE220x_PA7/', 'DSE220x_PA7/kernel_SVM_and_Perceptron.ipynb',\n",
              "       '__MACOSX/', '__MACOSX/DSE220x_PA7/',\n",
              "       '__MACOSX/DSE220x_PA7/._kernel_SVM_and_Perceptron.ipynb',\n",
              "       'DSE220x_PA7/_nbgrader.log',\n",
              "       '__MACOSX/DSE220x_PA7/.__nbgrader.log',\n",
              "       'DSE220x_PA7/.ipynb_checkpoints/',\n",
              "       'DSE220x_PA7/.ipynb_checkpoints/kernel_SVM_and_Perceptron-checkpoint.ipynb',\n",
              "       '__MACOSX/DSE220x_PA7/.ipynb_checkpoints/',\n",
              "       '__MACOSX/DSE220x_PA7/.ipynb_checkpoints/._kernel_SVM_and_Perceptron-checkpoint.ipynb',\n",
              "       '__MACOSX/DSE220x_PA7/._.ipynb_checkpoints',\n",
              "       'DSE220x_PA7/data1.txt', '__MACOSX/DSE220x_PA7/._data1.txt',\n",
              "       'DSE220x_PA7/data3.txt', '__MACOSX/DSE220x_PA7/._data3.txt',\n",
              "       'DSE220x_PA7/data2.txt', '__MACOSX/DSE220x_PA7/._data2.txt',\n",
              "       'DSE220x_PA7/data5.txt', '__MACOSX/DSE220x_PA7/._data5.txt',\n",
              "       'DSE220x_PA7/data4.txt', '__MACOSX/DSE220x_PA7/._data4.txt',\n",
              "       '__MACOSX/._DSE220x_PA7'], dtype='<U84')"
            ]
          },
          "metadata": {
            "tags": []
          }
        },
        {
          "output_type": "stream",
          "text": [
            "into /content/DSE220x_PA7 (or specify): \n",
            "/content/DSE220x_PA7/DSE220x_PA7 already exists\n",
            "/content/DSE220x_PA7/DSE220x_PA7/kernel_SVM_and_Perceptron.ipynb already exists\n",
            "/content/DSE220x_PA7/__MACOSX already exists\n",
            "/content/DSE220x_PA7/__MACOSX/DSE220x_PA7 already exists\n",
            "/content/DSE220x_PA7/__MACOSX/DSE220x_PA7/._kernel_SVM_and_Perceptron.ipynb already exists\n",
            "/content/DSE220x_PA7/DSE220x_PA7/_nbgrader.log already exists\n",
            "/content/DSE220x_PA7/__MACOSX/DSE220x_PA7/.__nbgrader.log already exists\n",
            "/content/DSE220x_PA7/DSE220x_PA7/.ipynb_checkpoints already exists\n",
            "/content/DSE220x_PA7/DSE220x_PA7/.ipynb_checkpoints/kernel_SVM_and_Perceptron-checkpoint.ipynb already exists\n",
            "/content/DSE220x_PA7/__MACOSX/DSE220x_PA7/.ipynb_checkpoints already exists\n",
            "/content/DSE220x_PA7/__MACOSX/DSE220x_PA7/.ipynb_checkpoints/._kernel_SVM_and_Perceptron-checkpoint.ipynb already exists\n",
            "/content/DSE220x_PA7/__MACOSX/DSE220x_PA7/._.ipynb_checkpoints already exists\n",
            "/content/DSE220x_PA7/DSE220x_PA7/data1.txt already exists\n",
            "/content/DSE220x_PA7/__MACOSX/DSE220x_PA7/._data1.txt already exists\n",
            "/content/DSE220x_PA7/DSE220x_PA7/data3.txt already exists\n",
            "/content/DSE220x_PA7/__MACOSX/DSE220x_PA7/._data3.txt already exists\n",
            "/content/DSE220x_PA7/DSE220x_PA7/data2.txt already exists\n",
            "/content/DSE220x_PA7/__MACOSX/DSE220x_PA7/._data2.txt already exists\n",
            "/content/DSE220x_PA7/DSE220x_PA7/data5.txt already exists\n",
            "/content/DSE220x_PA7/__MACOSX/DSE220x_PA7/._data5.txt already exists\n",
            "/content/DSE220x_PA7/DSE220x_PA7/data4.txt already exists\n",
            "/content/DSE220x_PA7/__MACOSX/DSE220x_PA7/._data4.txt already exists\n",
            "/content/DSE220x_PA7/__MACOSX/._DSE220x_PA7 already exists\n"
          ],
          "name": "stdout"
        }
      ]
    },
    {
      "metadata": {
        "id": "erue5bVtQjy7",
        "colab_type": "code",
        "outputId": "dd97ceab-fbf4-4155-f993-fe0e098f30a2",
        "colab": {
          "base_uri": "https://localhost:8080/",
          "height": 34
        }
      },
      "cell_type": "code",
      "source": [
        "Path(\"/content\").exists()"
      ],
      "execution_count": 6,
      "outputs": [
        {
          "output_type": "execute_result",
          "data": {
            "text/plain": [
              "True"
            ]
          },
          "metadata": {
            "tags": []
          },
          "execution_count": 6
        }
      ]
    }
  ]
}
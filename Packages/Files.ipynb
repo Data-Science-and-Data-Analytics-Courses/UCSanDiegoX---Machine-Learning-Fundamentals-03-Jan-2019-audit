{
  "nbformat": 4,
  "nbformat_minor": 0,
  "metadata": {
    "colab": {
      "name": "Files.ipynb",
      "version": "0.3.2",
      "provenance": [],
      "collapsed_sections": [],
      "include_colab_link": true
    },
    "kernelspec": {
      "name": "python3",
      "display_name": "Python 3"
    },
    "accelerator": "GPU"
  },
  "cells": [
    {
      "cell_type": "markdown",
      "metadata": {
        "id": "view-in-github",
        "colab_type": "text"
      },
      "source": [
        "<a href=\"https://colab.research.google.com/github/Data-Science-and-Data-Analytics-Courses/UCSanDiegoX---Machine-Learning-Fundamentals-03-Jan-2019-audit/blob/master/Packages/Files.ipynb\" target=\"_parent\"><img src=\"https://colab.research.google.com/assets/colab-badge.svg\" alt=\"Open In Colab\"/></a>"
      ]
    },
    {
      "metadata": {
        "id": "pXAKkY_Vubc0",
        "colab_type": "code",
        "colab": {}
      },
      "cell_type": "code",
      "source": [
        "import os\n",
        "import requests\n",
        "from pathlib import Path\n",
        "import io\n",
        "import tarfile, gzip, zipfile\n",
        "from IPython.display import display"
      ],
      "execution_count": 0,
      "outputs": []
    },
    {
      "metadata": {
        "id": "osMcZSh39vdj",
        "colab_type": "text"
      },
      "cell_type": "markdown",
      "source": [
        "# General"
      ]
    },
    {
      "metadata": {
        "id": "PcpGrDig9wjt",
        "colab_type": "code",
        "outputId": "06bcf1e7-1954-456a-ec3e-4b4860c5a9d3",
        "colab": {
          "base_uri": "https://localhost:8080/",
          "height": 51
        }
      },
      "cell_type": "code",
      "source": [
        "def download(url, dest=\".\", name=\"\", force=False, options=\"-#\"):\n",
        "  \"\"\"\n",
        "  Download url into dest\n",
        "  name not provided: downloaded will be named as in url\n",
        "  force is True: overwrite existing resource\n",
        "  options: string representing options supported by curl (https://curl.haxx.se/docs/manpage.html)\n",
        "  \"\"\"\n",
        "  \n",
        "  url = url.strip(\" /\")\n",
        "  \n",
        "  # Path to downloaded\n",
        "  if not name:\n",
        "    name = os.path.basename(url)\n",
        "  downloaded = Path(dest, name).resolve()\n",
        "  \n",
        "  # Download\n",
        "  if not downloaded.exists() or force:\n",
        "    p = downloaded.as_posix()\n",
        "    !curl $options \"$url\" -o \"$p\"\n",
        "  else:\n",
        "    print(\"{} already exists\".format(downloaded))\n",
        "\n",
        "  return downloaded.as_posix()\n",
        "\n",
        "if __name__ == \"__main__\":\n",
        "  url=\"http://yann.lecun.com/exdb/mnist/train-images-idx3-ubyte.gz\"\n",
        "  download(url)"
      ],
      "execution_count": 0,
      "outputs": [
        {
          "output_type": "stream",
          "text": [
            "train-images-idx3-ubyte.gz already exists\n"
          ],
          "name": "stdout"
        },
        {
          "output_type": "execute_result",
          "data": {
            "text/plain": [
              "'train-images-idx3-ubyte.gz'"
            ]
          },
          "metadata": {
            "tags": []
          },
          "execution_count": 28
        }
      ]
    },
    {
      "metadata": {
        "id": "rwnDMgV1uWWw",
        "colab_type": "text"
      },
      "cell_type": "markdown",
      "source": [
        "# Zip"
      ]
    },
    {
      "metadata": {
        "colab_type": "code",
        "id": "NIddGGQAP669",
        "outputId": "dd9cafee-024a-466f-e92d-7b7d94b5e015",
        "colab": {
          "base_uri": "https://localhost:8080/",
          "height": 221
        }
      },
      "cell_type": "code",
      "source": [
        "def runzip(url, dest=\".\", top=True, names=None, peek=False, force=False):\n",
        "  \"\"\"\n",
        "  Retrieve url and unzip names into dest\n",
        "  top is True: create top directory if not exist\n",
        "  peek is True: show members before extraction\n",
        "  force is True: overwrite existing members\n",
        "  \"\"\"\n",
        "  \n",
        "  url.strip(\" /\")\n",
        "  dest = Path(dest).resolve()\n",
        "\n",
        "  # Retrieve url\n",
        "  r = requests.get(url)\n",
        "  z = zipfile.ZipFile(io.BytesIO(r.content))\n",
        "    \n",
        "  # Members to extract\n",
        "  members = z.namelist()\n",
        "  if names:\n",
        "    members = [m for m in members if any(map(Path(m).match, names))]\n",
        "  \n",
        "  # Top directory\n",
        "  tops = (Path(m).parts[0] for m in members) # tops of directory tree\n",
        "  if top and len(set(tops))>=2:\n",
        "    name = Path(url).stem # filename without .zip\n",
        "    dest = dest.joinpath(name)\n",
        "\n",
        "  # Show members\n",
        "  if peek:\n",
        "    display(\"Extract\", members)\n",
        "    dest = Path(input(\"into {} (or specify): \".format(dest))) or dest\n",
        "  \n",
        "  # Extract\n",
        "  extracted = list(map(dest.joinpath, members))\n",
        "  for m, e in zip(members, extracted):\n",
        "    if not e.exists() or force:\n",
        "      z.extract(m, dest.as_posix())\n",
        "    else:\n",
        "      print(\"{} already exists\".format(e))\n",
        "    \n",
        "  return list(map(Path.as_posix, extracted)) # paths to extracted/existing\n",
        "\n",
        "if __name__ == \"__main__\":\n",
        "  url = \"https://prod-edxapp.edx-cdn.org/assets/courseware/v1/e7b080a506546a859b50d03f9d0705f5/asset-v1:UCSanDiegoX+DSE220x+1T2019+type@asset+block/DSE220x_PA7.zip\"\n",
        "  runzip(url, peek=True)"
      ],
      "execution_count": 3,
      "outputs": [
        {
          "output_type": "display_data",
          "data": {
            "text/plain": [
              "'Extract'"
            ]
          },
          "metadata": {
            "tags": []
          }
        },
        {
          "output_type": "display_data",
          "data": {
            "text/plain": [
              "['winery-univariate/wine.names.txt',\n",
              " 'winery-univariate/wine.data.txt',\n",
              " 'winery-univariate/winery-classification-univariate.ipynb',\n",
              " 'winery-univariate/.ipynb_checkpoints/winery-classification-univariate-checkpoint.ipynb',\n",
              " 'winery-univariate/histogram.png']"
            ]
          },
          "metadata": {
            "tags": []
          }
        },
        {
          "output_type": "stream",
          "text": [
            "into /content (or specify): \n"
          ],
          "name": "stdout"
        }
      ]
    }
  ]
}

{
  "nbformat": 4,
  "nbformat_minor": 0,
  "metadata": {
    "colab": {
      "name": "Files.ipynb",
      "version": "0.3.2",
      "provenance": [],
      "collapsed_sections": [],
      "include_colab_link": true
    },
    "kernelspec": {
      "name": "python3",
      "display_name": "Python 3"
    },
    "accelerator": "GPU"
  },
  "cells": [
    {
      "cell_type": "markdown",
      "metadata": {
        "id": "view-in-github",
        "colab_type": "text"
      },
      "source": [
        "<a href=\"https://colab.research.google.com/github/Data-Science-and-Data-Analytics-Courses/UCSanDiegoX---Machine-Learning-Fundamentals-03-Jan-2019-audit/blob/master/Packages/Files.ipynb\" target=\"_parent\"><img src=\"https://colab.research.google.com/assets/colab-badge.svg\" alt=\"Open In Colab\"/></a>"
      ]
    },
    {
      "metadata": {
        "id": "pXAKkY_Vubc0",
        "colab_type": "code",
        "colab": {}
      },
      "cell_type": "code",
      "source": [
        "import os\n",
        "import requests\n",
        "from pathlib import Path\n",
        "import io\n",
        "import tarfile, gzip, zipfile\n",
        "from IPython.display import display"
      ],
      "execution_count": 0,
      "outputs": []
    },
    {
      "metadata": {
        "id": "osMcZSh39vdj",
        "colab_type": "text"
      },
      "cell_type": "markdown",
      "source": [
        "# General"
      ]
    },
    {
      "metadata": {
        "id": "PcpGrDig9wjt",
        "colab_type": "code",
        "outputId": "06bcf1e7-1954-456a-ec3e-4b4860c5a9d3",
        "colab": {
          "base_uri": "https://localhost:8080/",
          "height": 51
        }
      },
      "cell_type": "code",
      "source": [
        "def download(url, dest=\".\", name=\"\", force=False, options=\"-#\"):\n",
        "  \"\"\"\n",
        "  Download url into dest\n",
        "  name not provided: downloaded will be named as in url\n",
        "  force is True: overwrite existing resource\n",
        "  options: string representing options supported by curl (https://curl.haxx.se/docs/manpage.html)\n",
        "  \"\"\"\n",
        "  \n",
        "  url = url.strip(\" /\")\n",
        "  \n",
        "  # Path to downloaded\n",
        "  if not name:\n",
        "    name = os.path.basename(url)\n",
        "  path_ = Path(dest, name)\n",
        "  \n",
        "  # Download\n",
        "  if not path_.exists() or force:\n",
        "    p = path_.as_posix()\n",
        "    !curl $options \"$url\" -o \"$p\"\n",
        "  else:\n",
        "    print(\"{} already exists\".format(path_))\n",
        "\n",
        "  return path_.resolve().as_posix()\n",
        "\n",
        "if __name__ == \"__main__\":\n",
        "  url=\"http://yann.lecun.com/exdb/mnist/train-images-idx3-ubyte.gz\"\n",
        "  download(url)"
      ],
      "execution_count": 0,
      "outputs": [
        {
          "output_type": "stream",
          "text": [
            "train-images-idx3-ubyte.gz already exists\n"
          ],
          "name": "stdout"
        },
        {
          "output_type": "execute_result",
          "data": {
            "text/plain": [
              "'train-images-idx3-ubyte.gz'"
            ]
          },
          "metadata": {
            "tags": []
          },
          "execution_count": 28
        }
      ]
    },
    {
      "metadata": {
        "id": "rwnDMgV1uWWw",
        "colab_type": "text"
      },
      "cell_type": "markdown",
      "source": [
        "# Zip"
      ]
    },
    {
      "metadata": {
        "colab_type": "code",
        "id": "NIddGGQAP669",
        "colab": {}
      },
      "cell_type": "code",
      "source": [
        "def runzip(url, dest=\".\", names=None, peek=False, force=False):\n",
        "  \"\"\"\n",
        "  Retrieve url and unzip names into dest\n",
        "  peek is True: show members before extraction\n",
        "  force is True: overwrite existing members\n",
        "  \"\"\"\n",
        "\n",
        "  # Retrieve url\n",
        "  r = requests.get(url)\n",
        "  z = zipfile.ZipFile(io.BytesIO(r.content))\n",
        "    \n",
        "  # Members to extract\n",
        "  if not names:\n",
        "    members = z.namelist()\n",
        "  else:\n",
        "    members = [p for p in z.namelist() if os.path.basename(p) in names]\n",
        "  \n",
        "  # Show members\n",
        "  if peek:\n",
        "    display(\"Extract\", members)\n",
        "    dest = input(\"Into {} (or specify other directory):\".format(dest)) or dest\n",
        "  \n",
        "  # Extract\n",
        "  paths = []\n",
        "  for m in members:\n",
        "    p = Path(dest, m)\n",
        "    if not p.exists() or force:\n",
        "      z.extract(m, dest)\n",
        "    else:\n",
        "      print(\"{} already exists\".format(p))\n",
        "    paths.append(p.resolve().as_posix())\n",
        "    \n",
        "  return paths # paths to extracted/existing\n",
        "\n",
        "if __name__ == \"__main__\":\n",
        "  url = \"https://prod-edxapp.edx-cdn.org/assets/courseware/v1/73b15fa99e20c9f31078477dff6d80ed/asset-v1:UCSanDiegoX+DSE220x+1T2019+type@asset+block/winery-univariate.zip\"\n",
        "  runzip(url, peek=True)"
      ],
      "execution_count": 0,
      "outputs": []
    }
  ]
}
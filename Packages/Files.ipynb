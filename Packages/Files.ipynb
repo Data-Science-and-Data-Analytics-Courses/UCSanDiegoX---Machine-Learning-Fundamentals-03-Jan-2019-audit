{
  "nbformat": 4,
  "nbformat_minor": 0,
  "metadata": {
    "colab": {
      "name": "Files.ipynb",
      "version": "0.3.2",
      "provenance": [],
      "collapsed_sections": [],
      "include_colab_link": true
    },
    "kernelspec": {
      "name": "python3",
      "display_name": "Python 3"
    },
    "accelerator": "GPU"
  },
  "cells": [
    {
      "cell_type": "markdown",
      "metadata": {
        "id": "view-in-github",
        "colab_type": "text"
      },
      "source": [
        "<a href=\"https://colab.research.google.com/github/Data-Science-and-Data-Analytics-Courses/UCSanDiegoX---Machine-Learning-Fundamentals-03-Jan-2019-audit/blob/master/Packages/Files.ipynb\" target=\"_parent\"><img src=\"https://colab.research.google.com/assets/colab-badge.svg\" alt=\"Open In Colab\"/></a>"
      ]
    },
    {
      "metadata": {
        "id": "pXAKkY_Vubc0",
        "colab_type": "code",
        "colab": {}
      },
      "cell_type": "code",
      "source": [
        "import os\n",
        "import requests, tarfile, zipfile, io\n",
        "from IPython.display import display"
      ],
      "execution_count": 0,
      "outputs": []
    },
    {
      "metadata": {
        "id": "osMcZSh39vdj",
        "colab_type": "text"
      },
      "cell_type": "markdown",
      "source": [
        "# Tar"
      ]
    },
    {
      "metadata": {
        "id": "PcpGrDig9wjt",
        "colab_type": "code",
        "colab": {}
      },
      "cell_type": "code",
      "source": [
        "def runtar()"
      ],
      "execution_count": 0,
      "outputs": []
    },
    {
      "metadata": {
        "id": "rwnDMgV1uWWw",
        "colab_type": "text"
      },
      "cell_type": "markdown",
      "source": [
        "# Zip"
      ]
    },
    {
      "metadata": {
        "colab_type": "code",
        "id": "NIddGGQAP669",
        "colab": {}
      },
      "cell_type": "code",
      "source": [
        "def runzip(url, dest=\".\", names=None, peek=False, force=False):\n",
        "  \"\"\"\n",
        "  Retrieve file from url and unzip names into dest\n",
        "  peek is True: show members before extracting\n",
        "  force is True: overwrite existing files/directories\n",
        "  \"\"\"\n",
        "  \n",
        "  # Retrieve url\n",
        "  r = requests.get(url)\n",
        "  z = zipfile.ZipFile(io.BytesIO(r.content))\n",
        "    \n",
        "  # Members to extract\n",
        "  if not names:\n",
        "    members = z.namelist()\n",
        "  else:\n",
        "    members = [p for p in z.namelist() if os.path.basename(p) in names]\n",
        "  if peek: # show members\n",
        "    display(\"Extract\", members)\n",
        "    dparh = input(\"Into {} (or specify other directory):\".format(dest)) or dest\n",
        "  \n",
        "  # Extract if not exist or in force mode\n",
        "  paths = []\n",
        "  for m in members:\n",
        "    p = os.path.join(dest, m)\n",
        "    if not os.path.exists(p) or force:\n",
        "      z.extract(m, dest)\n",
        "    else:\n",
        "      print(\"{} already exists\".format(p))\n",
        "    paths.append(os.path.abspath(p))\n",
        "    \n",
        "  return paths # paths to extracted/existing\n",
        "\n",
        "# url = \"https://prod-edxapp.edx-cdn.org/assets/courseware/v1/73b15fa99e20c9f31078477dff6d80ed/asset-v1:UCSanDiegoX+DSE220x+1T2019+type@asset+block/winery-univariate.zip\"\n",
        "# runzip(url, peek=True)"
      ],
      "execution_count": 0,
      "outputs": []
    }
  ]
}
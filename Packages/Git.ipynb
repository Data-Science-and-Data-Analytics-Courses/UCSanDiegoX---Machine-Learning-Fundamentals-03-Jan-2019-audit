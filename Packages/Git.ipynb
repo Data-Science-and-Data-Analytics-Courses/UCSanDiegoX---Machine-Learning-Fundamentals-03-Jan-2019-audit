{
  "nbformat": 4,
  "nbformat_minor": 0,
  "metadata": {
    "colab": {
      "name": "Git.ipynb",
      "version": "0.3.2",
      "provenance": [],
      "collapsed_sections": [],
      "include_colab_link": true
    },
    "kernelspec": {
      "name": "python3",
      "display_name": "Python 3"
    },
    "accelerator": "GPU"
  },
  "cells": [
    {
      "cell_type": "markdown",
      "metadata": {
        "id": "view-in-github",
        "colab_type": "text"
      },
      "source": [
        "<a href=\"https://colab.research.google.com/github/Data-Science-and-Data-Analytics-Courses/UCSanDiegoX---Machine-Learning-Fundamentals-03-Jan-2019-audit/blob/master/Packages/Git.ipynb\" target=\"_parent\"><img src=\"https://colab.research.google.com/assets/colab-badge.svg\" alt=\"Open In Colab\"/></a>"
      ]
    },
    {
      "metadata": {
        "colab_type": "text",
        "id": "UdDQ4H0VmPpJ"
      },
      "cell_type": "markdown",
      "source": [
        "# Clone"
      ]
    },
    {
      "metadata": {
        "colab_type": "code",
        "id": "cXqTKogHXEr9",
        "colab": {
          "base_uri": "https://localhost:8080/",
          "height": 170
        },
        "outputId": "961734a4-b8bc-4520-8615-d2c65afa923e"
      },
      "cell_type": "code",
      "source": [
        "import os\n",
        "\n",
        "def clone(url, dpath=\".\", branch=\"master\"):\n",
        "  \"\"\"\n",
        "  Clone remote branch from url into dpath\n",
        "  branch not provided: clone all branches\n",
        "  \"\"\"\n",
        "\n",
        "  url = url.strip(\"/\")\n",
        "  rname = os.path.basename(url)\n",
        "  rpath = os.path.join(dpath, rname)\n",
        "\n",
        "  # Raise error if dpath inside existing repository\n",
        "  is_out = !git -C \"$dpath\" rev-parse\n",
        "  if not is_out: # inside repository\n",
        "    raise ValueError(\"Can't clone into existing repository\")\n",
        "  \n",
        "  # Clone specific branch\n",
        "  if branch:\n",
        "    !git clone --single-branch --branch \"$branch\" \"$url\" \"$rpath\"\n",
        "  # Clone all branches\n",
        "  else:\n",
        "    !git clone \"$url\" \"$rpath\"\n",
        "  os.chdir(rpath)\n",
        "  \n",
        "  bname = !git rev-parse --abbrev-ref HEAD\n",
        "  print(\"Current\")\n",
        "  print(\"{branch}\\t{directory}\".format(branch=bname, directory=os.getcwd()))\n",
        "  \n",
        "# clone(\"https://github.com/Data-Science-and-Data-Analytics-Courses/UCSanDiegoX---Machine-Learning-Fundamentals-03-Jan-2019-audit\")"
      ],
      "execution_count": 1,
      "outputs": [
        {
          "output_type": "stream",
          "text": [
            "Cloning into './UCSanDiegoX---Machine-Learning-Fundamentals-03-Jan-2019-audit'...\n",
            "remote: Enumerating objects: 12, done.\u001b[K\n",
            "remote: Counting objects:   8% (1/12)   \u001b[K\rremote: Counting objects:  16% (2/12)   \u001b[K\rremote: Counting objects:  25% (3/12)   \u001b[K\rremote: Counting objects:  33% (4/12)   \u001b[K\rremote: Counting objects:  41% (5/12)   \u001b[K\rremote: Counting objects:  50% (6/12)   \u001b[K\rremote: Counting objects:  58% (7/12)   \u001b[K\rremote: Counting objects:  66% (8/12)   \u001b[K\rremote: Counting objects:  75% (9/12)   \u001b[K\rremote: Counting objects:  83% (10/12)   \u001b[K\rremote: Counting objects:  91% (11/12)   \u001b[K\rremote: Counting objects: 100% (12/12)   \u001b[K\rremote: Counting objects: 100% (12/12), done.\u001b[K\n",
            "remote: Compressing objects: 100% (12/12), done.\u001b[K\n",
            "remote: Total 259 (delta 4), reused 0 (delta 0), pack-reused 247\u001b[K\n",
            "Receiving objects: 100% (259/259), 2.51 MiB | 8.33 MiB/s, done.\n",
            "Resolving deltas: 100% (114/114), done.\n",
            "Current\n",
            "['master']\t/content/UCSanDiegoX---Machine-Learning-Fundamentals-03-Jan-2019-audit\n"
          ],
          "name": "stdout"
        }
      ]
    },
    {
      "metadata": {
        "id": "7ILM4JyuLzue",
        "colab_type": "text"
      },
      "cell_type": "markdown",
      "source": [
        "# Push"
      ]
    },
    {
      "metadata": {
        "id": "HbjnNchnK1js",
        "colab_type": "code",
        "outputId": "17d37db7-5a83-4a80-d88a-841bbaa7fbd0",
        "colab": {
          "base_uri": "https://localhost:8080/",
          "height": 51
        }
      },
      "cell_type": "code",
      "source": [
        "from google.colab import files\n",
        "import json\n",
        "from urllib.parse import urlsplit\n",
        "\n",
        "def push(url, branch=\"master\"):\n",
        "  \"\"\"\n",
        "  Push branch to url\n",
        "  User provides .json file containing text:\n",
        "  {\"username\": \"<username>\", \"email\": \"<email>\", \"password\": \"<password>\", \"name\": \"<display name>\"}\n",
        "  branch not provided: push all branches\n",
        "  \"\"\"\n",
        "  \n",
        "  # Obtain account information\n",
        "  uploaded = files.upload() # upload .json file\n",
        "  try:\n",
        "    [content] = uploaded.values() # bytestring in .json file\n",
        "    account = json.loads(content)\n",
        "  finally:\n",
        "    for p in uploaded: # remove uploaded\n",
        "      !rm \"$p\"\n",
        "  account.setdefault(\"name\", account[\"username\"]) # name defaults to username if not provided\n",
        "  \n",
        "  # Construct authorized url\n",
        "  r = urlsplit(url)\n",
        "  r_auth = r._replace(netloc=\"{username}:{password}@{hostname}\".format(username=account[\"username\"], password=account[\"password\"], hostname=r.hostname)) # add username and password to url\n",
        "  url_auth = r_auth.geturl()\n",
        "\n",
        "  # Configure git\n",
        "  name, email = account[\"name\"], account[\"email\"]\n",
        "  !git config --global user.name \"$name\"\n",
        "  !git config --global user.email \"$email\"\n",
        "  \n",
        "  # Push\n",
        "  if branch:\n",
        "    input(\"Press Enter to push {}...\".format(branch))\n",
        "    !git push \"$url_auth\" \"$branch\"\n",
        "  else:\n",
        "    input(\"Press Enter to push all branches...\")\n",
        "    !git push --all \"$url_auth\"\n",
        "\n",
        "# push(\"https://github.com/Data-Science-and-Data-Analytics-Courses/UCSanDiegoX---Machine-Learning-Fundamentals-03-Jan-2019-audit\")"
      ],
      "execution_count": 8,
      "outputs": [
        {
          "output_type": "stream",
          "text": [
            "origin\thttps://github.com/Data-Science-and-Data-Analytics-Courses/UCSanDiegoX---Machine-Learning-Fundamentals-03-Jan-2019-audit (fetch)\n",
            "origin\thttps://github.com/Data-Science-and-Data-Analytics-Courses/UCSanDiegoX---Machine-Learning-Fundamentals-03-Jan-2019-audit (push)\n"
          ],
          "name": "stdout"
        }
      ]
    }
  ]
}
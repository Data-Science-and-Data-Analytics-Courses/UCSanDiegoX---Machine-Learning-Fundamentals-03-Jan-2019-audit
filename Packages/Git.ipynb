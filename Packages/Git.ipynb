{
  "nbformat": 4,
  "nbformat_minor": 0,
  "metadata": {
    "colab": {
      "name": "Git.ipynb",
      "version": "0.3.2",
      "provenance": [],
      "collapsed_sections": [],
      "include_colab_link": true
    },
    "kernelspec": {
      "name": "python3",
      "display_name": "Python 3"
    },
    "accelerator": "GPU"
  },
  "cells": [
    {
      "cell_type": "markdown",
      "metadata": {
        "id": "view-in-github",
        "colab_type": "text"
      },
      "source": [
        "<a href=\"https://colab.research.google.com/github/Data-Science-and-Data-Analytics-Courses/UCSanDiegoX---Machine-Learning-Fundamentals-03-Jan-2019-audit/blob/master/Packages/Git.ipynb\" target=\"_parent\"><img src=\"https://colab.research.google.com/assets/colab-badge.svg\" alt=\"Open In Colab\"/></a>"
      ]
    },
    {
      "metadata": {
        "colab_type": "text",
        "id": "UdDQ4H0VmPpJ"
      },
      "cell_type": "markdown",
      "source": [
        "# Clone"
      ]
    },
    {
      "metadata": {
        "colab_type": "code",
        "id": "cXqTKogHXEr9",
        "colab": {}
      },
      "cell_type": "code",
      "source": [
        "import os\n",
        "\n",
        "def clone(url, dest=\".\", branch=\"master\"):\n",
        "  \"\"\"\n",
        "  Clone remote branch from url into dest\n",
        "  branch not provided: clone all branches\n",
        "  \"\"\"\n",
        "\n",
        "  url = url.strip(\"/\")\n",
        "  repo = os.path.join(dest, os.path.basename(url))\n",
        "\n",
        "  # Raise error if dest inside existing repository\n",
        "  is_out = !git -C \"$dest\" rev-parse\n",
        "  if not is_out: # inside repository\n",
        "    raise ValueError(\"Can't clone into existing repository\")\n",
        "  \n",
        "  # Clone specific branch\n",
        "  if branch:\n",
        "    !git clone --single-branch --branch \"$branch\" \"$url\" \"$repo\"\n",
        "  # Clone all branches\n",
        "  else:\n",
        "    !git clone \"$url\" \"$repo\"\n",
        "  os.chdir(repo)\n",
        "  \n",
        "  bname = !git rev-parse --abbrev-ref HEAD\n",
        "  print(\"Current\")\n",
        "  print(\"{branch}\\t{directory}\".format(branch=bname, directory=os.getcwd()))\n",
        "  \n",
        "# clone(\"https://github.com/Data-Science-and-Data-Analytics-Courses/UCSanDiegoX---Machine-Learning-Fundamentals-03-Jan-2019-audit\")"
      ],
      "execution_count": 0,
      "outputs": []
    },
    {
      "metadata": {
        "id": "CamM6fZA6xEf",
        "colab_type": "text"
      },
      "cell_type": "markdown",
      "source": [
        "# Configure"
      ]
    },
    {
      "metadata": {
        "id": "cFECR9zT6xOd",
        "colab_type": "code",
        "colab": {}
      },
      "cell_type": "code",
      "source": [
        "from google.colab import files\n",
        "import json\n",
        "\n",
        "def config(level=\"--global\"):\n",
        "  \"\"\"\n",
        "  Configure Git\n",
        "  User provides .json file containing text: {\"email\": \"<email>\", \"name\": \"<display name>\", ...}\n",
        "  level: -—local|--global|--system\n",
        "  \"\"\"\n",
        "\n",
        "  # Obtain configurations\n",
        "  uploaded = files.upload() # upload .json file\n",
        "  try:\n",
        "    [content] = uploaded.values() # bytestring in .json file\n",
        "    configs = json.loads(content)\n",
        "  finally:\n",
        "    for p in uploaded:\n",
        "      !rm \"$p\"\n",
        "    print(\"Removed all uploaded\")\n",
        "  \n",
        "  # Configure\n",
        "  email, name = configs[\"email\"], configs[\"name\"]\n",
        "  !git config \"$level\" user.email \"$email\"\n",
        "  !git config \"$level\" user.name \"$name\""
      ],
      "execution_count": 0,
      "outputs": []
    },
    {
      "metadata": {
        "id": "7ILM4JyuLzue",
        "colab_type": "text"
      },
      "cell_type": "markdown",
      "source": [
        "# Push"
      ]
    },
    {
      "metadata": {
        "id": "HbjnNchnK1js",
        "colab_type": "code",
        "colab": {}
      },
      "cell_type": "code",
      "source": [
        "from google.colab import files\n",
        "import json\n",
        "from urllib.parse import urlsplit\n",
        "\n",
        "def push(url, branch=\"master\"):\n",
        "  \"\"\"\n",
        "  Push branch to url\n",
        "  User provides .json file containing text: {\"username\": \"<username>\", \"password\": \"<password>\"}\n",
        "  branch not provided: push all branches\n",
        "  \"\"\"\n",
        "  \n",
        "  rurl = urlsplit(url)\n",
        "  \n",
        "  # Obtain account information\n",
        "  uploaded = files.upload() # upload .json file\n",
        "  try:\n",
        "    [content] = uploaded.values() # bytestring in .json file\n",
        "    account = json.loads(content)\n",
        "  finally:\n",
        "    for p in uploaded:\n",
        "      !rm \"$p\"\n",
        "    print(\"Removed all uploaded\")\n",
        "  \n",
        "  # Construct authorized remote\n",
        "  rauth = rurl._replace(netloc=\"{username}:{password}@{hostname}\".format(username=account[\"username\"], password=account[\"password\"], hostname=rurl.hostname)) # add username and password\n",
        "  \n",
        "  # Push\n",
        "  remote = rauth.geturl()\n",
        "  if branch:\n",
        "    input(\"Press Enter to push {}...\".format(branch))\n",
        "    !git push \"$remote\" \"$branch\"\n",
        "  else:\n",
        "    input(\"Press Enter to push all branches...\")\n",
        "    !git push --all \"$remote\"\n",
        "\n",
        "# push(\"https://github.com/Data-Science-and-Data-Analytics-Courses/UCSanDiegoX---Machine-Learning-Fundamentals-03-Jan-2019-audit\")"
      ],
      "execution_count": 0,
      "outputs": []
    }
  ]
}
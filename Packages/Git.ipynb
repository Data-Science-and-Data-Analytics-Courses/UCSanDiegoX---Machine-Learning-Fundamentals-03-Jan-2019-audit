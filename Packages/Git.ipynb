{
  "nbformat": 4,
  "nbformat_minor": 0,
  "metadata": {
    "colab": {
      "name": "Git.ipynb",
      "version": "0.3.2",
      "provenance": [],
      "collapsed_sections": [],
      "include_colab_link": true
    },
    "kernelspec": {
      "name": "python3",
      "display_name": "Python 3"
    },
    "accelerator": "GPU"
  },
  "cells": [
    {
      "cell_type": "markdown",
      "metadata": {
        "id": "view-in-github",
        "colab_type": "text"
      },
      "source": [
        "<a href=\"https://colab.research.google.com/github/Data-Science-and-Data-Analytics-Courses/UCSanDiegoX---Machine-Learning-Fundamentals-03-Jan-2019-audit/blob/master/Packages/Git.ipynb\" target=\"_parent\"><img src=\"https://colab.research.google.com/assets/colab-badge.svg\" alt=\"Open In Colab\"/></a>"
      ]
    },
    {
      "metadata": {
        "id": "VQQWTqqbasyw",
        "colab_type": "code",
        "colab": {}
      },
      "cell_type": "code",
      "source": [
        "import os, shutil\n",
        "from google.colab import drive, files\n",
        "from urllib.parse import urlsplit\n",
        "from pathlib import Path\n",
        "import json\n",
        "from getpass import getpass"
      ],
      "execution_count": 0,
      "outputs": []
    },
    {
      "metadata": {
        "id": "-NH61udRUCX-",
        "colab_type": "text"
      },
      "cell_type": "markdown",
      "source": [
        "# SSH"
      ]
    },
    {
      "metadata": {
        "id": "d258HLdeUCle",
        "colab_type": "code",
        "outputId": "21f007bf-608d-470c-9d16-e4a241c13471",
        "colab": {
          "base_uri": "https://localhost:8080/",
          "height": 65
        }
      },
      "cell_type": "code",
      "source": [
        "def ssh(keyfile=\"\"):\n",
        "  \"\"\"\n",
        "  Add private key to ssh-agent\n",
        "  keyfile: path to private key file\n",
        "  \"\"\"\n",
        "  \n",
        "  sshdir = sshdir or input(\"Enter path to .ssh directory: \")\n",
        "  \n",
        "  shutil.rmtree(\"/root/.ssh\")\n",
        "  shutil.copytree(sshdir, \"/root/.ssh\")\n",
        "  !chmod 700 /root/.ssh\n",
        "  \n",
        "  !ssh-keyscan github.com >> /root/.ssh/known_hosts\n",
        "  !chmod 644 /root/.ssh/known_hosts\n",
        "  !eval \"$(ssh-agent -s)\"\n",
        "  !ssh-add ~/.ssh/id_rsa\n",
        "  \n"
      ],
      "execution_count": 0,
      "outputs": [
        {
          "output_type": "stream",
          "text": [
            "file:/root/.gitconfig\tuser.name=vinh\n"
          ],
          "name": "stdout"
        }
      ]
    },
    {
      "metadata": {
        "id": "IYq_MIfrrqKM",
        "colab_type": "code",
        "outputId": "85352e1d-0f4d-43bc-b504-cfe03cd16897",
        "colab": {
          "base_uri": "https://localhost:8080/",
          "height": 99
        }
      },
      "cell_type": "code",
      "source": [
        "!ssh-agent -s\n"
      ],
      "execution_count": 0,
      "outputs": [
        {
          "output_type": "stream",
          "text": [
            "SSH_AUTH_SOCK=/tmp/ssh-LMA7smJYffOU/agent.463; export SSH_AUTH_SOCK;\n",
            "SSH_AGENT_PID=464; export SSH_AGENT_PID;\n",
            "echo Agent pid 464;\n"
          ],
          "name": "stdout"
        }
      ]
    },
    {
      "metadata": {
        "id": "CamM6fZA6xEf",
        "colab_type": "text"
      },
      "cell_type": "markdown",
      "source": [
        "# Configure"
      ]
    },
    {
      "metadata": {
        "id": "cFECR9zT6xOd",
        "colab_type": "code",
        "colab": {}
      },
      "cell_type": "code",
      "source": [
        "def config(confile=\"\", level=\"--global\"):\n",
        "  \"\"\"\n",
        "  Configure Git\n",
        "  confile: path to .json configuration file, containing text: {\"email\": \"<email>\", \"name\": \"<display name>\", ...}\n",
        "  level: -—local|--global|--system\n",
        "  \"\"\"\n",
        "\n",
        "  # Configurations\n",
        "  confile = confile or input(\"Enter path to .json configuration file: \")\n",
        "  with open(confile) as f:\n",
        "    configs = json.load(f)\n",
        "\n",
        "  # Configure\n",
        "  email = configs[\"email\"]\n",
        "  name = configs[\"name\"]\n",
        "  !git config \"$level\" user.email \"$email\"\n",
        "  !git config \"$level\" user.name \"$name\""
      ],
      "execution_count": 0,
      "outputs": []
    },
    {
      "metadata": {
        "colab_type": "text",
        "id": "UdDQ4H0VmPpJ"
      },
      "cell_type": "markdown",
      "source": [
        "# Clone"
      ]
    },
    {
      "metadata": {
        "colab_type": "code",
        "id": "cXqTKogHXEr9",
        "outputId": "708bd947-3719-4aca-a5b6-449f725a5d3c",
        "colab": {
          "base_uri": "https://localhost:8080/",
          "height": 167
        }
      },
      "cell_type": "code",
      "source": [
        "def clone(url, dest=\".\", branch=\"master\", reloc=True):\n",
        "  \"\"\"\n",
        "  Clone remote branch from url into dest\n",
        "  branch not provided: clone all branches\n",
        "  reloc is True: relocate to repository\n",
        "  \"\"\"\n",
        "\n",
        "  url = url.strip(\" /\")\n",
        "  repo = Path(dest, os.path.basename(url)).resolve()\n",
        "\n",
        "  # dest must not be inside existing repository\n",
        "  is_out = !git -C \"$dest\" rev-parse\n",
        "  if not is_out: # inside repository\n",
        "    raise ValueError(\"Can't clone into existing repository\")\n",
        "  \n",
        "  # Clone\n",
        "  p = repo.as_posix()\n",
        "  if branch: # specific branch\n",
        "    !git clone --single-branch \"$url\" -b \"$branch\" \"$p\"\n",
        "  else: # all branches\n",
        "    !git clone \"$url\" \"$p\"\n",
        "  \n",
        "  # Relocate\n",
        "  if reloc:\n",
        "    %cd \"$repo\"\n",
        "\n",
        "  return repo.as_posix()\n",
        "  \n",
        "if __name__ == \"__main__\":\n",
        "  url = \"https://github.com/Data-Science-and-Data-Analytics-Courses/UCSanDiegoX---Machine-Learning-Fundamentals-03-Jan-2019-audit\"\n",
        "  clone(url)"
      ],
      "execution_count": 0,
      "outputs": [
        {
          "output_type": "stream",
          "text": [
            "Cloning into '/content/UCSanDiegoX---Machine-Learning-Fundamentals-03-Jan-2019-audit'...\n",
            "remote: Enumerating objects: 8, done.\u001b[K\n",
            "remote: Counting objects:  12% (1/8)   \u001b[K\rremote: Counting objects:  25% (2/8)   \u001b[K\rremote: Counting objects:  37% (3/8)   \u001b[K\rremote: Counting objects:  50% (4/8)   \u001b[K\rremote: Counting objects:  62% (5/8)   \u001b[K\rremote: Counting objects:  75% (6/8)   \u001b[K\rremote: Counting objects:  87% (7/8)   \u001b[K\rremote: Counting objects: 100% (8/8)   \u001b[K\rremote: Counting objects: 100% (8/8), done.\u001b[K\n",
            "remote: Compressing objects: 100% (8/8), done.\u001b[K\n",
            "remote: Total 887 (delta 2), reused 0 (delta 0), pack-reused 879\u001b[K\n",
            "Receiving objects: 100% (887/887), 3.38 MiB | 10.11 MiB/s, done.\n",
            "Resolving deltas: 100% (451/451), done.\n",
            "/content/UCSanDiegoX---Machine-Learning-Fundamentals-03-Jan-2019-audit\n"
          ],
          "name": "stdout"
        }
      ]
    },
    {
      "metadata": {
        "id": "7ILM4JyuLzue",
        "colab_type": "text"
      },
      "cell_type": "markdown",
      "source": [
        "# Push"
      ]
    },
    {
      "metadata": {
        "id": "HbjnNchnK1js",
        "colab_type": "code",
        "colab": {}
      },
      "cell_type": "code",
      "source": [
        "def push(url, branch=\"master\", logfile=\"\"):\n",
        "  \"\"\"\n",
        "  Push branch to url\n",
        "  branch: not provided, push all branches\n",
        "  logfile: path to .json log-in file, containing text: {\"username\": \"<username>\", \"password\": \"<password>\"}\n",
        "  \"\"\"\n",
        "  \n",
        "  rurl = urlsplit(url)\n",
        "\n",
        "  # Log-in information\n",
        "  logfile = logfile or input(\"Enter path to .json log-in file: \")\n",
        "  with open(logfile) as f:\n",
        "    login = json.load(f)\n",
        "\n",
        "  # Construct authenticated remote\n",
        "  rauth = rurl._replace(netloc=\"{username}:{password}@{hostname}\".format(username=login[\"username\"], password=login[\"password\"], hostname=rurl.hostname)) # add username and password\n",
        "  \n",
        "  # Push\n",
        "  remote = rauth.geturl()\n",
        "  if branch:\n",
        "    !git push \"$remote\" \"$branch\"\n",
        "  else:\n",
        "    !git push --all \"$remote\"\n",
        "\n",
        "if __name__ == \"__main__\":\n",
        "  url = \"https://github.com/Data-Science-and-Data-Analytics-Courses/UCSanDiegoX---Machine-Learning-Fundamentals-03-Jan-2019-audit\"\n",
        "  push(url)"
      ],
      "execution_count": 0,
      "outputs": []
    }
  ]
}
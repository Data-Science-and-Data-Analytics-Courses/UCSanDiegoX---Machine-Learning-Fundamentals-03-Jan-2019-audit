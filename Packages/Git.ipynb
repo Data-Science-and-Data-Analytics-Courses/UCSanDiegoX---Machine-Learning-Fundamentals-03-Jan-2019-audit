{
  "nbformat": 4,
  "nbformat_minor": 0,
  "metadata": {
    "colab": {
      "name": "Git.ipynb",
      "version": "0.3.2",
      "provenance": [],
      "collapsed_sections": [],
      "include_colab_link": true
    },
    "kernelspec": {
      "name": "python3",
      "display_name": "Python 3"
    },
    "accelerator": "GPU"
  },
  "cells": [
    {
      "cell_type": "markdown",
      "metadata": {
        "id": "view-in-github",
        "colab_type": "text"
      },
      "source": [
        "<a href=\"https://colab.research.google.com/github/Data-Science-and-Data-Analytics-Courses/UCSanDiegoX---Machine-Learning-Fundamentals-03-Jan-2019-audit/blob/master/Packages/Git.ipynb\" target=\"_parent\"><img src=\"https://colab.research.google.com/assets/colab-badge.svg\" alt=\"Open In Colab\"/></a>"
      ]
    },
    {
      "metadata": {
        "colab_type": "text",
        "id": "UdDQ4H0VmPpJ"
      },
      "cell_type": "markdown",
      "source": [
        "# Clone"
      ]
    },
    {
      "metadata": {
        "colab_type": "code",
        "id": "cXqTKogHXEr9",
        "colab": {}
      },
      "cell_type": "code",
      "source": [
        "import os\n",
        "\n",
        "def clone(url, dpath=\".\", branch=\"master\"):\n",
        "  \"\"\"\n",
        "  Clone remote branch from url into dpath\n",
        "  branch not provided: clone all branches\n",
        "  \"\"\"\n",
        "\n",
        "  url = url.strip(\"/\")\n",
        "  rname = os.path.basename(url)\n",
        "  rpath = os.path.join(dpath, rname)\n",
        "\n",
        "  # Raise error if dpath inside existing repository\n",
        "  is_out = !git -C \"$dpath\" rev-parse\n",
        "  if not is_out: # inside repository\n",
        "    raise ValueError(\"Can't clone into existing repository\")\n",
        "  \n",
        "  # Clone specific branch\n",
        "  if branch:\n",
        "    !git clone --single-branch --branch \"$branch\" \"$url\" \"$rpath\"\n",
        "  # Clone all branches\n",
        "  else:\n",
        "    !git clone \"$url\" \"$rpath\"\n",
        "  os.chdir(rpath)\n",
        "  \n",
        "  bname = !git rev-parse --abbrev-ref HEAD\n",
        "  print(\"Current\")\n",
        "  print(\"{branch}\\t{directory}\".format(branch=bname, directory=os.getcwd()))\n",
        "  \n",
        "# clone(\"https://github.com/Data-Science-and-Data-Analytics-Courses/UCSanDiegoX---Machine-Learning-Fundamentals-03-Jan-2019-audit\")"
      ],
      "execution_count": 0,
      "outputs": []
    },
    {
      "metadata": {
        "id": "7ILM4JyuLzue",
        "colab_type": "text"
      },
      "cell_type": "markdown",
      "source": [
        "# Push"
      ]
    },
    {
      "metadata": {
        "id": "HbjnNchnK1js",
        "colab_type": "code",
        "colab": {}
      },
      "cell_type": "code",
      "source": [
        "from google.colab import files\n",
        "import json\n",
        "from urllib.parse import urlsplit\n",
        "\n",
        "def push(url, branch=\"master\"):\n",
        "  \"\"\"\n",
        "  Push branch to url\n",
        "  User provides .json file containing text:\n",
        "  {\"username\": \"<username>\", \"email\": \"<email>\", \"password\": \"<password>\", \"name\": \"<display name>\"}\n",
        "  branch not provided: push all branches\n",
        "  \"\"\"\n",
        "  \n",
        "  rurl = urlsplit(url)\n",
        "  \n",
        "  # Obtain account information\n",
        "  uploaded = files.upload() # upload .json file\n",
        "  try:\n",
        "    [content] = uploaded.values() # bytestring in .json file\n",
        "    account = json.loads(content)\n",
        "  finally:\n",
        "    for p in uploaded: # remove uploaded\n",
        "      !rm \"$p\"\n",
        "  account.setdefault(\"name\", account[\"username\"]) # name defaults to username if not provided\n",
        "  \n",
        "  # Construct authorized remote\n",
        "  rauth = rurl._replace(netloc=\"{username}:{password}@{hostname}\".format(username=account[\"username\"], password=account[\"password\"], hostname=rurl.hostname)) # add username and password\n",
        "\n",
        "  # Configure git\n",
        "  name, email = account[\"name\"], account[\"email\"]\n",
        "  !git config --global user.name \"$name\"\n",
        "  !git config --global user.email \"$email\"\n",
        "  \n",
        "  # Push\n",
        "  remote = rauth.geturl()\n",
        "  if branch:\n",
        "    input(\"Press Enter to push {}...\".format(branch))\n",
        "    !git push \"$remote\" \"$branch\"\n",
        "  else:\n",
        "    input(\"Press Enter to push all branches...\")\n",
        "    !git push --all \"$remote\"\n",
        "\n",
        "# push(\"https://github.com/Data-Science-and-Data-Analytics-Courses/UCSanDiegoX---Machine-Learning-Fundamentals-03-Jan-2019-audit\")"
      ],
      "execution_count": 0,
      "outputs": []
    }
  ]
}
{
  "nbformat": 4,
  "nbformat_minor": 0,
  "metadata": {
    "colab": {
      "name": "Git.ipynb",
      "version": "0.3.2",
      "provenance": [],
      "collapsed_sections": [],
      "include_colab_link": true
    },
    "kernelspec": {
      "name": "python3",
      "display_name": "Python 3"
    },
    "accelerator": "GPU"
  },
  "cells": [
    {
      "cell_type": "markdown",
      "metadata": {
        "id": "view-in-github",
        "colab_type": "text"
      },
      "source": [
        "<a href=\"https://colab.research.google.com/github/Data-Science-and-Data-Analytics-Courses/UCSanDiegoX---Machine-Learning-Fundamentals-03-Jan-2019-audit/blob/master/Packages/Git.ipynb\" target=\"_parent\"><img src=\"https://colab.research.google.com/assets/colab-badge.svg\" alt=\"Open In Colab\"/></a>"
      ]
    },
    {
      "metadata": {
        "id": "VQQWTqqbasyw",
        "colab_type": "code",
        "colab": {}
      },
      "cell_type": "code",
      "source": [
        "import os\n",
        "from google.colab import drive, files\n",
        "from urllib.parse import urlsplit\n",
        "from pathlib import Path\n",
        "import json"
      ],
      "execution_count": 0,
      "outputs": []
    },
    {
      "metadata": {
        "id": "CamM6fZA6xEf",
        "colab_type": "text"
      },
      "cell_type": "markdown",
      "source": [
        "# Configure"
      ]
    },
    {
      "metadata": {
        "id": "cFECR9zT6xOd",
        "colab_type": "code",
        "colab": {
          "base_uri": "https://localhost:8080/",
          "height": 82
        },
        "outputId": "c140ce28-1024-4f99-8165-65b1b7f183bf"
      },
      "cell_type": "code",
      "source": [
        "def config(confile=\"\", level=\"--global\"):\n",
        "  \"\"\"\n",
        "  Configure Git\n",
        "  confile: path to .json configuration file, containing text: {\"email\": \"<email>\", \"name\": \"<display name>\", ...}\n",
        "  level: -—local|--global|--system\n",
        "  \"\"\"\n",
        "\n",
        "  # Configurations\n",
        "  confile = confile or input(\"Enter path to .json configuration file: \")\n",
        "  with open(confile) as f:\n",
        "    configs = json.load(f)\n",
        "\n",
        "  # Configure\n",
        "  email = configs[\"email\"]\n",
        "  name = configs[\"name\"]\n",
        "  !git config \"$level\" user.email \"$email\"\n",
        "  !git config \"$level\" user.name \"$name\"\n",
        "\n",
        "if __name__ == \"__main__\":\n",
        "  config()"
      ],
      "execution_count": 19,
      "outputs": [
        {
          "output_type": "stream",
          "text": [
            "Enter path to .json configuration file: /drive/My Drive/GitHub/config.json\n"
          ],
          "name": "stdout"
        }
      ]
    },
    {
      "metadata": {
        "colab_type": "text",
        "id": "UdDQ4H0VmPpJ"
      },
      "cell_type": "markdown",
      "source": [
        "# Clone"
      ]
    },
    {
      "metadata": {
        "colab_type": "code",
        "id": "cXqTKogHXEr9",
        "outputId": "bb66371c-589f-457c-a986-75ecb6d50269",
        "colab": {
          "base_uri": "https://localhost:8080/",
          "height": 476
        }
      },
      "cell_type": "code",
      "source": [
        "def clone(url, dest=\".\", branch=\"master\", reloc=True):\n",
        "  \"\"\"\n",
        "  Clone remote branch from url into dest\n",
        "  branch not provided: clone all branches\n",
        "  reloc is True: relocate to repository\n",
        "  \"\"\"\n",
        "\n",
        "  url = url.strip(\" /\")\n",
        "  repo = Path(dest, os.path.basename(url)).resolve()\n",
        "\n",
        "  # dest must not be inside existing repository\n",
        "  is_out = !git -C \"$dest\" rev-parse\n",
        "  if not is_out: # inside repository\n",
        "    raise ValueError(\"Can't clone into existing repository\")\n",
        "  \n",
        "  # Clone\n",
        "  p = repo.as_posix()\n",
        "  if branch: # specific branch\n",
        "    !git clone --single-branch \"$url\" -b \"$branch\" \"$p\"\n",
        "  else: # all branches\n",
        "    !git clone \"$url\" \"$p\"\n",
        "  \n",
        "  # Relocate\n",
        "  if reloc:\n",
        "    %cd \"$repo\"\n",
        "\n",
        "  return repo.as_posix()\n",
        "  \n",
        "if __name__ == \"__main__\":\n",
        "  url = \"https://github.com/Data-Science-and-Data-Analytics-Courses/UCSanDiegoX---Machine-Learning-Fundamentals-03-Jan-2019-audit\"\n",
        "  clone(url)"
      ],
      "execution_count": 20,
      "outputs": [
        {
          "output_type": "error",
          "ename": "ValueError",
          "evalue": "ignored",
          "traceback": [
            "\u001b[0;31m---------------------------------------------------------------------------\u001b[0m",
            "\u001b[0;31mValueError\u001b[0m                                Traceback (most recent call last)",
            "\u001b[0;32m<ipython-input-20-0f3c0d7bbd67>\u001b[0m in \u001b[0;36m<module>\u001b[0;34m()\u001b[0m\n\u001b[1;32m     29\u001b[0m \u001b[0;32mif\u001b[0m \u001b[0m__name__\u001b[0m \u001b[0;34m==\u001b[0m \u001b[0;34m\"__main__\"\u001b[0m\u001b[0;34m:\u001b[0m\u001b[0;34m\u001b[0m\u001b[0;34m\u001b[0m\u001b[0m\n\u001b[1;32m     30\u001b[0m   \u001b[0murl\u001b[0m \u001b[0;34m=\u001b[0m \u001b[0;34m\"https://github.com/Data-Science-and-Data-Analytics-Courses/UCSanDiegoX---Machine-Learning-Fundamentals-03-Jan-2019-audit\"\u001b[0m\u001b[0;34m\u001b[0m\u001b[0;34m\u001b[0m\u001b[0m\n\u001b[0;32m---> 31\u001b[0;31m   \u001b[0mclone\u001b[0m\u001b[0;34m(\u001b[0m\u001b[0murl\u001b[0m\u001b[0;34m)\u001b[0m\u001b[0;34m\u001b[0m\u001b[0;34m\u001b[0m\u001b[0m\n\u001b[0m",
            "\u001b[0;32m<ipython-input-20-0f3c0d7bbd67>\u001b[0m in \u001b[0;36mclone\u001b[0;34m(url, dest, branch, reloc)\u001b[0m\n\u001b[1;32m     12\u001b[0m   \u001b[0mis_out\u001b[0m \u001b[0;34m=\u001b[0m \u001b[0mget_ipython\u001b[0m\u001b[0;34m(\u001b[0m\u001b[0;34m)\u001b[0m\u001b[0;34m.\u001b[0m\u001b[0mgetoutput\u001b[0m\u001b[0;34m(\u001b[0m\u001b[0;34m'git -C \"$dest\" rev-parse'\u001b[0m\u001b[0;34m)\u001b[0m\u001b[0;34m\u001b[0m\u001b[0;34m\u001b[0m\u001b[0m\n\u001b[1;32m     13\u001b[0m   \u001b[0;32mif\u001b[0m \u001b[0;32mnot\u001b[0m \u001b[0mis_out\u001b[0m\u001b[0;34m:\u001b[0m \u001b[0;31m# inside repository\u001b[0m\u001b[0;34m\u001b[0m\u001b[0;34m\u001b[0m\u001b[0m\n\u001b[0;32m---> 14\u001b[0;31m     \u001b[0;32mraise\u001b[0m \u001b[0mValueError\u001b[0m\u001b[0;34m(\u001b[0m\u001b[0;34m\"Can't clone into existing repository\"\u001b[0m\u001b[0;34m)\u001b[0m\u001b[0;34m\u001b[0m\u001b[0;34m\u001b[0m\u001b[0m\n\u001b[0m\u001b[1;32m     15\u001b[0m \u001b[0;34m\u001b[0m\u001b[0m\n\u001b[1;32m     16\u001b[0m   \u001b[0;31m# Clone\u001b[0m\u001b[0;34m\u001b[0m\u001b[0;34m\u001b[0m\u001b[0;34m\u001b[0m\u001b[0m\n",
            "\u001b[0;31mValueError\u001b[0m: Can't clone into existing repository"
          ]
        }
      ]
    },
    {
      "metadata": {
        "id": "7ILM4JyuLzue",
        "colab_type": "text"
      },
      "cell_type": "markdown",
      "source": [
        "# Push"
      ]
    },
    {
      "metadata": {
        "id": "HbjnNchnK1js",
        "colab_type": "code",
        "colab": {
          "base_uri": "https://localhost:8080/",
          "height": 82
        },
        "outputId": "f4ba8327-bbdb-4ee0-aa9b-1acf1b82cf05"
      },
      "cell_type": "code",
      "source": [
        "def push(url, branch=\"master\", logfile=\"\"):\n",
        "  \"\"\"\n",
        "  Push branch to url\n",
        "  branch: not provided, push all branches\n",
        "  logfile: path to .json log-in file, containing text: {\"username\": \"<username>\", \"password\": \"<password>\"}\n",
        "  \"\"\"\n",
        "  \n",
        "  rurl = urlsplit(url)\n",
        "\n",
        "  # Log-in information\n",
        "  logfile = logfile or input(\"Enter path to .json log-in file: \")\n",
        "  with open(logfile) as f:\n",
        "    login = json.load(f)\n",
        "\n",
        "  # Construct authenticated remote\n",
        "  rauth = rurl._replace(netloc=\"{username}:{password}@{hostname}\".format(username=login[\"username\"], password=login[\"password\"], hostname=rurl.hostname)) # add username and password\n",
        "  \n",
        "  # Push\n",
        "  remote = rauth.geturl()\n",
        "  if branch:\n",
        "    !git push \"$remote\" \"$branch\"\n",
        "  else:\n",
        "    !git push --all \"$remote\"\n",
        "\n",
        "if __name__ == \"__main__\":\n",
        "  url = \"https://github.com/Data-Science-and-Data-Analytics-Courses/UCSanDiegoX---Machine-Learning-Fundamentals-03-Jan-2019-audit\"\n",
        "  push(url)"
      ],
      "execution_count": 22,
      "outputs": [
        {
          "output_type": "stream",
          "text": [
            "Enter path to .json log-in file: /drive/My Drive/GitHub/login.json\n",
            "Everything up-to-date\n"
          ],
          "name": "stdout"
        }
      ]
    }
  ]
}
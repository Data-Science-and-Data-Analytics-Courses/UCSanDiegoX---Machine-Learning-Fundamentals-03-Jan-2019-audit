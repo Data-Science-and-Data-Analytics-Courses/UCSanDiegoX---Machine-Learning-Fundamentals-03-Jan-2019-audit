{
  "nbformat": 4,
  "nbformat_minor": 0,
  "metadata": {
    "colab": {
      "name": "Git.ipynb",
      "version": "0.3.2",
      "provenance": [],
      "collapsed_sections": [],
      "include_colab_link": true
    },
    "kernelspec": {
      "name": "python3",
      "display_name": "Python 3"
    },
    "accelerator": "GPU"
  },
  "cells": [
    {
      "cell_type": "markdown",
      "metadata": {
        "id": "view-in-github",
        "colab_type": "text"
      },
      "source": [
        "<a href=\"https://colab.research.google.com/github/Data-Science-and-Data-Analytics-Courses/UCSanDiegoX---Machine-Learning-Fundamentals-03-Jan-2019-audit/blob/master/Packages/Git.ipynb\" target=\"_parent\"><img src=\"https://colab.research.google.com/assets/colab-badge.svg\" alt=\"Open In Colab\"/></a>"
      ]
    },
    {
      "metadata": {
        "id": "VQQWTqqbasyw",
        "colab_type": "code",
        "colab": {}
      },
      "cell_type": "code",
      "source": [
        "import os\n",
        "from google.colab import files\n",
        "from urllib.parse import urlsplit\n",
        "from pathlib import Path\n",
        "import json"
      ],
      "execution_count": 0,
      "outputs": []
    },
    {
      "metadata": {
        "colab_type": "text",
        "id": "UdDQ4H0VmPpJ"
      },
      "cell_type": "markdown",
      "source": [
        "# Clone"
      ]
    },
    {
      "metadata": {
        "colab_type": "code",
        "id": "cXqTKogHXEr9",
        "outputId": "5d669efb-03c6-40ab-f62e-55cbf5784f01",
        "colab": {
          "base_uri": "https://localhost:8080/",
          "height": 167
        }
      },
      "cell_type": "code",
      "source": [
        "def clone(url, dest=\".\", branch=\"master\", reloc=True):\n",
        "  \"\"\"\n",
        "  Clone remote branch from url into dest\n",
        "  branch not provided: clone all branches\n",
        "  reloc is True: relocate to repository\n",
        "  \"\"\"\n",
        "\n",
        "  url = url.strip(\" /\")\n",
        "  repo = Path(dest, os.path.basename(url)).resolve()\n",
        "\n",
        "  # dest must not be inside existing repository\n",
        "  is_out = !git -C \"$dest\" rev-parse\n",
        "  if not is_out: # inside repository\n",
        "    raise ValueError(\"Can't clone into existing repository\")\n",
        "  \n",
        "  # Clone\n",
        "  p = repo.as_posix()\n",
        "  if branch: # specific branch\n",
        "    !git clone --single-branch \"$url\" -b \"$branch\" \"$p\"\n",
        "  else: # all branches\n",
        "    !git clone \"$url\" \"$p\"\n",
        "  \n",
        "  # Relocate\n",
        "  if reloc:\n",
        "    os.chdir(repo)\n",
        "\n",
        "  return repo.as_posix()\n",
        "  \n",
        "if __name__ == \"__main__\":\n",
        "  url = \"https://github.com/Data-Science-and-Data-Analytics-Courses/UCSanDiegoX---Machine-Learning-Fundamentals-03-Jan-2019-audit\"\n",
        "  clone(url)"
      ],
      "execution_count": 0,
      "outputs": [
        {
          "output_type": "stream",
          "text": [
            "Cloning into '/content/UCSanDiegoX---Machine-Learning-Fundamentals-03-Jan-2019-audit'...\n",
            "remote: Enumerating objects: 70, done.\u001b[K\n",
            "remote: Counting objects:   1% (1/70)   \u001b[K\rremote: Counting objects:   2% (2/70)   \u001b[K\rremote: Counting objects:   4% (3/70)   \u001b[K\rremote: Counting objects:   5% (4/70)   \u001b[K\rremote: Counting objects:   7% (5/70)   \u001b[K\rremote: Counting objects:   8% (6/70)   \u001b[K\rremote: Counting objects:  10% (7/70)   \u001b[K\rremote: Counting objects:  11% (8/70)   \u001b[K\rremote: Counting objects:  12% (9/70)   \u001b[K\rremote: Counting objects:  14% (10/70)   \u001b[K\rremote: Counting objects:  15% (11/70)   \u001b[K\rremote: Counting objects:  17% (12/70)   \u001b[K\rremote: Counting objects:  18% (13/70)   \u001b[K\rremote: Counting objects:  20% (14/70)   \u001b[K\rremote: Counting objects:  21% (15/70)   \u001b[K\rremote: Counting objects:  22% (16/70)   \u001b[K\rremote: Counting objects:  24% (17/70)   \u001b[K\rremote: Counting objects:  25% (18/70)   \u001b[K\rremote: Counting objects:  27% (19/70)   \u001b[K\rremote: Counting objects:  28% (20/70)   \u001b[K\rremote: Counting objects:  30% (21/70)   \u001b[K\rremote: Counting objects:  31% (22/70)   \u001b[K\rremote: Counting objects:  32% (23/70)   \u001b[K\rremote: Counting objects:  34% (24/70)   \u001b[K\rremote: Counting objects:  35% (25/70)   \u001b[K\rremote: Counting objects:  37% (26/70)   \u001b[K\rremote: Counting objects:  38% (27/70)   \u001b[K\rremote: Counting objects:  40% (28/70)   \u001b[K\rremote: Counting objects:  41% (29/70)   \u001b[K\rremote: Counting objects:  42% (30/70)   \u001b[K\rremote: Counting objects:  44% (31/70)   \u001b[K\rremote: Counting objects:  45% (32/70)   \u001b[K\rremote: Counting objects:  47% (33/70)   \u001b[K\rremote: Counting objects:  48% (34/70)   \u001b[K\rremote: Counting objects:  50% (35/70)   \u001b[K\rremote: Counting objects:  51% (36/70)   \u001b[K\rremote: Counting objects:  52% (37/70)   \u001b[K\rremote: Counting objects:  54% (38/70)   \u001b[K\rremote: Counting objects:  55% (39/70)   \u001b[K\rremote: Counting objects:  57% (40/70)   \u001b[K\rremote: Counting objects:  58% (41/70)   \u001b[K\rremote: Counting objects:  60% (42/70)   \u001b[K\rremote: Counting objects:  61% (43/70)   \u001b[K\rremote: Counting objects:  62% (44/70)   \u001b[K\rremote: Counting objects:  64% (45/70)   \u001b[K\rremote: Counting objects:  65% (46/70)   \u001b[K\rremote: Counting objects:  67% (47/70)   \u001b[K\rremote: Counting objects:  68% (48/70)   \u001b[K\rremote: Counting objects:  70% (49/70)   \u001b[K\rremote: Counting objects:  71% (50/70)   \u001b[K\rremote: Counting objects:  72% (51/70)   \u001b[K\rremote: Counting objects:  74% (52/70)   \u001b[K\rremote: Counting objects:  75% (53/70)   \u001b[K\rremote: Counting objects:  77% (54/70)   \u001b[K\rremote: Counting objects:  78% (55/70)   \u001b[K\rremote: Counting objects:  80% (56/70)   \u001b[K\rremote: Counting objects:  81% (57/70)   \u001b[K\rremote: Counting objects:  82% (58/70)   \u001b[K\rremote: Counting objects:  84% (59/70)   \u001b[K\rremote: Counting objects:  85% (60/70)   \u001b[K\rremote: Counting objects:  87% (61/70)   \u001b[K\rremote: Counting objects:  88% (62/70)   \u001b[K\rremote: Counting objects:  90% (63/70)   \u001b[K\rremote: Counting objects:  91% (64/70)   \u001b[K\rremote: Counting objects:  92% (65/70)   \u001b[K\rremote: Counting objects:  94% (66/70)   \u001b[K\rremote: Counting objects:  95% (67/70)   \u001b[K\rremote: Counting objects:  97% (68/70)   \u001b[K\rremote: Counting objects:  98% (69/70)   \u001b[K\rremote: Counting objects: 100% (70/70)   \u001b[K\rremote: Counting objects: 100% (70/70), done.\u001b[K\n",
            "remote: Compressing objects: 100% (70/70), done.\u001b[K\n",
            "remote: Total 524 (delta 33), reused 0 (delta 0), pack-reused 454\u001b[K\n",
            "Receiving objects: 100% (524/524), 2.77 MiB | 2.55 MiB/s, done.\n",
            "Resolving deltas: 100% (253/253), done.\n"
          ],
          "name": "stdout"
        }
      ]
    },
    {
      "metadata": {
        "id": "CamM6fZA6xEf",
        "colab_type": "text"
      },
      "cell_type": "markdown",
      "source": [
        "# Configure"
      ]
    },
    {
      "metadata": {
        "id": "cFECR9zT6xOd",
        "colab_type": "code",
        "colab": {}
      },
      "cell_type": "code",
      "source": [
        "def config(configs=None, level=\"--global\"):\n",
        "  \"\"\"\n",
        "  Configure Git\n",
        "  configs not provided: user provides .json file containing text: {\"email\": \"<email>\", \"name\": \"<display name>\", ...}\n",
        "  level: -—local|--global|--system\n",
        "  \"\"\"\n",
        "\n",
        "  # Configurations\n",
        "  if not configs:\n",
        "    uploaded = files.upload() # upload .json file\n",
        "    try:\n",
        "      [content] = uploaded.values() # bytestring in .json file\n",
        "      configs = json.loads(content)\n",
        "    finally:\n",
        "      for p in uploaded:\n",
        "        !rm \"$p\"\n",
        "      print(\"Removed all uploaded\")\n",
        "  \n",
        "  # Configure\n",
        "  email = configs[\"email\"]\n",
        "  name = configs[\"name\"]\n",
        "  !git config \"$level\" user.email \"$email\"\n",
        "  !git config \"$level\" user.name \"$name\""
      ],
      "execution_count": 0,
      "outputs": []
    },
    {
      "metadata": {
        "id": "7ILM4JyuLzue",
        "colab_type": "text"
      },
      "cell_type": "markdown",
      "source": [
        "# Push"
      ]
    },
    {
      "metadata": {
        "id": "HbjnNchnK1js",
        "colab_type": "code",
        "outputId": "c5d03a8e-c280-40e2-d420-139d164cc5f5",
        "colab": {
          "base_uri": "https://localhost:8080/",
          "height": 155
        }
      },
      "cell_type": "code",
      "source": [
        "def push(url, branch=\"master\", account=None):\n",
        "  \"\"\"\n",
        "  Push branch to url\n",
        "  account not provided: user provides .json file containing text: {\"username\": \"<username>\", \"password\": \"<password>\"}\n",
        "  branch not provided: push all branches\n",
        "  \"\"\"\n",
        "  \n",
        "  rurl = urlsplit(url)\n",
        "  \n",
        "  # Account information\n",
        "  if not account:\n",
        "    uploaded = files.upload() # upload .json file\n",
        "    try:\n",
        "      [content] = uploaded.values() # bytestring in .json file\n",
        "      account = json.loads(content)\n",
        "    finally:\n",
        "      for p in uploaded:\n",
        "        !rm \"$p\"\n",
        "      print(\"Removed all uploaded\")\n",
        "  \n",
        "  # Construct authentication remote\n",
        "  rauth = rurl._replace(netloc=\"{username}:{password}@{hostname}\".format(username=account[\"username\"], password=account[\"password\"], hostname=rurl.hostname)) # add username and password\n",
        "  \n",
        "  # Push\n",
        "  remote = rauth.geturl()\n",
        "  if branch:\n",
        "    input(\"Press Enter to push {}...\".format(branch))\n",
        "    !git push \"$remote\" \"$branch\"\n",
        "  else:\n",
        "    input(\"Press Enter to push all branches...\")\n",
        "    !git push --all \"$remote\"\n",
        "\n",
        "if __name__ == \"__main__\":\n",
        "  url = \"https://github.com/Data-Science-and-Data-Analytics-Courses/UCSanDiegoX---Machine-Learning-Fundamentals-03-Jan-2019-audit\"\n",
        "  push(url)"
      ],
      "execution_count": 0,
      "outputs": [
        {
          "output_type": "error",
          "ename": "SyntaxError",
          "evalue": "ignored",
          "traceback": [
            "\u001b[0;36m  File \u001b[0;32m\"<ipython-input-1-82871787ba88>\"\u001b[0;36m, line \u001b[0;32m15\u001b[0m\n\u001b[0;31m    If not account:\u001b[0m\n\u001b[0m                 ^\u001b[0m\n\u001b[0;31mSyntaxError\u001b[0m\u001b[0;31m:\u001b[0m invalid syntax\n"
          ]
        }
      ]
    }
  ]
}
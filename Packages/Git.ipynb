{
  "nbformat": 4,
  "nbformat_minor": 0,
  "metadata": {
    "colab": {
      "name": "Git.ipynb",
      "version": "0.3.2",
      "provenance": [],
      "collapsed_sections": [],
      "include_colab_link": true
    },
    "kernelspec": {
      "name": "python3",
      "display_name": "Python 3"
    },
    "accelerator": "GPU"
  },
  "cells": [
    {
      "cell_type": "markdown",
      "metadata": {
        "id": "view-in-github",
        "colab_type": "text"
      },
      "source": [
        "<a href=\"https://colab.research.google.com/github/Data-Science-and-Data-Analytics-Courses/UCSanDiegoX---Machine-Learning-Fundamentals-03-Jan-2019-audit/blob/master/Packages/Git.ipynb\" target=\"_parent\"><img src=\"https://colab.research.google.com/assets/colab-badge.svg\" alt=\"Open In Colab\"/></a>"
      ]
    },
    {
      "metadata": {
        "id": "VQQWTqqbasyw",
        "colab_type": "code",
        "colab": {}
      },
      "cell_type": "code",
      "source": [
        "import os\n",
        "from google.colab import drive, files\n",
        "from urllib.parse import urlsplit\n",
        "from pathlib import Path\n",
        "import json\n",
        "from getpass import getpass"
      ],
      "execution_count": 0,
      "outputs": []
    },
    {
      "metadata": {
        "colab_type": "text",
        "id": "UdDQ4H0VmPpJ"
      },
      "cell_type": "markdown",
      "source": [
        "# Clone"
      ]
    },
    {
      "metadata": {
        "colab_type": "code",
        "id": "cXqTKogHXEr9",
        "outputId": "d4826f35-da14-4f55-fad5-05bc6472a37f",
        "colab": {
          "base_uri": "https://localhost:8080/",
          "height": 171
        }
      },
      "cell_type": "code",
      "source": [
        "def clone(url, dest=\".\", branch=\"master\", reloc=True):\n",
        "  \"\"\"\n",
        "  Clone remote branch from url into dest\n",
        "  branch not provided: clone all branches\n",
        "  reloc is True: relocate to repository\n",
        "  \"\"\"\n",
        "\n",
        "  url = url.strip(\" /\")\n",
        "  repo = Path(dest, os.path.basename(url)).resolve()\n",
        "\n",
        "  # dest must not be inside existing repository\n",
        "  is_out = !git -C \"$dest\" rev-parse\n",
        "  if not is_out: # inside repository\n",
        "    raise ValueError(\"Can't clone into existing repository\")\n",
        "  \n",
        "  # Clone\n",
        "  p = repo.as_posix()\n",
        "  if branch: # specific branch\n",
        "    !git clone --single-branch \"$url\" -b \"$branch\" \"$p\"\n",
        "  else: # all branches\n",
        "    !git clone \"$url\" \"$p\"\n",
        "  \n",
        "  # Relocate\n",
        "  if reloc:\n",
        "    %cd \"$repo\"\n",
        "\n",
        "  return repo.as_posix()\n",
        "  \n",
        "if __name__ == \"__main__\":\n",
        "  url = \"https://github.com/Data-Science-and-Data-Analytics-Courses/UCSanDiegoX---Machine-Learning-Fundamentals-03-Jan-2019-audit\"\n",
        "  clone(url)"
      ],
      "execution_count": 2,
      "outputs": [
        {
          "output_type": "stream",
          "text": [
            "Cloning into '/content/UCSanDiegoX---Machine-Learning-Fundamentals-03-Jan-2019-audit'...\n",
            "remote: Enumerating objects: 4, done.\u001b[K\n",
            "remote: Counting objects:  25% (1/4)   \u001b[K\rremote: Counting objects:  50% (2/4)   \u001b[K\rremote: Counting objects:  75% (3/4)   \u001b[K\rremote: Counting objects: 100% (4/4)   \u001b[K\rremote: Counting objects: 100% (4/4), done.\u001b[K\n",
            "remote: Compressing objects: 100% (4/4), done.\u001b[K\n",
            "remote: Total 883 (delta 0), reused 0 (delta 0), pack-reused 879\u001b[K\n",
            "Receiving objects: 100% (883/883), 3.38 MiB | 5.21 MiB/s, done.\n",
            "Resolving deltas: 100% (449/449), done.\n",
            "/content/UCSanDiegoX---Machine-Learning-Fundamentals-03-Jan-2019-audit\n"
          ],
          "name": "stdout"
        }
      ]
    },
    {
      "metadata": {
        "id": "CamM6fZA6xEf",
        "colab_type": "text"
      },
      "cell_type": "markdown",
      "source": [
        "# Configure"
      ]
    },
    {
      "metadata": {
        "id": "cFECR9zT6xOd",
        "colab_type": "code",
        "colab": {}
      },
      "cell_type": "code",
      "source": [
        "def config(confile=\"\", level=\"--global\"):\n",
        "  \"\"\"\n",
        "  Configure Git\n",
        "  confile: path to .json configuration file, containing text: {\"email\": \"<email>\", \"name\": \"<display name>\", ...}\n",
        "  level: -—local|--global|--system\n",
        "  \"\"\"\n",
        "\n",
        "  # Configurations\n",
        "  confile = confile or input(\"Enter path to .json configuration file: \")\n",
        "  with open(confile) as f:\n",
        "    configs = json.load(f)\n",
        "\n",
        "  # Configure\n",
        "  email = configs[\"email\"]\n",
        "  name = configs[\"name\"]\n",
        "  !git config \"$level\" user.email \"$email\"\n",
        "  !git config \"$level\" user.name \"$name\""
      ],
      "execution_count": 0,
      "outputs": []
    },
    {
      "metadata": {
        "id": "7ILM4JyuLzue",
        "colab_type": "text"
      },
      "cell_type": "markdown",
      "source": [
        "# Push"
      ]
    },
    {
      "metadata": {
        "id": "HbjnNchnK1js",
        "colab_type": "code",
        "outputId": "c5d03a8e-c280-40e2-d420-139d164cc5f5",
        "colab": {
          "base_uri": "https://localhost:8080/",
          "height": 155
        }
      },
      "cell_type": "code",
      "source": [
        "def push(url, branch=\"master\"):\n",
        "  \"\"\"\n",
        "  Push branch to url\n",
        "  branch: not provided, push all branches\n",
        "  \"\"\"\n",
        "  \n",
        "  rurl = urlsplit(url)\n",
        "\n",
        "  # Account information\n",
        "  account = {}\n",
        "  account[\"username\"] = input(\"Enter username: \")\n",
        "  account[\"password\"] = getpass(\"Enter password: \")\n",
        "  \n",
        "  # Construct authentication remote\n",
        "  rauth = rurl._replace(netloc=\"{username}:{password}@{hostname}\".format(username=account[\"username\"], password=account[\"password\"], hostname=rurl.hostname)) # add username and password\n",
        "  \n",
        "  # Push\n",
        "  remote = rauth.geturl()\n",
        "  if branch:\n",
        "    input(\"Press Enter to push {}...\".format(branch))\n",
        "    !git push \"$remote\" \"$branch\"\n",
        "  else:\n",
        "    input(\"Press Enter to push all branches...\")\n",
        "    !git push --all \"$remote\"\n",
        "\n",
        "if __name__ == \"__main__\":\n",
        "  url = \"https://github.com/Data-Science-and-Data-Analytics-Courses/UCSanDiegoX---Machine-Learning-Fundamentals-03-Jan-2019-audit\"\n",
        "  push(url)"
      ],
      "execution_count": 0,
      "outputs": [
        {
          "output_type": "error",
          "ename": "SyntaxError",
          "evalue": "ignored",
          "traceback": [
            "\u001b[0;36m  File \u001b[0;32m\"<ipython-input-1-82871787ba88>\"\u001b[0;36m, line \u001b[0;32m15\u001b[0m\n\u001b[0;31m    If not account:\u001b[0m\n\u001b[0m                 ^\u001b[0m\n\u001b[0;31mSyntaxError\u001b[0m\u001b[0;31m:\u001b[0m invalid syntax\n"
          ]
        }
      ]
    }
  ]
}
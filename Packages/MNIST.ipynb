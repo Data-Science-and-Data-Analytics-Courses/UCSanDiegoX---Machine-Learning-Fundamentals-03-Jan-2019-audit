{
  "nbformat": 4,
  "nbformat_minor": 0,
  "metadata": {
    "colab": {
      "name": "MNIST.ipynb",
      "version": "0.3.2",
      "provenance": [],
      "include_colab_link": true
    },
    "kernelspec": {
      "name": "python3",
      "display_name": "Python 3"
    },
    "accelerator": "GPU"
  },
  "cells": [
    {
      "cell_type": "markdown",
      "metadata": {
        "id": "view-in-github",
        "colab_type": "text"
      },
      "source": [
        "<a href=\"https://colab.research.google.com/github/Data-Science-and-Data-Analytics-Courses/UCSanDiegoX---Machine-Learning-Fundamentals-03-Jan-2019-audit/blob/master/Packages/MNIST.ipynb\" target=\"_parent\"><img src=\"https://colab.research.google.com/assets/colab-badge.svg\" alt=\"Open In Colab\"/></a>"
      ]
    },
    {
      "metadata": {
        "id": "2tLSsS8TabyH",
        "colab_type": "code",
        "colab": {}
      },
      "cell_type": "code",
      "source": [
        "def load_images(url=\"\", filepath=\"\", size=28*28):\n",
        "  \"\"\"\n",
        "  Load .gz images from url or filepath into numpy array\n",
        "  size: total pixels in image (width x height)\n",
        "  \"\"\"\n",
        "  \n",
        "  # Data vector\n",
        "  if url:\n",
        "    r = requests.get(url)\n",
        "    fileobj = gzip.open(io.BytesIO(r.content))\n",
        "  else:\n",
        "    fileobj = gzip.open(filepath)\n",
        "  data = np.frombuffer(fileobj.read(), np.uint8, offset=16)\n",
        "  fileobj.close()\n",
        "  \n",
        "  # Data matrix\n",
        "  data = data.reshape(-1,size)\n",
        "  \n",
        "  return data\n",
        "\n",
        "a=load_images(filepath=\"train-images-idx3-ubyte.gz\")\n",
        "a.shape"
      ],
      "execution_count": 0,
      "outputs": []
    }
  ]
}
{
  "nbformat": 4,
  "nbformat_minor": 0,
  "metadata": {
    "colab": {
      "name": "Nearest_neighbor_MNIST.ipynb",
      "version": "0.3.2",
      "provenance": [],
      "include_colab_link": true
    },
    "kernelspec": {
      "name": "python3",
      "display_name": "Python 3"
    },
    "accelerator": "GPU"
  },
  "cells": [
    {
      "cell_type": "markdown",
      "metadata": {
        "id": "view-in-github",
        "colab_type": "text"
      },
      "source": [
        "<a href=\"https://colab.research.google.com/github/Data-Science-and-Data-Analytics-Courses/UCSanDiegoX---Machine-Learning-Fundamentals-03-Jan-2019-audit/blob/master/Week%2001%20Prediction%20Problems/NN_MNIST/Nearest_neighbor_MNIST.ipynb\" target=\"_parent\"><img src=\"https://colab.research.google.com/assets/colab-badge.svg\" alt=\"Open In Colab\"/></a>"
      ]
    },
    {
      "metadata": {
        "id": "JxJYg4XWck_e",
        "colab_type": "text"
      },
      "cell_type": "markdown",
      "source": [
        "# Nearest neighbor for handwritten digit recognition\n",
        "\n",
        "In this notebook we will build a classifier that takes an image of a handwritten digit and outputs a label 0-9. We will look at a particularly simple strategy for this problem known as the **nearest neighbor classifier**.\n",
        "\n",
        "To run this notebook you should have the following Python packages installed:\n",
        "* `numpy`\n",
        "* `matplotlib`\n",
        "* `sklearn`"
      ]
    },
    {
      "metadata": {
        "id": "PqIRnjuQLp6j",
        "colab_type": "text"
      },
      "cell_type": "markdown",
      "source": [
        "# Clone GitHub remote repository to Google Colaboratory (run the following code cell one time only)"
      ]
    },
    {
      "metadata": {
        "id": "ufVSH6TLA2WV",
        "colab_type": "code",
        "outputId": "864c7028-b353-4560-9fc7-34af7d36280d",
        "colab": {
          "base_uri": "https://localhost:8080/",
          "height": 153
        }
      },
      "cell_type": "code",
      "source": [
        "import os\n",
        "\n",
        "repo_url = \"https://github.com/Data-Science-and-Data-Analytics-Courses/UCSanDiegoX---Machine-Learning-Fundamentals-03-Jan-2019-audit\".strip(\"/\")\n",
        "repo_to_notebook_dir = \"Week 01 Prediction Problems/NN_MNIST\"\n",
        "\n",
        "# Clone remote repository to local repository\n",
        "repo_name = os.path.basename(repo_url)\n",
        "!git clone $repo_url\n",
        "%cd \"$repo_name\"\n",
        "\n",
        "# Change working directory to local notebook directory\n",
        "%cd \"$repo_to_notebook_dir\""
      ],
      "execution_count": 1,
      "outputs": [
        {
          "output_type": "stream",
          "text": [
            "Cloning into 'UCSanDiegoX---Machine-Learning-Fundamentals-03-Jan-2019-audit'...\n",
            "remote: Enumerating objects: 81, done.\u001b[K\n",
            "remote: Counting objects: 100% (81/81), done.\u001b[K\n",
            "remote: Compressing objects: 100% (71/71), done.\u001b[K\n",
            "remote: Total 81 (delta 26), reused 0 (delta 0), pack-reused 0\u001b[K\n",
            "Unpacking objects: 100% (81/81), done.\n",
            "/content/UCSanDiegoX---Machine-Learning-Fundamentals-03-Jan-2019-audit\n",
            "/content/UCSanDiegoX---Machine-Learning-Fundamentals-03-Jan-2019-audit/Week 01 Prediction Problems/NN_MNIST\n"
          ],
          "name": "stdout"
        }
      ]
    },
    {
      "metadata": {
        "id": "2kS2uYFqck_j",
        "colab_type": "text"
      },
      "cell_type": "markdown",
      "source": [
        "## 1. The MNIST dataset\n",
        "\n",
        "`MNIST` is a classic dataset in machine learning, consisting of 28x28 gray-scale images handwritten digits. The original training set contains 60,000 examples and the test set contains 10,000 examples. In this notebook we will be working with a subset of this data: a training set of 7,500 examples and a test set of 1,000 examples."
      ]
    },
    {
      "metadata": {
        "id": "e3WMRRhfck_l",
        "colab_type": "code",
        "colab": {}
      },
      "cell_type": "code",
      "source": [
        "%matplotlib inline\n",
        "import numpy as np\n",
        "import matplotlib.pyplot as plt \n",
        "import time\n",
        "\n",
        "## Load the training set\n",
        "train_data = np.load('MNIST/train_data.npy')\n",
        "train_labels = np.load('MNIST/train_labels.npy')\n",
        "\n",
        "## Load the testing set\n",
        "test_data = np.load('MNIST/test_data.npy')\n",
        "test_labels = np.load('MNIST/test_labels.npy')"
      ],
      "execution_count": 0,
      "outputs": []
    },
    {
      "metadata": {
        "id": "hiJiY8xwck_r",
        "colab_type": "code",
        "colab": {
          "base_uri": "https://localhost:8080/",
          "height": 85
        },
        "outputId": "0d42c792-0a5f-4ae9-bf1c-de8bcbb5fd67"
      },
      "cell_type": "code",
      "source": [
        "## Print out their dimensions\n",
        "print(\"Training dataset dimensions: \", np.shape(train_data))\n",
        "print(\"Number of training labels: \", len(train_labels))\n",
        "print(\"Testing dataset dimensions: \", np.shape(test_data))\n",
        "print(\"Number of testing labels: \", len(test_labels))"
      ],
      "execution_count": 3,
      "outputs": [
        {
          "output_type": "stream",
          "text": [
            "Training dataset dimensions:  (7500, 784)\n",
            "Number of training labels:  7500\n",
            "Testing dataset dimensions:  (1000, 784)\n",
            "Number of testing labels:  1000\n"
          ],
          "name": "stdout"
        }
      ]
    },
    {
      "metadata": {
        "id": "AWxodP_Rck_x",
        "colab_type": "code",
        "colab": {
          "base_uri": "https://localhost:8080/",
          "height": 85
        },
        "outputId": "bfcd0246-7e59-4177-c89f-a8edfe053f6d"
      },
      "cell_type": "code",
      "source": [
        "## Compute the number of examples of each digit\n",
        "train_digits, train_counts = np.unique(train_labels, return_counts=True)\n",
        "print(\"Training set distribution:\")\n",
        "print(dict(zip(train_digits, train_counts)))\n",
        "\n",
        "test_digits, test_counts = np.unique(test_labels, return_counts=True)\n",
        "print(\"Test set distribution:\")\n",
        "print(dict(zip(test_digits, test_counts)))"
      ],
      "execution_count": 5,
      "outputs": [
        {
          "output_type": "stream",
          "text": [
            "Training set distribution:\n",
            "{0: 750, 1: 750, 2: 750, 3: 750, 4: 750, 5: 750, 6: 750, 7: 750, 8: 750, 9: 750}\n",
            "Test set distribution:\n",
            "{0: 100, 1: 100, 2: 100, 3: 100, 4: 100, 5: 100, 6: 100, 7: 100, 8: 100, 9: 100}\n"
          ],
          "name": "stdout"
        }
      ]
    },
    {
      "metadata": {
        "id": "pz6QV6Hqck_0",
        "colab_type": "text"
      },
      "cell_type": "markdown",
      "source": [
        "## 2. Visualizing the data\n",
        "Each data point is stored as 784-dimensional vector. To visualize a data point, we first reshape it to a 28x28 image."
      ]
    },
    {
      "metadata": {
        "id": "y9oAku2qck_1",
        "colab_type": "code",
        "colab": {
          "base_uri": "https://localhost:8080/",
          "height": 547
        },
        "outputId": "75682e95-fdea-4269-def2-eae221537ab8"
      },
      "cell_type": "code",
      "source": [
        "## Define a function that displays a digit given its vector representation\n",
        "def show_digit(x):\n",
        "    plt.axis('off')\n",
        "    plt.imshow(x.reshape((28,28)), cmap=plt.cm.gray)\n",
        "    plt.show()\n",
        "    return\n",
        "\n",
        "## Define a function that takes an index into a particular data set (\"train\" or \"test\") and displays that image.\n",
        "def vis_image(index, dataset=\"train\"):\n",
        "    if(dataset==\"train\"): \n",
        "        show_digit(train_data[index,])\n",
        "        label = train_labels[index]\n",
        "    else:\n",
        "        show_digit(test_data[index,])\n",
        "        label = test_labels[index]\n",
        "    print(\"Label \" + str(label))\n",
        "    return\n",
        "\n",
        "## View the first data point in the training set\n",
        "vis_image(0, \"train\")\n",
        "\n",
        "## Now view the first data point in the test set\n",
        "vis_image(0, \"test\")"
      ],
      "execution_count": 6,
      "outputs": [
        {
          "output_type": "display_data",
          "data": {
            "image/png": "[encoded data removed]",
            "text/plain": [
              "<matplotlib.figure.Figure at 0x7fcd85f639b0>"
            ]
          },
          "metadata": {
            "tags": []
          }
        },
        {
          "output_type": "stream",
          "text": [
            "Label 9\n"
          ],
          "name": "stdout"
        },
        {
          "output_type": "display_data",
          "data": {
            "image/png": "[encoded data removed]",
            "text/plain": [
              "<matplotlib.figure.Figure at 0x7fcd85f836a0>"
            ]
          },
          "metadata": {
            "tags": []
          }
        },
        {
          "output_type": "stream",
          "text": [
            "Label 0\n"
          ],
          "name": "stdout"
        }
      ]
    },
    {
      "metadata": {
        "collapsed": true,
        "id": "b9nPRUWOck_4",
        "colab_type": "text"
      },
      "cell_type": "markdown",
      "source": [
        "## 3. Squared Euclidean distance\n",
        "\n",
        "To compute nearest neighbors in our data set, we need to first be able to compute distances between data points. A natural distance function is _Euclidean distance_: for two vectors $x, y \\in \\mathbb{R}^d$, their Euclidean distance is defined as \n",
        "$$\\|x - y\\| = \\sqrt{\\sum_{i=1}^d (x_i - y_i)^2}.$$\n",
        "Often we omit the square root, and simply compute _squared Euclidean distance_:\n",
        "$$\\|x - y\\|^2 = \\sum_{i=1}^d (x_i - y_i)^2.$$\n",
        "For the purposes of nearest neighbor computations, the two are equivalent: for three vectors $x, y, z \\in \\mathbb{R}^d$, we have $\\|x - y\\| \\leq \\|x - z\\|$ if and only if $\\|x - y\\|^2 \\leq \\|x - z\\|^2$.\n",
        "\n",
        "Now we just need to be able to compute squared Euclidean distance. The following function does so."
      ]
    },
    {
      "metadata": {
        "id": "k_WPkHz5ck_5",
        "colab_type": "code",
        "colab": {
          "base_uri": "https://localhost:8080/",
          "height": 68
        },
        "outputId": "3d3f91b0-9d80-4898-bc94-a3e653a235ee"
      },
      "cell_type": "code",
      "source": [
        "## Computes squared Euclidean distance between two vectors.\n",
        "def squared_dist(x,y):\n",
        "    return np.sum(np.square(x-y))\n",
        "\n",
        "## Compute distance between a seven and a one in our training set.\n",
        "print(\"Distance from 7 to 1: \", squared_dist(train_data[4,],train_data[5,]))\n",
        "\n",
        "## Compute distance between a seven and a two in our training set.\n",
        "print(\"Distance from 7 to 2: \", squared_dist(train_data[4,],train_data[1,]))\n",
        "\n",
        "## Compute distance between two seven's in our training set.\n",
        "print(\"Distance from 7 to 7: \", squared_dist(train_data[4,],train_data[7,]))"
      ],
      "execution_count": 7,
      "outputs": [
        {
          "output_type": "stream",
          "text": [
            "Distance from 7 to 1:  5357193.0\n",
            "Distance from 7 to 2:  12451684.0\n",
            "Distance from 7 to 7:  5223403.0\n"
          ],
          "name": "stdout"
        }
      ]
    },
    {
      "metadata": {
        "id": "MyjsmMByck_8",
        "colab_type": "text"
      },
      "cell_type": "markdown",
      "source": [
        "## 4. Computing nearest neighbors\n",
        "\n",
        "Now that we have a distance function defined, we can now turn to nearest neighbor classification. "
      ]
    },
    {
      "metadata": {
        "id": "HQb34pAuck_8",
        "colab_type": "code",
        "colab": {}
      },
      "cell_type": "code",
      "source": [
        "## Takes a vector x and returns the index of its nearest neighbor in train_data\n",
        "def find_NN(x):\n",
        "    # Compute distances from x to every row in train_data\n",
        "    distances = [squared_dist(x,train_data[i,]) for i in range(len(train_labels))]\n",
        "    # Get the index of the smallest distance\n",
        "    return np.argmin(distances)\n",
        "\n",
        "## Takes a vector x and returns the class of its nearest neighbor in train_data\n",
        "def NN_classifier(x):\n",
        "    # Get the index of the the nearest neighbor\n",
        "    index = find_NN(x)\n",
        "    # Return its class\n",
        "    return train_labels[index]"
      ],
      "execution_count": 0,
      "outputs": []
    },
    {
      "metadata": {
        "id": "ewl1hToCck_-",
        "colab_type": "code",
        "colab": {
          "base_uri": "https://localhost:8080/",
          "height": 632
        },
        "outputId": "c12998c9-3348-4396-c76f-7893345acd80"
      },
      "cell_type": "code",
      "source": [
        "## A success case:\n",
        "print(\"A success case:\")\n",
        "print(\"NN classification: \", NN_classifier(test_data[0,]))\n",
        "print(\"True label: \", test_labels[0])\n",
        "print(\"The test image:\")\n",
        "vis_image(0, \"test\")\n",
        "print(\"The corresponding nearest neighbor image:\")\n",
        "vis_image(find_NN(test_data[0,]), \"train\")"
      ],
      "execution_count": 9,
      "outputs": [
        {
          "output_type": "stream",
          "text": [
            "A success case:\n",
            "NN classification:  0\n",
            "True label:  0\n",
            "The test image:\n"
          ],
          "name": "stdout"
        },
        {
          "output_type": "display_data",
          "data": {
            "image/png": "[encoded data removed]",
            "text/plain": [
              "<matplotlib.figure.Figure at 0x7fcdad075e48>"
            ]
          },
          "metadata": {
            "tags": []
          }
        },
        {
          "output_type": "stream",
          "text": [
            "Label 0\n",
            "The corresponding nearest neighbor image:\n"
          ],
          "name": "stdout"
        },
        {
          "output_type": "display_data",
          "data": {
            "image/png": "[encoded data removed]",
            "text/plain": [
              "<matplotlib.figure.Figure at 0x7fcd83676cc0>"
            ]
          },
          "metadata": {
            "tags": []
          }
        },
        {
          "output_type": "stream",
          "text": [
            "Label 0\n"
          ],
          "name": "stdout"
        }
      ]
    },
    {
      "metadata": {
        "id": "v3JD2lYMclAC",
        "colab_type": "code",
        "colab": {
          "base_uri": "https://localhost:8080/",
          "height": 632
        },
        "outputId": "04f81c81-abdd-48ce-93e8-be6852856c76"
      },
      "cell_type": "code",
      "source": [
        "## A failure case:\n",
        "print(\"A failure case:\")\n",
        "print(\"NN classification: \", NN_classifier(test_data[39,]))\n",
        "print(\"True label: \", test_labels[39])\n",
        "print(\"The test image:\")\n",
        "vis_image(39, \"test\")\n",
        "print(\"The corresponding nearest neighbor image:\")\n",
        "vis_image(find_NN(test_data[39,]), \"train\")"
      ],
      "execution_count": 10,
      "outputs": [
        {
          "output_type": "stream",
          "text": [
            "A failure case:\n",
            "NN classification:  2\n",
            "True label:  3\n",
            "The test image:\n"
          ],
          "name": "stdout"
        },
        {
          "output_type": "display_data",
          "data": {
            "image/png": "[encoded data removed]",
            "text/plain": [
              "<matplotlib.figure.Figure at 0x7fcd83623e48>"
            ]
          },
          "metadata": {
            "tags": []
          }
        },
        {
          "output_type": "stream",
          "text": [
            "Label 3\n",
            "The corresponding nearest neighbor image:\n"
          ],
          "name": "stdout"
        },
        {
          "output_type": "display_data",
          "data": {
            "image/png": "[encoded data removed]",
            "text/plain": [
              "<matplotlib.figure.Figure at 0x7fcd8356a2e8>"
            ]
          },
          "metadata": {
            "tags": []
          }
        },
        {
          "output_type": "stream",
          "text": [
            "Label 2\n"
          ],
          "name": "stdout"
        }
      ]
    },
    {
      "metadata": {
        "id": "aka_do-7clAE",
        "colab_type": "text"
      },
      "cell_type": "markdown",
      "source": [
        "## 5. For you to try\n",
        "The above two examples show the results of the NN classifier on test points number 0 and 39.\n",
        "\n",
        "Now try test point number 100.\n",
        "* What is the index of its nearest neighbor in the training set? _Record the answer: you will enter it as part of this week's assignment._\n",
        "* Display both the test point and its nearest neighbor.\n",
        "* What label is predicted? Is this the correct label?"
      ]
    },
    {
      "metadata": {
        "id": "PCKlWQoJclAF",
        "colab_type": "code",
        "colab": {
          "base_uri": "https://localhost:8080/",
          "height": 632
        },
        "outputId": "752c42ec-8450-4b4b-b308-ef97350281f5"
      },
      "cell_type": "code",
      "source": [
        "# Test point number 100\n",
        "print(\"NN classification: \", NN_classifier(test_data[100,]))\n",
        "print(\"True label: \", test_labels[100])\n",
        "print(\"The test image:\")\n",
        "vis_image(100, \"test\")\n",
        "print(\"The corresponding nearest neighbor image:\")\n",
        "vis_image(find_NN(test_data[100,]), \"train\")\n",
        "print(\"correct label\")"
      ],
      "execution_count": 12,
      "outputs": [
        {
          "output_type": "stream",
          "text": [
            "NN classification:  4\n",
            "True label:  4\n",
            "The test image:\n"
          ],
          "name": "stdout"
        },
        {
          "output_type": "display_data",
          "data": {
            "image/png": "[encoded data removed]",
            "text/plain": [
              "<matplotlib.figure.Figure at 0x7fcd8363a6a0>"
            ]
          },
          "metadata": {
            "tags": []
          }
        },
        {
          "output_type": "stream",
          "text": [
            "Label 4\n",
            "The corresponding nearest neighbor image:\n"
          ],
          "name": "stdout"
        },
        {
          "output_type": "display_data",
          "data": {
            "image/png": "[encoded data removed]",
            "text/plain": [
              "<matplotlib.figure.Figure at 0x7fcd835385c0>"
            ]
          },
          "metadata": {
            "tags": []
          }
        },
        {
          "output_type": "stream",
          "text": [
            "Label 4\n",
            "correct label\n"
          ],
          "name": "stdout"
        }
      ]
    },
    {
      "metadata": {
        "id": "WKYM1GcNclAH",
        "colab_type": "text"
      },
      "cell_type": "markdown",
      "source": [
        "## 6. Processing the full test set\n",
        "\n",
        "Now let's apply our nearest neighbor classifier over the full data set. \n",
        "\n",
        "Note that to classify each test point, our code takes a full pass over each of the 7500 training examples. Thus we should not expect testing to be very fast. The following code takes about 100-150 seconds on 2.6 GHz Intel Core i5. "
      ]
    },
    {
      "metadata": {
        "id": "arrxrEmtclAI",
        "colab_type": "code",
        "colab": {
          "base_uri": "https://localhost:8080/",
          "height": 51
        },
        "outputId": "18325ad1-d8ce-4fab-de33-605fa80dbcaf"
      },
      "cell_type": "code",
      "source": [
        "## Predict on each test data point (and time it!)\n",
        "t_before = time.time()\n",
        "test_predictions = [NN_classifier(test_data[i,]) for i in range(len(test_labels))]\n",
        "t_after = time.time()\n",
        "\n",
        "## Compute the error\n",
        "err_positions = np.not_equal(test_predictions, test_labels)\n",
        "error = float(np.sum(err_positions))/len(test_labels)\n",
        "\n",
        "print(\"Error of nearest neighbor classifier: \", error)\n",
        "print(\"Classification time (seconds): \", t_after - t_before)"
      ],
      "execution_count": 13,
      "outputs": [
        {
          "output_type": "stream",
          "text": [
            "Error of nearest neighbor classifier:  0.046\n",
            "Classification time (seconds):  52.38509917259216\n"
          ],
          "name": "stdout"
        }
      ]
    },
    {
      "metadata": {
        "id": "HwHq9L86clAL",
        "colab_type": "text"
      },
      "cell_type": "markdown",
      "source": [
        "## 7. Faster nearest neighbor methods\n",
        "\n",
        "Performing nearest neighbor classification in the way we have presented requires a full pass through the training set in order to classify a single point. If there are $N$ training points in $\\mathbb{R}^d$, this takes $O(N d)$ time.\n",
        "\n",
        "Fortunately, there are faster methods to perform nearest neighbor look up if we are willing to spend some time preprocessing the training set. `scikit-learn` has fast implementations of two useful nearest neighbor data structures: the _ball tree_ and the _k-d tree_. "
      ]
    },
    {
      "metadata": {
        "id": "dMIeq8dsclAL",
        "colab_type": "code",
        "colab": {
          "base_uri": "https://localhost:8080/",
          "height": 68
        },
        "outputId": "aef913c4-3dfb-4a7b-b3ff-afb5f9e46f7c"
      },
      "cell_type": "code",
      "source": [
        "from sklearn.neighbors import BallTree\n",
        "\n",
        "## Build nearest neighbor structure on training data\n",
        "t_before = time.time()\n",
        "ball_tree = BallTree(train_data)\n",
        "t_after = time.time()\n",
        "\n",
        "## Compute training time\n",
        "t_training = t_after - t_before\n",
        "print(\"Time to build data structure (seconds): \", t_training)\n",
        "\n",
        "## Get nearest neighbor predictions on testing data\n",
        "t_before = time.time()\n",
        "test_neighbors = np.squeeze(ball_tree.query(test_data, k=1, return_distance=False))\n",
        "ball_tree_predictions = train_labels[test_neighbors]\n",
        "t_after = time.time()\n",
        "\n",
        "## Compute testing time\n",
        "t_testing = t_after - t_before\n",
        "print(\"Time to classify test set (seconds): \", t_testing)\n",
        "\n",
        "## Verify that the predictions are the same\n",
        "print(\"Ball tree produces same predictions as above? \", np.array_equal(test_predictions, ball_tree_predictions))"
      ],
      "execution_count": 14,
      "outputs": [
        {
          "output_type": "stream",
          "text": [
            "Time to build data structure (seconds):  0.5482151508331299\n",
            "Time to classify test set (seconds):  8.062226057052612\n",
            "Ball tree produces same predictions as above?  True\n"
          ],
          "name": "stdout"
        }
      ]
    },
    {
      "metadata": {
        "id": "riuNXjjwclAP",
        "colab_type": "code",
        "colab": {
          "base_uri": "https://localhost:8080/",
          "height": 68
        },
        "outputId": "6ea83e57-2ed7-4035-d9d8-89c4e3129cf3"
      },
      "cell_type": "code",
      "source": [
        "from sklearn.neighbors import KDTree\n",
        "\n",
        "## Build nearest neighbor structure on training data\n",
        "t_before = time.time()\n",
        "kd_tree = KDTree(train_data)\n",
        "t_after = time.time()\n",
        "\n",
        "## Compute training time\n",
        "t_training = t_after - t_before\n",
        "print(\"Time to build data structure (seconds): \", t_training)\n",
        "\n",
        "## Get nearest neighbor predictions on testing data\n",
        "t_before = time.time()\n",
        "test_neighbors = np.squeeze(kd_tree.query(test_data, k=1, return_distance=False))\n",
        "kd_tree_predictions = train_labels[test_neighbors]\n",
        "t_after = time.time()\n",
        "\n",
        "## Compute testing time\n",
        "t_testing = t_after - t_before\n",
        "print(\"Time to classify test set (seconds): \", t_testing)\n",
        "\n",
        "## Verify that the predictions are the same\n",
        "print(\"KD tree produces same predictions as above? \", np.array_equal(test_predictions, kd_tree_predictions))"
      ],
      "execution_count": 15,
      "outputs": [
        {
          "output_type": "stream",
          "text": [
            "Time to build data structure (seconds):  0.4972095489501953\n",
            "Time to classify test set (seconds):  10.443819046020508\n",
            "KD tree produces same predictions as above?  True\n"
          ],
          "name": "stdout"
        }
      ]
    }
  ]
}
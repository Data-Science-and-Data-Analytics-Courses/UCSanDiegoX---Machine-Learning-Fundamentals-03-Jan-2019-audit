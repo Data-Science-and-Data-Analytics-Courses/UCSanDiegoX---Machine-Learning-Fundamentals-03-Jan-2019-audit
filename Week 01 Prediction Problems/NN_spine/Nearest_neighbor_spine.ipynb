{
  "nbformat": 4,
  "nbformat_minor": 0,
  "metadata": {
    "colab": {
      "name": "Nearest_neighbor_spine.ipynb",
      "version": "0.3.2",
      "provenance": [],
      "include_colab_link": true
    },
    "kernelspec": {
      "name": "python3",
      "display_name": "Python 3"
    },
    "accelerator": "GPU"
  },
  "cells": [
    {
      "cell_type": "markdown",
      "metadata": {
        "id": "view-in-github",
        "colab_type": "text"
      },
      "source": [
        "<a href=\"https://colab.research.google.com/github/Data-Science-and-Data-Analytics-Courses/UCSanDiegoX---Machine-Learning-Fundamentals-03-Jan-2019-audit/blob/master/Week%2001%20Prediction%20Problems/NN_spine/Nearest_neighbor_spine.ipynb\" target=\"_parent\"><img src=\"https://colab.research.google.com/assets/colab-badge.svg\" alt=\"Open In Colab\"/></a>"
      ]
    },
    {
      "metadata": {
        "id": "dOAPCDiFovSi",
        "colab_type": "text"
      },
      "cell_type": "markdown",
      "source": [
        "# Nearest neighbor for spine injury classification"
      ]
    },
    {
      "metadata": {
        "id": "eSWiUx5QovSn",
        "colab_type": "text"
      },
      "cell_type": "markdown",
      "source": [
        "In this homework notebook we use **nearest neighbor classification** to classify back injuries for patients in a hospital, based on measurements of the shape and orientation of their pelvis and spine.\n",
        "\n",
        "The data set contains information from **310** patients. For each patient, there are: six measurements (the x) and a label (the y). The label has **3** possible values, `’NO’` (normal), `’DH’` (herniated disk), or `’SL’` (spondilolysthesis). "
      ]
    },
    {
      "metadata": {
        "id": "wwfbXt5QovSo",
        "colab_type": "text"
      },
      "cell_type": "markdown",
      "source": [
        "**Note:** Before attempting this homework, please go through the <font color=\"magenta\">*Nearest neighbor for handwritten digit recognition*</font> notebook."
      ]
    },
    {
      "metadata": {
        "id": "PqIRnjuQLp6j",
        "colab_type": "text"
      },
      "cell_type": "markdown",
      "source": [
        "# Clone GitHub remote repository to Google Colaboratory (run the following code cell one time only)"
      ]
    },
    {
      "metadata": {
        "id": "ufVSH6TLA2WV",
        "colab_type": "code",
        "outputId": "f158dad2-277f-47ae-8aee-4cc7f268b45d",
        "colab": {
          "base_uri": "https://localhost:8080/",
          "height": 153
        }
      },
      "cell_type": "code",
      "source": [
        "import os\n",
        "\n",
        "repo_url = \"https://github.com/Data-Science-and-Data-Analytics-Courses/UCSanDiegoX---Machine-Learning-Fundamentals-03-Jan-2019-audit\".strip(\"/\")\n",
        "repo_to_notebook_dir = \"Week 01 Prediction Problems/NN_spine\"\n",
        "\n",
        "# Clone remote repository to local repository\n",
        "repo_name = os.path.basename(repo_url)\n",
        "!git clone $repo_url\n",
        "%cd \"$repo_name\"\n",
        "\n",
        "# Change working directory to local notebook directory\n",
        "%cd \"$repo_to_notebook_dir\""
      ],
      "execution_count": 1,
      "outputs": [
        {
          "output_type": "stream",
          "text": [
            "Cloning into 'UCSanDiegoX---Machine-Learning-Fundamentals-03-Jan-2019-audit'...\n",
            "remote: Enumerating objects: 86, done.\u001b[K\n",
            "remote: Counting objects: 100% (86/86), done.\u001b[K\n",
            "remote: Compressing objects: 100% (76/76), done.\u001b[K\n",
            "remote: Total 86 (delta 27), reused 0 (delta 0), pack-reused 0\u001b[K\n",
            "Unpacking objects: 100% (86/86), done.\n",
            "/content/UCSanDiegoX---Machine-Learning-Fundamentals-03-Jan-2019-audit\n",
            "/content/UCSanDiegoX---Machine-Learning-Fundamentals-03-Jan-2019-audit/Week 01 Prediction Problems/NN_spine\n"
          ],
          "name": "stdout"
        }
      ]
    },
    {
      "metadata": {
        "id": "zTdZrgw_ovSo",
        "colab_type": "text"
      },
      "cell_type": "markdown",
      "source": [
        "# 1. Setup notebook"
      ]
    },
    {
      "metadata": {
        "id": "_ydsukyRovSq",
        "colab_type": "text"
      },
      "cell_type": "markdown",
      "source": [
        "We import all necessary packages for the homework. Notice that we do **NOT** import any of the `sklearn` packages. This is because we want you to implement a nearest neighbor classifier **manually**, as in the <font color=\"magenta\">*Nearest neighbor for handwritten digit recognition*</font> notebook. \n"
      ]
    },
    {
      "metadata": {
        "id": "jsoYHdWjovSq",
        "colab_type": "code",
        "colab": {}
      },
      "cell_type": "code",
      "source": [
        "import numpy as np"
      ],
      "execution_count": 0,
      "outputs": []
    },
    {
      "metadata": {
        "id": "Q_hIQoEcovSu",
        "colab_type": "text"
      },
      "cell_type": "markdown",
      "source": [
        "We now load the dataset. We divide the data into a training set of 248 patients and a separate test set of 62 patients. The following arrays are created:\n",
        "\n",
        "* **`trainx`** : The training data's features, one point per row.\n",
        "* **`trainy`** : The training data's labels.\n",
        "* **`testx`** : The test data's features, one point per row.\n",
        "* **`testy`** : The test data's labels.\n",
        "\n",
        "We will use the training set (`trainx` and `trainy`), with nearest neighbor classification, to predict labels for the test data (`testx`). We will then compare these predictions with the correct labels, `testy`."
      ]
    },
    {
      "metadata": {
        "id": "1kYzGzKjovSu",
        "colab_type": "text"
      },
      "cell_type": "markdown",
      "source": [
        "Notice that we code the three labels as `0. = ’NO’, 1. = ’DH’, 2. = ’SL’`."
      ]
    },
    {
      "metadata": {
        "id": "lUxGx1WUovSv",
        "colab_type": "code",
        "colab": {
          "base_uri": "https://localhost:8080/",
          "height": 34
        },
        "outputId": "25698a87-7d9e-4798-b4d3-10f47bef6a34"
      },
      "cell_type": "code",
      "source": [
        "# Load data set and code labels as 0 = ’NO’, 1 = ’DH’, 2 = ’SL’\n",
        "labels = [b'NO', b'DH', b'SL']\n",
        "data = np.loadtxt('column_3C.dat', converters={6: lambda s: labels.index(s)} )\n",
        "\n",
        "# Separate features from labels\n",
        "x = data[:,0:6]\n",
        "y = data[:,6]\n",
        "\n",
        "# Divide into training and test set\n",
        "training_indices = list(range(0,20)) + list(range(40,188)) + list(range(230,310))\n",
        "test_indices = list(range(20,40)) + list(range(188,230))\n",
        "\n",
        "trainx = x[training_indices,:]\n",
        "trainy = y[training_indices]\n",
        "testx = x[test_indices,:]\n",
        "testy = y[test_indices]"
      ],
      "execution_count": 12,
      "outputs": [
        {
          "output_type": "execute_result",
          "data": {
            "text/plain": [
              "dtype('float64')"
            ]
          },
          "metadata": {
            "tags": []
          },
          "execution_count": 12
        }
      ]
    },
    {
      "metadata": {
        "id": "NF2yQCnqovSx",
        "colab_type": "text"
      },
      "cell_type": "markdown",
      "source": [
        "## 2. Nearest neighbor classification with L2 distance"
      ]
    },
    {
      "metadata": {
        "id": "ywgyqewqovSy",
        "colab_type": "text"
      },
      "cell_type": "markdown",
      "source": [
        "In this exercise we will build a nearest neighbor classifier based on L2 (*Euclidean*) distance.\n",
        "\n",
        "<font color=\"magenta\">**For you to do:**</font> Write a function, **NN_L2**, which takes as input the training data (`trainx` and `trainy`) and the test points (`testx`) and predicts labels for these test points using 1-NN classification. These labels should be returned in a `numpy` array with one entry per test point. For **NN_L2**, the L2 norm should be used as the distance metric."
      ]
    },
    {
      "metadata": {
        "id": "WUYI6X8tovSz",
        "colab_type": "text"
      },
      "cell_type": "markdown",
      "source": [
        "\n",
        "<font  style=\"color:blue\"> **Code**</font>\n",
        "```python\n",
        "# test function \n",
        "testy_L2 = NN_L2(trainx, trainy, testx)\n",
        "print( type( testy_L2) )\n",
        "print( len(testy_L2) )\n",
        "print( testy_L2[40:50] )\n",
        "```\n",
        "\n",
        "<font  style=\"color:magenta\"> **Output**</font>\n",
        "```\n",
        "<class 'numpy.ndarray'>\n",
        "62\n",
        "[ 2.  2.  1.  0.  0.  0.  0.  0.  0.  0.]\n",
        "```\n"
      ]
    },
    {
      "metadata": {
        "id": "7X62zZhsovS0",
        "colab_type": "code",
        "colab": {}
      },
      "cell_type": "code",
      "source": [
        "# Modify this Cell\n",
        "\n",
        "def find_NN(trainx, x):\n",
        "    # Compute distances from x to every row in trainx\n",
        "    distances = [np.sum(np.square(x-y)) for y in trainx]\n",
        "    # Get the index of the smallest distance\n",
        "    return np.argmin(distances)\n",
        "\n",
        "def NN_L2(trainx, trainy, testx):\n",
        "    # inputs: trainx, trainy, testx <-- as defined above\n",
        "    # output: an np.array of the predicted values for testy \n",
        "    \n",
        "    ### BEGIN SOLUTION\n",
        "    predictions = np.array([trainy[find_NN(trainx, x),] for x in testx])\n",
        "    return predictions\n",
        "    ### END SOLUTION"
      ],
      "execution_count": 0,
      "outputs": []
    },
    {
      "metadata": {
        "id": "Dbu1OExZovS3",
        "colab_type": "text"
      },
      "cell_type": "markdown",
      "source": [
        "After you are done, run the cell below to check your function. If an error is triggered, you should go back and revise your function."
      ]
    },
    {
      "metadata": {
        "id": "dSnjzPQfovS4",
        "colab_type": "code",
        "colab": {}
      },
      "cell_type": "code",
      "source": [
        "testy_L2 = NN_L2(trainx, trainy, testx)\n",
        "\n",
        "assert( type( testy_L2).__name__ == 'ndarray' )\n",
        "assert( len(testy_L2) == 62 ) \n",
        "assert( np.all( testy_L2[50:60] == [ 0.,  0.,  0.,  0.,  2.,  0.,  2.,  0.,  0.,  0.] )  )\n",
        "assert( np.all( testy_L2[0:10] == [ 0.,  0.,  0.,  1.,  1.,  0.,  1.,  0.,  0.,  1.] ) )"
      ],
      "execution_count": 0,
      "outputs": []
    },
    {
      "metadata": {
        "id": "3oGDk2qyovS6",
        "colab_type": "text"
      },
      "cell_type": "markdown",
      "source": [
        "# 3. Nearest neighbor classification with L1 distance"
      ]
    },
    {
      "metadata": {
        "id": "eCs4SNjIovS8",
        "colab_type": "text"
      },
      "cell_type": "markdown",
      "source": [
        "We now compute nearest neighbors using the L1 distance (sometimes called *Manhattan Distance*).\n",
        "\n",
        "<font color=\"magenta\">**For you to do:**</font> Write a function, **NN_L1**, which again takes as input the arrays `trainx`, `trainy`, and `testx`, and predicts labels for the test points using 1-nearest neighbor classification. For **NN_L1**, the L1 distance metric should be used. As before, the predicted labels should be returned in a `numpy` array with one entry per test point.\n",
        "\n",
        "Notice that **NN_L1** and **NN_L2** may well produce different predictions on the test set."
      ]
    },
    {
      "metadata": {
        "id": "MCSClWogovS9",
        "colab_type": "text"
      },
      "cell_type": "markdown",
      "source": [
        "\n",
        "<font  style=\"color:blue\"> **Code**</font>\n",
        "```python\n",
        "# test function \n",
        "testy_L2 = NN_L2(trainx, trainy, testx)\n",
        "testy_L1 = NN_L1(trainx, trainy, testx)\n",
        "\n",
        "print( type( testy_L1) )\n",
        "print( len(testy_L1) )\n",
        "print( testy_L1[40:50] )\n",
        "print( all(testy_L1 == testy_L2) )\n",
        "```\n",
        "\n",
        "<font  style=\"color:magenta\"> **Output**</font>\n",
        "```\n",
        "<class 'numpy.ndarray'>\n",
        "62\n",
        "[ 2.  2.  0.  0.  0.  0.  0.  0.  0.  0.]\n",
        "False\n",
        "```\n"
      ]
    },
    {
      "metadata": {
        "id": "4bRQKsApovS-",
        "colab_type": "code",
        "colab": {}
      },
      "cell_type": "code",
      "source": [
        "# Modify this Cell\n",
        "\n",
        "def find_NN1(trainx, x):\n",
        "    # Compute distances from x to every row in trainx\n",
        "    distances = [np.sum(np.abs(x-y)) for y in trainx]\n",
        "    # Get the index of the smallest distance\n",
        "    return np.argmin(distances)\n",
        "\n",
        "def NN_L1(trainx, trainy, testx):\n",
        "    # inputs: trainx, trainy, testx <-- as defined above\n",
        "    # output: an np.array of the predicted values for testy \n",
        "    \n",
        "    ### BEGIN SOLUTION\n",
        "    predictions = np.array([trainy[find_NN1(trainx, x),] for x in testx])\n",
        "    return predictions\n",
        "    ### END SOLUTION"
      ],
      "execution_count": 0,
      "outputs": []
    },
    {
      "metadata": {
        "id": "Pt4ULYFMovTA",
        "colab_type": "text"
      },
      "cell_type": "markdown",
      "source": [
        "Again, use the following cell to check your code."
      ]
    },
    {
      "metadata": {
        "id": "hQ9Kq0DyovTB",
        "colab_type": "code",
        "colab": {}
      },
      "cell_type": "code",
      "source": [
        "testy_L1 = NN_L1(trainx, trainy, testx)\n",
        "testy_L2 = NN_L2(trainx, trainy, testx)\n",
        "\n",
        "assert( type( testy_L1).__name__ == 'ndarray' )\n",
        "assert( len(testy_L1) == 62 ) \n",
        "assert( not all(testy_L1 == testy_L2) )\n",
        "assert( all(testy_L1[50:60]== [ 0.,  2.,  1.,  0.,  2.,  0.,  0.,  0.,  0.,  0.]) )\n",
        "assert( all( testy_L1[0:10] == [ 0.,  0.,  0.,  0.,  1.,  0.,  1.,  0.,  0.,  1.]) )"
      ],
      "execution_count": 0,
      "outputs": []
    },
    {
      "metadata": {
        "collapsed": true,
        "id": "D3wH-okbovTD",
        "colab_type": "text"
      },
      "cell_type": "markdown",
      "source": [
        "# 4. Test errors and the confusion matrix"
      ]
    },
    {
      "metadata": {
        "id": "TPkXsLdwovTE",
        "colab_type": "text"
      },
      "cell_type": "markdown",
      "source": [
        "Let's see if the L1 and L2 distance functions yield different error rates for nearest neighbor classification of the test data."
      ]
    },
    {
      "metadata": {
        "id": "d9QQPFPtovTG",
        "colab_type": "code",
        "colab": {
          "base_uri": "https://localhost:8080/",
          "height": 51
        },
        "outputId": "feb4a8ce-4fcd-4c09-c43e-9d55c8e2fd49"
      },
      "cell_type": "code",
      "source": [
        "def error_rate(testy, testy_fit):\n",
        "    return float(sum(testy!=testy_fit))/len(testy) \n",
        "\n",
        "print(\"Error rate of NN_L1: \", error_rate(testy,testy_L1) )\n",
        "print(\"Error rate of NN_L2: \", error_rate(testy,testy_L2) )"
      ],
      "execution_count": 37,
      "outputs": [
        {
          "output_type": "stream",
          "text": [
            "Error rate of NN_L1:  0.22580645161290322\n",
            "Error rate of NN_L2:  0.20967741935483872\n"
          ],
          "name": "stdout"
        }
      ]
    },
    {
      "metadata": {
        "id": "izzuzACpovTJ",
        "colab_type": "text"
      },
      "cell_type": "markdown",
      "source": [
        "We will now look a bit more deeply into the specific types of errors made by nearest neighbor classification, by constructing the <font color=\"magenta\">*confusion matrix*</font>.\n",
        "\n",
        "Since there are three labels, the confusion matrix is a 3x3 matrix whose rows correspond to the true label and whose columns correspond to the predicted label. For example, the entry at row DH, column SL, contains the number of test points whose correct label was DH but which were classified as SL.\n",
        "\n",
        "<img style=\"width:200px\" src=\"https://github.com/Data-Science-and-Data-Analytics-Courses/UCSanDiegoX---Machine-Learning-Fundamentals-03-Jan-2019-audit/blob/master/Week%2001%20Prediction%20Problems/NN_spine/confusion_matrix.png?raw=1\">\n",
        "\n",
        "\n"
      ]
    },
    {
      "metadata": {
        "id": "ynCl-ocHovTK",
        "colab_type": "text"
      },
      "cell_type": "markdown",
      "source": [
        "Write a function, **confusion**, which takes as input the true labels for the test set (that is, `testy`) as well as the predicted labels and returns the confusion matrix. The confusion matrix should be a `np.array` of shape `(3,3)` . "
      ]
    },
    {
      "metadata": {
        "id": "JyD7RfYBovTL",
        "colab_type": "text"
      },
      "cell_type": "markdown",
      "source": [
        "<font  style=\"color:blue\"> **Code**</font>\n",
        "```python\n",
        "L2_neo = confusion(testy, testy_L2)  \n",
        "print( type(L2_neo) )\n",
        "print( L2_neo.shape )\n",
        "print( L2_neo )\n",
        "```\n",
        "\n",
        "<font  style=\"color:magenta\"> **Output**</font>\n",
        "```\n",
        "<class 'numpy.ndarray'>\n",
        "(3, 3)\n",
        "[[ 17.   1.   2.]\n",
        " [ 10.  10.   0.]\n",
        " [  0.   0.  22.]]\n",
        "```\n"
      ]
    },
    {
      "metadata": {
        "id": "7dBDS-qHovTL",
        "colab_type": "code",
        "colab": {}
      },
      "cell_type": "code",
      "source": [
        "# Modify this cell\n",
        "\n",
        "def confusion(testy,testy_fit):\n",
        "    # inputs: the correct labels, the fitted NN labels \n",
        "    # output: a 3x3 np.array representing the confusion matrix as above\n",
        "    \n",
        "    ### BEGIN SOLUTION\n",
        "    confusions = np.zeros(shape=(3, 3))\n",
        "    for i, j in zip(testy.astype(int), testy_fit.astype(int)):\n",
        "      confusions[i, j] += 1\n",
        "    return confusions\n",
        "    ### END SOLUTION"
      ],
      "execution_count": 0,
      "outputs": []
    },
    {
      "metadata": {
        "id": "Vh5QOSQqovTO",
        "colab_type": "text"
      },
      "cell_type": "markdown",
      "source": [
        "Now check your code by running the following cell."
      ]
    },
    {
      "metadata": {
        "id": "1S0YHpKCovTO",
        "colab_type": "code",
        "colab": {}
      },
      "cell_type": "code",
      "source": [
        "# Test Function\n",
        "\n",
        "L1_neo = confusion(testy, testy_L1) \n",
        "assert( type(L1_neo).__name__ == 'ndarray' )\n",
        "assert( L1_neo.shape == (3,3) )\n",
        "assert( np.all(L1_neo == [[ 16.,  2.,  2.],[ 10.,  10.,  0.],[ 0.,  0.,  22.]]) )\n",
        "L2_neo = confusion(testy, testy_L2)  \n",
        "assert( np.all(L2_neo == [[ 17.,  1.,  2.],[ 10.,  10.,  0.],[ 0.,  0.,  22.]]) )"
      ],
      "execution_count": 0,
      "outputs": []
    },
    {
      "metadata": {
        "id": "2kF1uDWlovTR",
        "colab_type": "text"
      },
      "cell_type": "markdown",
      "source": [
        "# 5. Some questions for you\n",
        "\n",
        "*Note down the answers to these, since you will need to enter them as part of this week's assignment.*\n",
        "\n",
        "* In the test set, which class (NO, DH, or SL) was **most frequently** misclassified by the L1-based nearest neighbor classifier?\n",
        "* In the test set, which class (NO, DH, or SL) was **never** misclassified by the L2-based nearest neighbor classifier?\n",
        "* On **how many** of the test points did the two classification schemes (based on L1 and L2 distance) yield *different* predictions?\n"
      ]
    },
    {
      "metadata": {
        "id": "k3YkqtGcBjtS",
        "colab_type": "code",
        "colab": {
          "base_uri": "https://localhost:8080/",
          "height": 51
        },
        "outputId": "8132c6cb-6d87-48e5-a50c-114c85d2c7f7"
      },
      "cell_type": "code",
      "source": [
        "labels = np.array([\"NO\", \"DH\", \"SL\"])\n",
        "\n",
        "# L1 classifier\n",
        "mask = np.eye(3, dtype=int)\n",
        "failures1 = np.ma.masked_array(L1_neo, mask=mask) # misclassification matrix (successful classifications (diagonal values) are ignored)\n",
        "indices = failures1.sum(axis=1).argmax() # of most frequently misclassified classes\n",
        "print(\"L1 classifier, most frequently misclassified:\", labels[indices])\n",
        "\n",
        "# L2 classifier\n",
        "mask = np.eye(3, dtype=int)\n",
        "failures2 = np.ma.masked_array(L2_neo, mask=mask) # misclassification matrix (successful classifications (diagonal values) are ignored)\n",
        "indices = np.where(np.all(failures2==0, axis=1)) # of never misclassified classes\n",
        "print(\"L2 classifier, never misclassified:\", labels[indices])"
      ],
      "execution_count": 111,
      "outputs": [
        {
          "output_type": "stream",
          "text": [
            "L1 classifier, most frequently misclassified: DH\n",
            "L2 classifier, never misclassified: ['SL']\n"
          ],
          "name": "stdout"
        }
      ]
    }
  ]
}
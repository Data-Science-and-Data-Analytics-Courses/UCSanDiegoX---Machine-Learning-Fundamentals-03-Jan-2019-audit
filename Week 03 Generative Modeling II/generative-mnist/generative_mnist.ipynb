{
  "nbformat": 4,
  "nbformat_minor": 0,
  "metadata": {
    "colab": {
      "name": "generative_mnist.ipynb",
      "version": "0.3.2",
      "provenance": [],
      "include_colab_link": true
    },
    "kernelspec": {
      "name": "python3",
      "display_name": "Python 3"
    },
    "accelerator": "GPU"
  },
  "cells": [
    {
      "cell_type": "markdown",
      "metadata": {
        "id": "view-in-github",
        "colab_type": "text"
      },
      "source": [
        "<a href=\"https://colab.research.google.com/github/Data-Science-and-Data-Analytics-Courses/UCSanDiegoX---Machine-Learning-Fundamentals-03-Jan-2019-audit/blob/master/Week%2003%20Generative%20Modeling%20II/generative-mnist/generative_mnist.ipynb\" target=\"_parent\"><img src=\"https://colab.research.google.com/assets/colab-badge.svg\" alt=\"Open In Colab\"/></a>"
      ]
    },
    {
      "metadata": {
        "id": "XrxnqDZD79ih",
        "colab_type": "text"
      },
      "cell_type": "markdown",
      "source": [
        "# Gaussian generative models for handwritten digit classification"
      ]
    },
    {
      "metadata": {
        "id": "SvKgUFS479in",
        "colab_type": "text"
      },
      "cell_type": "markdown",
      "source": [
        "Recall that the 1-NN classifier yielded a 3.09% test error rate on the MNIST data set of handwritten digits. We will now see that a Gaussian generative model does almost as well, while being significantly faster and more compact."
      ]
    },
    {
      "metadata": {
        "id": "izBa0Of08Met",
        "colab_type": "text"
      },
      "cell_type": "markdown",
      "source": [
        "# Clone remote"
      ]
    },
    {
      "metadata": {
        "id": "iLpnFiKFvADU",
        "colab_type": "code",
        "outputId": "01d0726e-5796-47a0-bdd7-293950b6c808",
        "colab": {
          "base_uri": "https://localhost:8080/",
          "height": 167
        }
      },
      "cell_type": "code",
      "source": [
        "import os\n",
        "from pathlib import Path\n",
        "\n",
        "URL = \"https://github.com/Data-Science-and-Data-Analytics-Courses/UCSanDiegoX---Machine-Learning-Fundamentals-03-Jan-2019-audit\"\n",
        "NBDIR = \"Week 03 Generative Modeling II/generative-mnist\"\n",
        "\n",
        "def clone(url, dest=\".\", branch=\"master\", reloc=True):\n",
        "  \"\"\"\n",
        "  Clone remote branch from url into dest\n",
        "  branch not provided: clone all branches\n",
        "  reloc is True: relocate to repository\n",
        "  \"\"\"\n",
        "\n",
        "  url = url.strip(\" /\")\n",
        "  repo = Path(dest, os.path.basename(url)).resolve()\n",
        "\n",
        "  # dest must not be inside existing repository\n",
        "  is_out = !git -C \"$dest\" rev-parse\n",
        "  if not is_out: # inside repository\n",
        "    raise ValueError(\"Can't clone into existing repository\")\n",
        "  \n",
        "  # Clone\n",
        "  p = repo.as_posix()\n",
        "  if branch: # specific branch\n",
        "    !git clone --single-branch --branch \"$branch\" \"$url\" \"$p\"\n",
        "  else: # all branches\n",
        "    !git clone \"$url\" \"$p\"\n",
        "  \n",
        "  # Relocate\n",
        "  if reloc:\n",
        "    os.chdir(repo)\n",
        "\n",
        "  return repo.as_posix()\n",
        "  \n",
        "REPO = clone(URL)\n",
        "%run .Importable.ipynb\n",
        "sys.path.append(REPO)\n",
        "%cd \"$NBDIR\""
      ],
      "execution_count": 1,
      "outputs": [
        {
          "output_type": "stream",
          "text": [
            "Cloning into '/content/UCSanDiegoX---Machine-Learning-Fundamentals-03-Jan-2019-audit'...\n",
            "remote: Enumerating objects: 141, done.\u001b[K\n",
            "remote: Counting objects: 100% (141/141), done.\u001b[K\n",
            "remote: Compressing objects: 100% (141/141), done.\u001b[K\n",
            "remote: Total 595 (delta 75), reused 0 (delta 0), pack-reused 454\u001b[K\n",
            "Receiving objects: 100% (595/595), 2.78 MiB | 2.58 MiB/s, done.\n",
            "Resolving deltas: 100% (295/295), done.\n"
          ],
          "name": "stdout"
        },
        {
          "output_type": "display_data",
          "data": {
            "text/html": [
              "\n",
              "<style type='text/css'>\n",
              ".hll { background-color: #ffffcc }\n",
              ".c { color: #408080; font-style: italic } /* Comment */\n",
              ".err { border: 1px solid #FF0000 } /* Error */\n",
              ".k { color: #008000; font-weight: bold } /* Keyword */\n",
              ".o { color: #666666 } /* Operator */\n",
              ".ch { color: #408080; font-style: italic } /* Comment.Hashbang */\n",
              ".cm { color: #408080; font-style: italic } /* Comment.Multiline */\n",
              ".cp { color: #BC7A00 } /* Comment.Preproc */\n",
              ".cpf { color: #408080; font-style: italic } /* Comment.PreprocFile */\n",
              ".c1 { color: #408080; font-style: italic } /* Comment.Single */\n",
              ".cs { color: #408080; font-style: italic } /* Comment.Special */\n",
              ".gd { color: #A00000 } /* Generic.Deleted */\n",
              ".ge { font-style: italic } /* Generic.Emph */\n",
              ".gr { color: #FF0000 } /* Generic.Error */\n",
              ".gh { color: #000080; font-weight: bold } /* Generic.Heading */\n",
              ".gi { color: #00A000 } /* Generic.Inserted */\n",
              ".go { color: #888888 } /* Generic.Output */\n",
              ".gp { color: #000080; font-weight: bold } /* Generic.Prompt */\n",
              ".gs { font-weight: bold } /* Generic.Strong */\n",
              ".gu { color: #800080; font-weight: bold } /* Generic.Subheading */\n",
              ".gt { color: #0044DD } /* Generic.Traceback */\n",
              ".kc { color: #008000; font-weight: bold } /* Keyword.Constant */\n",
              ".kd { color: #008000; font-weight: bold } /* Keyword.Declaration */\n",
              ".kn { color: #008000; font-weight: bold } /* Keyword.Namespace */\n",
              ".kp { color: #008000 } /* Keyword.Pseudo */\n",
              ".kr { color: #008000; font-weight: bold } /* Keyword.Reserved */\n",
              ".kt { color: #B00040 } /* Keyword.Type */\n",
              ".m { color: #666666 } /* Literal.Number */\n",
              ".s { color: #BA2121 } /* Literal.String */\n",
              ".na { color: #7D9029 } /* Name.Attribute */\n",
              ".nb { color: #008000 } /* Name.Builtin */\n",
              ".nc { color: #0000FF; font-weight: bold } /* Name.Class */\n",
              ".no { color: #880000 } /* Name.Constant */\n",
              ".nd { color: #AA22FF } /* Name.Decorator */\n",
              ".ni { color: #999999; font-weight: bold } /* Name.Entity */\n",
              ".ne { color: #D2413A; font-weight: bold } /* Name.Exception */\n",
              ".nf { color: #0000FF } /* Name.Function */\n",
              ".nl { color: #A0A000 } /* Name.Label */\n",
              ".nn { color: #0000FF; font-weight: bold } /* Name.Namespace */\n",
              ".nt { color: #008000; font-weight: bold } /* Name.Tag */\n",
              ".nv { color: #19177C } /* Name.Variable */\n",
              ".ow { color: #AA22FF; font-weight: bold } /* Operator.Word */\n",
              ".w { color: #bbbbbb } /* Text.Whitespace */\n",
              ".mb { color: #666666 } /* Literal.Number.Bin */\n",
              ".mf { color: #666666 } /* Literal.Number.Float */\n",
              ".mh { color: #666666 } /* Literal.Number.Hex */\n",
              ".mi { color: #666666 } /* Literal.Number.Integer */\n",
              ".mo { color: #666666 } /* Literal.Number.Oct */\n",
              ".sb { color: #BA2121 } /* Literal.String.Backtick */\n",
              ".sc { color: #BA2121 } /* Literal.String.Char */\n",
              ".sd { color: #BA2121; font-style: italic } /* Literal.String.Doc */\n",
              ".s2 { color: #BA2121 } /* Literal.String.Double */\n",
              ".se { color: #BB6622; font-weight: bold } /* Literal.String.Escape */\n",
              ".sh { color: #BA2121 } /* Literal.String.Heredoc */\n",
              ".si { color: #BB6688; font-weight: bold } /* Literal.String.Interpol */\n",
              ".sx { color: #008000 } /* Literal.String.Other */\n",
              ".sr { color: #BB6688 } /* Literal.String.Regex */\n",
              ".s1 { color: #BA2121 } /* Literal.String.Single */\n",
              ".ss { color: #19177C } /* Literal.String.Symbol */\n",
              ".bp { color: #008000 } /* Name.Builtin.Pseudo */\n",
              ".vc { color: #19177C } /* Name.Variable.Class */\n",
              ".vg { color: #19177C } /* Name.Variable.Global */\n",
              ".vi { color: #19177C } /* Name.Variable.Instance */\n",
              ".il { color: #666666 } /* Literal.Number.Integer.Long */\n",
              "</style>\n"
            ],
            "text/plain": [
              "<IPython.core.display.HTML object>"
            ]
          },
          "metadata": {
            "tags": []
          }
        },
        {
          "output_type": "stream",
          "text": [
            "/content/UCSanDiegoX---Machine-Learning-Fundamentals-03-Jan-2019-audit/Week 03 Generative Modeling II/generative-mnist\n"
          ],
          "name": "stdout"
        }
      ]
    },
    {
      "metadata": {
        "id": "nRdOYkrp79iq",
        "colab_type": "text"
      },
      "cell_type": "markdown",
      "source": [
        "## 1. Set up notebook and load in data"
      ]
    },
    {
      "metadata": {
        "id": "48cALXqX79ir",
        "colab_type": "text"
      },
      "cell_type": "markdown",
      "source": [
        "As usual, we start by importing the required packages and data. For this notebook we will be using the *entire* `MNIST` dataset. The code below defines some helper functions that will load `MNIST` onto your computer."
      ]
    },
    {
      "metadata": {
        "colab_type": "code",
        "id": "UwsQ8tGlgSyN",
        "outputId": "adfca8d7-1cf0-464c-82c8-50025abac6d1",
        "colab": {
          "base_uri": "https://localhost:8080/",
          "height": 34
        }
      },
      "cell_type": "code",
      "source": [
        "%matplotlib inline\n",
        "import matplotlib.pyplot as plt \n",
        "import gzip, os\n",
        "import numpy as np\n",
        "from scipy.stats import multivariate_normal\n",
        "from Packages.MNIST import load_images, load_labels"
      ],
      "execution_count": 2,
      "outputs": [
        {
          "output_type": "stream",
          "text": [
            "importing Jupyter notebook from /content/UCSanDiegoX---Machine-Learning-Fundamentals-03-Jan-2019-audit/Packages/MNIST.ipynb\n"
          ],
          "name": "stdout"
        }
      ]
    },
    {
      "metadata": {
        "id": "f9RxQWiw79i2",
        "colab_type": "text"
      },
      "cell_type": "markdown",
      "source": [
        "Now load in the training set and test set. The training set consists of 60,000 images. Thus `train_data` should be a 60000x784 array while `train_labels` should be 60000x1. Let's check."
      ]
    },
    {
      "metadata": {
        "id": "dOo0TQrN79i3",
        "colab_type": "code",
        "colab": {
          "base_uri": "https://localhost:8080/",
          "height": 34
        },
        "outputId": "748ae780-e343-4244-bff1-ce67ca92bd3f"
      },
      "cell_type": "code",
      "source": [
        "urls = {\"train-images-idx3-ubyte.gz\": \"http://yann.lecun.com/exdb/mnist/train-images-idx3-ubyte.gz\",\n",
        "        \"train-labels-idx1-ubyte.gz\": \"http://yann.lecun.com/exdb/mnist/train-labels-idx1-ubyte.gz\",\n",
        "        \"t10k-images-idx3-ubyte.gz\": \"http://yann.lecun.com/exdb/mnist/t10k-images-idx3-ubyte.gz\",\n",
        "        \"t10k-labels-idx1-ubyte.gz\": \"http://yann.lecun.com/exdb/mnist/t10k-labels-idx1-ubyte.gz\"}\n",
        "\n",
        "## Load the training set\n",
        "train_data = load_images(urls[\"train-images-idx3-ubyte.gz\"])\n",
        "train_labels = load_labels(urls[\"train-labels-idx1-ubyte.gz\"])\n",
        "print(\"Train:\\t{images}\\t{labels}\".format(images=train_data.shape, labels=train_labels.shape))\n",
        "\n",
        "## Load the testing set\n",
        "test_data = load_images(urls[\"t10k-images-idx3-ubyte.gz\"])\n",
        "test_labels = load_labels(urls[\"t10k-labels-idx1-ubyte.gz\"])\n",
        "print(\"Test:\\t{images}\\t{labels}\".format(images=test_data.shape, labels=test_labels.shape))"
      ],
      "execution_count": 10,
      "outputs": [
        {
          "output_type": "stream",
          "text": [
            "Test:\t(10000, 784)\t(10000,)\n"
          ],
          "name": "stdout"
        }
      ]
    },
    {
      "metadata": {
        "id": "X7tvNqpv79i7",
        "colab_type": "text"
      },
      "cell_type": "markdown",
      "source": [
        "The function **displaychar** shows a single MNIST digit. To do this, it first has to reshape the 784-dimensional vector into a 28x28 image."
      ]
    },
    {
      "metadata": {
        "id": "6E2fziYv79i8",
        "colab_type": "code",
        "colab": {}
      },
      "cell_type": "code",
      "source": [
        "def displaychar(image):\n",
        "    plt.imshow(np.reshape(image, (28,28)), cmap=plt.cm.gray)\n",
        "    plt.axis('off')\n",
        "    plt.show()"
      ],
      "execution_count": 0,
      "outputs": []
    },
    {
      "metadata": {
        "id": "hkpa2UBu79jC",
        "colab_type": "code",
        "colab": {
          "base_uri": "https://localhost:8080/",
          "height": 265
        },
        "outputId": "f1e531a2-d90d-49ae-f797-9b2cf152ab4f"
      },
      "cell_type": "code",
      "source": [
        "displaychar(train_data[58])"
      ],
      "execution_count": 5,
      "outputs": [
        {
          "output_type": "display_data",
          "data": {
            "image/png": "[encoded data removed]",
            "text/plain": [
              "<Figure size 432x288 with 1 Axes>"
            ]
          },
          "metadata": {
            "tags": []
          }
        }
      ]
    },
    {
      "metadata": {
        "id": "ButrSX-x79jS",
        "colab_type": "text"
      },
      "cell_type": "markdown",
      "source": [
        "## 2. Fit a Gaussian generative model to the training data"
      ]
    },
    {
      "metadata": {
        "id": "Ib7IY3G379jS",
        "colab_type": "text"
      },
      "cell_type": "markdown",
      "source": [
        "**<font color=\"magenta\">For you to do:</font>** Define a function, **fit_generative_model**, that takes as input a training set (data `x` and labels `y`) and fits a Gaussian generative model to it. It should return the parameters of this generative model; for each label `j = 0,1,...,9`, we have:\n",
        "* `pi[j]`: the frequency of that label\n",
        "* `mu[j]`: the 784-dimensional mean vector\n",
        "* `sigma[j]`: the 784x784 covariance matrix\n",
        "\n",
        "This means that `pi` is 10x1, `mu` is 10x784, and `sigma` is 10x784x784.\n",
        "\n",
        "We have already seen how to fit a Gaussian generative model in the Winery example, but now there is an added ingredient. <font color=\"magenta\">The empirical covariances are very likely to be singular (or close to singular), which means that we won't be able to do calculations with them</font>. Thus it is important to **regularize** these matrices. The standard way of doing this is to add `cI` to them, where `c` is some constant and `I` is the 784-dimensional identity matrix. (To put it another way, we compute the empirical covariances and then increase their diagonal entries by some constant `c`.)\n",
        "\n",
        "This modification is guaranteed to yield covariance matrices that are non-singular, for any `c > 0`, no matter how small. But this doesn't mean that we should make `c` as small as possible. Indeed, `c` is now a parameter, and by setting it appropriately, we can improve the performance of the model. We will study **regularization** in greater detail over the coming weeks.\n",
        "\n",
        "Your routine needs to choose a good setting of `c`. Crucially, this needs to be done using the training set alone. So you might try setting aside part of the training set as a validation set, or using some kind of cross-validation."
      ]
    },
    {
      "metadata": {
        "id": "6FJaiToK79jT",
        "colab_type": "code",
        "colab": {}
      },
      "cell_type": "code",
      "source": [
        "def fit_generative_model(x,y):\n",
        "    k = 10  # labels 0,1,...,k-1\n",
        "    d = (x.shape)[1]  # number of features\n",
        "    mu = np.zeros((k,d))\n",
        "    sigma = np.zeros((k,d,d))\n",
        "    pi = np.zeros(k)\n",
        "    ###\n",
        "    ### Your code goes here\n",
        "    ###\n",
        "    # Halt and return parameters\n",
        "    return mu, sigma, pi"
      ],
      "execution_count": 0,
      "outputs": []
    },
    {
      "metadata": {
        "id": "2z0ol-8b79jW",
        "colab_type": "text"
      },
      "cell_type": "markdown",
      "source": [
        "Okay, let's try out your function. In particular, we will use **displaychar** to visualize the means of the Gaussians for the first three digits. You can try the other digits on your own."
      ]
    },
    {
      "metadata": {
        "id": "sUDI-ehL79jX",
        "colab_type": "code",
        "colab": {}
      },
      "cell_type": "code",
      "source": [
        "mu, sigma, pi = fit_generative_model(train_data, train_labels)\n",
        "displaychar(mu[0])\n",
        "displaychar(mu[1])\n",
        "displaychar(mu[2])"
      ],
      "execution_count": 0,
      "outputs": []
    },
    {
      "metadata": {
        "id": "hjdH8eqg79jb",
        "colab_type": "text"
      },
      "cell_type": "markdown",
      "source": [
        "## 3. Make predictions on test data"
      ]
    },
    {
      "metadata": {
        "id": "iB_KjzhC79jc",
        "colab_type": "text"
      },
      "cell_type": "markdown",
      "source": [
        "Now let's see how many errors your model makes on the test set."
      ]
    },
    {
      "metadata": {
        "id": "GJbPuef079jd",
        "colab_type": "code",
        "colab": {}
      },
      "cell_type": "code",
      "source": [
        "# Compute log Pr(label|image) for each [test image,label] pair.\n",
        "score = np.zeros((len(test_labels),k))\n",
        "for label in range(0,k):\n",
        "    rv = multivariate_normal(mean=mu[label], cov=sigma[label])\n",
        "    for i in range(0,len(test_labels)):\n",
        "       score[i,label] = np.log(pi[label]) + rv.logpdf(test_data[i,:])\n",
        "predictions = np.argmax(score, axis=1)\n",
        "# Finally, tally up score\n",
        "errors = np.sum(predictions != test_labels)\n",
        "print \"Your model makes \" + str(errors) + \" errors out of 10000\""
      ],
      "execution_count": 0,
      "outputs": []
    },
    {
      "metadata": {
        "id": "RzpML1pE79jg",
        "colab_type": "text"
      },
      "cell_type": "markdown",
      "source": [
        "## 4. Quick exercises"
      ]
    },
    {
      "metadata": {
        "id": "5tLU8UiQ79jg",
        "colab_type": "text"
      },
      "cell_type": "markdown",
      "source": [
        "*You will need to answer variants of these questions as part of this week's assignment*."
      ]
    },
    {
      "metadata": {
        "id": "naA2mIeh79jh",
        "colab_type": "text"
      },
      "cell_type": "markdown",
      "source": [
        "<font color=\"magenta\">Exercise 1:</font> What happens if you do not regularize the covariance matrices?"
      ]
    },
    {
      "metadata": {
        "id": "vPMRqbsw79ji",
        "colab_type": "text"
      },
      "cell_type": "markdown",
      "source": [
        "<font color=\"magenta\">Exercise 2:</font> What happens if you set the value of `c` too high, for instance to one billion? Do you understand why this happens?"
      ]
    },
    {
      "metadata": {
        "id": "_kGgZvtw79jj",
        "colab_type": "text"
      },
      "cell_type": "markdown",
      "source": [
        "<font color=\"magenta\">Exercise 3:</font> What value of c did you end up using? How many errors did your model make on the training set?"
      ]
    },
    {
      "metadata": {
        "id": "v6smQgAQ79jk",
        "colab_type": "text"
      },
      "cell_type": "markdown",
      "source": [
        "<font color=\"magenta\">If you have the time</font>: We have talked about using the same regularization constant `c` for all ten classes. What about using a different value of `c` for each class? How would you go about choosing these? Can you get better performance in this way?"
      ]
    }
  ]
}
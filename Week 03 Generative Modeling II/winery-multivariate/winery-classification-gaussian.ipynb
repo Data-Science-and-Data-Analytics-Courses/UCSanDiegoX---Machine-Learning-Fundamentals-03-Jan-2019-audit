{
  "nbformat": 4,
  "nbformat_minor": 0,
  "metadata": {
    "colab": {
      "name": "winery-classification-gaussian.ipynb",
      "version": "0.3.2",
      "provenance": [],
      "include_colab_link": true
    },
    "kernelspec": {
      "name": "python3",
      "display_name": "Python 3"
    },
    "accelerator": "GPU"
  },
  "cells": [
    {
      "cell_type": "markdown",
      "metadata": {
        "id": "view-in-github",
        "colab_type": "text"
      },
      "source": [
        "<a href=\"https://colab.research.google.com/github/Data-Science-and-Data-Analytics-Courses/UCSanDiegoX---Machine-Learning-Fundamentals-03-Jan-2019-audit/blob/master/Week%2003%20Generative%20Modeling%20II/winery-multivariate/winery-classification-gaussian.ipynb\" target=\"_parent\"><img src=\"https://colab.research.google.com/assets/colab-badge.svg\" alt=\"Open In Colab\"/></a>"
      ]
    },
    {
      "metadata": {
        "id": "NawELc__eYec",
        "colab_type": "text"
      },
      "cell_type": "markdown",
      "source": [
        "# Winery classification with the multivariate Gaussian"
      ]
    },
    {
      "metadata": {
        "id": "PRV1DE_LeYeh",
        "colab_type": "text"
      },
      "cell_type": "markdown",
      "source": [
        "In this notebook, we return to winery classification, using the full set of 13 features."
      ]
    },
    {
      "metadata": {
        "id": "n7Rknh1NeyFO",
        "colab_type": "text"
      },
      "cell_type": "markdown",
      "source": [
        "# Clone remote"
      ]
    },
    {
      "metadata": {
        "id": "CPp0zdhGe_LG",
        "colab_type": "code",
        "colab": {
          "base_uri": "https://localhost:8080/",
          "height": 287
        },
        "outputId": "673e04b3-6de7-462d-9f9f-5c1b13071714"
      },
      "cell_type": "code",
      "source": [
        "import os\n",
        "\n",
        "URL = \"https://github.com/Data-Science-and-Data-Analytics-Courses/UCSanDiegoX---Machine-Learning-Fundamentals-03-Jan-2019-audit\"\n",
        "NBDIR = \"Week 03 Generative Modeling II/winery-multivariate\"\n",
        "\n",
        "def clone(url, dest=\".\", branch=\"master\"):\n",
        "  \"\"\"\n",
        "  Clone remote branch from url into dest\n",
        "  branch not provided: clone all branches\n",
        "  \"\"\"\n",
        "\n",
        "  url = url.strip(\"/\")\n",
        "  repo = os.path.join(dest, os.path.basename(url))\n",
        "\n",
        "  # Raise error if dest inside existing repository\n",
        "  is_out = !git -C \"$dest\" rev-parse\n",
        "  if not is_out: # inside repository\n",
        "    raise ValueError(\"Can't clone into existing repository\")\n",
        "  \n",
        "  # Clone specific branch\n",
        "  if branch:\n",
        "    !git clone --single-branch --branch \"$branch\" \"$url\" \"$repo\"\n",
        "  # Clone all branches\n",
        "  else:\n",
        "    !git clone \"$url\" \"$repo\"\n",
        "  os.chdir(repo)\n",
        "  \n",
        "  bname = !git rev-parse --abbrev-ref HEAD\n",
        "  print(\"Current\")\n",
        "  print(\"{branch}\\t{directory}\".format(branch=bname, directory=os.getcwd()))\n",
        "\n",
        "clone(URL)\n",
        "%run .Importable.ipynb\n",
        "%cd \"$NBDIR\""
      ],
      "execution_count": 1,
      "outputs": [
        {
          "output_type": "stream",
          "text": [
            "Cloning into './UCSanDiegoX---Machine-Learning-Fundamentals-03-Jan-2019-audit'...\n",
            "remote: Enumerating objects: 123, done.\u001b[K\n",
            "remote: Counting objects: 100% (123/123), done.\u001b[K\n",
            "remote: Compressing objects: 100% (121/121), done.\u001b[K\n",
            "remote: Total 370 (delta 63), reused 6 (delta 2), pack-reused 247\u001b[K\n",
            "Receiving objects: 100% (370/370), 2.74 MiB | 2.55 MiB/s, done.\n",
            "Resolving deltas: 100% (173/173), done.\n",
            "Current\n",
            "['master']\t/content/UCSanDiegoX---Machine-Learning-Fundamentals-03-Jan-2019-audit\n"
          ],
          "name": "stdout"
        },
        {
          "output_type": "display_data",
          "data": {
            "text/html": [
              "\n",
              "<style type='text/css'>\n",
              ".hll { background-color: #ffffcc }\n",
              ".c { color: #408080; font-style: italic } /* Comment */\n",
              ".err { border: 1px solid #FF0000 } /* Error */\n",
              ".k { color: #008000; font-weight: bold } /* Keyword */\n",
              ".o { color: #666666 } /* Operator */\n",
              ".ch { color: #408080; font-style: italic } /* Comment.Hashbang */\n",
              ".cm { color: #408080; font-style: italic } /* Comment.Multiline */\n",
              ".cp { color: #BC7A00 } /* Comment.Preproc */\n",
              ".cpf { color: #408080; font-style: italic } /* Comment.PreprocFile */\n",
              ".c1 { color: #408080; font-style: italic } /* Comment.Single */\n",
              ".cs { color: #408080; font-style: italic } /* Comment.Special */\n",
              ".gd { color: #A00000 } /* Generic.Deleted */\n",
              ".ge { font-style: italic } /* Generic.Emph */\n",
              ".gr { color: #FF0000 } /* Generic.Error */\n",
              ".gh { color: #000080; font-weight: bold } /* Generic.Heading */\n",
              ".gi { color: #00A000 } /* Generic.Inserted */\n",
              ".go { color: #888888 } /* Generic.Output */\n",
              ".gp { color: #000080; font-weight: bold } /* Generic.Prompt */\n",
              ".gs { font-weight: bold } /* Generic.Strong */\n",
              ".gu { color: #800080; font-weight: bold } /* Generic.Subheading */\n",
              ".gt { color: #0044DD } /* Generic.Traceback */\n",
              ".kc { color: #008000; font-weight: bold } /* Keyword.Constant */\n",
              ".kd { color: #008000; font-weight: bold } /* Keyword.Declaration */\n",
              ".kn { color: #008000; font-weight: bold } /* Keyword.Namespace */\n",
              ".kp { color: #008000 } /* Keyword.Pseudo */\n",
              ".kr { color: #008000; font-weight: bold } /* Keyword.Reserved */\n",
              ".kt { color: #B00040 } /* Keyword.Type */\n",
              ".m { color: #666666 } /* Literal.Number */\n",
              ".s { color: #BA2121 } /* Literal.String */\n",
              ".na { color: #7D9029 } /* Name.Attribute */\n",
              ".nb { color: #008000 } /* Name.Builtin */\n",
              ".nc { color: #0000FF; font-weight: bold } /* Name.Class */\n",
              ".no { color: #880000 } /* Name.Constant */\n",
              ".nd { color: #AA22FF } /* Name.Decorator */\n",
              ".ni { color: #999999; font-weight: bold } /* Name.Entity */\n",
              ".ne { color: #D2413A; font-weight: bold } /* Name.Exception */\n",
              ".nf { color: #0000FF } /* Name.Function */\n",
              ".nl { color: #A0A000 } /* Name.Label */\n",
              ".nn { color: #0000FF; font-weight: bold } /* Name.Namespace */\n",
              ".nt { color: #008000; font-weight: bold } /* Name.Tag */\n",
              ".nv { color: #19177C } /* Name.Variable */\n",
              ".ow { color: #AA22FF; font-weight: bold } /* Operator.Word */\n",
              ".w { color: #bbbbbb } /* Text.Whitespace */\n",
              ".mb { color: #666666 } /* Literal.Number.Bin */\n",
              ".mf { color: #666666 } /* Literal.Number.Float */\n",
              ".mh { color: #666666 } /* Literal.Number.Hex */\n",
              ".mi { color: #666666 } /* Literal.Number.Integer */\n",
              ".mo { color: #666666 } /* Literal.Number.Oct */\n",
              ".sb { color: #BA2121 } /* Literal.String.Backtick */\n",
              ".sc { color: #BA2121 } /* Literal.String.Char */\n",
              ".sd { color: #BA2121; font-style: italic } /* Literal.String.Doc */\n",
              ".s2 { color: #BA2121 } /* Literal.String.Double */\n",
              ".se { color: #BB6622; font-weight: bold } /* Literal.String.Escape */\n",
              ".sh { color: #BA2121 } /* Literal.String.Heredoc */\n",
              ".si { color: #BB6688; font-weight: bold } /* Literal.String.Interpol */\n",
              ".sx { color: #008000 } /* Literal.String.Other */\n",
              ".sr { color: #BB6688 } /* Literal.String.Regex */\n",
              ".s1 { color: #BA2121 } /* Literal.String.Single */\n",
              ".ss { color: #19177C } /* Literal.String.Symbol */\n",
              ".bp { color: #008000 } /* Name.Builtin.Pseudo */\n",
              ".vc { color: #19177C } /* Name.Variable.Class */\n",
              ".vg { color: #19177C } /* Name.Variable.Global */\n",
              ".vi { color: #19177C } /* Name.Variable.Instance */\n",
              ".il { color: #666666 } /* Literal.Number.Integer.Long */\n",
              "</style>\n"
            ],
            "text/plain": [
              "<IPython.core.display.HTML object>"
            ]
          },
          "metadata": {
            "tags": []
          }
        },
        {
          "output_type": "stream",
          "text": [
            "/content/UCSanDiegoX---Machine-Learning-Fundamentals-03-Jan-2019-audit/Week 03 Generative Modeling II/winery-multivariate\n"
          ],
          "name": "stdout"
        }
      ]
    },
    {
      "metadata": {
        "id": "GPuT3AKdeYek",
        "colab_type": "text"
      },
      "cell_type": "markdown",
      "source": [
        "## 1. Load in the data "
      ]
    },
    {
      "metadata": {
        "id": "IxfRyvwFeYeo",
        "colab_type": "text"
      },
      "cell_type": "markdown",
      "source": [
        "As usual, we start by loading in the Wine data set. Make sure the file `wine.data.txt` is in the same directory as this notebook.\n",
        "\n",
        "Recall that there are 178 data points, each with 13 features and a label (1,2,3). As before, we will divide this into a training set of 130 points and a test set of 48 points."
      ]
    },
    {
      "metadata": {
        "id": "C-iavVc4eYer",
        "colab_type": "code",
        "colab": {}
      },
      "cell_type": "code",
      "source": [
        "# Standard includes\n",
        "%matplotlib inline\n",
        "import numpy as np\n",
        "import matplotlib.pyplot as plt\n",
        "# Useful module for dealing with the Gaussian density\n",
        "from scipy.stats import norm, multivariate_normal "
      ],
      "execution_count": 0,
      "outputs": []
    },
    {
      "metadata": {
        "id": "zpRFumcEeYex",
        "colab_type": "code",
        "colab": {}
      },
      "cell_type": "code",
      "source": [
        "# Load data set.\n",
        "data = np.loadtxt('wine.data.txt', delimiter=',')\n",
        "# Names of features\n",
        "featurenames = ['Alcohol', 'Malic acid', 'Ash', 'Alcalinity of ash','Magnesium', 'Total phenols', \n",
        "                'Flavanoids', 'Nonflavanoid phenols', 'Proanthocyanins', 'Color intensity', 'Hue', \n",
        "                'OD280/OD315 of diluted wines', 'Proline']\n",
        "# Split 178 instances into training set (trainx, trainy) of size 130 and test set (testx, testy) of size 48\n",
        "np.random.seed(0)\n",
        "perm = np.random.permutation(178)\n",
        "trainx = data[perm[0:130],1:14]\n",
        "trainy = data[perm[0:130],0]\n",
        "testx = data[perm[130:178], 1:14]\n",
        "testy = data[perm[130:178],0]"
      ],
      "execution_count": 0,
      "outputs": []
    },
    {
      "metadata": {
        "id": "8cUOahCJeYe0",
        "colab_type": "text"
      },
      "cell_type": "markdown",
      "source": [
        "## 2. Fit a Gaussian generative model"
      ]
    },
    {
      "metadata": {
        "id": "wvXg3nlleYe1",
        "colab_type": "text"
      },
      "cell_type": "markdown",
      "source": [
        "We now define a function that fits a Gaussian generative model to the data.\n",
        "For each class (`j=1,2,3`), we have:\n",
        "* `pi[j]`: the class weight\n",
        "* `mu[j,:]`: the mean, a 13-dimensional vector\n",
        "* `sigma[j,:,:]`: the 13x13 covariance matrix\n",
        "\n",
        "This means that `pi` is a 4x1 array (Python arrays are indexed starting at zero, and we aren't using `j=0`), `mu` is a 4x13 array and `sigma` is a 4x13x13 array."
      ]
    },
    {
      "metadata": {
        "id": "nTHS31GWeYe2",
        "colab_type": "code",
        "colab": {}
      },
      "cell_type": "code",
      "source": [
        "def fit_generative_model(x,y):\n",
        "    k = 3  # labels 1,2,...,k\n",
        "    d = (x.shape)[1]  # number of features\n",
        "    mu = np.zeros((k+1,d))\n",
        "    sigma = np.zeros((k+1,d,d))\n",
        "    pi = np.zeros(k+1)\n",
        "    for label in range(1,k+1):\n",
        "        indices = (y == label)\n",
        "        mu[label] = np.mean(x[indices,:], axis=0)\n",
        "        sigma[label] = np.cov(x[indices,:], rowvar=0, bias=1)\n",
        "        pi[label] = float(sum(indices))/float(len(y))\n",
        "    return mu, sigma, pi"
      ],
      "execution_count": 0,
      "outputs": []
    },
    {
      "metadata": {
        "id": "o-0VlHJ5eYe4",
        "colab_type": "code",
        "colab": {}
      },
      "cell_type": "code",
      "source": [
        "# Fit a Gaussian generative model to the training data\n",
        "mu, sigma, pi = fit_generative_model(trainx,trainy)"
      ],
      "execution_count": 0,
      "outputs": []
    },
    {
      "metadata": {
        "id": "LNroJDTteYe7",
        "colab_type": "text"
      },
      "cell_type": "markdown",
      "source": [
        "## 3. Use the model to make predictions on the test set"
      ]
    },
    {
      "metadata": {
        "id": "gvfs8UlveYe7",
        "colab_type": "text"
      },
      "cell_type": "markdown",
      "source": [
        "<font color=\"magenta\">**For you to do**</font>: Define a general purpose testing routine that takes as input:\n",
        "* the arrays `pi`, `mu`, `sigma` defining the generative model, as above\n",
        "* the test set (points `tx` and labels `ty`)\n",
        "* a list of features `features` (chosen from 0-12)\n",
        "\n",
        "It should return the number of mistakes made by the generative model on the test data, *when restricted to the specified features*. For instance, using the just three features 2 (`'Ash'`), 4 (`'Magnesium'`) and 6 (`'Flavanoids'`) results in 7 mistakes (out of 48 test points), so \n",
        "\n",
        "        `test_model(mu, sigma, pi, [2,4,6], testx, testy)` \n",
        "\n",
        "should print 7/48.\n",
        "\n",
        "**Hint:** The way you restrict attention to a subset of features is by choosing the corresponding coordinates of the full 13-dimensional mean and the appropriate submatrix of the full 13x13 covariance matrix."
      ]
    },
    {
      "metadata": {
        "id": "cGh61uOTeYe8",
        "colab_type": "code",
        "colab": {}
      },
      "cell_type": "code",
      "source": [
        "# Now test the performance of a predictor based on a subset of features\n",
        "def test_model(mu, sigma, pi, features, tx, ty):\n",
        "    ###\n",
        "    ### Your code goes here\n",
        "    ###\n",
        "    # Restrict attention to subset of features\n",
        "    mu = mu[:, features]\n",
        "    sigma = sigma[np.ix_(range(sigma.shape[0]), features, features)]"
      ],
      "execution_count": 0,
      "outputs": []
    },
    {
      "metadata": {
        "id": "o6lIK5xOeYe-",
        "colab_type": "text"
      },
      "cell_type": "markdown",
      "source": [
        "### <font color=\"magenta\">Fast exercises</font>"
      ]
    },
    {
      "metadata": {
        "id": "HDP_a8a3eYe-",
        "colab_type": "text"
      },
      "cell_type": "markdown",
      "source": [
        "*Note down the answers to these questions. You will need to enter them as part of this week's assignment.*"
      ]
    },
    {
      "metadata": {
        "id": "MUoMJABbeYe-",
        "colab_type": "text"
      },
      "cell_type": "markdown",
      "source": [
        "Exercise 1. How many errors are made on the test set when using the single feature 'Ash'?"
      ]
    },
    {
      "metadata": {
        "id": "PmRIg820eYe_",
        "colab_type": "code",
        "colab": {}
      },
      "cell_type": "code",
      "source": [
        "test_model(mu, sigma, pi, [2], testx, testy)"
      ],
      "execution_count": 0,
      "outputs": []
    },
    {
      "metadata": {
        "id": "1ODoiqJyeYfA",
        "colab_type": "text"
      },
      "cell_type": "markdown",
      "source": [
        "Exercise 2. How many errors when using 'Alcohol' and 'Ash'?"
      ]
    },
    {
      "metadata": {
        "id": "0QyXTqOUeYfB",
        "colab_type": "code",
        "colab": {}
      },
      "cell_type": "code",
      "source": [
        "test_model(mu, sigma, pi, [0,2], testx, testy)"
      ],
      "execution_count": 0,
      "outputs": []
    },
    {
      "metadata": {
        "id": "85DslowxeYfC",
        "colab_type": "text"
      },
      "cell_type": "markdown",
      "source": [
        "Exercise 3. How many errors when using 'Alcohol', 'Ash', and 'Flavanoids'?"
      ]
    },
    {
      "metadata": {
        "id": "UanSkUl7eYfC",
        "colab_type": "code",
        "colab": {}
      },
      "cell_type": "code",
      "source": [
        "test_model(mu, sigma, pi, [0,2,6], testx, testy)"
      ],
      "execution_count": 0,
      "outputs": []
    },
    {
      "metadata": {
        "id": "ssgel0gmeYfE",
        "colab_type": "text"
      },
      "cell_type": "markdown",
      "source": [
        "Exercise 4. How many errors when using all 13 features?"
      ]
    },
    {
      "metadata": {
        "id": "maAkgt0IeYfE",
        "colab_type": "code",
        "colab": {}
      },
      "cell_type": "code",
      "source": [
        "test_model(mu, sigma, pi, range(0,13), testx, testy)"
      ],
      "execution_count": 0,
      "outputs": []
    },
    {
      "metadata": {
        "id": "crdGClNoeYfF",
        "colab_type": "text"
      },
      "cell_type": "markdown",
      "source": [
        "Exercise 5. In lecture, we got somewhat different answers to these questions. Why do you think that might be?"
      ]
    },
    {
      "metadata": {
        "id": "MmpC6Sw1eYfG",
        "colab_type": "code",
        "colab": {}
      },
      "cell_type": "code",
      "source": [
        ""
      ],
      "execution_count": 0,
      "outputs": []
    }
  ]
}
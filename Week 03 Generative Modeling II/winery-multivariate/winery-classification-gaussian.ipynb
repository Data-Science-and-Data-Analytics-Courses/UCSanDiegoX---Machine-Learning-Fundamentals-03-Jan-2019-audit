{
  "nbformat": 4,
  "nbformat_minor": 0,
  "metadata": {
    "colab": {
      "name": "winery-classification-gaussian.ipynb",
      "version": "0.3.2",
      "provenance": [],
      "include_colab_link": true
    },
    "kernelspec": {
      "name": "python3",
      "display_name": "Python 3"
    },
    "accelerator": "GPU"
  },
  "cells": [
    {
      "cell_type": "markdown",
      "metadata": {
        "id": "view-in-github",
        "colab_type": "text"
      },
      "source": [
        "<a href=\"https://colab.research.google.com/github/Data-Science-and-Data-Analytics-Courses/UCSanDiegoX---Machine-Learning-Fundamentals-03-Jan-2019-audit/blob/master/Week%2003%20Generative%20Modeling%20II/winery-multivariate/winery-classification-gaussian.ipynb\" target=\"_parent\"><img src=\"https://colab.research.google.com/assets/colab-badge.svg\" alt=\"Open In Colab\"/></a>"
      ]
    },
    {
      "metadata": {
        "id": "NawELc__eYec",
        "colab_type": "text"
      },
      "cell_type": "markdown",
      "source": [
        "# Winery classification with the multivariate Gaussian"
      ]
    },
    {
      "metadata": {
        "id": "PRV1DE_LeYeh",
        "colab_type": "text"
      },
      "cell_type": "markdown",
      "source": [
        "In this notebook, we return to winery classification, using the full set of 13 features."
      ]
    },
    {
      "metadata": {
        "id": "GPuT3AKdeYek",
        "colab_type": "text"
      },
      "cell_type": "markdown",
      "source": [
        "## 1. Load in the data "
      ]
    },
    {
      "metadata": {
        "id": "IxfRyvwFeYeo",
        "colab_type": "text"
      },
      "cell_type": "markdown",
      "source": [
        "As usual, we start by loading in the Wine data set. Make sure the file `wine.data.txt` is in the same directory as this notebook.\n",
        "\n",
        "Recall that there are 178 data points, each with 13 features and a label (1,2,3). As before, we will divide this into a training set of 130 points and a test set of 48 points."
      ]
    },
    {
      "metadata": {
        "id": "C-iavVc4eYer",
        "colab_type": "code",
        "colab": {}
      },
      "cell_type": "code",
      "source": [
        "# Standard includes\n",
        "%matplotlib inline\n",
        "import numpy as np\n",
        "import matplotlib.pyplot as plt\n",
        "# Useful module for dealing with the Gaussian density\n",
        "from scipy.stats import norm, multivariate_normal "
      ],
      "execution_count": 0,
      "outputs": []
    },
    {
      "metadata": {
        "id": "zpRFumcEeYex",
        "colab_type": "code",
        "colab": {}
      },
      "cell_type": "code",
      "source": [
        "# Load data set.\n",
        "data = np.loadtxt('wine.data.txt', delimiter=',')\n",
        "# Names of features\n",
        "featurenames = ['Alcohol', 'Malic acid', 'Ash', 'Alcalinity of ash','Magnesium', 'Total phenols', \n",
        "                'Flavanoids', 'Nonflavanoid phenols', 'Proanthocyanins', 'Color intensity', 'Hue', \n",
        "                'OD280/OD315 of diluted wines', 'Proline']\n",
        "# Split 178 instances into training set (trainx, trainy) of size 130 and test set (testx, testy) of size 48\n",
        "np.random.seed(0)\n",
        "perm = np.random.permutation(178)\n",
        "trainx = data[perm[0:130],1:14]\n",
        "trainy = data[perm[0:130],0]\n",
        "testx = data[perm[130:178], 1:14]\n",
        "testy = data[perm[130:178],0]"
      ],
      "execution_count": 0,
      "outputs": []
    },
    {
      "metadata": {
        "id": "8cUOahCJeYe0",
        "colab_type": "text"
      },
      "cell_type": "markdown",
      "source": [
        "## 2. Fit a Gaussian generative model"
      ]
    },
    {
      "metadata": {
        "id": "wvXg3nlleYe1",
        "colab_type": "text"
      },
      "cell_type": "markdown",
      "source": [
        "We now define a function that fits a Gaussian generative model to the data.\n",
        "For each class (`j=1,2,3`), we have:\n",
        "* `pi[j]`: the class weight\n",
        "* `mu[j,:]`: the mean, a 13-dimensional vector\n",
        "* `sigma[j,:,:]`: the 13x13 covariance matrix\n",
        "\n",
        "This means that `pi` is a 4x1 array (Python arrays are indexed starting at zero, and we aren't using `j=0`), `mu` is a 4x13 array and `sigma` is a 4x13x13 array."
      ]
    },
    {
      "metadata": {
        "id": "nTHS31GWeYe2",
        "colab_type": "code",
        "colab": {}
      },
      "cell_type": "code",
      "source": [
        "def fit_generative_model(x,y):\n",
        "    k = 3  # labels 1,2,...,k\n",
        "    d = (x.shape)[1]  # number of features\n",
        "    mu = np.zeros((k+1,d))\n",
        "    sigma = np.zeros((k+1,d,d))\n",
        "    pi = np.zeros(k+1)\n",
        "    for label in range(1,k+1):\n",
        "        indices = (y == label)\n",
        "        mu[label] = np.mean(x[indices,:], axis=0)\n",
        "        sigma[label] = np.cov(x[indices,:], rowvar=0, bias=1)\n",
        "        pi[label] = float(sum(indices))/float(len(y))\n",
        "    return mu, sigma, pi"
      ],
      "execution_count": 0,
      "outputs": []
    },
    {
      "metadata": {
        "id": "o-0VlHJ5eYe4",
        "colab_type": "code",
        "colab": {}
      },
      "cell_type": "code",
      "source": [
        "# Fit a Gaussian generative model to the training data\n",
        "mu, sigma, pi = fit_generative_model(trainx,trainy)"
      ],
      "execution_count": 0,
      "outputs": []
    },
    {
      "metadata": {
        "id": "LNroJDTteYe7",
        "colab_type": "text"
      },
      "cell_type": "markdown",
      "source": [
        "## 3. Use the model to make predictions on the test set"
      ]
    },
    {
      "metadata": {
        "id": "gvfs8UlveYe7",
        "colab_type": "text"
      },
      "cell_type": "markdown",
      "source": [
        "<font color=\"magenta\">**For you to do**</font>: Define a general purpose testing routine that takes as input:\n",
        "* the arrays `pi`, `mu`, `sigma` defining the generative model, as above\n",
        "* the test set (points `tx` and labels `ty`)\n",
        "* a list of features `features` (chosen from 0-12)\n",
        "\n",
        "It should return the number of mistakes made by the generative model on the test data, *when restricted to the specified features*. For instance, using the just three features 2 (`'Ash'`), 4 (`'Magnesium'`) and 6 (`'Flavanoids'`) results in 7 mistakes (out of 48 test points), so \n",
        "\n",
        "        `test_model(mu, sigma, pi, [2,4,6], testx, testy)` \n",
        "\n",
        "should print 7/48.\n",
        "\n",
        "**Hint:** The way you restrict attention to a subset of features is by choosing the corresponding coordinates of the full 13-dimensional mean and the appropriate submatrix of the full 13x13 covariance matrix."
      ]
    },
    {
      "metadata": {
        "id": "cGh61uOTeYe8",
        "colab_type": "code",
        "colab": {}
      },
      "cell_type": "code",
      "source": [
        "# Now test the performance of a predictor based on a subset of features\n",
        "def test_model(mu, sigma, pi, features, tx, ty):\n",
        "    ###\n",
        "    ### Your code goes here\n",
        "    ###"
      ],
      "execution_count": 0,
      "outputs": []
    },
    {
      "metadata": {
        "id": "o6lIK5xOeYe-",
        "colab_type": "text"
      },
      "cell_type": "markdown",
      "source": [
        "### <font color=\"magenta\">Fast exercises</font>"
      ]
    },
    {
      "metadata": {
        "id": "HDP_a8a3eYe-",
        "colab_type": "text"
      },
      "cell_type": "markdown",
      "source": [
        "*Note down the answers to these questions. You will need to enter them as part of this week's assignment.*"
      ]
    },
    {
      "metadata": {
        "id": "MUoMJABbeYe-",
        "colab_type": "text"
      },
      "cell_type": "markdown",
      "source": [
        "Exercise 1. How many errors are made on the test set when using the single feature 'Ash'?"
      ]
    },
    {
      "metadata": {
        "id": "PmRIg820eYe_",
        "colab_type": "code",
        "colab": {}
      },
      "cell_type": "code",
      "source": [
        "test_model(mu, sigma, pi, [2], testx, testy)"
      ],
      "execution_count": 0,
      "outputs": []
    },
    {
      "metadata": {
        "id": "1ODoiqJyeYfA",
        "colab_type": "text"
      },
      "cell_type": "markdown",
      "source": [
        "Exercise 2. How many errors when using 'Alcohol' and 'Ash'?"
      ]
    },
    {
      "metadata": {
        "id": "0QyXTqOUeYfB",
        "colab_type": "code",
        "colab": {}
      },
      "cell_type": "code",
      "source": [
        "test_model(mu, sigma, pi, [0,2], testx, testy)"
      ],
      "execution_count": 0,
      "outputs": []
    },
    {
      "metadata": {
        "id": "85DslowxeYfC",
        "colab_type": "text"
      },
      "cell_type": "markdown",
      "source": [
        "Exercise 3. How many errors when using 'Alcohol', 'Ash', and 'Flavanoids'?"
      ]
    },
    {
      "metadata": {
        "id": "UanSkUl7eYfC",
        "colab_type": "code",
        "colab": {}
      },
      "cell_type": "code",
      "source": [
        "test_model(mu, sigma, pi, [0,2,6], testx, testy)"
      ],
      "execution_count": 0,
      "outputs": []
    },
    {
      "metadata": {
        "id": "ssgel0gmeYfE",
        "colab_type": "text"
      },
      "cell_type": "markdown",
      "source": [
        "Exercise 4. How many errors when using all 13 features?"
      ]
    },
    {
      "metadata": {
        "id": "maAkgt0IeYfE",
        "colab_type": "code",
        "colab": {}
      },
      "cell_type": "code",
      "source": [
        "test_model(mu, sigma, pi, range(0,13), testx, testy)"
      ],
      "execution_count": 0,
      "outputs": []
    },
    {
      "metadata": {
        "id": "crdGClNoeYfF",
        "colab_type": "text"
      },
      "cell_type": "markdown",
      "source": [
        "Exercise 5. In lecture, we got somewhat different answers to these questions. Why do you think that might be?"
      ]
    },
    {
      "metadata": {
        "id": "MmpC6Sw1eYfG",
        "colab_type": "code",
        "colab": {}
      },
      "cell_type": "code",
      "source": [
        ""
      ],
      "execution_count": 0,
      "outputs": []
    }
  ]
}
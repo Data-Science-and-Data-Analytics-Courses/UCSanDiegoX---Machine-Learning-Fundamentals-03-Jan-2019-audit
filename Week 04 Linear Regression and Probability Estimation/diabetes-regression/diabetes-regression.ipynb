{
  "nbformat": 4,
  "nbformat_minor": 0,
  "metadata": {
    "colab": {
      "name": "diabetes-regression.ipynb",
      "version": "0.3.2",
      "provenance": [],
      "include_colab_link": true
    },
    "kernelspec": {
      "display_name": "Python 2",
      "language": "python",
      "name": "python2"
    }
  },
  "cells": [
    {
      "cell_type": "markdown",
      "metadata": {
        "id": "view-in-github",
        "colab_type": "text"
      },
      "source": [
        "<a href=\"https://colab.research.google.com/github/Data-Science-and-Data-Analytics-Courses/UCSanDiegoX---Machine-Learning-Fundamentals-03-Jan-2019-audit/blob/master/Week%2004%20Linear%20Regression%20and%20Probability%20Estimation/diabetes-regression/diabetes-regression.ipynb\" target=\"_parent\"><img src=\"https://colab.research.google.com/assets/colab-badge.svg\" alt=\"Open In Colab\"/></a>"
      ]
    },
    {
      "metadata": {
        "id": "I-r6Gjr3la6U",
        "colab_type": "text"
      },
      "cell_type": "markdown",
      "source": [
        "# Predicting the progression of diabetes using least-squares regression"
      ]
    },
    {
      "metadata": {
        "id": "uEwmpQ4ola6Y",
        "colab_type": "text"
      },
      "cell_type": "markdown",
      "source": [
        "The **diabetes** data set described in lecture can be obtained as a single file, `diabetes-data.csv`, from the course website. We obtained it at https://web.stanford.edu/~hastie/Papers/LARS/diabetes.data. For some background information on the data, see this seminal paper:\n",
        "\n",
        "Bradley Efron, Trevor Hastie, Iain Johnstone and Robert Tibshirani (2004) \"Least Angle Regression,\" Annals of Statistics (with discussion), 407-499.\n",
        "\n",
        "Before you start on this notebook, install `diabetes-data.csv` in the same directory. We will walk through some of the examples from lecture as well as giving you some problems to solve.\n"
      ]
    },
    {
      "metadata": {
        "id": "a5CTCpTOmPkL",
        "colab_type": "text"
      },
      "cell_type": "markdown",
      "source": [
        "# Clone remote"
      ]
    },
    {
      "metadata": {
        "id": "QaXxgemgmX28",
        "colab_type": "code",
        "colab": {
          "base_uri": "https://localhost:8080/",
          "height": 418
        },
        "outputId": "eff6d923-4601-42cc-d6ab-73079ab4dcc9"
      },
      "cell_type": "code",
      "source": [
        "import os, sys\n",
        "\n",
        "URL = \"http://github.com/Data-Science-and-Data-Analytics-Courses/UCSanDiegoX---Machine-Learning-Fundamentals-03-Jan-2019-audit\"\n",
        "NBDIR = \"Week 04 Linear Regression and Probability Estimation\"\n",
        "!git clone URL\n",
        "%cd \"UCSanDiegoX---Machine-Learning-Fundamentals-03-Jan-2019-audit\"\n",
        "%run .Importable.ipynb\n",
        "sys.path.append(os.getcwf())\n",
        "%cd \"$NBDIR\""
      ],
      "execution_count": 2,
      "outputs": [
        {
          "output_type": "stream",
          "text": [
            "fatal: repository 'URL' does not exist\n"
          ],
          "name": "stdout"
        },
        {
          "output_type": "stream",
          "text": [
            "ERROR:root:File `u'.Importable.ipynb.py'` not found.\n"
          ],
          "name": "stderr"
        },
        {
          "output_type": "stream",
          "text": [
            "[Errno 2] No such file or directory: 'UCSanDiegoX---Machine-Learning-Fundamentals-03-Jan-2019-audit'\n",
            "/content\n"
          ],
          "name": "stdout"
        },
        {
          "output_type": "error",
          "ename": "AttributeError",
          "evalue": "ignored",
          "traceback": [
            "\u001b[0;31m\u001b[0m",
            "\u001b[0;31mAttributeError\u001b[0mTraceback (most recent call last)",
            "\u001b[0;32m<ipython-input-2-9f15aec62f7d>\u001b[0m in \u001b[0;36m<module>\u001b[0;34m()\u001b[0m\n\u001b[1;32m      6\u001b[0m \u001b[0mget_ipython\u001b[0m\u001b[0;34m(\u001b[0m\u001b[0;34m)\u001b[0m\u001b[0;34m.\u001b[0m\u001b[0mmagic\u001b[0m\u001b[0;34m(\u001b[0m\u001b[0;34mu'cd \"UCSanDiegoX---Machine-Learning-Fundamentals-03-Jan-2019-audit\"'\u001b[0m\u001b[0;34m)\u001b[0m\u001b[0;34m\u001b[0m\u001b[0m\n\u001b[1;32m      7\u001b[0m \u001b[0mget_ipython\u001b[0m\u001b[0;34m(\u001b[0m\u001b[0;34m)\u001b[0m\u001b[0;34m.\u001b[0m\u001b[0mmagic\u001b[0m\u001b[0;34m(\u001b[0m\u001b[0;34mu'run .Importable.ipynb'\u001b[0m\u001b[0;34m)\u001b[0m\u001b[0;34m\u001b[0m\u001b[0m\n\u001b[0;32m----> 8\u001b[0;31m \u001b[0msys\u001b[0m\u001b[0;34m.\u001b[0m\u001b[0mpath\u001b[0m\u001b[0;34m.\u001b[0m\u001b[0mappend\u001b[0m\u001b[0;34m(\u001b[0m\u001b[0mos\u001b[0m\u001b[0;34m.\u001b[0m\u001b[0mgetcwf\u001b[0m\u001b[0;34m(\u001b[0m\u001b[0;34m)\u001b[0m\u001b[0;34m)\u001b[0m\u001b[0;34m\u001b[0m\u001b[0m\n\u001b[0m\u001b[1;32m      9\u001b[0m \u001b[0mget_ipython\u001b[0m\u001b[0;34m(\u001b[0m\u001b[0;34m)\u001b[0m\u001b[0;34m.\u001b[0m\u001b[0mmagic\u001b[0m\u001b[0;34m(\u001b[0m\u001b[0;34mu'cd \"$NBDIR\"'\u001b[0m\u001b[0;34m)\u001b[0m\u001b[0;34m\u001b[0m\u001b[0m\n",
            "\u001b[0;31mAttributeError\u001b[0m: 'module' object has no attribute 'getcwf'"
          ]
        }
      ]
    },
    {
      "metadata": {
        "id": "uf1KTn58la6a",
        "colab_type": "text"
      },
      "cell_type": "markdown",
      "source": [
        "## 1. Set up notebook and load data set"
      ]
    },
    {
      "metadata": {
        "id": "FNHbKE41la6e",
        "colab_type": "code",
        "colab": {}
      },
      "cell_type": "code",
      "source": [
        "# Standard includes\n",
        "%matplotlib inline\n",
        "import numpy as np\n",
        "import matplotlib\n",
        "import matplotlib.pyplot as plt\n",
        "# Routines for linear regression\n",
        "from sklearn import linear_model\n",
        "from sklearn.metrics import mean_squared_error\n",
        "# Set label size for plots\n",
        "matplotlib.rc('xtick', labelsize=14) \n",
        "matplotlib.rc('ytick', labelsize=14)"
      ],
      "execution_count": 0,
      "outputs": []
    },
    {
      "metadata": {
        "id": "m5Dp9ToQla6j",
        "colab_type": "text"
      },
      "cell_type": "markdown",
      "source": [
        "This next snippet of code loads in the diabetes data. There are 442 data points, each with 10 predictor variables (which we'll denote `x`) and one response variable (which we'll denote `y`).\n",
        "\n",
        "Make sure the file `'diabetes-data.csv'` is in the same directory as this notebook."
      ]
    },
    {
      "metadata": {
        "id": "Qjhw0BKGla6k",
        "colab_type": "code",
        "colab": {}
      },
      "cell_type": "code",
      "source": [
        "data = np.genfromtxt('diabetes-data.csv', delimiter=',')\n",
        "features = ['age', 'sex', 'body mass index', 'blood pressure', \n",
        "            'serum1', 'serum2', 'serum3', 'serum4', 'serum5', 'serum6']\n",
        "x = data[:,0:10] # predictors\n",
        "y = data[:,10] # response variable"
      ],
      "execution_count": 0,
      "outputs": []
    },
    {
      "metadata": {
        "id": "RsWU08ATla6o",
        "colab_type": "text"
      },
      "cell_type": "markdown",
      "source": [
        "## 2. Predict `y` without using `x`"
      ]
    },
    {
      "metadata": {
        "id": "oeA4mNcFla6p",
        "colab_type": "text"
      },
      "cell_type": "markdown",
      "source": [
        "If we want to predict `y` without knowledge of `x`, what value would be predict? The <font color=\"magenta\">mean</font> value of `y`.\n",
        "\n",
        "In this case, the mean squared error (MSE) associated with the prediction is simply the variance of `y`."
      ]
    },
    {
      "metadata": {
        "id": "euNsqqpnla6r",
        "colab_type": "code",
        "colab": {}
      },
      "cell_type": "code",
      "source": [
        "print \"Prediction: \", np.mean(y)\n",
        "print \"Mean squared error: \", np.var(y)"
      ],
      "execution_count": 0,
      "outputs": []
    },
    {
      "metadata": {
        "id": "fv5dBEMsla6y",
        "colab_type": "text"
      },
      "cell_type": "markdown",
      "source": [
        "## 3. Predict `y` using a single feature of `x`"
      ]
    },
    {
      "metadata": {
        "id": "0PRSrqM0la61",
        "colab_type": "text"
      },
      "cell_type": "markdown",
      "source": [
        "To fit a linear regression model, we could directly use the formula we saw in lecture. To make things even easier, this is already implemented in `sklearn.linear_model.LinearRegression()`."
      ]
    },
    {
      "metadata": {
        "id": "_coOhVgdla63",
        "colab_type": "text"
      },
      "cell_type": "markdown",
      "source": [
        "Here we define a function, **one_feature_regression**, that takes `x` and `y`, along with the index `f` of a single feature and fits a linear regressor to `(x[f],y)`. It then plots the data along with the resulting line."
      ]
    },
    {
      "metadata": {
        "id": "pISAZo2Sla64",
        "colab_type": "code",
        "colab": {}
      },
      "cell_type": "code",
      "source": [
        "def one_feature_regression(x,y,f):\n",
        "    if (f < 0) or (f > 9):\n",
        "        print \"Feature index is out of bounds\"\n",
        "        return\n",
        "    regr = linear_model.LinearRegression()\n",
        "    x1 = x[:,[f]]\n",
        "    regr.fit(x1, y)\n",
        "    # Make predictions using the model\n",
        "    y_pred = regr.predict(x1)\n",
        "    # Plot data points as well as predictions\n",
        "    plt.plot(x1, y, 'bo')\n",
        "    plt.plot(x1, y_pred, 'r-', linewidth=3)\n",
        "    plt.xlabel(features[f], fontsize=14)\n",
        "    plt.ylabel('Progression of disease', fontsize=14)\n",
        "    plt.show()\n",
        "    print \"Mean squared error: \", mean_squared_error(y, y_pred)\n",
        "    return regr"
      ],
      "execution_count": 0,
      "outputs": []
    },
    {
      "metadata": {
        "id": "_IgEmFbTla6-",
        "colab_type": "text"
      },
      "cell_type": "markdown",
      "source": [
        "Let's try this with feature #2 (body mass index)."
      ]
    },
    {
      "metadata": {
        "id": "4sBlIhNvla6_",
        "colab_type": "code",
        "colab": {}
      },
      "cell_type": "code",
      "source": [
        "regr = one_feature_regression(x,y,2)\n",
        "print \"w = \", regr.coef_\n",
        "print \"b = \", regr.intercept_"
      ],
      "execution_count": 0,
      "outputs": []
    },
    {
      "metadata": {
        "id": "80loACgsla7A",
        "colab_type": "text"
      },
      "cell_type": "markdown",
      "source": [
        "<font color=\"magenta\">For you to try:</font> Feature #2 ('body mass index') is the single feature that yields the lowest mean squared error. Which feature is the second best? "
      ]
    },
    {
      "metadata": {
        "id": "aMN_vQNIla7A",
        "colab_type": "code",
        "colab": {}
      },
      "cell_type": "code",
      "source": [
        "### You can use this space to figure out the second-best feature"
      ],
      "execution_count": 0,
      "outputs": []
    },
    {
      "metadata": {
        "id": "46b81yMFla7C",
        "colab_type": "text"
      },
      "cell_type": "markdown",
      "source": [
        "## 3. Predict `y` using a specified subset of features from `x`"
      ]
    },
    {
      "metadata": {
        "id": "GXxgbF8wla7C",
        "colab_type": "text"
      },
      "cell_type": "markdown",
      "source": [
        "The function **feature_subset_regression** is just like **one_feature_regression**, but this time uses a list of features `flist`."
      ]
    },
    {
      "metadata": {
        "id": "wDVs4grHla7C",
        "colab_type": "code",
        "colab": {}
      },
      "cell_type": "code",
      "source": [
        "def feature_subset_regression(x,y,flist):\n",
        "    if len(flist) < 1:\n",
        "        print \"Need at least one feature\"\n",
        "        return\n",
        "    for f in flist:\n",
        "        if (f < 0) or (f > 9):\n",
        "            print \"Feature index is out of bounds\"\n",
        "            return\n",
        "    regr = linear_model.LinearRegression()\n",
        "    regr.fit(x[:,flist], y)\n",
        "    return regr"
      ],
      "execution_count": 0,
      "outputs": []
    },
    {
      "metadata": {
        "id": "ZnBNy14Tla7D",
        "colab_type": "text"
      },
      "cell_type": "markdown",
      "source": [
        "Try using just features #2 (body mass index) and #8 (serum5)."
      ]
    },
    {
      "metadata": {
        "id": "WuqUZ3sdla7E",
        "colab_type": "code",
        "colab": {}
      },
      "cell_type": "code",
      "source": [
        "flist = [2,8]\n",
        "regr = feature_subset_regression(x,y,[2,8])\n",
        "print \"w = \", regr.coef_\n",
        "print \"b = \", regr.intercept_\n",
        "print \"Mean squared error: \", mean_squared_error(y, regr.predict(x[:,flist]))"
      ],
      "execution_count": 0,
      "outputs": []
    },
    {
      "metadata": {
        "id": "x3kcZz-Fla7F",
        "colab_type": "text"
      },
      "cell_type": "markdown",
      "source": [
        "Finally, use all 10 features."
      ]
    },
    {
      "metadata": {
        "id": "WABjxpx2la7G",
        "colab_type": "code",
        "colab": {}
      },
      "cell_type": "code",
      "source": [
        "regr = feature_subset_regression(x,y,range(0,10))\n",
        "print \"w = \", regr.coef_\n",
        "print \"b = \", regr.intercept_\n",
        "print \"Mean squared error: \", mean_squared_error(y, regr.predict(x))"
      ],
      "execution_count": 0,
      "outputs": []
    },
    {
      "metadata": {
        "collapsed": true,
        "id": "64Bj22nqla7H",
        "colab_type": "text"
      },
      "cell_type": "markdown",
      "source": [
        "## 4. Splitting the data into a training and test set"
      ]
    },
    {
      "metadata": {
        "id": "cPwM_KWjla7H",
        "colab_type": "text"
      },
      "cell_type": "markdown",
      "source": [
        "In the experiments above, every model was fit to the *entire* data set and its mean squared error was evaluated on this same data set. This methodology would not, in general, yield accurate estimates of future error. In this specific case, however, the discrepancy might not be too bad because the data set is quite large relative to the number of features."
      ]
    },
    {
      "metadata": {
        "id": "NX2O1Reela7H",
        "colab_type": "text"
      },
      "cell_type": "markdown",
      "source": [
        "To investigate this further, we define a procedure **split_data** that partitions the data set into separate training and test sets. It is invoked as follows:\n",
        "\n",
        "* `trainx, trainy, testx, testy = split_data(n_train)`\n",
        "\n",
        "Here:\n",
        "* `n_train` is the desired number of training points\n",
        "* `trainx` and `trainy` are the training points and response values\n",
        "* `testx` and `testy` are the test points and response values\n",
        "\n",
        "The split is done randomly, but the random seed is fixed, and thus the same split is produced if the procedure is called repeatedly with the same `n_train` parameter."
      ]
    },
    {
      "metadata": {
        "id": "c2S5LRl0la7I",
        "colab_type": "code",
        "colab": {}
      },
      "cell_type": "code",
      "source": [
        "def split_data(n_train):\n",
        "    if (n_train < 0) or (n_train > 442):\n",
        "        print \"Invalid number of training points\"\n",
        "        return\n",
        "    np.random.seed(0)\n",
        "    perm = np.random.permutation(442)\n",
        "    training_indices = perm[range(0,n_train)]\n",
        "    test_indices = perm[range(n_train,442)]\n",
        "    trainx = x[training_indices,:]\n",
        "    trainy = y[training_indices]\n",
        "    testx = x[test_indices,:]\n",
        "    testy = y[test_indices]\n",
        "    return trainx, trainy, testx, testy"
      ],
      "execution_count": 0,
      "outputs": []
    },
    {
      "metadata": {
        "id": "VmwO1uKpla7J",
        "colab_type": "text"
      },
      "cell_type": "markdown",
      "source": [
        "**<font color=\"magenta\">For you to do:</font>** Using the **split_data** procedure to partition the data set, compute the training MSE and test MSE when fitting a regressor to *all* features, for the following training set sizes:\n",
        "* `n_train = 20`\n",
        "* `n_train = 50`\n",
        "* `n_train = 100`\n",
        "* `n_train = 200`"
      ]
    }
  ]
}
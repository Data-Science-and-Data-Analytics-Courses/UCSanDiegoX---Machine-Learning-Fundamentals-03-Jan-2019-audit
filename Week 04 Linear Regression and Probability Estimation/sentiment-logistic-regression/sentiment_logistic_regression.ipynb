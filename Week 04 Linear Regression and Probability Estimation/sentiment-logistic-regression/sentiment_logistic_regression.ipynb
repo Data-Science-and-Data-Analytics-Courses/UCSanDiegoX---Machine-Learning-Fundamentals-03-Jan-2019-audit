{
  "nbformat": 4,
  "nbformat_minor": 0,
  "metadata": {
    "colab": {
      "name": "sentiment_logistic_regression.ipynb",
      "version": "0.3.2",
      "provenance": [],
      "include_colab_link": true
    },
    "kernelspec": {
      "name": "python3",
      "display_name": "Python 3"
    },
    "accelerator": "GPU"
  },
  "cells": [
    {
      "cell_type": "markdown",
      "metadata": {
        "id": "view-in-github",
        "colab_type": "text"
      },
      "source": [
        "<a href=\"https://colab.research.google.com/github/Data-Science-and-Data-Analytics-Courses/UCSanDiegoX---Machine-Learning-Fundamentals-03-Jan-2019-audit/blob/master/Week%2004%20Linear%20Regression%20and%20Probability%20Estimation/sentiment-logistic-regression/sentiment_logistic_regression.ipynb\" target=\"_parent\"><img src=\"https://colab.research.google.com/assets/colab-badge.svg\" alt=\"Open In Colab\"/></a>"
      ]
    },
    {
      "metadata": {
        "id": "U2qympWe3IY4",
        "colab_type": "text"
      },
      "cell_type": "markdown",
      "source": [
        "# Sentiment analysis using logistic regression"
      ]
    },
    {
      "metadata": {
        "id": "eM4gHsRI3IY8",
        "colab_type": "text"
      },
      "cell_type": "markdown",
      "source": [
        "The **`sentiment`** data set consists of 3000 sentences which come from reviews on `imdb.com`, `amazon.com`, and `yelp.com`. Each sentence is labeled according to whether it comes from a positive review or negative review.\n",
        "\n",
        "We will use <font color=\"magenta\">logistic regression</font> to learn a classifier from this data.\n",
        "\n",
        "Before starting on this notebook, download the data from https://archive.ics.uci.edu/ml/datasets/Sentiment+Labelled+Sentences. The folder `sentiment_labelled_sentences` (containing the data file `full_set.txt`) should be in the same directory as the notebook."
      ]
    },
    {
      "metadata": {
        "id": "RfkBLO2y41am",
        "colab_type": "text"
      },
      "cell_type": "markdown",
      "source": [
        "# Clone remote"
      ]
    },
    {
      "metadata": {
        "id": "XB-WHQiU43Av",
        "colab_type": "code",
        "outputId": "d88af3b2-f415-41e0-ba8c-b557bf569ee6",
        "colab": {
          "base_uri": "https://localhost:8080/",
          "height": 187
        }
      },
      "cell_type": "code",
      "source": [
        "import os, sys\n",
        "URL = \"http://github.com/Data-Science-and-Data-Analytics-Courses/UCSanDiegoX---Machine-Learning-Fundamentals-03-Jan-2019-audit\"\n",
        "NBDIR = \"Week 04 Linear Regression and Probability Estimation/sentiment-logistic-regression\"\n",
        "!git clone --single-branch \"$URL\" -b master\n",
        "%cd \"UCSanDiegoX---Machine-Learning-Fundamentals-03-Jan-2019-audit\"\n",
        "%run .Importable.ipynb\n",
        "sys.path.append(os.getcwd())\n",
        "%cd \"$NBDIR\""
      ],
      "execution_count": 1,
      "outputs": [
        {
          "output_type": "stream",
          "text": [
            "Cloning into 'UCSanDiegoX---Machine-Learning-Fundamentals-03-Jan-2019-audit'...\n",
            "warning: redirecting to https://github.com/Data-Science-and-Data-Analytics-Courses/UCSanDiegoX---Machine-Learning-Fundamentals-03-Jan-2019-audit/\n",
            "remote: Enumerating objects: 81, done.\u001b[K\n",
            "remote: Counting objects: 100% (81/81), done.\u001b[K\n",
            "remote: Compressing objects: 100% (77/77), done.\u001b[K\n",
            "remote: Total 726 (delta 43), reused 10 (delta 4), pack-reused 645\u001b[K\n",
            "Receiving objects: 100% (726/726), 3.19 MiB | 10.45 MiB/s, done.\n",
            "Resolving deltas: 100% (363/363), done.\n",
            "/content/UCSanDiegoX---Machine-Learning-Fundamentals-03-Jan-2019-audit\n"
          ],
          "name": "stdout"
        },
        {
          "output_type": "display_data",
          "data": {
            "text/html": [
              "\n",
              "<style type='text/css'>\n",
              ".hll { background-color: #ffffcc }\n",
              ".c { color: #408080; font-style: italic } /* Comment */\n",
              ".err { border: 1px solid #FF0000 } /* Error */\n",
              ".k { color: #008000; font-weight: bold } /* Keyword */\n",
              ".o { color: #666666 } /* Operator */\n",
              ".ch { color: #408080; font-style: italic } /* Comment.Hashbang */\n",
              ".cm { color: #408080; font-style: italic } /* Comment.Multiline */\n",
              ".cp { color: #BC7A00 } /* Comment.Preproc */\n",
              ".cpf { color: #408080; font-style: italic } /* Comment.PreprocFile */\n",
              ".c1 { color: #408080; font-style: italic } /* Comment.Single */\n",
              ".cs { color: #408080; font-style: italic } /* Comment.Special */\n",
              ".gd { color: #A00000 } /* Generic.Deleted */\n",
              ".ge { font-style: italic } /* Generic.Emph */\n",
              ".gr { color: #FF0000 } /* Generic.Error */\n",
              ".gh { color: #000080; font-weight: bold } /* Generic.Heading */\n",
              ".gi { color: #00A000 } /* Generic.Inserted */\n",
              ".go { color: #888888 } /* Generic.Output */\n",
              ".gp { color: #000080; font-weight: bold } /* Generic.Prompt */\n",
              ".gs { font-weight: bold } /* Generic.Strong */\n",
              ".gu { color: #800080; font-weight: bold } /* Generic.Subheading */\n",
              ".gt { color: #0044DD } /* Generic.Traceback */\n",
              ".kc { color: #008000; font-weight: bold } /* Keyword.Constant */\n",
              ".kd { color: #008000; font-weight: bold } /* Keyword.Declaration */\n",
              ".kn { color: #008000; font-weight: bold } /* Keyword.Namespace */\n",
              ".kp { color: #008000 } /* Keyword.Pseudo */\n",
              ".kr { color: #008000; font-weight: bold } /* Keyword.Reserved */\n",
              ".kt { color: #B00040 } /* Keyword.Type */\n",
              ".m { color: #666666 } /* Literal.Number */\n",
              ".s { color: #BA2121 } /* Literal.String */\n",
              ".na { color: #7D9029 } /* Name.Attribute */\n",
              ".nb { color: #008000 } /* Name.Builtin */\n",
              ".nc { color: #0000FF; font-weight: bold } /* Name.Class */\n",
              ".no { color: #880000 } /* Name.Constant */\n",
              ".nd { color: #AA22FF } /* Name.Decorator */\n",
              ".ni { color: #999999; font-weight: bold } /* Name.Entity */\n",
              ".ne { color: #D2413A; font-weight: bold } /* Name.Exception */\n",
              ".nf { color: #0000FF } /* Name.Function */\n",
              ".nl { color: #A0A000 } /* Name.Label */\n",
              ".nn { color: #0000FF; font-weight: bold } /* Name.Namespace */\n",
              ".nt { color: #008000; font-weight: bold } /* Name.Tag */\n",
              ".nv { color: #19177C } /* Name.Variable */\n",
              ".ow { color: #AA22FF; font-weight: bold } /* Operator.Word */\n",
              ".w { color: #bbbbbb } /* Text.Whitespace */\n",
              ".mb { color: #666666 } /* Literal.Number.Bin */\n",
              ".mf { color: #666666 } /* Literal.Number.Float */\n",
              ".mh { color: #666666 } /* Literal.Number.Hex */\n",
              ".mi { color: #666666 } /* Literal.Number.Integer */\n",
              ".mo { color: #666666 } /* Literal.Number.Oct */\n",
              ".sb { color: #BA2121 } /* Literal.String.Backtick */\n",
              ".sc { color: #BA2121 } /* Literal.String.Char */\n",
              ".sd { color: #BA2121; font-style: italic } /* Literal.String.Doc */\n",
              ".s2 { color: #BA2121 } /* Literal.String.Double */\n",
              ".se { color: #BB6622; font-weight: bold } /* Literal.String.Escape */\n",
              ".sh { color: #BA2121 } /* Literal.String.Heredoc */\n",
              ".si { color: #BB6688; font-weight: bold } /* Literal.String.Interpol */\n",
              ".sx { color: #008000 } /* Literal.String.Other */\n",
              ".sr { color: #BB6688 } /* Literal.String.Regex */\n",
              ".s1 { color: #BA2121 } /* Literal.String.Single */\n",
              ".ss { color: #19177C } /* Literal.String.Symbol */\n",
              ".bp { color: #008000 } /* Name.Builtin.Pseudo */\n",
              ".vc { color: #19177C } /* Name.Variable.Class */\n",
              ".vg { color: #19177C } /* Name.Variable.Global */\n",
              ".vi { color: #19177C } /* Name.Variable.Instance */\n",
              ".il { color: #666666 } /* Literal.Number.Integer.Long */\n",
              "</style>\n"
            ],
            "text/plain": [
              "<IPython.core.display.HTML object>"
            ]
          },
          "metadata": {
            "tags": []
          }
        },
        {
          "output_type": "stream",
          "text": [
            "/content/UCSanDiegoX---Machine-Learning-Fundamentals-03-Jan-2019-audit/Week 04 Linear Regression and Probability Estimation/sentiment-logistic-regression\n"
          ],
          "name": "stdout"
        }
      ]
    },
    {
      "metadata": {
        "id": "CAbjNUCo3IY_",
        "colab_type": "text"
      },
      "cell_type": "markdown",
      "source": [
        "## 1. Set up notebook, load and preprocess data"
      ]
    },
    {
      "metadata": {
        "id": "gzJI2uUi3IZC",
        "colab_type": "text"
      },
      "cell_type": "markdown",
      "source": [
        "First, some standard includes."
      ]
    },
    {
      "metadata": {
        "id": "P4SR_ihu3IZE",
        "colab_type": "code",
        "colab": {}
      },
      "cell_type": "code",
      "source": [
        "%matplotlib inline\n",
        "import string\n",
        "import numpy as np\n",
        "import matplotlib\n",
        "import matplotlib.pyplot as plt\n",
        "matplotlib.rc('xtick', labelsize=14) \n",
        "matplotlib.rc('ytick', labelsize=14)"
      ],
      "execution_count": 0,
      "outputs": []
    },
    {
      "metadata": {
        "id": "PV2y5z6Y3IZK",
        "colab_type": "text"
      },
      "cell_type": "markdown",
      "source": [
        "Now, we load in the data. Make sure the notebook is the same directory as the folder `sentiment_labelled_sentences`, and that the folder contains `full_set.txt`.\n",
        "\n",
        "The data set consists of 3000 sentences, each labeled '1' (if it came from a positive review) or '0' (if it came from a negative review). To be consistent with our notation from lecture, we will change the negative review label to '-1'."
      ]
    },
    {
      "metadata": {
        "id": "_qIp3Fac3IZL",
        "colab_type": "code",
        "colab": {}
      },
      "cell_type": "code",
      "source": [
        "## Read in the data set.\n",
        "with open(\"sentiment_labelled_sentences/full_set.txt\") as f:\n",
        "    content = f.readlines()\n",
        "    \n",
        "## Remove leading and trailing white space\n",
        "content = [x.strip() for x in content]\n",
        "\n",
        "## Separate the sentences from the labels\n",
        "sentences = [x.split(\"\\t\")[0] for x in content]\n",
        "labels = [x.split(\"\\t\")[1] for x in content]\n",
        "\n",
        "## Transform the labels from '0 v.s. 1' to '-1 v.s. 1'\n",
        "y = np.array(labels, dtype='int8')\n",
        "y = 2*y - 1"
      ],
      "execution_count": 0,
      "outputs": []
    },
    {
      "metadata": {
        "id": "5Qd-P5jh3IZN",
        "colab_type": "text"
      },
      "cell_type": "markdown",
      "source": [
        "### Preprocessing the text data\n",
        "\n",
        "To transform this prediction problem into one amenable to linear classification, we will first need to preprocess the text data. We will do four transformations:\n",
        "\n",
        "1. Remove punctuation and numbers.\n",
        "2. Transform all words to lower-case.\n",
        "3. Remove _stop words_.\n",
        "4. Convert the sentences into vectors, using a bag-of-words representation.\n",
        "\n",
        "We begin with first two steps."
      ]
    },
    {
      "metadata": {
        "id": "1N6WPEP83IZO",
        "colab_type": "code",
        "colab": {}
      },
      "cell_type": "code",
      "source": [
        "## full_remove takes a string x and a list of characters removal_list \n",
        "## returns x with all the characters in removal_list replaced by ' '\n",
        "def full_remove(x, removal_list):\n",
        "    for w in removal_list:\n",
        "        x = x.replace(w, ' ')\n",
        "    return x\n",
        "\n",
        "## Remove digits\n",
        "digits = [str(x) for x in range(10)]\n",
        "digit_less = [full_remove(x, digits) for x in sentences]\n",
        "\n",
        "## Remove punctuation\n",
        "punc_less = [full_remove(x, list(string.punctuation)) for x in digit_less]\n",
        "\n",
        "## Make everything lower-case\n",
        "sents_lower = [x.lower() for x in punc_less]"
      ],
      "execution_count": 0,
      "outputs": []
    },
    {
      "metadata": {
        "id": "IQb1Olau3IZR",
        "colab_type": "text"
      },
      "cell_type": "markdown",
      "source": [
        "### Stop words\n",
        "\n",
        "Stop words are words that are filtered out because they are believed to contain no useful information for the task at hand. These usually include articles such as 'a' and 'the', pronouns such as 'i' and 'they', and prepositions such 'to' and 'from'. We have put together a very small list of stop words, but these are by no means comprehensive. Feel free to use something different; for instance, larger lists can easily be found on the web."
      ]
    },
    {
      "metadata": {
        "id": "SrnSZlVZ3IZR",
        "colab_type": "code",
        "colab": {}
      },
      "cell_type": "code",
      "source": [
        "## Define our stop words\n",
        "stop_set = set(['the', 'a', 'an', 'i', 'he', 'she', 'they', 'to', 'of', 'it', 'from'])\n",
        "\n",
        "## Remove stop words\n",
        "sents_split = [x.split() for x in sents_lower]\n",
        "sents_processed = [\" \".join(list(filter(lambda a: a not in stop_set, x))) for x in sents_split]"
      ],
      "execution_count": 0,
      "outputs": []
    },
    {
      "metadata": {
        "id": "2ZXC-rkc3IZT",
        "colab_type": "text"
      },
      "cell_type": "markdown",
      "source": [
        "What do the sentences look like so far?"
      ]
    },
    {
      "metadata": {
        "id": "eTSlJ7sE3IZU",
        "colab_type": "code",
        "outputId": "4f2760fe-fd64-4ba6-b1fa-a75eeb9ecf1f",
        "colab": {
          "base_uri": "https://localhost:8080/",
          "height": 187
        }
      },
      "cell_type": "code",
      "source": [
        "sents_processed[0:10]"
      ],
      "execution_count": 6,
      "outputs": [
        {
          "output_type": "execute_result",
          "data": {
            "text/plain": [
              "['so there is no way for me plug in here in us unless go by converter',\n",
              " 'good case excellent value',\n",
              " 'great for jawbone',\n",
              " 'tied charger for conversations lasting more than minutes major problems',\n",
              " 'mic is great',\n",
              " 'have jiggle plug get line up right get decent volume',\n",
              " 'if you have several dozen or several hundred contacts then imagine fun sending each them one by one',\n",
              " 'if you are razr owner you must have this',\n",
              " 'needless say wasted my money',\n",
              " 'what waste money and time']"
            ]
          },
          "metadata": {
            "tags": []
          },
          "execution_count": 6
        }
      ]
    },
    {
      "metadata": {
        "id": "eBD534JG3IZh",
        "colab_type": "text"
      },
      "cell_type": "markdown",
      "source": [
        "### Bag of words\n",
        "\n",
        "In order to use linear classifiers on our data set, we need to transform our textual data into numeric data. The classical way to do this is known as the _bag of words_ representation. \n",
        "\n",
        "In this representation, each word is thought of as corresponding to a number in `{1, 2, ..., V}` where `V` is the size of our vocabulary. And each sentence is represented as a V-dimensional vector $x$, where $x_i$ is the number of times that word $i$ occurs in the sentence.\n",
        "\n",
        "To do this transformation, we will make use of the `CountVectorizer` class in `scikit-learn`. We will cap the number of features at 4500, meaning a word will make it into our vocabulary only if it is one of the 4500 most common words in the corpus. This is often a useful step as it can weed out spelling mistakes and words which occur too infrequently to be useful.\n",
        "\n",
        "Finally, we will also append a '1' to the end of each vector to allow our linear classifier to learn a bias term."
      ]
    },
    {
      "metadata": {
        "id": "ecGAIIyw3IZi",
        "colab_type": "code",
        "colab": {}
      },
      "cell_type": "code",
      "source": [
        "from sklearn.feature_extraction.text import CountVectorizer\n",
        "\n",
        "## Transform to bag of words representation.\n",
        "vectorizer = CountVectorizer(analyzer = \"word\", tokenizer = None, preprocessor = None, stop_words = None, max_features = 4500)\n",
        "data_features = vectorizer.fit_transform(sents_processed)\n",
        "\n",
        "## Append '1' to the end of each vector.\n",
        "data_mat = data_features.toarray()\n",
        "\n",
        "#p_mat = data_features.toarray()\n",
        "#data_mat = np.ones((p_mat.shape[0], p_mat.shape[1]+1))\n",
        "#data_mat[:,:-1] = p_mat"
      ],
      "execution_count": 0,
      "outputs": []
    },
    {
      "metadata": {
        "id": "1wEUm8M93IZk",
        "colab_type": "text"
      },
      "cell_type": "markdown",
      "source": [
        "### Training / test split\n",
        "\n",
        "Finally, we split the data into a training set of 2500 sentences and a test set of 500 sentences (of which 250 are positive and 250 negative)."
      ]
    },
    {
      "metadata": {
        "id": "SjnEuc5v3IZk",
        "colab_type": "code",
        "outputId": "3473fdc3-5375-4e10-fd2c-02f0cf88fb37",
        "colab": {
          "base_uri": "https://localhost:8080/",
          "height": 51
        }
      },
      "cell_type": "code",
      "source": [
        "## Split the data into testing and training sets\n",
        "np.random.seed(0)\n",
        "test_inds = np.append(np.random.choice((np.where(y==-1))[0], 250, replace=False), np.random.choice((np.where(y==1))[0], 250, replace=False))\n",
        "train_inds = list(set(range(len(labels))) - set(test_inds))\n",
        "\n",
        "train_data = data_mat[train_inds,]\n",
        "train_labels = y[train_inds]\n",
        "\n",
        "test_data = data_mat[test_inds,]\n",
        "test_labels = y[test_inds]\n",
        "\n",
        "print(\"train data: \", train_data.shape)\n",
        "print(\"test data: \", test_data.shape)"
      ],
      "execution_count": 8,
      "outputs": [
        {
          "output_type": "stream",
          "text": [
            "train data:  (2500, 4500)\n",
            "test data:  (500, 4500)\n"
          ],
          "name": "stdout"
        }
      ]
    },
    {
      "metadata": {
        "id": "6dY4NWQA3IZn",
        "colab_type": "text"
      },
      "cell_type": "markdown",
      "source": [
        "## 2. Fitting a logistic regression model to the training data\n",
        "\n",
        "We could implement our own logistic regression solver using stochastic gradient descent, but fortunately, there is already one built into `scikit-learn`.\n",
        "\n",
        "Due to the randomness in the SGD procedure, different runs can yield slightly different solutions (and thus different error values)."
      ]
    },
    {
      "metadata": {
        "id": "DERSq81J3IZo",
        "colab_type": "code",
        "outputId": "467e1247-0f2f-4074-9df1-77a020f95f9e",
        "colab": {
          "base_uri": "https://localhost:8080/",
          "height": 105
        }
      },
      "cell_type": "code",
      "source": [
        "from sklearn.linear_model import SGDClassifier\n",
        "\n",
        "## Fit logistic classifier on training data\n",
        "clf = SGDClassifier(loss=\"log\", penalty=\"none\")\n",
        "clf.fit(train_data, train_labels)\n",
        "\n",
        "## Pull out the parameters (w,b) of the logistic regression model\n",
        "w = clf.coef_[0,:]\n",
        "b = clf.intercept_\n",
        "\n",
        "## Get predictions on training and test data\n",
        "preds_train = clf.predict(train_data)\n",
        "preds_test = clf.predict(test_data)\n",
        "\n",
        "## Compute errors\n",
        "errs_train = np.sum((preds_train > 0.0) != (train_labels > 0.0))\n",
        "errs_test = np.sum((preds_test > 0.0) != (test_labels > 0.0))\n",
        "\n",
        "print(\"Training error: \", float(errs_train)/len(train_labels))\n",
        "print(\"Test error: \", float(errs_test)/len(test_labels))"
      ],
      "execution_count": 9,
      "outputs": [
        {
          "output_type": "stream",
          "text": [
            "/usr/local/lib/python3.6/dist-packages/sklearn/linear_model/stochastic_gradient.py:166: FutureWarning: max_iter and tol parameters have been added in SGDClassifier in 0.19. If both are left unset, they default to max_iter=5 and tol=None. If tol is not None, max_iter defaults to max_iter=1000. From 0.21, default max_iter will be 1000, and default tol will be 1e-3.\n",
            "  FutureWarning)\n"
          ],
          "name": "stderr"
        },
        {
          "output_type": "stream",
          "text": [
            "Training error:  0.016\n",
            "Test error:  0.186\n"
          ],
          "name": "stdout"
        }
      ]
    },
    {
      "metadata": {
        "id": "7whdNlcp3IZq",
        "colab_type": "text"
      },
      "cell_type": "markdown",
      "source": [
        "## 3. Analyzing the margin\n",
        "\n",
        "The logistic regression model produces not just classifications but also conditional probability estimates. \n",
        "\n",
        "We will say that `x` has **margin** `gamma` if (according to the logistic regression model) `Pr(y=1|x) > (1/2)+gamma` or `Pr(y=1|x) < (1/2)-gamma`. The following function **margin_counts** takes as input the classifier (`clf`, computed earlier), the test set (`test_data`), and a value of `gamma`, and computes how many points in the test set have margin at least `gamma`."
      ]
    },
    {
      "metadata": {
        "id": "3fYGJ6FS3IZq",
        "colab_type": "code",
        "colab": {}
      },
      "cell_type": "code",
      "source": [
        "## Return number of test points for which Pr(y=1) lies in [0, 0.5 - gamma) or (0.5 + gamma, 1]\n",
        "def margin_counts(clf, test_data, gamma):\n",
        "    ## Compute probability on each test point\n",
        "    preds = clf.predict_proba(test_data)[:,1]\n",
        "    ## Find data points for which prediction is at least gamma away from 0.5\n",
        "    margin_inds = np.where((preds > (0.5+gamma)) | (preds < (0.5-gamma)))[0]\n",
        "    \n",
        "    return float(len(margin_inds))"
      ],
      "execution_count": 0,
      "outputs": []
    },
    {
      "metadata": {
        "id": "Ka87gq4i3IZr",
        "colab_type": "text"
      },
      "cell_type": "markdown",
      "source": [
        "We now visualize the test set's distribution of margin values."
      ]
    },
    {
      "metadata": {
        "id": "MpvfknjZ3IZs",
        "colab_type": "code",
        "outputId": "d9d1a29b-d7d7-40e9-cd4a-9c00bbdbc2de",
        "colab": {
          "base_uri": "https://localhost:8080/",
          "height": 287
        }
      },
      "cell_type": "code",
      "source": [
        "gammas = np.arange(0,0.5,0.01)\n",
        "f = np.vectorize(lambda g: margin_counts(clf, test_data, g))\n",
        "plt.plot(gammas, f(gammas)/500.0, linewidth=2, color='green')\n",
        "plt.xlabel('Margin', fontsize=14)\n",
        "plt.ylabel('Fraction of points above margin', fontsize=14)\n",
        "plt.show()"
      ],
      "execution_count": 12,
      "outputs": [
        {
          "output_type": "display_data",
          "data": {
            "image/png": "[encoded data removed]",
            "text/plain": [
              "<Figure size 432x288 with 1 Axes>"
            ]
          },
          "metadata": {
            "tags": []
          }
        }
      ]
    },
    {
      "metadata": {
        "id": "LcNbPXeG3IZu",
        "colab_type": "text"
      },
      "cell_type": "markdown",
      "source": [
        "Next, we investigate a natural question: <font color=\"magenta\">Are points `x` with larger margin more likely to be classified correctly?</font>\n",
        "\n",
        "To address this, we define a function **margin_errors** that computes the fraction of points with margin at least `gamma` that are misclassified."
      ]
    },
    {
      "metadata": {
        "id": "ddbb708D3IZv",
        "colab_type": "code",
        "colab": {}
      },
      "cell_type": "code",
      "source": [
        "## Return error of predictions that lie in intervals [0, 0.5 - gamma) and (0.5 + gamma, 1]\n",
        "def margin_errors(clf, test_data, test_labels, gamma):\n",
        "    ## Compute probability on each test point\n",
        "    preds = clf.predict_proba(test_data)[:,1]\n",
        "    \n",
        "    ## Find data points for which prediction is at least gamma away from 0.5\n",
        "    margin_inds = np.where((preds > (0.5+gamma)) | (preds < (0.5-gamma)))[0]\n",
        "    \n",
        "    ## Compute error on those data points.\n",
        "    num_errors = np.sum((preds[margin_inds] > 0.5) != (test_labels[margin_inds] > 0.0))\n",
        "    return float(num_errors)/len(margin_inds)"
      ],
      "execution_count": 0,
      "outputs": []
    },
    {
      "metadata": {
        "id": "lSaLnfQn3IZy",
        "colab_type": "text"
      },
      "cell_type": "markdown",
      "source": [
        "We now visualize the relationship between margin and error rate."
      ]
    },
    {
      "metadata": {
        "id": "puvcHzpD3IZz",
        "colab_type": "code",
        "outputId": "a4d31525-39f0-4e0e-af40-40da3e8f78c4",
        "colab": {
          "base_uri": "https://localhost:8080/",
          "height": 287
        }
      },
      "cell_type": "code",
      "source": [
        "## Create grid of gamma values\n",
        "gammas = np.arange(0, 0.5, 0.01)\n",
        "\n",
        "## Compute margin_errors on test data for each value of g\n",
        "f = np.vectorize(lambda g: margin_errors(clf, test_data, test_labels, g))\n",
        "\n",
        "## Plot the result\n",
        "plt.plot(gammas, f(gammas), linewidth=2)\n",
        "plt.ylabel('Error rate', fontsize=14)\n",
        "plt.xlabel('Margin', fontsize=14)\n",
        "plt.show()"
      ],
      "execution_count": 16,
      "outputs": [
        {
          "output_type": "display_data",
          "data": {
            "image/png": "[encoded data removed]",
            "text/plain": [
              "<Figure size 432x288 with 1 Axes>"
            ]
          },
          "metadata": {
            "tags": []
          }
        }
      ]
    },
    {
      "metadata": {
        "id": "AB6Pkc5l3IZ5",
        "colab_type": "text"
      },
      "cell_type": "markdown",
      "source": [
        "## 4. Words with large influence\n",
        "\n",
        "Finally, we attempt to partially **interpret** the logistic regression model.\n",
        "\n",
        "Which words are most important in deciding whether a sentence is positive? As a first approximation to this, we simply take the words whose coefficients in `w` have the largest positive values.\n",
        "\n",
        "Likewise, we look at the words whose coefficients in `w` have the most negative values, and we think of these as influential in negative predictions."
      ]
    },
    {
      "metadata": {
        "id": "EyWgXYYV3IZ6",
        "colab_type": "code",
        "outputId": "43f5d0d2-7a35-4c41-de33-14aa547acdd3",
        "colab": {
          "base_uri": "https://localhost:8080/",
          "height": 105
        }
      },
      "cell_type": "code",
      "source": [
        "## Convert vocabulary into a list:\n",
        "vocab = np.array([z[0] for z in sorted(vectorizer.vocabulary_.items(), key=lambda x:x[1])])\n",
        "\n",
        "## Get indices of sorting w\n",
        "inds = np.argsort(w)\n",
        "\n",
        "## Words with large negative values\n",
        "neg_inds = inds[0:50]\n",
        "print(\"Highly negative words: \")\n",
        "print([str(x) for x in list(vocab[neg_inds])])\n",
        "\n",
        "## Words with large positive values\n",
        "pos_inds = inds[-49:-1]\n",
        "print(\"Highly positive words: \")\n",
        "print([str(x) for x in list(vocab[pos_inds])])"
      ],
      "execution_count": 18,
      "outputs": [
        {
          "output_type": "stream",
          "text": [
            "Highly negative words: \n",
            "['sucks', 'worst', 'bad', 'poor', 'avoid', 'aren', 'bland', 'wasn', 'pm', 'rude', 'started', 'unfortunately', 'directing', 'slow', 'mediocre', 'wasted', 'then', 'disappointment', 'minutes', 'ok', 'stereotypes', 'return', 'stupid', 'wife', 'fly', 'racial', 'literally', 'looks', 'waste', 'fails', 'another', 'ripped', 'low', 'picture', 'dishes', 'within', 'boring', 'make', 'torture', 'awful', 'guess', 'flat', 'green', 'sitting', 'not', 'disappointing', 'put', 'year', 'depth', 'received']\n",
            "Highly positive words: \n",
            "['carry', 'happy', 'amount', 'sauce', 'art', 'tom', 'happier', 'brings', 'steak', 'best', 'wow', 'parts', 'enjoyed', 'cult', 'plays', 'beer', 'incredible', 'angel', 'definitely', 'ponyo', 'years', 'lovely', 'sex', 'family', 'hope', 'fun', 'occasionally', 'love', 'funny', 'decent', 'easy', 'cool', 'exactly', 'amazing', 'joy', 'scamp', 'works', 'awesome', 'delicious', 'great', 'loved', 'fantastic', 'liked', 'interesting', 'beautiful', 'comfortable', 'excellent', 'nice']\n"
          ],
          "name": "stdout"
        }
      ]
    },
    {
      "metadata": {
        "id": "Eyrpz_pp3IZ9",
        "colab_type": "text"
      },
      "cell_type": "markdown",
      "source": [
        "## 5. Something for you to think about\n",
        "\n",
        "Suppose you are building a classifier, and can tolerate an error rate of at most some value `e`. Unfortunately, every classifier you try has a higher error than this. \n",
        "\n",
        "Therefore, you decide that the classifier is allowed to occasionally **abstain**: that is, to say *\"don't know\"*. When it actually makes a prediction, it must have error rate at most `e`. And subject to this constraint, it should abstain as infrequently as possible.\n",
        "\n",
        "How would you build an abstaining classifier of this kind, starting from a logistic regression model?"
      ]
    },
    {
      "metadata": {
        "id": "2u21nNed3IZ-",
        "colab_type": "code",
        "colab": {
          "base_uri": "https://localhost:8080/",
          "height": 34
        },
        "outputId": "9b502a4a-d8c6-4aff-d588-a779fb125a27"
      },
      "cell_type": "code",
      "source": [
        "def error_abstain(clf, x, y, g):\n",
        "  probs = clf.predict_proba(x)[:, 1]\n",
        "  abstain = ((0.5-g) < probs) & (probs < (0.5+g))\n",
        "  preds = clf.predict(x[~abstain])\n",
        "  labels = y[~abstain]\n",
        "  err = np.sum(preds != labels) / len(labels)\n",
        "  return err\n",
        "\n",
        "e = 0.15\n",
        "gammas = np.arange(0.3, 0.5, 0.01)\n",
        "verror_abstain = np.vectorize(error_abstain, excluded=[\"clf\", \"x\", \"y\"])\n",
        "errors = verror_abstain(g=gammas, clf=clf, x=test_data, y=test_labels)\n",
        "print(\"gammas that result in error < {e}: {gammas}\".format(e=e, gammas=gammas[errors<e]))"
      ],
      "execution_count": 84,
      "outputs": [
        {
          "output_type": "stream",
          "text": [
            "gammas that result in error < 0.15: [0.49]\n"
          ],
          "name": "stdout"
        }
      ]
    }
  ]
}
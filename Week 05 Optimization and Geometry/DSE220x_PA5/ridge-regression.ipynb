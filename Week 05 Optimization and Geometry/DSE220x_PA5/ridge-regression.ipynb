{
  "nbformat": 4,
  "nbformat_minor": 0,
  "metadata": {
    "colab": {
      "name": "ridge-regression.ipynb",
      "version": "0.3.2",
      "provenance": [],
      "include_colab_link": true
    },
    "kernelspec": {
      "name": "python3",
      "display_name": "Python 3"
    },
    "accelerator": "GPU"
  },
  "cells": [
    {
      "cell_type": "markdown",
      "metadata": {
        "id": "view-in-github",
        "colab_type": "text"
      },
      "source": [
        "<a href=\"https://colab.research.google.com/github/Data-Science-and-Data-Analytics-Courses/UCSanDiegoX---Machine-Learning-Fundamentals-03-Jan-2019-audit/blob/master/Week%2005%20Optimization%20and%20Geometry/DSE220x_PA5/ridge-regression.ipynb\" target=\"_parent\"><img src=\"https://colab.research.google.com/assets/colab-badge.svg\" alt=\"Open In Colab\"/></a>"
      ]
    },
    {
      "metadata": {
        "id": "1npLYGxcgZ3S",
        "colab_type": "text"
      },
      "cell_type": "markdown",
      "source": [
        "# Gradient-based solver for ridge regression"
      ]
    },
    {
      "metadata": {
        "id": "s9zLAPGCgZ3W",
        "colab_type": "text"
      },
      "cell_type": "markdown",
      "source": [
        "In this notebook, you will create a **gradient descent** solver for **ridge regression** and then compare it to the built-in solver in `sklearn.linear_model`."
      ]
    },
    {
      "metadata": {
        "id": "Hs-Gokq-gc2s",
        "colab_type": "text"
      },
      "cell_type": "markdown",
      "source": [
        "# Clone remote"
      ]
    },
    {
      "metadata": {
        "id": "spkZi5eggdBO",
        "colab_type": "code",
        "outputId": "c1069a09-d74d-4481-dc26-d117dcbcd213",
        "colab": {
          "base_uri": "https://localhost:8080/",
          "height": 170
        }
      },
      "cell_type": "code",
      "source": [
        "import os, sys\n",
        "from pathlib import Path\n",
        "\n",
        "URL = \"https://github.com/Data-Science-and-Data-Analytics-Courses/UCSanDiegoX---Machine-Learning-Fundamentals-03-Jan-2019-audit\"\n",
        "NBDIR = \"Week 05 Optimization and Geometry/DSE220x_PA5\"\n",
        "\n",
        "def clone(url, dest=\".\", branch=\"master\", reloc=True):\n",
        "  \"\"\"\n",
        "  Clone remote branch from url into dest\n",
        "  branch not provided: clone all branches\n",
        "  reloc is True: relocate to repository\n",
        "  \"\"\"\n",
        "\n",
        "  url = url.strip(\" /\")\n",
        "  repo = Path(dest, os.path.basename(url)).resolve()\n",
        "\n",
        "  # dest must not be inside existing repository\n",
        "  is_out = !git -C \"$dest\" rev-parse\n",
        "  if not is_out: # inside repository\n",
        "    raise ValueError(\"Can't clone into existing repository\")\n",
        "  \n",
        "  # Clone\n",
        "  p = repo.as_posix()\n",
        "  if branch: # specific branch\n",
        "    !git clone --single-branch \"$url\" -b \"$branch\" \"$p\"\n",
        "  else: # all branches\n",
        "    !git clone \"$url\" \"$p\"\n",
        "  \n",
        "  # Relocate\n",
        "  if reloc:\n",
        "    %cd \"$repo\"\n",
        "\n",
        "  return repo.as_posix()\n",
        "\n",
        "REPO = clone(URL)\n",
        "%run .Importable.ipynb\n",
        "sys.path.append(REPO)\n",
        "%cd \"$NBDIR\""
      ],
      "execution_count": 0,
      "outputs": [
        {
          "output_type": "stream",
          "text": [
            "Cloning into '/content/UCSanDiegoX---Machine-Learning-Fundamentals-03-Jan-2019-audit'...\n",
            "remote: Enumerating objects: 111, done.\u001b[K\n",
            "remote: Counting objects: 100% (111/111), done.\u001b[K\n",
            "remote: Compressing objects: 100% (106/106), done.\u001b[K\n",
            "remote: Total 756 (delta 57), reused 18 (delta 5), pack-reused 645\u001b[K\n",
            "Receiving objects: 100% (756/756), 3.33 MiB | 3.09 MiB/s, done.\n",
            "Resolving deltas: 100% (377/377), done.\n",
            "/content/UCSanDiegoX---Machine-Learning-Fundamentals-03-Jan-2019-audit\n"
          ],
          "name": "stdout"
        },
        {
          "output_type": "display_data",
          "data": {
            "text/html": [
              "\n",
              "<style type='text/css'>\n",
              ".hll { background-color: #ffffcc }\n",
              ".c { color: #408080; font-style: italic } /* Comment */\n",
              ".err { border: 1px solid #FF0000 } /* Error */\n",
              ".k { color: #008000; font-weight: bold } /* Keyword */\n",
              ".o { color: #666666 } /* Operator */\n",
              ".ch { color: #408080; font-style: italic } /* Comment.Hashbang */\n",
              ".cm { color: #408080; font-style: italic } /* Comment.Multiline */\n",
              ".cp { color: #BC7A00 } /* Comment.Preproc */\n",
              ".cpf { color: #408080; font-style: italic } /* Comment.PreprocFile */\n",
              ".c1 { color: #408080; font-style: italic } /* Comment.Single */\n",
              ".cs { color: #408080; font-style: italic } /* Comment.Special */\n",
              ".gd { color: #A00000 } /* Generic.Deleted */\n",
              ".ge { font-style: italic } /* Generic.Emph */\n",
              ".gr { color: #FF0000 } /* Generic.Error */\n",
              ".gh { color: #000080; font-weight: bold } /* Generic.Heading */\n",
              ".gi { color: #00A000 } /* Generic.Inserted */\n",
              ".go { color: #888888 } /* Generic.Output */\n",
              ".gp { color: #000080; font-weight: bold } /* Generic.Prompt */\n",
              ".gs { font-weight: bold } /* Generic.Strong */\n",
              ".gu { color: #800080; font-weight: bold } /* Generic.Subheading */\n",
              ".gt { color: #0044DD } /* Generic.Traceback */\n",
              ".kc { color: #008000; font-weight: bold } /* Keyword.Constant */\n",
              ".kd { color: #008000; font-weight: bold } /* Keyword.Declaration */\n",
              ".kn { color: #008000; font-weight: bold } /* Keyword.Namespace */\n",
              ".kp { color: #008000 } /* Keyword.Pseudo */\n",
              ".kr { color: #008000; font-weight: bold } /* Keyword.Reserved */\n",
              ".kt { color: #B00040 } /* Keyword.Type */\n",
              ".m { color: #666666 } /* Literal.Number */\n",
              ".s { color: #BA2121 } /* Literal.String */\n",
              ".na { color: #7D9029 } /* Name.Attribute */\n",
              ".nb { color: #008000 } /* Name.Builtin */\n",
              ".nc { color: #0000FF; font-weight: bold } /* Name.Class */\n",
              ".no { color: #880000 } /* Name.Constant */\n",
              ".nd { color: #AA22FF } /* Name.Decorator */\n",
              ".ni { color: #999999; font-weight: bold } /* Name.Entity */\n",
              ".ne { color: #D2413A; font-weight: bold } /* Name.Exception */\n",
              ".nf { color: #0000FF } /* Name.Function */\n",
              ".nl { color: #A0A000 } /* Name.Label */\n",
              ".nn { color: #0000FF; font-weight: bold } /* Name.Namespace */\n",
              ".nt { color: #008000; font-weight: bold } /* Name.Tag */\n",
              ".nv { color: #19177C } /* Name.Variable */\n",
              ".ow { color: #AA22FF; font-weight: bold } /* Operator.Word */\n",
              ".w { color: #bbbbbb } /* Text.Whitespace */\n",
              ".mb { color: #666666 } /* Literal.Number.Bin */\n",
              ".mf { color: #666666 } /* Literal.Number.Float */\n",
              ".mh { color: #666666 } /* Literal.Number.Hex */\n",
              ".mi { color: #666666 } /* Literal.Number.Integer */\n",
              ".mo { color: #666666 } /* Literal.Number.Oct */\n",
              ".sb { color: #BA2121 } /* Literal.String.Backtick */\n",
              ".sc { color: #BA2121 } /* Literal.String.Char */\n",
              ".sd { color: #BA2121; font-style: italic } /* Literal.String.Doc */\n",
              ".s2 { color: #BA2121 } /* Literal.String.Double */\n",
              ".se { color: #BB6622; font-weight: bold } /* Literal.String.Escape */\n",
              ".sh { color: #BA2121 } /* Literal.String.Heredoc */\n",
              ".si { color: #BB6688; font-weight: bold } /* Literal.String.Interpol */\n",
              ".sx { color: #008000 } /* Literal.String.Other */\n",
              ".sr { color: #BB6688 } /* Literal.String.Regex */\n",
              ".s1 { color: #BA2121 } /* Literal.String.Single */\n",
              ".ss { color: #19177C } /* Literal.String.Symbol */\n",
              ".bp { color: #008000 } /* Name.Builtin.Pseudo */\n",
              ".vc { color: #19177C } /* Name.Variable.Class */\n",
              ".vg { color: #19177C } /* Name.Variable.Global */\n",
              ".vi { color: #19177C } /* Name.Variable.Instance */\n",
              ".il { color: #666666 } /* Literal.Number.Integer.Long */\n",
              "</style>\n"
            ],
            "text/plain": [
              "<IPython.core.display.HTML object>"
            ]
          },
          "metadata": {
            "tags": []
          }
        },
        {
          "output_type": "stream",
          "text": [
            "/content/UCSanDiegoX---Machine-Learning-Fundamentals-03-Jan-2019-audit/Week 05 Optimization and Geometry/DSE220x_PA5\n"
          ],
          "name": "stdout"
        }
      ]
    },
    {
      "metadata": {
        "id": "Lt9NmBiDgZ3Y",
        "colab_type": "text"
      },
      "cell_type": "markdown",
      "source": [
        "## 1. Set up notebook and create data set"
      ]
    },
    {
      "metadata": {
        "id": "WIS-3fukgZ3Y",
        "colab_type": "text"
      },
      "cell_type": "markdown",
      "source": [
        "After loading in some standard packages, we create a synthetic data set consisting of data points `(x,y)`:\n",
        "* `x`: 100-dimensional vector whose coordinates are independent draws from a standard normal (Gaussian) distribution\n",
        "* `y`: response value given by `y = wx + e` where `w` is a target regression function and `e` is Gaussian noise\n",
        "\n",
        "We will fix `w` to be the 100-dimensional vector whose first ten coordinates are exactly 1.0, and whose remaining coordinates are zero. Thus only the first ten coordinates of `x` are relevant to the regression task."
      ]
    },
    {
      "metadata": {
        "id": "q9Su8rMHgZ3a",
        "colab_type": "code",
        "colab": {}
      },
      "cell_type": "code",
      "source": [
        "%matplotlib inline\n",
        "import numpy as np\n",
        "import matplotlib\n",
        "import matplotlib.pyplot as plt\n",
        "from sklearn import linear_model\n",
        "from sklearn.metrics import mean_squared_error\n",
        "matplotlib.rc('xtick', labelsize=14) \n",
        "matplotlib.rc('ytick', labelsize=14)"
      ],
      "execution_count": 0,
      "outputs": []
    },
    {
      "metadata": {
        "id": "_ZfXFoxegZ3h",
        "colab_type": "text"
      },
      "cell_type": "markdown",
      "source": [
        "The following procedure, **generate_data**, creates a data set of a specified number of points. It is invoked as follows:\n",
        "* `trainx, trainy = generate_data(n)`\n",
        "\n",
        "Here:\n",
        "* `n` is the target number of points\n",
        "* `trainx`: `nx100` array of data points\n",
        "* `trainy`: array of `n` response values"
      ]
    },
    {
      "metadata": {
        "id": "cSbrS8oAgZ3i",
        "colab_type": "code",
        "colab": {}
      },
      "cell_type": "code",
      "source": [
        "def generate_data(n):\n",
        "    d = 100\n",
        "    w = np.zeros(d)\n",
        "    for i in range(0,10):\n",
        "        w[i] = 1.0\n",
        "    #\n",
        "    trainx = np.random.normal(size=(n,d))\n",
        "    e = np.random.normal(size=(n))\n",
        "    trainy = np.dot(trainx, w) + e\n",
        "    #\n",
        "    return trainx, trainy"
      ],
      "execution_count": 0,
      "outputs": []
    },
    {
      "metadata": {
        "id": "nguVPOj3gZ3m",
        "colab_type": "text"
      },
      "cell_type": "markdown",
      "source": [
        "## 2. Gradient descent solver for ridge regression"
      ]
    },
    {
      "metadata": {
        "id": "eK_dCGhagZ3n",
        "colab_type": "text"
      },
      "cell_type": "markdown",
      "source": [
        "<font color=\"magenta\">**For you to do:**</font> Define a procedure, **ridge_regression_GD**, that uses gradient descent to solve the ridge regression problem. It is invoked as follows:\n",
        "\n",
        "* `w,b,losses = ridge_regression_GD(x,y,C)`\n",
        "\n",
        "Here, the input consists of:\n",
        "* training data `x,y`, where `x` and `y` are numpy arrays of dimension `n`-by-`d` and `n`, respectively (if there are `n` training points)\n",
        "* regularization constant `C`\n",
        "\n",
        "The function should find the `d`-dimensional vector `w` and offset `b` that minimize the ridge regression loss function (with regularization constant `C`), and return:\n",
        "* `w` and `b`\n",
        "* `losses`, an array containing the ridge regression loss at each iteration\n",
        "\n",
        "<font color=\"magenta\">Advice:</font> First figure out the derivative, which has a relatively simple form. Next, when implementing gradient descent, think carefully about two issues.\n",
        "\n",
        "1. What is the step size?\n",
        "2. When has the procedure converged?\n",
        "\n",
        "Take the time to experiment with different ways of handling these."
      ]
    },
    {
      "metadata": {
        "id": "c4ak8NXxf5K0",
        "colab_type": "text"
      },
      "cell_type": "markdown",
      "source": [
        "Loss:\n",
        "$$\n",
        "L = \\sum_{i=1}^n (y_i - x_i w)^2 + \\lambda\\|w\\|^2\n",
        "$$\n",
        "$$\n",
        "L = \\|y-Xw\\|^2 + \\lambda\\|w\\|^2 \\text{ (calculate)}\n",
        "$$\n",
        "$$\n",
        "L = L + \\nabla L u \\text{ (update)}\n",
        "$$\n",
        "\n",
        "Derivative:\n",
        "$$\n",
        "\\frac{\\partial L}{\\partial w_j} = -2\\Big(\\sum_{i=1}^n x_{ij}(y_i - x_i w) - \\lambda w_j\\Big)\n",
        "$$\n",
        "$$\n",
        "\\nabla L = \\frac{dL}{dw} = -2\\big(X^T(y -Xw) - \\lambda w\\big) \\text{ (calculate)}\n",
        "$$\n",
        "$$\n",
        "\\nabla L = \\nabla L + \\nabla^2Lu \\text{ (update)}\n",
        "$$\n",
        "\n",
        "Derivative ($2^{nd}$ order):\n",
        "$$\n",
        "\\frac{\\partial^2L}{\\partial w_j \\partial w_k} = 2\\Big(\\sum_{i=1}^n x_{ij}x_{ik} + \\lambda\\{1_{j=k}, 0_{j \\neq k}\\}\\Big)\n",
        "$$\n",
        "$$\n",
        "\\nabla^2L = \\frac{d^2L}{d^2w} = 2(X^TX+\\lambda I) \\text{ (calculate)}\n",
        "$$\n",
        "\n",
        "Displacement:\n",
        "$$\n",
        "u = -\\eta \\nabla L \\text{ (update)}\n",
        "$$\n",
        "$$\n",
        "w = w + u \\text{ (update)}\n",
        "$$\n",
        "\n",
        "**Gradient descent**  \n",
        "Calculate initial $\\nabla L$  \n",
        "Calculate $\\nabla^2L$  \n",
        "Set $\\eta$  \n",
        "Choose intial $w$  \n",
        "While $\\nabla L $:  \n",
        "Update $u = -\\eta\\nabla L$  \n",
        "Update $w = w + u$  \n",
        "Update $\\nabla L = \\nabla L + \\nabla^2Lu$  \n",
        "Change $\\eta$ (optional)"
      ]
    },
    {
      "metadata": {
        "id": "yG_L72x3gZ3p",
        "colab_type": "code",
        "colab": {}
      },
      "cell_type": "code",
      "source": [
        "def ridge_regression_GD(x,y,C):\n",
        "    ### Put your code here\n",
        "    return w,b,losses"
      ],
      "execution_count": 0,
      "outputs": []
    },
    {
      "metadata": {
        "id": "kj2aLzoLgZ3s",
        "colab_type": "text"
      },
      "cell_type": "markdown",
      "source": [
        "Let's try it out and print a graph of the loss values during the optimization process."
      ]
    },
    {
      "metadata": {
        "id": "t-u7uLyVgZ3t",
        "colab_type": "code",
        "colab": {}
      },
      "cell_type": "code",
      "source": [
        "# Generate 200 data points\n",
        "n = 200\n",
        "x,y = generate_data(n)\n",
        "# Set regularization constant\n",
        "C = 1.0\n",
        "# Run gradient descent solver\n",
        "w, b, losses = ridge_regression_GD(x,y,C)\n",
        "# Plot the losses\n",
        "plt.plot(losses,'r')\n",
        "plt.xlabel('Iterations', fontsize=14)\n",
        "plt.ylabel('Loss', fontsize=14)\n",
        "plt.show()"
      ],
      "execution_count": 0,
      "outputs": []
    },
    {
      "metadata": {
        "id": "C2WckiOzgZ3v",
        "colab_type": "text"
      },
      "cell_type": "markdown",
      "source": [
        "<font color=\"magenta\">**Something to think about**</font>\n",
        "\n",
        "1. In setting the step size, does it work to use a fixed schedule 1/t? Why or why not?\n",
        "\n",
        "2. Can you set up the gradient descent procedure in such a way that on each iteration, the loss monotonically decreases?\n"
      ]
    },
    {
      "metadata": {
        "id": "tK4OznaegZ3v",
        "colab_type": "text"
      },
      "cell_type": "markdown",
      "source": [
        "## 3. Evaluate the gradient descent solver"
      ]
    },
    {
      "metadata": {
        "id": "nzZbLW1agZ3w",
        "colab_type": "text"
      },
      "cell_type": "markdown",
      "source": [
        "Now let's compare the regressor found by your gradient descent procedure to that returned by the built-in ridge regression solver in `sklearn`. We will compare them in two ways:\n",
        "* Their MSE values\n",
        "* The distance between the corresponding `w`-vectors\n",
        "\n",
        "The latter should be smaller than 10^{-4}.\n"
      ]
    },
    {
      "metadata": {
        "id": "KN_OHvwWgZ3x",
        "colab_type": "code",
        "colab": {}
      },
      "cell_type": "code",
      "source": [
        "def compute_mse(w,b,x,y):\n",
        "    residuals = y - (np.dot(x, w) + b)\n",
        "    return np.dot(residuals, residuals)/n"
      ],
      "execution_count": 0,
      "outputs": []
    },
    {
      "metadata": {
        "id": "4fjN8ah-gZ30",
        "colab_type": "code",
        "colab": {}
      },
      "cell_type": "code",
      "source": [
        "# Generate 200 data points\n",
        "n = 200\n",
        "x,y = generate_data(n)\n",
        "# Set regularization constant\n",
        "C = 10.0\n",
        "# Run gradient descent solver and compute its MSE\n",
        "w, b, losses = ridge_regression_GD(x,y,C)\n",
        "# Use built-in routine for ridge regression and compute MSE\n",
        "regr = linear_model.Ridge(alpha=C)\n",
        "regr.fit(x, y)\n",
        "# Print MSE values and L2 distance between the regression functions\n",
        "print \"MSE of gradient descent solver: \", compute_mse(w,b,x,y)\n",
        "print \"MSE of built-in solver: \", mean_squared_error(regr.predict(x), y)\n",
        "print \"Distance between w-coefficients: \", np.linalg.norm(w-regr.coef_)"
      ],
      "execution_count": 0,
      "outputs": []
    },
    {
      "metadata": {
        "id": "BWf9CFJHgZ33",
        "colab_type": "text"
      },
      "cell_type": "markdown",
      "source": [
        "<font color=\"magenta\">**Something to think about**</font>\n",
        "\n",
        "The data was originally generated using a linear function in which only ten of the 100 features (the first ten) were relevant. Does the vector `w` returned by ridge regression correctly identify the relevant features?"
      ]
    },
    {
      "metadata": {
        "id": "sckD7QMkgZ34",
        "colab_type": "code",
        "colab": {}
      },
      "cell_type": "code",
      "source": [
        ""
      ],
      "execution_count": 0,
      "outputs": []
    }
  ]
}
{
  "nbformat": 4,
  "nbformat_minor": 0,
  "metadata": {
    "colab": {
      "name": "ridge-regression.ipynb",
      "version": "0.3.2",
      "provenance": [],
      "include_colab_link": true
    },
    "kernelspec": {
      "name": "python3",
      "display_name": "Python 3"
    },
    "accelerator": "GPU"
  },
  "cells": [
    {
      "cell_type": "markdown",
      "metadata": {
        "id": "view-in-github",
        "colab_type": "text"
      },
      "source": [
        "<a href=\"https://colab.research.google.com/github/Data-Science-and-Data-Analytics-Courses/UCSanDiegoX---Machine-Learning-Fundamentals-03-Jan-2019-audit/blob/master/Week%2005%20Optimization%20and%20Geometry/DSE220x_PA5/ridge-regression.ipynb\" target=\"_parent\"><img src=\"https://colab.research.google.com/assets/colab-badge.svg\" alt=\"Open In Colab\"/></a>"
      ]
    },
    {
      "metadata": {
        "id": "1npLYGxcgZ3S",
        "colab_type": "text"
      },
      "cell_type": "markdown",
      "source": [
        "# Gradient-based solver for ridge regression"
      ]
    },
    {
      "metadata": {
        "id": "s9zLAPGCgZ3W",
        "colab_type": "text"
      },
      "cell_type": "markdown",
      "source": [
        "In this notebook, you will create a **gradient descent** solver for **ridge regression** and then compare it to the built-in solver in `sklearn.linear_model`."
      ]
    },
    {
      "metadata": {
        "id": "Hs-Gokq-gc2s",
        "colab_type": "text"
      },
      "cell_type": "markdown",
      "source": [
        "# Clone remote"
      ]
    },
    {
      "metadata": {
        "id": "spkZi5eggdBO",
        "colab_type": "code",
        "outputId": "184d0f02-8488-41eb-8b86-4b7d8ade2d86",
        "colab": {
          "base_uri": "https://localhost:8080/",
          "height": 170
        }
      },
      "cell_type": "code",
      "source": [
        "import os, sys\n",
        "from pathlib import Path\n",
        "\n",
        "URL = \"https://github.com/Data-Science-and-Data-Analytics-Courses/UCSanDiegoX---Machine-Learning-Fundamentals-03-Jan-2019-audit\"\n",
        "NBDIR = \"Week 05 Optimization and Geometry/DSE220x_PA5\"\n",
        "\n",
        "def clone(url, dest=\".\", branch=\"master\", reloc=True):\n",
        "  \"\"\"\n",
        "  Clone remote branch from url into dest\n",
        "  branch not provided: clone all branches\n",
        "  reloc is True: relocate to repository\n",
        "  \"\"\"\n",
        "\n",
        "  url = url.strip(\" /\")\n",
        "  repo = Path(dest, os.path.basename(url)).resolve()\n",
        "\n",
        "  # dest must not be inside existing repository\n",
        "  is_out = !git -C \"$dest\" rev-parse\n",
        "  if not is_out: # inside repository\n",
        "    raise ValueError(\"Can't clone into existing repository\")\n",
        "  \n",
        "  # Clone\n",
        "  p = repo.as_posix()\n",
        "  if branch: # specific branch\n",
        "    !git clone --single-branch \"$url\" -b \"$branch\" \"$p\"\n",
        "  else: # all branches\n",
        "    !git clone \"$url\" \"$p\"\n",
        "  \n",
        "  # Relocate\n",
        "  if reloc:\n",
        "    %cd \"$repo\"\n",
        "\n",
        "  return repo.as_posix()\n",
        "\n",
        "REPO = clone(URL)\n",
        "%run .Importable.ipynb\n",
        "sys.path.append(REPO)\n",
        "%cd \"$NBDIR\""
      ],
      "execution_count": 1,
      "outputs": [
        {
          "output_type": "stream",
          "text": [
            "Cloning into '/content/UCSanDiegoX---Machine-Learning-Fundamentals-03-Jan-2019-audit'...\n",
            "remote: Enumerating objects: 197, done.\u001b[K\n",
            "remote: Counting objects:   0% (1/197)   \u001b[K\rremote: Counting objects:   1% (2/197)   \u001b[K\rremote: Counting objects:   2% (4/197)   \u001b[K\rremote: Counting objects:   3% (6/197)   \u001b[K\rremote: Counting objects:   4% (8/197)   \u001b[K\rremote: Counting objects:   5% (10/197)   \u001b[K\rremote: Counting objects:   6% (12/197)   \u001b[K\rremote: Counting objects:   7% (14/197)   \u001b[K\rremote: Counting objects:   8% (16/197)   \u001b[K\rremote: Counting objects:   9% (18/197)   \u001b[K\rremote: Counting objects:  10% (20/197)   \u001b[K\rremote: Counting objects:  11% (22/197)   \u001b[K\rremote: Counting objects:  12% (24/197)   \u001b[K\rremote: Counting objects:  13% (26/197)   \u001b[K\rremote: Counting objects:  14% (28/197)   \u001b[K\rremote: Counting objects:  15% (30/197)   \u001b[K\rremote: Counting objects:  16% (32/197)   \u001b[K\rremote: Counting objects:  17% (34/197)   \u001b[K\rremote: Counting objects:  18% (36/197)   \u001b[K\rremote: Counting objects:  19% (38/197)   \u001b[K\rremote: Counting objects:  20% (40/197)   \u001b[K\rremote: Counting objects:  21% (42/197)   \u001b[K\rremote: Counting objects:  22% (44/197)   \u001b[K\rremote: Counting objects:  23% (46/197)   \u001b[K\rremote: Counting objects:  24% (48/197)   \u001b[K\rremote: Counting objects:  25% (50/197)   \u001b[K\rremote: Counting objects:  26% (52/197)   \u001b[K\rremote: Counting objects:  27% (54/197)   \u001b[K\rremote: Counting objects:  28% (56/197)   \u001b[K\rremote: Counting objects:  29% (58/197)   \u001b[K\rremote: Counting objects:  30% (60/197)   \u001b[K\rremote: Counting objects:  31% (62/197)   \u001b[K\rremote: Counting objects:  32% (64/197)   \u001b[K\rremote: Counting objects:  33% (66/197)   \u001b[K\rremote: Counting objects:  34% (67/197)   \u001b[K\rremote: Counting objects:  35% (69/197)   \u001b[K\rremote: Counting objects:  36% (71/197)   \u001b[K\rremote: Counting objects:  37% (73/197)   \u001b[K\rremote: Counting objects:  38% (75/197)   \u001b[K\rremote: Counting objects:  39% (77/197)   \u001b[K\rremote: Counting objects:  40% (79/197)   \u001b[K\rremote: Counting objects:  41% (81/197)   \u001b[K\rremote: Counting objects:  42% (83/197)   \u001b[K\rremote: Counting objects:  43% (85/197)   \u001b[K\rremote: Counting objects:  44% (87/197)   \u001b[K\rremote: Counting objects:  45% (89/197)   \u001b[K\rremote: Counting objects:  46% (91/197)   \u001b[K\rremote: Counting objects:  47% (93/197)   \u001b[K\rremote: Counting objects:  48% (95/197)   \u001b[K\rremote: Counting objects:  49% (97/197)   \u001b[K\rremote: Counting objects:  50% (99/197)   \u001b[K\rremote: Counting objects:  51% (101/197)   \u001b[K\rremote: Counting objects:  52% (103/197)   \u001b[K\rremote: Counting objects:  53% (105/197)   \u001b[K\rremote: Counting objects:  54% (107/197)   \u001b[K\rremote: Counting objects:  55% (109/197)   \u001b[K\rremote: Counting objects:  56% (111/197)   \u001b[K\rremote: Counting objects:  57% (113/197)   \u001b[K\rremote: Counting objects:  58% (115/197)   \u001b[K\rremote: Counting objects:  59% (117/197)   \u001b[K\rremote: Counting objects:  60% (119/197)   \u001b[K\rremote: Counting objects:  61% (121/197)   \u001b[K\rremote: Counting objects:  62% (123/197)   \u001b[K\rremote: Counting objects:  63% (125/197)   \u001b[K\rremote: Counting objects:  64% (127/197)   \u001b[K\rremote: Counting objects:  65% (129/197)   \u001b[K\rremote: Counting objects:  66% (131/197)   \u001b[K\rremote: Counting objects:  67% (132/197)   \u001b[K\rremote: Counting objects:  68% (134/197)   \u001b[K\rremote: Counting objects:  69% (136/197)   \u001b[K\rremote: Counting objects:  70% (138/197)   \u001b[K\rremote: Counting objects:  71% (140/197)   \u001b[K\rremote: Counting objects:  72% (142/197)   \u001b[K\rremote: Counting objects:  73% (144/197)   \u001b[K\rremote: Counting objects:  74% (146/197)   \u001b[K\rremote: Counting objects:  75% (148/197)   \u001b[K\rremote: Counting objects:  76% (150/197)   \u001b[K\rremote: Counting objects:  77% (152/197)   \u001b[K\rremote: Counting objects:  78% (154/197)   \u001b[K\rremote: Counting objects:  79% (156/197)   \u001b[K\rremote: Counting objects:  80% (158/197)   \u001b[K\rremote: Counting objects:  81% (160/197)   \u001b[K\rremote: Counting objects:  82% (162/197)   \u001b[K\rremote: Counting objects:  83% (164/197)   \u001b[K\rremote: Counting objects:  84% (166/197)   \u001b[K\rremote: Counting objects:  85% (168/197)   \u001b[K\rremote: Counting objects:  86% (170/197)   \u001b[K\rremote: Counting objects:  87% (172/197)   \u001b[K\rremote: Counting objects:  88% (174/197)   \u001b[K\rremote: Counting objects:  89% (176/197)   \u001b[K\rremote: Counting objects:  90% (178/197)   \u001b[K\rremote: Counting objects:  91% (180/197)   \u001b[K\rremote: Counting objects:  92% (182/197)   \u001b[K\rremote: Counting objects:  93% (184/197)   \u001b[K\rremote: Counting objects:  94% (186/197)   \u001b[K\rremote: Counting objects:  95% (188/197)   \u001b[K\rremote: Counting objects:  96% (190/197)   \u001b[K\rremote: Counting objects:  97% (192/197)   \u001b[K\rremote: Counting objects:  98% (194/197)   \u001b[K\rremote: Counting objects:  99% (196/197)   \u001b[K\rremote: Counting objects: 100% (197/197)   \u001b[K\rremote: Counting objects: 100% (197/197), done.\u001b[K\n",
            "remote: Compressing objects: 100% (192/192), done.\u001b[K\n",
            "remote: Total 842 (delta 108), reused 18 (delta 5), pack-reused 645\u001b[K\n",
            "Receiving objects: 100% (842/842), 3.36 MiB | 5.21 MiB/s, done.\n",
            "Resolving deltas: 100% (428/428), done.\n",
            "/content/UCSanDiegoX---Machine-Learning-Fundamentals-03-Jan-2019-audit\n"
          ],
          "name": "stdout"
        },
        {
          "output_type": "display_data",
          "data": {
            "text/html": [
              "\n",
              "<style type='text/css'>\n",
              ".hll { background-color: #ffffcc }\n",
              ".c { color: #408080; font-style: italic } /* Comment */\n",
              ".err { border: 1px solid #FF0000 } /* Error */\n",
              ".k { color: #008000; font-weight: bold } /* Keyword */\n",
              ".o { color: #666666 } /* Operator */\n",
              ".ch { color: #408080; font-style: italic } /* Comment.Hashbang */\n",
              ".cm { color: #408080; font-style: italic } /* Comment.Multiline */\n",
              ".cp { color: #BC7A00 } /* Comment.Preproc */\n",
              ".cpf { color: #408080; font-style: italic } /* Comment.PreprocFile */\n",
              ".c1 { color: #408080; font-style: italic } /* Comment.Single */\n",
              ".cs { color: #408080; font-style: italic } /* Comment.Special */\n",
              ".gd { color: #A00000 } /* Generic.Deleted */\n",
              ".ge { font-style: italic } /* Generic.Emph */\n",
              ".gr { color: #FF0000 } /* Generic.Error */\n",
              ".gh { color: #000080; font-weight: bold } /* Generic.Heading */\n",
              ".gi { color: #00A000 } /* Generic.Inserted */\n",
              ".go { color: #888888 } /* Generic.Output */\n",
              ".gp { color: #000080; font-weight: bold } /* Generic.Prompt */\n",
              ".gs { font-weight: bold } /* Generic.Strong */\n",
              ".gu { color: #800080; font-weight: bold } /* Generic.Subheading */\n",
              ".gt { color: #0044DD } /* Generic.Traceback */\n",
              ".kc { color: #008000; font-weight: bold } /* Keyword.Constant */\n",
              ".kd { color: #008000; font-weight: bold } /* Keyword.Declaration */\n",
              ".kn { color: #008000; font-weight: bold } /* Keyword.Namespace */\n",
              ".kp { color: #008000 } /* Keyword.Pseudo */\n",
              ".kr { color: #008000; font-weight: bold } /* Keyword.Reserved */\n",
              ".kt { color: #B00040 } /* Keyword.Type */\n",
              ".m { color: #666666 } /* Literal.Number */\n",
              ".s { color: #BA2121 } /* Literal.String */\n",
              ".na { color: #7D9029 } /* Name.Attribute */\n",
              ".nb { color: #008000 } /* Name.Builtin */\n",
              ".nc { color: #0000FF; font-weight: bold } /* Name.Class */\n",
              ".no { color: #880000 } /* Name.Constant */\n",
              ".nd { color: #AA22FF } /* Name.Decorator */\n",
              ".ni { color: #999999; font-weight: bold } /* Name.Entity */\n",
              ".ne { color: #D2413A; font-weight: bold } /* Name.Exception */\n",
              ".nf { color: #0000FF } /* Name.Function */\n",
              ".nl { color: #A0A000 } /* Name.Label */\n",
              ".nn { color: #0000FF; font-weight: bold } /* Name.Namespace */\n",
              ".nt { color: #008000; font-weight: bold } /* Name.Tag */\n",
              ".nv { color: #19177C } /* Name.Variable */\n",
              ".ow { color: #AA22FF; font-weight: bold } /* Operator.Word */\n",
              ".w { color: #bbbbbb } /* Text.Whitespace */\n",
              ".mb { color: #666666 } /* Literal.Number.Bin */\n",
              ".mf { color: #666666 } /* Literal.Number.Float */\n",
              ".mh { color: #666666 } /* Literal.Number.Hex */\n",
              ".mi { color: #666666 } /* Literal.Number.Integer */\n",
              ".mo { color: #666666 } /* Literal.Number.Oct */\n",
              ".sb { color: #BA2121 } /* Literal.String.Backtick */\n",
              ".sc { color: #BA2121 } /* Literal.String.Char */\n",
              ".sd { color: #BA2121; font-style: italic } /* Literal.String.Doc */\n",
              ".s2 { color: #BA2121 } /* Literal.String.Double */\n",
              ".se { color: #BB6622; font-weight: bold } /* Literal.String.Escape */\n",
              ".sh { color: #BA2121 } /* Literal.String.Heredoc */\n",
              ".si { color: #BB6688; font-weight: bold } /* Literal.String.Interpol */\n",
              ".sx { color: #008000 } /* Literal.String.Other */\n",
              ".sr { color: #BB6688 } /* Literal.String.Regex */\n",
              ".s1 { color: #BA2121 } /* Literal.String.Single */\n",
              ".ss { color: #19177C } /* Literal.String.Symbol */\n",
              ".bp { color: #008000 } /* Name.Builtin.Pseudo */\n",
              ".vc { color: #19177C } /* Name.Variable.Class */\n",
              ".vg { color: #19177C } /* Name.Variable.Global */\n",
              ".vi { color: #19177C } /* Name.Variable.Instance */\n",
              ".il { color: #666666 } /* Literal.Number.Integer.Long */\n",
              "</style>\n"
            ],
            "text/plain": [
              "<IPython.core.display.HTML object>"
            ]
          },
          "metadata": {
            "tags": []
          }
        },
        {
          "output_type": "stream",
          "text": [
            "/content/UCSanDiegoX---Machine-Learning-Fundamentals-03-Jan-2019-audit/Week 05 Optimization and Geometry/DSE220x_PA5\n"
          ],
          "name": "stdout"
        }
      ]
    },
    {
      "metadata": {
        "id": "Lt9NmBiDgZ3Y",
        "colab_type": "text"
      },
      "cell_type": "markdown",
      "source": [
        "## 1. Set up notebook and create data set"
      ]
    },
    {
      "metadata": {
        "id": "WIS-3fukgZ3Y",
        "colab_type": "text"
      },
      "cell_type": "markdown",
      "source": [
        "After loading in some standard packages, we create a synthetic data set consisting of data points `(x,y)`:\n",
        "* `x`: 100-dimensional vector whose coordinates are independent draws from a standard normal (Gaussian) distribution\n",
        "* `y`: response value given by `y = wx + e` where `w` is a target regression function and `e` is Gaussian noise\n",
        "\n",
        "We will fix `w` to be the 100-dimensional vector whose first ten coordinates are exactly 1.0, and whose remaining coordinates are zero. Thus only the first ten coordinates of `x` are relevant to the regression task."
      ]
    },
    {
      "metadata": {
        "id": "q9Su8rMHgZ3a",
        "colab_type": "code",
        "colab": {}
      },
      "cell_type": "code",
      "source": [
        "%matplotlib inline\n",
        "import numpy as np\n",
        "from numpy.linalg import multi_dot\n",
        "import matplotlib\n",
        "import matplotlib.pyplot as plt\n",
        "from sklearn import linear_model\n",
        "from sklearn.metrics import mean_squared_error\n",
        "matplotlib.rc('xtick', labelsize=14) \n",
        "matplotlib.rc('ytick', labelsize=14)"
      ],
      "execution_count": 0,
      "outputs": []
    },
    {
      "metadata": {
        "id": "_ZfXFoxegZ3h",
        "colab_type": "text"
      },
      "cell_type": "markdown",
      "source": [
        "The following procedure, **generate_data**, creates a data set of a specified number of points. It is invoked as follows:\n",
        "* `trainx, trainy = generate_data(n)`\n",
        "\n",
        "Here:\n",
        "* `n` is the target number of points\n",
        "* `trainx`: `nx100` array of data points\n",
        "* `trainy`: array of `n` response values"
      ]
    },
    {
      "metadata": {
        "id": "cSbrS8oAgZ3i",
        "colab_type": "code",
        "colab": {}
      },
      "cell_type": "code",
      "source": [
        "def generate_data(n):\n",
        "    d = 100\n",
        "    w = np.zeros(d)\n",
        "    for i in range(0,10):\n",
        "        w[i] = 1.0\n",
        "    #\n",
        "    trainx = np.random.normal(size=(n,d))\n",
        "    e = np.random.normal(size=(n))\n",
        "    trainy = np.dot(trainx, w) + e\n",
        "    #\n",
        "    return trainx, trainy"
      ],
      "execution_count": 0,
      "outputs": []
    },
    {
      "metadata": {
        "id": "nguVPOj3gZ3m",
        "colab_type": "text"
      },
      "cell_type": "markdown",
      "source": [
        "## 2. Gradient descent solver for ridge regression"
      ]
    },
    {
      "metadata": {
        "id": "eK_dCGhagZ3n",
        "colab_type": "text"
      },
      "cell_type": "markdown",
      "source": [
        "<font color=\"magenta\">**For you to do:**</font> Define a procedure, **ridge_regression_GD**, that uses gradient descent to solve the ridge regression problem. It is invoked as follows:\n",
        "\n",
        "* `w,b,losses = ridge_regression_GD(x,y,C)`\n",
        "\n",
        "Here, the input consists of:\n",
        "* training data `x,y`, where `x` and `y` are numpy arrays of dimension `n`-by-`d` and `n`, respectively (if there are `n` training points)\n",
        "* regularization constant `C`\n",
        "\n",
        "The function should find the `d`-dimensional vector `w` and offset `b` that minimize the ridge regression loss function (with regularization constant `C`), and return:\n",
        "* `w` and `b`\n",
        "* `losses`, an array containing the ridge regression loss at each iteration\n",
        "\n",
        "<font color=\"magenta\">Advice:</font> First figure out the derivative, which has a relatively simple form. Next, when implementing gradient descent, think carefully about two issues.\n",
        "\n",
        "1. What is the step size?\n",
        "2. When has the procedure converged?\n",
        "\n",
        "Take the time to experiment with different ways of handling these."
      ]
    },
    {
      "metadata": {
        "id": "c4ak8NXxf5K0",
        "colab_type": "text"
      },
      "cell_type": "markdown",
      "source": [
        "Common terms:\n",
        "$$\n",
        "S = X^TX \\text{ (scaling)}\n",
        "$$\n",
        "$$\n",
        "R = X^TX + \\lambda I \\text{ (regularized)}\n",
        "$$\n",
        "\n",
        "Loss (scalar):\n",
        "$$\n",
        "L = \\sum_{i=1}^n (y_i - x_i w)^2 + \\lambda\\|w\\|^2\n",
        "$$\n",
        "$$\n",
        "L = \\|y-Xw\\|^2 + \\lambda\\|w\\|^2 = \\|y\\|^2 -2yXw + wSw + \\lambda\\|w\\|^2 \\text{ (calculate)}\n",
        "$$\n",
        "$$\n",
        "L = \\|y-Xw-Xu)\\|^2 + \\lambda\\|w+u\\|^2 = L + \\nabla LR\\nabla L\\eta^2 + 2(yX - Rw)\\nabla L\\eta \\text{ (update)}\n",
        "$$\n",
        "\n",
        "Derivative (vector):\n",
        "$$\n",
        "\\frac{\\partial L}{\\partial w_j} = -2\\Big(\\sum_{i=1}^n x_{ij}(y_i - x_i w) - \\lambda w_j\\Big)\n",
        "$$\n",
        "$$\n",
        "\\nabla L = \\frac{dL}{dw} = -2\\big(X^T(y -Xw) - \\lambda w\\big) = -2(X^Ty - Rw) \\text{ (calculate)}\n",
        "$$\n",
        "$$\n",
        "\\nabla L = \\nabla L + \\nabla^2Lu \\text{ (update)}\n",
        "$$\n",
        "\n",
        "Derivative $2^{nd}$ order (matrix):\n",
        "$$\n",
        "\\frac{\\partial^2L}{\\partial w_j \\partial w_k} = 2\\Big(\\sum_{i=1}^n x_{ij}x_{ik} + \\lambda\\{1_{j=k}, 0_{j \\neq k}\\}\\Big)\n",
        "$$\n",
        "$$\n",
        "\\nabla^2L = \\frac{d^2L}{d^2w} = 2R \\text{ (calculate)}\n",
        "$$\n",
        "\n",
        "Step (scalar):\n",
        "$$\n",
        "\\eta = \\eta_0 \\text{ (choose)}\n",
        "$$\n",
        "\n",
        "Displacement (vector):\n",
        "$$\n",
        "u = -\\eta\\nabla L \\text{ (calculate)}\n",
        "$$\n",
        "\n",
        "Variable (vector):\n",
        "$$\n",
        "w = w_0 \\text{ (choose)}\n",
        "$$\n",
        "$$\n",
        "w = w + u \\text{ (update)}\n",
        "$$\n",
        "\n",
        "**Gradient descent:**  \n",
        "Choose $\\eta, w$  \n",
        "Calculate $\\nabla L, \\nabla^2L$  \n",
        "While $\\nabla L \\not\\approx 0$:\n",
        "* Adapt $\\eta$ (optional)\n",
        "* Calculate $u$\n",
        "* Update $w$\n",
        "* Update $\\nabla L$"
      ]
    },
    {
      "metadata": {
        "colab_type": "code",
        "outputId": "2a0c94ac-b445-4a11-ef90-ca775e67c3e3",
        "id": "aBkti7C8qF1A",
        "colab": {
          "base_uri": "https://localhost:8080/",
          "height": 51
        }
      },
      "cell_type": "code",
      "source": [
        "xTx = x.T.dot(x)\n",
        "n, d = x.shape\n",
        "\n",
        "xTy = x.T.dot(y)\n",
        "xTx_reg = xTx + C*np.diag(xTx.diagonal()) # xTx + λI\n",
        "w = np.arange(d)\n",
        "\n",
        "dif = -2*(xTy - xTx_reg.dot(w))\n",
        "\n",
        "print(multi_dot([dif, xTx_reg, dif]))\n",
        "print(dif.dot(xTx).dot(dif))\n",
        "# ∇LR∇L\n",
        "#       b = 2*(yx-xTx_reg.dot(w)).dot(dif) # 2(yX−Rw)∇L"
      ],
      "execution_count": 56,
      "outputs": [
        {
          "output_type": "stream",
          "text": [
            "128274257289552.42\n",
            "78142582433326.6\n"
          ],
          "name": "stdout"
        }
      ]
    },
    {
      "metadata": {
        "colab_type": "code",
        "id": "BlzNbBDgoaRt",
        "colab": {
          "base_uri": "https://localhost:8080/",
          "height": 34
        },
        "outputId": "862c8d99-8640-4757-8750-a6931b1dfbe1"
      },
      "cell_type": "code",
      "source": [
        "def ridge_regression_GD(x,y,C, step=0, e=1e-3):\n",
        "    ### Put your code here\n",
        "    \"\"\"\n",
        "    step: if provided, fixed step size; otherwise, adaptive step size\n",
        "    e: maximum loss derivative\n",
        "    \"\"\"\n",
        "\n",
        "    adapt = not step\n",
        "    \n",
        "    # Account for b\n",
        "    x = np.insert(x, 0, [1]*x.shape[0], axis=1)\n",
        "    \n",
        "    # Common terms\n",
        "    n, d = x.shape\n",
        "    ynorm2 = y.dot(y) # ∥y∥^2\n",
        "    xTx = x.T.dot(x)\n",
        "    xTx_reg = xTx + C*np.diag(xTx.diagonal()) # xTx + λI\n",
        "    yx = y.dot(x)\n",
        "    xTy = x.T.dot(y)\n",
        "\n",
        "    # Initials\n",
        "    w = np.zeros(d)\n",
        "    loss = ynorm2 - 2*yx.dot(w) + multi_dot([w, xTx, w]) + C*w.dot(w)\n",
        "    dif = -2*(xTy - xTx_reg.dot(w))\n",
        "    dif2 = 2*xTx_reg\n",
        "    losses = [loss]\n",
        "\n",
        "    # Descent \n",
        "    while dif.dot(dif) > e:\n",
        "      a = multi_dot([dif, xTx_reg, dif]) # ∇LR∇L\n",
        "      b = 2*(yx-xTx_reg.dot(w)).dot(dif) # 2(yX−Rw)∇L\n",
        "      if adapt:\n",
        "        step = -b/(2*a) # minimize additional loss (∇LR∇L)η^2 + 2(yX−Rw)∇Lη\n",
        "      u = -step * dif\n",
        "      w += u\n",
        "      dif += dif2.dot(u)\n",
        "#       loss = ynorm2 - 2*yx.dot(w) + multi_dot([w, xTx, w]) + C*w.dot(w)\n",
        "      loss += a*step**2 + b*step\n",
        "      losses.append(loss)\n",
        "\n",
        "    b, w = np.split(w, [1])\n",
        "\n",
        "    return w,b,losses\n",
        "\n",
        "w, b, losses = ridge_regression_GD(x,y,C,step=0.001)\n",
        "print(len(losses))\n",
        "losses[-50:]\n",
        "\n",
        "2*3**2"
      ],
      "execution_count": 50,
      "outputs": [
        {
          "output_type": "execute_result",
          "data": {
            "text/plain": [
              "18"
            ]
          },
          "metadata": {
            "tags": []
          },
          "execution_count": 50
        }
      ]
    },
    {
      "metadata": {
        "colab_type": "code",
        "outputId": "a1075748-ac58-47dd-c2e3-56133617a5ae",
        "id": "cEU_glGsfHHe",
        "colab": {
          "base_uri": "https://localhost:8080/",
          "height": 323
        }
      },
      "cell_type": "code",
      "source": [
        "def ridge_regression_GD(x,y,C, step=0, e=1e-3):\n",
        "    ### Put your code here\n",
        "    \"\"\"\n",
        "    step: if provided, fixed step size; otherwise, adaptive step size\n",
        "    e: maximum loss derivative\n",
        "    \"\"\"\n",
        "\n",
        "    adapt = not step\n",
        "    \n",
        "    # Account for b\n",
        "    x = np.insert(x, 0, [1]*x.shape[0], axis=1)\n",
        "    \n",
        "    # Common terms\n",
        "    n, d = x.shape\n",
        "    ynorm2 = y.dot(y) # ∥y∥^2\n",
        "    xTx = x.T.dot(x)\n",
        "    xTx_reg = xTx + C*np.diag(xTx.diagonal()) # xTx + λI\n",
        "    yx = y.dot(x)\n",
        "    xTy = x.T.dot(y)\n",
        "\n",
        "    # Initials\n",
        "    w = np.zeros(d)\n",
        "    loss = ynorm2 - 2*yx.dot(w) + multi_dot([w, xTx, w]) + C*w.dot(w)\n",
        "    dif = -2*(xTy - xTx_reg.dot(w))\n",
        "    dif2 = 2*xTx_reg\n",
        "    losses = [loss]\n",
        "\n",
        "    # Descent \n",
        "    while dif.dot(dif) > e:\n",
        "      a = multi_dot([dif, xTx_reg, dif]) # ∇LR∇L\n",
        "      b = 2*(yx-xTx_reg.dot(w)).dot(dif) # 2(yX−Rw)∇L\n",
        "      if adapt:\n",
        "        step = -b/(2*a) # minimize additional loss (∇LR∇L)η^2 + 2(yX−Rw)∇Lη\n",
        "      u = -step * dif\n",
        "      w += u\n",
        "      dif += dif2.dot(u)\n",
        "      loss = ynorm2 - 2*yx.dot(w) + multi_dot([w, xTx, w]) + C*w.dot(w)\n",
        "#       loss += a*step**2 + b*step\n",
        "      losses.append(loss)\n",
        "\n",
        "    b, w = np.split(w, [1])\n",
        "\n",
        "    return w,b,losses\n",
        "\n",
        "w, b, losses = ridge_regression_GD(x,y,C,step=0.001)\n",
        "print(len(losses))\n",
        "losses[-50:]\n"
      ],
      "execution_count": 38,
      "outputs": [
        {
          "output_type": "stream",
          "text": [
            "17\n"
          ],
          "name": "stdout"
        },
        {
          "output_type": "execute_result",
          "data": {
            "text/plain": [
              "[1965.7715817817243,\n",
              " 625.6049898202989,\n",
              " 568.2374209633427,\n",
              " 532.4257464123004,\n",
              " 529.0392361233056,\n",
              " 524.6136671397977,\n",
              " 524.1945361572976,\n",
              " 523.3850512364928,\n",
              " 523.3276311515921,\n",
              " 523.1475196617406,\n",
              " 523.1419069114202,\n",
              " 523.096662418923,\n",
              " 523.0973957620783,\n",
              " 523.0850820334044,\n",
              " 523.0858778083771,\n",
              " 523.0823420389479,\n",
              " 523.0827315943873]"
            ]
          },
          "metadata": {
            "tags": []
          },
          "execution_count": 38
        }
      ]
    },
    {
      "metadata": {
        "id": "kj2aLzoLgZ3s",
        "colab_type": "text"
      },
      "cell_type": "markdown",
      "source": [
        "Let's try it out and print a graph of the loss values during the optimization process."
      ]
    },
    {
      "metadata": {
        "id": "t-u7uLyVgZ3t",
        "colab_type": "code",
        "colab": {}
      },
      "cell_type": "code",
      "source": [
        "# Generate 200 data points\n",
        "n = 200\n",
        "x,y = generate_data(n)\n",
        "# Set regularization constant\n",
        "C = 1.0\n",
        "# Run gradient descent solver\n",
        "w, b, losses = ridge_regression_GD(x,y,C,step=0.001)\n",
        "# Plot the losses\n",
        "plt.plot(losses,'r')\n",
        "plt.xlabel('Iterations', fontsize=14)\n",
        "plt.ylabel('Loss', fontsize=14)\n",
        "plt.show()\n",
        "\n",
        "print(len(losses))\n",
        "losses[-50:]"
      ],
      "execution_count": 0,
      "outputs": []
    },
    {
      "metadata": {
        "id": "C2WckiOzgZ3v",
        "colab_type": "text"
      },
      "cell_type": "markdown",
      "source": [
        "<font color=\"magenta\">**Something to think about**</font>\n",
        "\n",
        "1. In setting the step size, does it work to use a fixed schedule 1/t? Why or why not?\n",
        "\n",
        "2. Can you set up the gradient descent procedure in such a way that on each iteration, the loss monotonically decreases?\n"
      ]
    },
    {
      "metadata": {
        "id": "tK4OznaegZ3v",
        "colab_type": "text"
      },
      "cell_type": "markdown",
      "source": [
        "## 3. Evaluate the gradient descent solver"
      ]
    },
    {
      "metadata": {
        "id": "nzZbLW1agZ3w",
        "colab_type": "text"
      },
      "cell_type": "markdown",
      "source": [
        "Now let's compare the regressor found by your gradient descent procedure to that returned by the built-in ridge regression solver in `sklearn`. We will compare them in two ways:\n",
        "* Their MSE values\n",
        "* The distance between the corresponding `w`-vectors\n",
        "\n",
        "The latter should be smaller than 10^{-4}.\n"
      ]
    },
    {
      "metadata": {
        "id": "KN_OHvwWgZ3x",
        "colab_type": "code",
        "colab": {}
      },
      "cell_type": "code",
      "source": [
        "def compute_mse(w,b,x,y):\n",
        "    residuals = y - (np.dot(x, w) + b)\n",
        "    return np.dot(residuals, residuals)/n"
      ],
      "execution_count": 0,
      "outputs": []
    },
    {
      "metadata": {
        "id": "4fjN8ah-gZ30",
        "colab_type": "code",
        "colab": {}
      },
      "cell_type": "code",
      "source": [
        "# Generate 200 data points\n",
        "n = 200\n",
        "x,y = generate_data(n)\n",
        "# Set regularization constant\n",
        "C = 10.0\n",
        "# Run gradient descent solver and compute its MSE\n",
        "w, b, losses = ridge_regression_GD(x,y,C)\n",
        "# Use built-in routine for ridge regression and compute MSE\n",
        "regr = linear_model.Ridge(alpha=C)\n",
        "regr.fit(x, y)\n",
        "# Print MSE values and L2 distance between the regression functions\n",
        "print \"MSE of gradient descent solver: \", compute_mse(w,b,x,y)\n",
        "print \"MSE of built-in solver: \", mean_squared_error(regr.predict(x), y)\n",
        "print \"Distance between w-coefficients: \", np.linalg.norm(w-regr.coef_)"
      ],
      "execution_count": 0,
      "outputs": []
    },
    {
      "metadata": {
        "id": "BWf9CFJHgZ33",
        "colab_type": "text"
      },
      "cell_type": "markdown",
      "source": [
        "<font color=\"magenta\">**Something to think about**</font>\n",
        "\n",
        "The data was originally generated using a linear function in which only ten of the 100 features (the first ten) were relevant. Does the vector `w` returned by ridge regression correctly identify the relevant features?"
      ]
    },
    {
      "metadata": {
        "id": "sckD7QMkgZ34",
        "colab_type": "code",
        "colab": {}
      },
      "cell_type": "code",
      "source": [
        ""
      ],
      "execution_count": 0,
      "outputs": []
    }
  ]
}